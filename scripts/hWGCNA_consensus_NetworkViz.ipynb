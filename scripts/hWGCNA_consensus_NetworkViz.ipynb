{
 "cells": [
  {
   "cell_type": "code",
   "execution_count": 1,
   "id": "62042f97-a76e-4b34-805f-3f1ac81e7288",
   "metadata": {},
   "outputs": [],
   "source": [
    "import rpy2\n",
    "import scipy\n",
    "import logging\n",
    "import warnings\n",
    "import anndata\n",
    "import anndata2ri\n",
    "import pandas as pd\n",
    "import scanpy as sc\n",
    "import numpy as np\n",
    "import seaborn as sb\n",
    "import decoupler as dc\n",
    "import scrublet as scr\n",
    "import decoupler as dc\n",
    "from scipy import sparse\n",
    "from anndata import AnnData\n",
    "from tabnanny import verbose\n",
    "import matplotlib.pyplot as plt\n",
    "from gsva_prep import prep_gsva\n",
    "import rpy2.robjects as robjects\n",
    "from rpy2.robjects import pandas2ri\n",
    "from typing import Optional, Union\n",
    "from matplotlib.pyplot import rcParams\n",
    "from functions import pathway_analyses\n",
    "from statsmodels.stats.multitest import multipletests\n",
    "from sklearn.model_selection import train_test_split\n",
    "from pytorch_lightning.loggers import TensorBoardLogger\n",
    "from rpy2.robjects.conversion import localconverter"
   ]
  },
  {
   "cell_type": "code",
   "execution_count": 2,
   "id": "c36a2bac",
   "metadata": {},
   "outputs": [],
   "source": [
    "def get_sys_dpi(width, height, diag):\n",
    "    '''\n",
    "    obtain dpi of system\n",
    "    \n",
    "    w: width in pixels (if unsure, go vist `whatismyscreenresolution.net`)\n",
    "    h: height in pixels\n",
    "    d: diagonal in inches\n",
    "    '''\n",
    "    w_inches = (diag**2/ (1 + height**2/width**2))**0.5\n",
    "    return round(width/w_inches)"
   ]
  },
  {
   "cell_type": "code",
   "execution_count": 3,
   "id": "447b6d1c",
   "metadata": {},
   "outputs": [
    {
     "name": "stdout",
     "output_type": "stream",
     "text": [
      "-----\n",
      "anndata     0.8.0\n",
      "scanpy      1.9.1\n",
      "-----\n",
      "OpenSSL                     22.0.0\n",
      "PIL                         9.2.0\n",
      "absl                        NA\n",
      "anndata2ri                  1.1\n",
      "appnope                     0.1.2\n",
      "asttokens                   NA\n",
      "astunparse                  1.6.3\n",
      "attr                        21.4.0\n",
      "backcall                    0.2.0\n",
      "beta_ufunc                  NA\n",
      "binom_ufunc                 NA\n",
      "boto3                       1.26.32\n",
      "botocore                    1.29.32\n",
      "bottleneck                  1.3.5\n",
      "brotli                      NA\n",
      "certifi                     2022.09.24\n",
      "cffi                        1.15.1\n",
      "cloudpickle                 2.2.0\n",
      "colorama                    0.4.4\n",
      "cryptography                38.0.1\n",
      "cycler                      0.10.0\n",
      "cython_runtime              NA\n",
      "dask                        2022.11.0\n",
      "dateutil                    2.8.2\n",
      "debugpy                     1.5.1\n",
      "decorator                   5.1.1\n",
      "decoupler                   1.4.0\n",
      "defusedxml                  0.7.1\n",
      "deprecate                   0.3.2\n",
      "entrypoints                 0.4\n",
      "executing                   0.8.3\n",
      "fsspec                      2022.10.0\n",
      "functions                   NA\n",
      "google                      NA\n",
      "gsva_prep                   NA\n",
      "h5py                        3.7.0\n",
      "hypergeom_ufunc             NA\n",
      "igraph                      0.10.2\n",
      "ipykernel                   6.15.2\n",
      "ipython_genutils            0.2.0\n",
      "ipywidgets                  7.6.5\n",
      "jedi                        0.18.1\n",
      "jinja2                      3.1.2\n",
      "jmespath                    1.0.1\n",
      "joblib                      1.1.1\n",
      "kiwisolver                  1.4.2\n",
      "leidenalg                   0.9.0\n",
      "llvmlite                    0.39.1\n",
      "louvain                     0.8.0\n",
      "markupsafe                  2.1.1\n",
      "matplotlib                  3.5.3\n",
      "mpl_toolkits                NA\n",
      "natsort                     7.1.1\n",
      "nbinom_ufunc                NA\n",
      "ncf_ufunc                   NA\n",
      "numba                       0.56.3\n",
      "numexpr                     2.8.3\n",
      "numpy                       1.23.3\n",
      "packaging                   21.3\n",
      "pandas                      1.4.4\n",
      "parso                       0.8.3\n",
      "pexpect                     4.8.0\n",
      "pickleshare                 0.7.5\n",
      "pkg_resources               NA\n",
      "prompt_toolkit              3.0.20\n",
      "psutil                      5.9.0\n",
      "ptyprocess                  0.7.0\n",
      "pure_eval                   0.2.2\n",
      "pyarrow                     11.0.0\n",
      "pycparser                   2.21\n",
      "pydev_ipython               NA\n",
      "pydevconsole                NA\n",
      "pydevd                      2.6.0\n",
      "pydevd_concurrency_analyser NA\n",
      "pydevd_file_utils           NA\n",
      "pydevd_plugins              NA\n",
      "pydevd_tracing              NA\n",
      "pygments                    2.13.0\n",
      "pyparsing                   3.0.9\n",
      "pytorch_lightning           1.7.7\n",
      "pytz                        2022.1\n",
      "pytz_deprecation_shim       NA\n",
      "rich                        NA\n",
      "rpy2                        3.5.10\n",
      "scipy                       1.9.3\n",
      "scrublet                    NA\n",
      "seaborn                     0.11.2\n",
      "session_info                1.0.0\n",
      "setuptools                  65.6.3\n",
      "six                         1.16.0\n",
      "sklearn                     1.1.3\n",
      "sparse                      0.13.0\n",
      "stack_data                  0.2.0\n",
      "statsmodels                 0.13.5\n",
      "tensorboard                 2.10.1\n",
      "texttable                   1.6.4\n",
      "threadpoolctl               2.2.0\n",
      "tlz                         0.12.0\n",
      "toolz                       0.12.0\n",
      "torch                       1.12.1\n",
      "torchmetrics                0.10.2\n",
      "tornado                     6.2\n",
      "tqdm                        4.64.1\n",
      "traitlets                   5.1.1\n",
      "typing_extensions           NA\n",
      "tzlocal                     NA\n",
      "urllib3                     1.26.12\n",
      "wcwidth                     0.2.5\n",
      "yaml                        5.4.1\n",
      "zmq                         23.2.0\n",
      "zoneinfo                    NA\n",
      "-----\n",
      "IPython             8.6.0\n",
      "jupyter_client      7.3.5\n",
      "jupyter_core        4.11.2\n",
      "notebook            6.4.12\n",
      "-----\n",
      "Python 3.10.6 | packaged by conda-forge | (main, Aug 22 2022, 20:41:22) [Clang 13.0.1 ]\n",
      "macOS-13.0.1-arm64-arm-64bit\n",
      "-----\n",
      "Session information updated at 2023-06-15 15:37\n"
     ]
    }
   ],
   "source": [
    "# # Ignore R warning messages\n",
    "#Note: this can be commented out to get more verbose R output\n",
    "rpy2.rinterface_lib.callbacks.logger.setLevel(logging.ERROR)\n",
    "\n",
    "# # Automatically convert rpy2 outputs to pandas dataframes\n",
    "# pandas2ri.activate()\n",
    "# anndata2ri.activate()\n",
    "# %load_ext rpy2.ipython\n",
    "\n",
    "warnings.filterwarnings(\"ignore\", category=PendingDeprecationWarning)\n",
    "warnings.filterwarnings(\"ignore\", category=UserWarning)\n",
    "warnings.filterwarnings(\"ignore\", category=FutureWarning)\n",
    "\n",
    "# Automatically convert rpy2 outputs to pandas dataframes\n",
    "pandas2ri.activate()\n",
    "anndata2ri.activate()\n",
    "%load_ext rpy2.ipython\n",
    "\n",
    "rcParams['figure.dpi'] = get_sys_dpi(1512, 982, 14.125)\n",
    "#rcParams['figure.figsize']=(4,4) #rescale figures\n",
    "\n",
    "sc.settings.verbosity = 3\n",
    "#sc.set_figure_params(dpi=200, dpi_save=300)\n",
    "sc.logging.print_versions()\n",
    "\n"
   ]
  },
  {
   "attachments": {},
   "cell_type": "markdown",
   "id": "10be21f0-000d-48d7-9e97-4051ec9da0bd",
   "metadata": {},
   "source": [
    "# **Consensus network Visualization**"
   ]
  },
  {
   "attachments": {},
   "cell_type": "markdown",
   "id": "2fb39a9a",
   "metadata": {},
   "source": [
    "Here, we perform consensus co-expression network analysis using `hdWGCNA`. \n",
    "\n",
    "Consensus co-expression network analysis differs from the standard co-expression network analysis workflow by `constructing individual networks across distinct datasets`, and `then computing an integrated co-expression network`. \n",
    "\n",
    "This framework can be used to `identify networks that are conserved across a variety of biological conditions`, and it can also be used as a way to construct a unified network from any number of different datasets. \n",
    "\n",
    "Here, use this framework to identify consensus coexpression network of genes across celltypes (from the three studies) in AD.\n",
    "\n",
    "- [**Morabito et al. bioRxiv 2022**](https://www.biorxiv.org/content/10.1101/2022.09.22.509094v1)\n",
    "- [**Morabito & Miyoshi et al. Nature Genetics 2021**](https://www.nature.com/articles/s41588-021-00894-z)\n"
   ]
  },
  {
   "cell_type": "code",
   "execution_count": null,
   "id": "114fa9cb",
   "metadata": {},
   "outputs": [
    {
     "name": "stdout",
     "output_type": "stream",
     "text": [
      "\n",
      "    WARNING: The R package \"reticulate\" only fixed recently\n",
      "    an issue that caused a segfault when used with rpy2:\n",
      "    https://github.com/rstudio/reticulate/pull/1188\n",
      "    Make sure that you use a version of that package that includes\n",
      "    the fix.\n",
      "    "
     ]
    }
   ],
   "source": [
    "%%R\n",
    "suppressPackageStartupMessages({\n",
    "    library(WGCNA)\n",
    "    library(Matrix)\n",
    "    library(viridis)\n",
    "    library(harmony)\n",
    "    library(ggpubr)\n",
    "    library(tictoc)\n",
    "    library(RColorBrewer)\n",
    "    library(Hmisc)\n",
    "    library(corrplot)\n",
    "    library(grid)\n",
    "    library(gridExtra)\n",
    "    library(igraph)\n",
    "    library(ggrepel)\n",
    "    library(conflicted)\n",
    "\n",
    "    # single-cell analysis package\n",
    "    library(Seurat)\n",
    "\n",
    "    # plotting and data science packages\n",
    "    library(tidyverse)\n",
    "    library(cowplot)\n",
    "    library(patchwork)\n",
    "\n",
    "    # co-expression network analysis packages:\n",
    "    library(WGCNA)\n",
    "    library(hdWGCNA)\n",
    "\n",
    "    # gene enrichment packages\n",
    "    library(enrichR)\n",
    "    library(GeneOverlap)\n",
    "\n",
    "\n",
    "    library(GSEABase)\n",
    "    library(GSVA) \n",
    "# needs to be run every time you start R and want to use %>%\n",
    "})\n",
    "\n",
    "# using the cowplot theme for ggplot\n",
    "theme_set(theme_cowplot())\n",
    "\n",
    "# set random seed for reproducibility\n",
    "set.seed(12345)\n",
    "\n",
    "# optionally enable multithreading\n",
    "# enableWGCNAThreads(nThreads = 4)"
   ]
  },
  {
   "attachments": {},
   "cell_type": "markdown",
   "id": "c00d65ea",
   "metadata": {},
   "source": [
    "## **Prepare data**\n",
    "\n",
    "Now, we load the preprocessed and annotated data for downstream analysis."
   ]
  },
  {
   "cell_type": "code",
   "execution_count": 5,
   "id": "d8504101",
   "metadata": {},
   "outputs": [],
   "source": [
    "map_meta = True\n",
    "deg_method =  'DESeq2-Wald'\n",
    "test_names = ['late_vs_early', 'early_vs_no', 'late_vs_no', 'ad_vs_no']\n",
    "filter_genes = \"TRUE\"\n",
    "studies = ['allen_mtg', 'leng_sfg', 'leng_etc']\n",
    "subject_id = {'allen_mtg': 'individualID',\n",
    "             'leng_sfg': 'PatientID',\n",
    "             'leng_etc': 'PatientID'}      # for leng this is `PatientID` for mathys is 'Subject', and 'individualID' for allen\n",
    "\n",
    "gene_celltype_threshold = 0.05      # determines number of cells the gene must be expressed in \n",
    "covariates = ['None']               # list of covariates to be accounted for in regression.\n",
    "gene_selection = 'custom'           # specifies the gene selection method when setting up seurat object for WGCNA. The th\n",
    "celltypes = [\"Inhibitory\"]          #[\"Excitatory\", \"Inhibitory\", \"Astrocyte\", \"Microglia\", \"Oligodendrocyte\", \"OPC\"]\n",
    "gene_selection = 'fraction'     # specifies the gene selection method when setting up seurat object for WGCNA. The th\n",
    "                                # Posible values are \"custom\", \"fraction\", \"variable\"\n",
    "                                # If custom, a list of genes must be passed."
   ]
  },
  {
   "cell_type": "code",
   "execution_count": null,
   "id": "0b2c4263",
   "metadata": {},
   "outputs": [],
   "source": [
    "# convert nested list of anndata object into Rpy2 object \n",
    "subject_id =  robjects.ListVector(\n",
    "                        {\n",
    "                            save_prefix: subject_id[save_prefix]\n",
    "                     \n",
    "                            for save_prefix in studies\n",
    "                        }\n",
    "                    )"
   ]
  },
  {
   "cell_type": "markdown",
   "id": "9bf58f70",
   "metadata": {},
   "source": [
    "## **Load Seurat object for Network Visualizations**"
   ]
  },
  {
   "cell_type": "code",
   "execution_count": null,
   "id": "5143c5cc",
   "metadata": {},
   "outputs": [
    {
     "name": "stdout",
     "output_type": "stream",
     "text": [
      "[1] \"Loading data for hdWGCNA Experiment in EXCITATORY\"\n",
      "An object of class Seurat \n",
      "16585 features across 10449 samples within 1 assay \n",
      "Active assay: originalexp (16585 features, 2000 variable features)\n",
      " 3 dimensional reductions calculated: pca, harmony, umap\n",
      "[1] \"Loading data for hdWGCNA Experiment in INHIBITORY\"\n",
      "An object of class Seurat \n",
      "16585 features across 5207 samples within 1 assay \n",
      "Active assay: originalexp (16585 features, 2000 variable features)\n",
      " 3 dimensional reductions calculated: pca, harmony, umap\n",
      "[1] \"Loading data for hdWGCNA Experiment in ASTROCYTE\"\n",
      "An object of class Seurat \n",
      "16585 features across 5851 samples within 1 assay \n",
      "Active assay: originalexp (16585 features, 2000 variable features)\n",
      " 3 dimensional reductions calculated: pca, harmony, umap\n",
      "[1] \"Loading data for hdWGCNA Experiment in MICROGLIA\"\n",
      "An object of class Seurat \n",
      "16585 features across 5892 samples within 1 assay \n",
      "Active assay: originalexp (16585 features, 2000 variable features)\n",
      " 3 dimensional reductions calculated: pca, harmony, umap\n",
      "[1] \"Loading data for hdWGCNA Experiment in OLIGODENDROCYTE\"\n",
      "An object of class Seurat \n",
      "16585 features across 9606 samples within 1 assay \n",
      "Active assay: originalexp (16585 features, 2000 variable features)\n",
      " 3 dimensional reductions calculated: pca, harmony, umap\n",
      "[1] \"Loading data for hdWGCNA Experiment in OPC\"\n",
      "[1] \"loaded data\"\n"
     ]
    }
   ],
   "source": [
    "%%R -i subject_id -i gene_celltype_threshold -i celltypes -i test_names -i save_prefix -i gene_selection -o seurat_obj\n",
    "\n",
    "seurat_obj <- list()\n",
    "\n",
    "for (cell_type in celltypes) {\n",
    "    \n",
    "    print(paste0('Loading data for hdWGCNA Experiment in ', toupper(cell_type)))\n",
    "    tryCatch({\n",
    "        seurat_obj[[cell_type]] <- readRDS(paste0(\"../results/hdWGCNA/SeuratObject/Consensus/\", cell_type, '_hdWGCNA_object.rds'))\n",
    "        print(seurat_obj[[cell_type]])\n",
    "    \n",
    "    }, error = function(e){\n",
    "        NULL\n",
    "    }, message = function(m){\n",
    "        print(paste0('Could not load data for ', toupper(cell_type)))\n",
    "    })\n",
    "\n",
    "}\n",
    "\n",
    "print('loaded data')"
   ]
  },
  {
   "cell_type": "code",
   "execution_count": null,
   "id": "02b2eb8a",
   "metadata": {},
   "outputs": [],
   "source": [
    "# convert nested list of Seurat object into Rpy2 object \n",
    "seurat_obj =  robjects.ListVector(\n",
    "                        {\n",
    "                            cell_type: seurat_obj[cell_type]\n",
    "                     \n",
    "                            for cell_type in seurat_obj.keys()\n",
    "                        }\n",
    "                    )"
   ]
  },
  {
   "attachments": {},
   "cell_type": "markdown",
   "id": "9b2ac7d7",
   "metadata": {},
   "source": [
    "# **Network Visualization**\n"
   ]
  },
  {
   "attachments": {},
   "cell_type": "markdown",
   "id": "20a45cef",
   "metadata": {},
   "source": [
    "Here, we visualize the co-expression networks made with hdWGCNA using the following functions:\n",
    "\n",
    "- `ModuleNetworkPlot`, visualizes a separate network plot for each module, showing the top N genes by kME.\n",
    "- `HubGeneNetworkPlot`, visualizes the network comprisng all modules with a given number of hub genes per module.\n",
    "- `ModuleUMAPPlot`, visualizes all of the genes in the co-expression simultaneously using the UMAP dimensionality reduction algorithm."
   ]
  },
  {
   "attachments": {},
   "cell_type": "markdown",
   "id": "f720e63b",
   "metadata": {},
   "source": [
    "## **Individual module network plots**\n",
    "\n",
    "\n",
    "Here we demonstrate using the `ModuleNetworkPlot` function to visualize the network underlying the top 25 hub genes for each module. By default, this function creates a new folder called “ModuleNetworks”, and generates a .pdf figure for each module.\n",
    "\n"
   ]
  },
  {
   "cell_type": "code",
   "execution_count": 54,
   "id": "8537d71c",
   "metadata": {},
   "outputs": [
    {
     "name": "stdout",
     "output_type": "stream",
     "text": [
      "[1] \"Module network plots in hdWGCNA Experiment for INHIBITORY\"\n",
      "Writing output files to ../results/hdWGCNA/NetworkPlot/Consensus/Inhibitory_consensus_hubNetworks/Selecting by kME_INH-M1\n",
      "Selecting by kME_INH-M2\n",
      "Selecting by kME_INH-M3\n",
      "Selecting by kME_INH-M4\n",
      "Selecting by kME_INH-M5\n",
      "Selecting by kME_INH-M6\n",
      "[1] \"INH-M1\"\n",
      "[1] \"INH-M2\"\n",
      "[1] \"INH-M3\"\n",
      "[1] \"INH-M4\"\n",
      "[1] \"INH-M5\"\n",
      "[1] \"INH-M6\"\n"
     ]
    }
   ],
   "source": [
    "%%R -i seurat_obj -o seurat_obj\n",
    "\n",
    "fig_dir = paste0('../results/hdWGCNA/NetworkPlot/Consensus/')\n",
    "\n",
    "if (!dir.exists(fig_dir)) {\n",
    "  dir.create(fig_dir, recursive=TRUE)\n",
    "}\n",
    "\n",
    "for (cell_type in names(seurat_obj)){\n",
    "\n",
    "  print(paste0('Module network plots in hdWGCNA Experiment for ', toupper(cell_type)))\n",
    "\n",
    "  # individual module networks\n",
    "  ModuleNetworkPlot(\n",
    "    seurat_obj[[cell_type]],\n",
    "    mods = \"all\",\n",
    "    outdir = paste0(fig_dir, cell_type, '_consensus_hubNetworks/')\n",
    "  )\n",
    "}"
   ]
  },
  {
   "attachments": {},
   "cell_type": "markdown",
   "id": "311f315f",
   "metadata": {},
   "source": [
    "In this network, each node represents a gene, and each edge represents the co-expression relationship between two genes in the network. Each of these module network plots are colored based on the color column in the hdWGCNA module assignment table GetModules(seurat_obj). The top 10 hub genes by kME are placed in the center of the plot, while the remaining 15 genes are placed in the outer circle.\n",
    "\n",
    "Optionally, certain visualization parameters can be changed in this plot:\n",
    "\n",
    "- `edge.alpha`: determines the opacity of the network edges\n",
    "- `vertex.size`: determines the size of the nodes\n",
    "- `vertex.label.cex`: determines the font size of the gene label\n"
   ]
  },
  {
   "cell_type": "code",
   "execution_count": 55,
   "id": "db743ad8",
   "metadata": {},
   "outputs": [],
   "source": [
    "# convert nested list of Seurat object into Rpy2 object \n",
    "seurat_obj =  robjects.ListVector(\n",
    "                        {\n",
    "                            cell_type: seurat_obj[cell_type]\n",
    "                     \n",
    "                            for cell_type in seurat_obj.keys()\n",
    "                        }\n",
    "                    )"
   ]
  },
  {
   "attachments": {},
   "cell_type": "markdown",
   "id": "e00f5d04",
   "metadata": {},
   "source": [
    "## **Combined hub gene network plots**\n",
    "\n",
    "Here we will make a network plot combining all of the modules together using the `HubGeneNetworkPlot` function. \n",
    "\n",
    "This function takes the top n hub genes, and other randomly selected genes, and constructs a joint network using the force-directed graph drawing algorithm. For visual clarity, the number of edges in the network can be downsampled using the edge_prop parameter. In the following example, we visualize the top 3 hub genes and 6 other genes per module.\n",
    "\n"
   ]
  },
  {
   "cell_type": "code",
   "execution_count": 56,
   "id": "eca4578b",
   "metadata": {},
   "outputs": [
    {
     "name": "stdout",
     "output_type": "stream",
     "text": [
      "[1] \"Hubs Gene Network Plot in hdWGCNA Experiment for INHIBITORY\"\n",
      "Selecting by kME_INH-M1\n",
      "Selecting by kME_INH-M2\n",
      "Selecting by kME_INH-M3\n",
      "Selecting by kME_INH-M4\n",
      "Selecting by kME_INH-M5\n",
      "Selecting by kME_INH-M6\n",
      "\n",
      "  grey INH-M1 INH-M2 INH-M3 INH-M4 INH-M5 INH-M6 \n",
      "     3      9      9      9      9      9      9 \n",
      "[1] \"#f4c40f\" \"grey90\"  \"#2b9b81\" \"#d8443c\" \"#fe9b00\" \"#1f6e9c\" \"#de597c\"\n",
      "[1] \"here\"\n",
      "[1] 613   4\n"
     ]
    }
   ],
   "source": [
    "%%R -i seurat_obj -o seurat_obj\n",
    "\n",
    "\n",
    "\n",
    "  fig_dir = paste0(\"../results/hdWGCNA/HubGeneNetworkPlot/Consensus/\")\n",
    "  if (!dir.exists(fig_dir)) {\n",
    "    dir.create(fig_dir, recursive=TRUE)\n",
    "  }\n",
    "\n",
    "\n",
    "for (cell_type in names(seurat_obj)){\n",
    "\n",
    "  print(paste0('Hubs Gene Network Plot in hdWGCNA Experiment for ', toupper(cell_type)))\n",
    "\n",
    "  # hubgene network\n",
    "\n",
    "  # Save plot to PDF\n",
    "  pdf(file = paste0(fig_dir,  cell_type, \"_consensus_allHubGeneNetwork.pdf\"), width = 4, height = 4, useDingbats = FALSE)\n",
    "  HubGeneNetworkPlot(\n",
    "    seurat_obj[[cell_type]],\n",
    "    n_hubs = 6,\n",
    "    n_other=3,\n",
    "    edge_prop = 0.75,\n",
    "    mods = 'all',\n",
    "    sample_edges = TRUE,\n",
    "    return_graph = FALSE,\n",
    "    edge.alpha = 0.25,\n",
    "    vertex.label.cex = 0.25,\n",
    "    hub.vertex.size = 6,\n",
    "    other.vertex.size = 2,\n",
    "    wgcna_name = NULL,\n",
    "\n",
    "  )\n",
    "  dev.off()\n",
    "\n",
    "}"
   ]
  },
  {
   "cell_type": "code",
   "execution_count": 57,
   "id": "d00bdc4d",
   "metadata": {},
   "outputs": [],
   "source": [
    "# convert nested list of Seurat object into Rpy2 object \n",
    "seurat_obj =  robjects.ListVector(\n",
    "                        {\n",
    "                            cell_type: seurat_obj[cell_type]\n",
    "                     \n",
    "                            for cell_type in seurat_obj.keys()\n",
    "                        }\n",
    "                    )"
   ]
  },
  {
   "attachments": {},
   "cell_type": "markdown",
   "id": "fc1be299",
   "metadata": {},
   "source": [
    "As in the previous network plot, each node represents a gene and each edge represents a co-expression relationship. In this network, `we color intramodular edges with the module’s color, and intermodular edges gray.` The opacity of edges in this network is scaled by the strength of the co-expression relationship."
   ]
  },
  {
   "attachments": {},
   "cell_type": "markdown",
   "id": "289931dc",
   "metadata": {},
   "source": [
    "## **Applying UMAP to co-expression networks**\n",
    "\n",
    "We have only visualized a subset of the co-expression network with an emphasis on the hub genes. Here, we use an alternative approach to visualize all genes in the co-expression network simultaneously. UMAP is a suitable method for visualizing high-dimensional data in two dimensions, and here we apply UMAP to embed the hdWGCNA network in a low-dimensional manifold.\n",
    "\n",
    "hdWGCNA includes the function `RunModuleUMAP to run the UMAP algorithm on the hdWGCNA topological overlap matrix (TOM)`. For the UMAP analysis, we subset the columns in the TOM to only contain the top n hub genes by kME for each module. \n",
    "\n",
    "Therefore, the organization of each gene in UMAP space is dependent on that gene’s connectivity with the network’s hub genes. This function leverages the UMAP implementation from the uwot R package, so additional UMAP parameters for the uwot::umap function such as min_dist or spread can be included in RunModuleUMAP.\n",
    "\n",
    "The following code demonstrates using the RunModuleUMAP function with 10 hub genes per module:"
   ]
  },
  {
   "cell_type": "code",
   "execution_count": 90,
   "id": "179e3598",
   "metadata": {},
   "outputs": [
    {
     "name": "stdout",
     "output_type": "stream",
     "text": [
      "[1] \"Obtaining Module UMAP in hdWGCNA Experiment for INHIBITORY\"\n",
      "Selecting by kME_INH-M1\n",
      "Selecting by kME_INH-M2\n",
      "Selecting by kME_INH-M3\n",
      "Selecting by kME_INH-M4\n",
      "Selecting by kME_INH-M5\n",
      "Selecting by kME_INH-M6\n"
     ]
    },
    {
     "ename": "",
     "evalue": "",
     "output_type": "error",
     "traceback": [
      "\u001b[1;31mCanceled future for execute_request message before replies were done"
     ]
    },
    {
     "ename": "",
     "evalue": "",
     "output_type": "error",
     "traceback": [
      "\u001b[1;31mThe Kernel crashed while executing code in the the current cell or a previous cell. Please review the code in the cell(s) to identify a possible cause of the failure. Click <a href='https://aka.ms/vscodeJupyterKernelCrash'>here</a> for more info. View Jupyter <a href='command:jupyter.viewOutput'>log</a> for further details."
     ]
    }
   ],
   "source": [
    "%%R -i seurat_obj -o seurat_obj\n",
    "\n",
    "\n",
    "for (cell_type in names(seurat_obj)){\n",
    "\n",
    "  print(paste0('Obtaining Module UMAP in hdWGCNA Experiment for ', toupper(cell_type)))\n",
    "\n",
    "  seurat_obj[[cell_type]] <- RunModuleUMAP(\n",
    "    seurat_obj[[cell_type]],\n",
    "    n_hubs = 5, # number of hub genes to include for the UMAP embedding\n",
    "    n_neighbors=15, # neighbors parameter for UMAP\n",
    "    min_dist=0.1, # min distance between points in UMAP space\n",
    "    spread = 2,\n",
    "  )\n",
    "}"
   ]
  },
  {
   "cell_type": "code",
   "execution_count": null,
   "id": "f507f011",
   "metadata": {},
   "outputs": [],
   "source": [
    "# convert nested list of Seurat object into Rpy2 object \n",
    "seurat_obj =  robjects.ListVector(\n",
    "                        {\n",
    "                            cell_type: seurat_obj[cell_type]\n",
    "                     \n",
    "                            for cell_type in seurat_obj.keys()\n",
    "                        }\n",
    "                    )"
   ]
  },
  {
   "attachments": {},
   "cell_type": "markdown",
   "id": "4a2e8943",
   "metadata": {},
   "source": [
    "Next we will make a simple visualization of the UMAP for Excitatory cells using ggplot2:"
   ]
  },
  {
   "cell_type": "code",
   "execution_count": null,
   "id": "16d8a540",
   "metadata": {},
   "outputs": [
    {
     "name": "stdout",
     "output_type": "stream",
     "text": [
      "[1] \"Store Module UMAP in hdWGCNA Experiment for INHIBITORY\"\n"
     ]
    },
    {
     "data": {
      "image/png": "[encoded data removed]",
      "text/plain": [
       "<IPython.core.display.Image object>"
      ]
     },
     "metadata": {},
     "output_type": "display_data"
    }
   ],
   "source": [
    "%%R -i seurat_obj -o seurat_obj\n",
    "\n",
    "# get the hub gene UMAP table from the seurat object\n",
    "\n",
    "umap_df <- list()\n",
    "\n",
    "for (cell_type in names(seurat_obj)){\n",
    "\n",
    "  print(paste0('Store Module UMAP in hdWGCNA Experiment for ', toupper(cell_type)))\n",
    "\n",
    "  umap_df[[cell_type]] <- GetModuleUMAP(seurat_obj[[cell_type]])\n",
    "\n",
    "}\n",
    "\n",
    "# plot sample for Excitatory cells with ggplot\n",
    "ggplot(umap_df[[celltypes[1]]], aes(x=UMAP1, y=UMAP2)) +\n",
    "  geom_point(\n",
    "   color=umap_df[[celltypes[1]]]$color, # color each point by WGCNA module\n",
    "   size=umap_df[[celltypes[1]]]$kME*2 # size of each point based on intramodular connectivity\n",
    "  ) +\n",
    "  umap_theme()"
   ]
  },
  {
   "cell_type": "code",
   "execution_count": 61,
   "id": "f4962cdc",
   "metadata": {},
   "outputs": [],
   "source": [
    "# convert nested list of Seurat object into Rpy2 object \n",
    "seurat_obj =  robjects.ListVector(\n",
    "                        {\n",
    "                            cell_type: seurat_obj[cell_type]\n",
    "                     \n",
    "                            for cell_type in seurat_obj.keys()\n",
    "                        }\n",
    "                    )"
   ]
  },
  {
   "attachments": {},
   "cell_type": "markdown",
   "id": "c32ccef3",
   "metadata": {},
   "source": [
    "In this plot, each point represents a single gene. The size of each dot is scaled by the gene’s kME for it’s assigned module. ggplot2 is sufficient to visualize the genes in the module UMAP, but here we are not visualizing the underlying network. We can use the function ModuleUMAPPlot to plot the genes and their co-expression relationships."
   ]
  },
  {
   "cell_type": "code",
   "execution_count": 83,
   "id": "297033cc",
   "metadata": {},
   "outputs": [
    {
     "name": "stdout",
     "output_type": "stream",
     "text": [
      "[1] \"UMAP Plot of Connectivities in hdWGCNA Experiment for INHIBITORY\"\n",
      "Selecting by kME_INH-M1\n",
      "Selecting by kME_INH-M2\n",
      "Selecting by kME_INH-M3\n",
      "Selecting by kME_INH-M4\n",
      "Selecting by kME_INH-M5\n",
      "Selecting by kME_INH-M6\n",
      "[1] \"hub labels\"\n",
      " [1] \"CADPS\"   \"FGF12\"   \"FGF14\"   \"LSAMP\"   \"CLASP2\"  \"NCAM1\"   \"ANKRD36\"\n",
      " [8] \"SNAP25\"  \"DLG2\"    \"MAP2\"    \"ATP8A2\"  \"DOCK3\"  \n",
      "NULL\n",
      " [1] \"CADPS\"   \"FGF12\"   \"FGF14\"   \"LSAMP\"   \"CLASP2\"  \"NCAM1\"   \"ANKRD36\"\n",
      " [8] \"SNAP25\"  \"DLG2\"    \"MAP2\"    \"ATP8A2\"  \"DOCK3\"  \n",
      "[1] 59040     3\n",
      "[1] 984   4\n",
      "[1] \"making net\"\n",
      "# A tibble: 6 × 5\n",
      "# Groups:   color [5]\n",
      "  Var1   Var2    value color   color_alpha\n",
      "  <fct>  <fct>   <dbl> <chr>   <chr>      \n",
      "1 HERC6  SLC4A10     0 #f4c40f #F4C40F00  \n",
      "2 ANK3   ANK3        0 #d8443c #D8443C00  \n",
      "3 GLUL   UNC80       0 #fe9b00 #FE9B0000  \n",
      "4 UBQLN2 ANKS1B      0 #1f6e9c #1F6E9C00  \n",
      "5 SCN1A  SCN1A       0 #de597c #DE597C00  \n",
      "6 SYT1   SYT1        0 #de597c #DE597C00  \n",
      "       gene_name module   color  kME_grey kME_INH-M1 kME_INH-M2 kME_INH-M3\n",
      "AAK1        AAK1 INH-M1 #f4c40f 0.8219738 0.83355593 0.61312852  0.7029220\n",
      "ABCB9      ABCB9 INH-M1 #f4c40f 0.5115319 0.54263597 0.38414223  0.4013027\n",
      "ABCC1      ABCC1 INH-M2 #2b9b81 0.4681290 0.34617944 0.52170392  0.5317174\n",
      "ABHD18    ABHD18 INH-M1 #f4c40f 0.6294574 0.63714046 0.46910743  0.5191948\n",
      "ABI1        ABI1 INH-M2 #2b9b81 0.5769158 0.48230778 0.68483356  0.5865790\n",
      "ABI3BP    ABI3BP INH-M3 #d8443c 0.1733145 0.08535039 0.09769126  0.2978310\n",
      "       kME_INH-M4 kME_INH-M5 kME_INH-M6     UMAP1     UMAP2   hub       kME\n",
      "AAK1   0.77807541  0.7530630 0.70089444 12.866199 -5.018821 other 0.9265629\n",
      "ABCB9  0.41332537  0.3786036 0.45826680 14.408763  3.619513 other 0.5047071\n",
      "ABCC1  0.34264695  0.3601962 0.42279269 -6.961779  7.096746 other 0.5612763\n",
      "ABHD18 0.54605085  0.5255123 0.54248528 15.188199  1.173663 other 0.6417457\n",
      "ABI1   0.50364969  0.4668280 0.62673411 -3.831577 10.638900 other 0.7973943\n",
      "ABI3BP 0.08709994  0.2354874 0.04773746 -9.998032 -6.063470 other 0.3362899\n",
      "       label fontcolor framecolor\n",
      "AAK1             black    #f4c40f\n",
      "ABCB9            black    #f4c40f\n",
      "ABCC1            black    #2b9b81\n",
      "ABHD18           black    #f4c40f\n",
      "ABI1             black    #2b9b81\n",
      "ABI3BP           black    #d8443c\n"
     ]
    }
   ],
   "source": [
    "%%R -i seurat_obj -o seurat_obj\n",
    "\n",
    "fig_dir = paste0(\"../results/hdWGCNA/HubGeneUMAP/Consensus/\")\n",
    "\n",
    "if (!dir.exists(fig_dir)) {\n",
    "  dir.create(fig_dir, recursive=TRUE)\n",
    "}\n",
    "\n",
    "for (cell_type in names(seurat_obj)){\n",
    "\n",
    "  print(paste0('UMAP Plot of Connectivities in hdWGCNA Experiment for ', toupper(cell_type)))\n",
    "\n",
    "  # hubgene network\n",
    "\n",
    "  pdf(paste0(fig_dir, cell_type, '_consensus_hubgene_umap_igraph.pdf'), width=10, height=10)\n",
    "\n",
    "  ModuleUMAPPlot(\n",
    "    seurat_obj[[cell_type]],\n",
    "    edge.alpha = 0.25,\n",
    "    sample_edges=TRUE,\n",
    "    keep_grey_edges=FALSE,\n",
    "    edge_prop=0.1,  # proportion of edges to sample (10% here) # taking the top 10% strongest edges in each module \n",
    "    #label_genes = label_genes,\n",
    "    label_hubs=2 # how many hub genes to plot per module?\n",
    "  )\n",
    "  dev.off()\n",
    "}"
   ]
  },
  {
   "cell_type": "code",
   "execution_count": 84,
   "id": "182af47a",
   "metadata": {},
   "outputs": [],
   "source": [
    "# convert nested list of Seurat object into Rpy2 object \n",
    "seurat_obj =  robjects.ListVector(\n",
    "                        {\n",
    "                            cell_type: seurat_obj[cell_type]\n",
    "                     \n",
    "                            for cell_type in seurat_obj.keys()\n",
    "                        }\n",
    "                    )"
   ]
  },
  {
   "attachments": {},
   "cell_type": "markdown",
   "id": "65ac718d",
   "metadata": {},
   "source": [
    "Next, our hypothesis is that the hub genes are the differentially expressed genes that are in the overlapping pathways."
   ]
  },
  {
   "attachments": {},
   "cell_type": "markdown",
   "id": "563a2a2f",
   "metadata": {},
   "source": [
    "### **Visualizing Hub Genes: Overlapping Pathways and DEGs**\n",
    "\n",
    "The hub genes, which are also differentially expressed genes (DEGs), can be visualized in the pathways where they overlap. You can find the results of this analysis saved at `f'../results/{test_name}/{study}_{deg_method}_{cell_type}_DEGs_in_overlapping_pathways.csv.csv` from the previous analysis."
   ]
  },
  {
   "attachments": {},
   "cell_type": "markdown",
   "id": "786f4317",
   "metadata": {},
   "source": [
    "Save to pathway names to R"
   ]
  },
  {
   "cell_type": "code",
   "execution_count": 79,
   "id": "bd43c3b0",
   "metadata": {},
   "outputs": [
    {
     "name": "stdout",
     "output_type": "stream",
     "text": [
      "[conflicted] Removing existing preference.\n",
      "[conflicted] Will prefer base::intersect over any other package.\n",
      "[1] \"AD_VS_NO\"\n",
      "[1] \"UMAP Plot of Hub-DEG Connectivities in hdWGCNA Experiment for INHIBITORY\"\n",
      "[1] 191\n",
      "Selecting by kME_INH-M1\n",
      "Selecting by kME_INH-M2\n",
      "Selecting by kME_INH-M3\n",
      "Selecting by kME_INH-M4\n",
      "Selecting by kME_INH-M5\n",
      "Selecting by kME_INH-M6\n",
      "[1] \"hub labels\"\n",
      " [1] \"AAK1\"     \"AGBL4\"    \"CACNB4\"   \"CADPS\"    \"DTNA\"     \"FGF12\"   \n",
      " [7] \"MAGI1\"    \"MAGI2\"    \"SLC4A10\"  \"TRIO\"     \"ADAM22\"   \"ATXN1\"   \n",
      "[13] \"CDK14\"    \"FGF14\"    \"LRRC7\"    \"LSAMP\"    \"NRCAM\"    \"RGS7\"    \n",
      "[19] \"RIMS1\"    \"SLC6A1\"   \"AKAP6\"    \"AKT3\"     \"ANK3\"     \"APP\"     \n",
      "[25] \"CLASP2\"   \"GPHN\"     \"NCAM1\"    \"NCOA1\"    \"RBFOX2\"   \"TCF4\"    \n",
      "[31] \"ANKRD36\"  \"ATP8A1\"   \"CELF2\"    \"CERS6\"    \"GPM6A\"    \"NETO1\"   \n",
      "[37] \"RAP1GDS1\" \"SMYD3\"    \"SNAP25\"   \"UNC80\"    \"ANKS1B\"   \"AUTS2\"   \n",
      "[43] \"CADM2\"    \"DLG2\"     \"IDS\"      \"LIMCH1\"   \"MAP2\"     \"NBEA\"    \n",
      "[49] \"NRXN3\"    \"RIMS2\"    \"ATP8A2\"   \"DOCK3\"    \"GRIP1\"    \"GRM5\"    \n",
      "[55] \"HECW2\"    \"IL1RAPL1\" \"MYO16\"    \"SCN1A\"    \"SYN2\"     \"SYT1\"    \n",
      "[1] \"CHN1\"   \"SNAP25\" \"NUCKS1\" \"IDS\"   \n",
      " [1] \"CHN1\"     \"SNAP25\"   \"NUCKS1\"   \"IDS\"      \"AAK1\"     \"AGBL4\"   \n",
      " [7] \"CACNB4\"   \"CADPS\"    \"DTNA\"     \"FGF12\"    \"MAGI1\"    \"MAGI2\"   \n",
      "[13] \"SLC4A10\"  \"TRIO\"     \"ADAM22\"   \"ATXN1\"    \"CDK14\"    \"FGF14\"   \n",
      "[19] \"LRRC7\"    \"LSAMP\"    \"NRCAM\"    \"RGS7\"     \"RIMS1\"    \"SLC6A1\"  \n",
      "[25] \"AKAP6\"    \"AKT3\"     \"ANK3\"     \"APP\"      \"CLASP2\"   \"GPHN\"    \n",
      "[31] \"NCAM1\"    \"NCOA1\"    \"RBFOX2\"   \"TCF4\"     \"ANKRD36\"  \"ATP8A1\"  \n",
      "[37] \"CELF2\"    \"CERS6\"    \"GPM6A\"    \"NETO1\"    \"RAP1GDS1\" \"SMYD3\"   \n",
      "[43] \"UNC80\"    \"ANKS1B\"   \"AUTS2\"    \"CADM2\"    \"DLG2\"     \"LIMCH1\"  \n",
      "[49] \"MAP2\"     \"NBEA\"     \"NRXN3\"    \"RIMS2\"    \"ATP8A2\"   \"DOCK3\"   \n",
      "[55] \"GRIP1\"    \"GRM5\"     \"HECW2\"    \"IL1RAPL1\" \"MYO16\"    \"SCN1A\"   \n",
      "[61] \"SYN2\"     \"SYT1\"    \n",
      "[1] 59040     3\n",
      "[1] 984   4\n",
      "[1] \"making net\"\n",
      "# A tibble: 6 × 5\n",
      "# Groups:   color [6]\n",
      "  Var1     Var2   value color   color_alpha\n",
      "  <fct>    <fct>  <dbl> <chr>   <chr>      \n",
      "1 FGF12    FGF12      0 #f4c40f #F4C40F00  \n",
      "2 SLC22A17 AKT3       0 #d8443c #D8443C00  \n",
      "3 UNC80    UNC80      0 #fe9b00 #FE9B0000  \n",
      "4 B4GAT1   ANKS1B     0 #1f6e9c #1F6E9C00  \n",
      "5 MGAT5B   DOCK3      0 #de597c #DE597C00  \n",
      "6 RIMS1    RIMS1      0 #2b9b81 #2B9B8100  \n",
      "       gene_name module   color  kME_grey kME_INH-M1 kME_INH-M2 kME_INH-M3\n",
      "ABCB9      ABCB9 INH-M1 #f4c40f 0.5115319 0.54263597 0.38414223  0.4013027\n",
      "ABCC1      ABCC1 INH-M2 #2b9b81 0.4681290 0.34617944 0.52170392  0.5317174\n",
      "ABHD18    ABHD18 INH-M1 #f4c40f 0.6294574 0.63714046 0.46910743  0.5191948\n",
      "ABI1        ABI1 INH-M2 #2b9b81 0.5769158 0.48230778 0.68483356  0.5865790\n",
      "ABI3BP    ABI3BP INH-M3 #d8443c 0.1733145 0.08535039 0.09769126  0.2978310\n",
      "ABL2        ABL2 INH-M3 #d8443c 0.5599431 0.46458289 0.45570918  0.6095906\n",
      "       kME_INH-M4 kME_INH-M5 kME_INH-M6     UMAP1     UMAP2   hub       kME\n",
      "ABCB9  0.41332537  0.3786036 0.45826680 14.408763  3.619513 other 0.5047071\n",
      "ABCC1  0.34264695  0.3601962 0.42279269 -6.961779  7.096746 other 0.5612763\n",
      "ABHD18 0.54605085  0.5255123 0.54248528 15.188199  1.173663 other 0.6417457\n",
      "ABI1   0.50364969  0.4668280 0.62673411 -3.831577 10.638900 other 0.7973943\n",
      "ABI3BP 0.08709994  0.2354874 0.04773746 -9.998032 -6.063470 other 0.3362899\n",
      "ABL2   0.42779091  0.5015126 0.40905347 -9.221434  0.116824 other 0.7171217\n",
      "       label fontcolor framecolor\n",
      "ABCB9            black    #f4c40f\n",
      "ABCC1            black    #2b9b81\n",
      "ABHD18           black    #f4c40f\n",
      "ABI1             black    #2b9b81\n",
      "ABI3BP           black    #d8443c\n",
      "ABL2             black    #d8443c\n"
     ]
    }
   ],
   "source": [
    "%%R -i test_names -i deg_method -i seurat_obj -o seurat_obj\n",
    "\n",
    "\n",
    "conflicts_prefer(base::intersect)\n",
    "\n",
    "fig_dir = paste0(\"../results/hdWGCNA/HubGeneUMAP/Consensus/\")\n",
    "\n",
    "if (!dir.exists(fig_dir)) {\n",
    "  dir.create(fig_dir, recursive=TRUE)\n",
    "}\n",
    "\n",
    "# label the DEGs in the overlapping pathways\n",
    "\n",
    "for (test in c('ad_vs_no')){\n",
    "\n",
    "  print(toupper(test))\n",
    "  for (cell_type in names(seurat_obj)){\n",
    "\n",
    "    print(paste0('UMAP Plot of Hub-DEG Connectivities in hdWGCNA Experiment for ', toupper(cell_type)))\n",
    "\n",
    "    # hubgene network\n",
    "\n",
    "    overlap_degs <- list()\n",
    "\n",
    "    for (study in studies){\n",
    "\n",
    "      overlap_degs[[study]] <- read.csv(paste0('../results/', test, '/', study, '_', deg_method, '_',\n",
    "                                        cell_type, \"_DEGs_in_overlapping_pathways.csv\"), header=TRUE)$x\n",
    "      \n",
    "                  \n",
    "    }\n",
    "\n",
    "    overlap_degs <- unlist(overlap_degs[[study]], recursive=FALSE)\n",
    "\n",
    "    print(length(overlap_degs))\n",
    "\n",
    "    hub_genes <- GetHubGenes(seurat_obj[[cell_type]], 25)\n",
    "    label_genes <- intersect(hub_genes$gene_name, unique(overlap_degs))\n",
    "    \n",
    "    if (length(label_genes) == 0) {\n",
    "      print(paste0('No genes to label for ', toupper(cell_type)))\n",
    "      print('setting label_genes to NULL')\n",
    "      label_genes <- NULL\n",
    "    } else {\n",
    "      label_genes <- label_genes\n",
    "    }\n",
    "\n",
    "\n",
    "    pdf(paste0(fig_dir, test, \"_\", cell_type, '_overlap_hubDEGs_umap_igraph.pdf'), width=10, height=10)\n",
    "    ModuleUMAPPlot(\n",
    "      seurat_obj[[cell_type]],\n",
    "      edge.alpha=0.25,\n",
    "      sample_edges=TRUE,\n",
    "      keep_grey_edges=FALSE,\n",
    "      edge_prop=0.1,  # proportion of edges to sample (10% here) # taking the top 10% strongest edges in each module \n",
    "      label_genes = label_genes,\n",
    "      label_hubs=0 # how many hub genes to plot per module?\n",
    "    )\n",
    "    dev.off()\n",
    "  }\n",
    "\n",
    "}\n",
    "\n"
   ]
  },
  {
   "cell_type": "code",
   "execution_count": 78,
   "id": "08af7c46",
   "metadata": {},
   "outputs": [],
   "source": [
    "# convert nested list of Seurat object into Rpy2 object \n",
    "seurat_obj =  robjects.ListVector(\n",
    "                        {\n",
    "                            cell_type: seurat_obj[cell_type]\n",
    "                     \n",
    "                            for cell_type in seurat_obj.keys()\n",
    "                        }\n",
    "                    )"
   ]
  },
  {
   "cell_type": "markdown",
   "id": "10fd348f",
   "metadata": {},
   "source": [
    "# **Save Seurat Object**"
   ]
  },
  {
   "cell_type": "code",
   "execution_count": null,
   "id": "4e1c3871",
   "metadata": {},
   "outputs": [
    {
     "name": "stdout",
     "output_type": "stream",
     "text": [
      "[1] \"Saving hdWGCNA object in hdWGCNA Experiment for EXCITATORY\"\n",
      "[1] \"Saving hdWGCNA object in hdWGCNA Experiment for INHIBITORY\"\n",
      "[1] \"Saving hdWGCNA object in hdWGCNA Experiment for ASTROCYTE\"\n",
      "[1] \"Saving hdWGCNA object in hdWGCNA Experiment for MICROGLIA\"\n",
      "[1] \"Saving hdWGCNA object in hdWGCNA Experiment for OLIGODENDROCYTE\"\n"
     ]
    }
   ],
   "source": [
    "%%R -i seurat_obj -o seurat_obj\n",
    "\n",
    "dat_dir = paste0(\"../results/hdWGCNA/SeuratObject/Consensus/\")\n",
    "\n",
    "if (!dir.exists(dat_dir)) {\n",
    "  dir.create(dat_dir, recursive=TRUE)\n",
    "}\n",
    "\n",
    "for (cell_type in names(seurat_obj)){\n",
    "    \n",
    "    print(paste0('Saving hdWGCNA object in hdWGCNA Experiment for ', toupper(cell_type)))\n",
    "\n",
    "    saveRDS(seurat_obj[[cell_type]], file=paste0(dat_dir, cell_type, '_hdWGCNA_object.rds'))\n",
    "\n",
    "}"
   ]
  },
  {
   "attachments": {},
   "cell_type": "markdown",
   "id": "b534ca69",
   "metadata": {},
   "source": [
    "# **Enrichment analysis**"
   ]
  },
  {
   "attachments": {},
   "cell_type": "markdown",
   "id": "4261d643",
   "metadata": {},
   "source": [
    "Next, we perform enrichment tests on the hdWGCNA modules. We leverage the R pacakge enrichR to perform enrichment tests on a wide range of curated gene lists. This analysis should point us towards biological processes that our hdWGCNA modules are involved in. Additionally, we perform a gene set overlap analysis to compare the genes in hdWGCNA modules with the marker genes identified using Seurat’s FindAllMarkers function.\n"
   ]
  },
  {
   "attachments": {},
   "cell_type": "markdown",
   "id": "a77a18cb",
   "metadata": {},
   "source": [
    "## **EnrichR**\n",
    "\n",
    "hdWGCNA includes the function RunEnrichr to compare the set of genes in each module with any of the gene lists hosted by Enrichr.\n",
    "\n",
    "The results of the enrichment tests are stored in the hdWGCNA experiment, so can be easily retrieved for downstream analysis or exporting to external applicaitons like Excel. In the following example, we perform the enrichment test with three Gene Ontology datbases:\n",
    "\n",
    "- `GO_Biological_Process_2021`\n",
    "- `GO_Cellular_Component_2021`\n",
    "- `GO_Molecular_Function_2021`"
   ]
  },
  {
   "cell_type": "code",
   "execution_count": 78,
   "id": "f99c0a19",
   "metadata": {},
   "outputs": [
    {
     "name": "stdout",
     "output_type": "stream",
     "text": [
      "[1] \"Estimating Module Enrichments in hdWGCNA Experiment for INHIBITORY\"\n",
      "Selecting by kME_INH-M1\n",
      "Uploading data to Enrichr... Done.\n",
      "  Querying GO_Biological_Process_2021... Done.\n",
      "Parsing results... Done.\n",
      "Selecting by kME_INH-M2\n",
      "Uploading data to Enrichr... Done.\n",
      "  Querying GO_Biological_Process_2021... Done.\n",
      "Parsing results... Done.\n",
      "Selecting by kME_INH-M3\n",
      "Uploading data to Enrichr... Done.\n",
      "  Querying GO_Biological_Process_2021... Done.\n",
      "Parsing results... Done.\n",
      "Selecting by kME_INH-M4\n",
      "Uploading data to Enrichr... Done.\n",
      "  Querying GO_Biological_Process_2021... Done.\n",
      "Parsing results... Done.\n",
      "Selecting by kME_INH-M5\n",
      "Uploading data to Enrichr... Done.\n",
      "  Querying GO_Biological_Process_2021... Done.\n",
      "Parsing results... Done.\n",
      "Selecting by kME_INH-M6\n",
      "Uploading data to Enrichr... Done.\n",
      "  Querying GO_Biological_Process_2021... Done.\n",
      "Parsing results... Done.\n"
     ]
    }
   ],
   "source": [
    "%%R -i seurat_obj -o seurat_obj -o enrich_df\n",
    "\n",
    "#dbs <- c('GO_Biological_Process_2021')\n",
    "\n",
    "dbs <- c('GO_Biological_Process_2021','GO_Cellular_Component_2021','GO_Molecular_Function_2021')\n",
    "\n",
    "enrich_df <- list()\n",
    "\n",
    "for (cell_type in names(seurat_obj)){\n",
    "\n",
    "  print(paste0('Estimating Module Enrichments in hdWGCNA Experiment for ', toupper(cell_type)))\n",
    "\n",
    "  # enrichr databases to test\n",
    "\n",
    "  # perform enrichment tests\n",
    "  seurat_obj[[cell_type]] <- RunEnrichr(\n",
    "    seurat_obj[[cell_type]],\n",
    "    dbs=dbs, # character vector of enrichr databases to test\n",
    "    max_genes = 100 # number of genes per module to test\n",
    "  )\n",
    "  # retrieve the output table\n",
    "  enrich_df[[cell_type]] <- GetEnrichrTable(seurat_obj[[cell_type]]) %>% subset(P.value < 0.05)\n",
    "\n",
    "}"
   ]
  },
  {
   "cell_type": "code",
   "execution_count": 79,
   "id": "22787bab",
   "metadata": {},
   "outputs": [],
   "source": [
    "# convert nested list of Seurat object into Rpy2 object \n",
    "seurat_obj =  robjects.ListVector(\n",
    "                        {\n",
    "                            cell_type: seurat_obj[cell_type]\n",
    "                     \n",
    "                            for cell_type in seurat_obj.keys()\n",
    "                        }\n",
    "                    )"
   ]
  },
  {
   "attachments": {},
   "cell_type": "markdown",
   "id": "f2494516",
   "metadata": {},
   "source": [
    "## **Visualize enrichments**\n",
    "\n",
    "Now that we have done the enrichment tests, we can now visualize the results.\n",
    "\n",
    "### **EnrichrBarPlot**\n",
    "\n",
    "hdWGCNA includes the function EnrichrBarPlot to summarize the results of every Enrichr database and every module. This function outputs a .pdf figure for each module, containing a barplot showing the top N enriched terms. The following example will plot the top 10 terms in each module and will output the results to a folder called enrichr_plots."
   ]
  },
  {
   "cell_type": "code",
   "execution_count": 80,
   "id": "e7d94ea7",
   "metadata": {},
   "outputs": [
    {
     "name": "stdout",
     "output_type": "stream",
     "text": [
      "[1] \"Enrichr Plots for Modules in hdWGCNA Experiment for INHIBITORY\"\n",
      "[1] \"INH-M1\"\n",
      "[1] \"INH-M2\"\n",
      "[1] \"INH-M3\"\n",
      "[1] \"INH-M4\"\n",
      "[1] \"INH-M5\"\n",
      "[1] \"INH-M6\"\n"
     ]
    }
   ],
   "source": [
    "%%R -i seurat_obj -o seurat_obj\n",
    "\n",
    "fig_dir = paste0(\"../results/hdWGCNA/Enrichr/\", save_prefix, '/')\n",
    "\n",
    "if (!dir.exists(fig_dir)) {\n",
    "  dir.create(fig_dir, recursive=TRUE)\n",
    "}\n",
    "\n",
    "for (cell_type in names(seurat_obj)){\n",
    "\n",
    "  print(paste0('Enrichr Plots for Modules in hdWGCNA Experiment for ', toupper(cell_type)))\n",
    "\n",
    "  # make GO term plots:\n",
    "  EnrichrBarPlot(\n",
    "    seurat_obj[[cell_type]],\n",
    "    outdir = paste0(fig_dir, cell_type, \"_enrichr_plots\"), # name of output directory\n",
    "    n_terms = 10, # number of enriched terms to show (sometimes more show if there are ties!!!)\n",
    "    plot_size = c(5,7), # width, height of the output .pdfs\n",
    "    logscale=TRUE # do you want to show the enrichment as a log scale?\n",
    "  )\n",
    "}"
   ]
  },
  {
   "cell_type": "code",
   "execution_count": 81,
   "id": "d9adf73f",
   "metadata": {},
   "outputs": [],
   "source": [
    "# convert nested list of Seurat object into Rpy2 object \n",
    "seurat_obj =  robjects.ListVector(\n",
    "                        {\n",
    "                            cell_type: seurat_obj[cell_type]\n",
    "                     \n",
    "                            for cell_type in seurat_obj.keys()\n",
    "                        }\n",
    "                    )"
   ]
  },
  {
   "attachments": {},
   "cell_type": "markdown",
   "id": "678b520b",
   "metadata": {},
   "source": [
    "### **EnrichrDotPlot**\n",
    "\n",
    "hdWGCNA includes an additional visualization function for enrichment results, EnrichrDotPlot, which shows the top results for one Enrichr database in each module. In the following example, we plot the top term in the GO_Biological_Process_2021 database."
   ]
  },
  {
   "cell_type": "code",
   "execution_count": 82,
   "id": "bcb62788",
   "metadata": {},
   "outputs": [],
   "source": [
    "# %%R -i seurat_obj -o seurat_obj\n",
    "\n",
    "# fig_dir = '../results/'\n",
    "# # enrichr dotplot\n",
    "# p <- EnrichrDotPlot(\n",
    "#   seurat_obj,\n",
    "#   mods='all',\n",
    "#   database = \"GO_Biological_Process_2021\",\n",
    "#   n_terms=3,\n",
    "#   break_ties=TRUE\n",
    "# )\n",
    "# pdf(paste0(fig_dir, 'EX_GO_dotplot.pdf'), width=10, height=10, useDingbats=FALSE)\n",
    "# p\n",
    "# dev.off()"
   ]
  },
  {
   "cell_type": "code",
   "execution_count": 83,
   "id": "fb1d1cbc",
   "metadata": {},
   "outputs": [],
   "source": [
    "# # convert nested list of Seurat object into Rpy2 object \n",
    "# seurat_obj =  robjects.ListVector(\n",
    "#                         {\n",
    "#                             cell_type: seurat_obj[cell_type]\n",
    "                     \n",
    "#                             for cell_type in seurat_obj.keys()\n",
    "#                         }\n",
    "#                     )"
   ]
  },
  {
   "attachments": {},
   "cell_type": "markdown",
   "id": "d5bae359",
   "metadata": {},
   "source": [
    "# **Differential module eigengene (DME) analysis**"
   ]
  },
  {
   "attachments": {},
   "cell_type": "markdown",
   "id": "c5b93666",
   "metadata": {},
   "source": [
    "Here, we perform differential module eigengene (DME) analysis, revealing modules that are up- or down-regulated in given groups of cells."
   ]
  },
  {
   "attachments": {},
   "cell_type": "markdown",
   "id": "b0ee2360",
   "metadata": {},
   "source": [
    "## **DME analysis comparing two groups**\n",
    "\n",
    "Here we perform DME testing between two different pathology groups (AD vs control). We use the hdWGCNA function FindDMEs, which is a special case of the Seurat function FindMarkers. We use the Mann-Whitney U test, also known as the Wilcoxon test, to compare two groups, but other tests can be used with the test.use parameter.\n",
    "\n",
    "FindDMEs requires a list of barcodes for group1 and for group2. We are only going to compare cells from the EX cluster since that is the group that we performed network analysis on.\n",
    "\n"
   ]
  },
  {
   "cell_type": "code",
   "execution_count": 84,
   "id": "1e343be3",
   "metadata": {},
   "outputs": [
    {
     "name": "stdout",
     "output_type": "stream",
     "text": [
      "[1] \"Differential Module Eigengene Analysis in hdWGCNA Experiment for INHIBITORY\"\n",
      "[1] 5207    6\n",
      "[1] \"INH-M5\" \"INH-M4\" \"INH-M6\" \"INH-M1\" \"INH-M3\" \"INH-M2\"\n"
     ]
    }
   ],
   "source": [
    "%%R -i seurat_obj -o seurat_obj -o DMEs\n",
    "\n",
    "group_col <- 'cell_type'\n",
    "groups <- celltypes\n",
    "DMEs <- list()\n",
    "\n",
    "\n",
    "dat_dir = paste0(\"../results/hdWGCNA/DMEs/\", save_prefix, '/')\n",
    "\n",
    "if (!dir.exists(dat_dir)) {\n",
    "  dir.create(dat_dir, recursive=TRUE)\n",
    "}\n",
    "\n",
    "\n",
    "for (cell_type in names(seurat_obj)){\n",
    "\n",
    "  print(paste0('Differential Module Eigengene Analysis in hdWGCNA Experiment for ', toupper(cell_type)))\n",
    "\n",
    "\n",
    "  # get cell barcodes for this pseudotime bin in control & AD\n",
    "  g1 <- seurat_obj[[cell_type]]@meta.data[seurat_obj[[cell_type]]$pathology.group %in% c('early', 'late'),] %>% rownames\n",
    "  g2 <- seurat_obj[[cell_type]]@meta.data[seurat_obj[[cell_type]]$pathology.group == 'no',] %>% rownames\n",
    "\n",
    "  DMEs[[cell_type]] <- FindDMEs(\n",
    "          seurat_obj[[cell_type]],\n",
    "          barcodes1 = g1,\n",
    "          barcodes2 = g2,\n",
    "          test.use='wilcox',\n",
    "          wgcna_name=toupper(substr(cell_type, 1, 3)), # the name of the hdWGCNA experiment,,\n",
    "          harmonized=TRUE\n",
    "      )\n",
    "  \n",
    "  DMEs[[cell_type]]$group <- cell_type\n",
    "\n",
    "  # fix infs:\n",
    "  DMEs[[cell_type]]$avg_log2FC <- ifelse(abs(DMEs[[cell_type]]$avg_log2FC) == Inf, 0, DMEs[[cell_type]]$avg_log2FC)\n",
    "\n",
    "  write.csv(DMEs[[cell_type]], row.names=FALSE, quote=FALSE, file=paste0(dat_dir, cell_type, '_AD_DMEs.csv'))\n",
    "}\n"
   ]
  },
  {
   "cell_type": "code",
   "execution_count": 85,
   "id": "4aababeb",
   "metadata": {},
   "outputs": [],
   "source": [
    "# convert nested list of Seurat object into Rpy2 object \n",
    "seurat_obj =  robjects.ListVector(\n",
    "                        {\n",
    "                            cell_type: seurat_obj[cell_type]\n",
    "                     \n",
    "                            for cell_type in seurat_obj.keys()\n",
    "                        }\n",
    "                    )\n",
    "\n",
    "\n",
    "# convert nested list of Seurat object into Rpy2 object \n",
    "DMEs =  robjects.ListVector(\n",
    "                        {\n",
    "                            cell_type: DMEs[cell_type]\n",
    "                     \n",
    "                            for cell_type in DMEs.keys()\n",
    "                        }\n",
    "                    )"
   ]
  },
  {
   "attachments": {},
   "cell_type": "markdown",
   "id": "4ed4d48c",
   "metadata": {},
   "source": [
    "We can now visualize the results using the hdWGNCA functions `PlotDMEsLollipop` or `PlotDMEsVolcano`. First we make a lollipop plot to visualize the DME results.\n"
   ]
  },
  {
   "cell_type": "code",
   "execution_count": 86,
   "id": "2d11980c",
   "metadata": {},
   "outputs": [
    {
     "name": "stdout",
     "output_type": "stream",
     "text": [
      "[1] \"Lollipop for DMEs in hdWGCNA Experiment for INHIBITORY\"\n",
      "[1] \"Please be aware comparison group/groups are not provided, which may casue an ERROR. PlotDMEsLollipop function will automatically assume all values are within the same group.\"\n"
     ]
    }
   ],
   "source": [
    "%%R -i seurat_obj -o seurat_obj -i DMEs\n",
    "\n",
    "\n",
    "fig_dir = paste0(\"../results/hdWGCNA/DMEs/\", save_prefix, '/')\n",
    "\n",
    "if (!dir.exists(fig_dir)) {\n",
    "  dir.create(fig_dir, recursive=TRUE)\n",
    "}\n",
    "\n",
    "\n",
    "for (cell_type in names(seurat_obj)){\n",
    "\n",
    "  print(paste0('Lollipop for DMEs in hdWGCNA Experiment for ', toupper(cell_type)))\n",
    "\n",
    "  pdf(paste0(fig_dir, cell_type, '_dmes_lollipop.pdf'), width=10, height=10)\n",
    "  p <- PlotDMEsLollipop(\n",
    "    seurat_obj[[cell_type]], \n",
    "    DMEs[[cell_type]], \n",
    "    wgcna_name = toupper(substr(cell_type, 1, 3)), # the name of the hdWGCNA experiment,, \n",
    "    pvalue = \"p_val_adj\"\n",
    "  )\n",
    "  print(p)\n",
    "  dev.off()\n",
    "\n",
    "}"
   ]
  },
  {
   "cell_type": "code",
   "execution_count": 87,
   "id": "8c6e9df6",
   "metadata": {},
   "outputs": [],
   "source": [
    "seurat_obj =  robjects.ListVector(\n",
    "                        {\n",
    "                            cell_type: seurat_obj[cell_type]\n",
    "                     \n",
    "                            for cell_type in seurat_obj.keys()\n",
    "                        }\n",
    "                    )"
   ]
  },
  {
   "cell_type": "markdown",
   "id": "05dc8398",
   "metadata": {},
   "source": [
    "# **Save Seurat Object**"
   ]
  },
  {
   "cell_type": "code",
   "execution_count": null,
   "id": "e68a4f5d",
   "metadata": {},
   "outputs": [
    {
     "name": "stdout",
     "output_type": "stream",
     "text": [
      "[1] \"Saving hdWGCNA object in hdWGCNA Experiment for EXCITATORY\"\n",
      "[1] \"Saving hdWGCNA object in hdWGCNA Experiment for INHIBITORY\"\n",
      "[1] \"Saving hdWGCNA object in hdWGCNA Experiment for ASTROCYTE\"\n",
      "[1] \"Saving hdWGCNA object in hdWGCNA Experiment for MICROGLIA\"\n",
      "[1] \"Saving hdWGCNA object in hdWGCNA Experiment for OLIGODENDROCYTE\"\n"
     ]
    }
   ],
   "source": [
    "%%R -i seurat_obj -o seurat_obj\n",
    "\n",
    "dat_dir = paste0(\"../results/hdWGCNA/SeuratObject/Consensus/\")\n",
    "\n",
    "if (!dir.exists(dat_dir)) {\n",
    "  dir.create(dat_dir, recursive=TRUE)\n",
    "}\n",
    "\n",
    "for (cell_type in names(seurat_obj)){\n",
    "    \n",
    "    print(paste0('Saving hdWGCNA object in hdWGCNA Experiment for ', toupper(cell_type)))\n",
    "\n",
    "    saveRDS(seurat_obj[[cell_type]], file=paste0(dat_dir, cell_type, '_hdWGCNA_object.rds'))\n",
    "\n",
    "}"
   ]
  }
 ],
 "metadata": {
  "kernelspec": {
   "display_name": "scRNA_seq_meta_analysis",
   "language": "python",
   "name": "python3"
  },
  "language_info": {
   "codemirror_mode": {
    "name": "ipython",
    "version": 3
   },
   "file_extension": ".py",
   "mimetype": "text/x-python",
   "name": "python",
   "nbconvert_exporter": "python",
   "pygments_lexer": "ipython3",
   "version": "3.10.6"
  },
  "vscode": {
   "interpreter": {
    "hash": "2f414a000012e1980f5fd1119ed6b9bf8cc73b51e37b52eb52a16ff857effd1c"
   }
  }
 },
 "nbformat": 4,
 "nbformat_minor": 5
}
