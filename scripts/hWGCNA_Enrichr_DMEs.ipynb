{
 "cells": [
  {
   "cell_type": "code",
   "execution_count": 1,
   "id": "62042f97-a76e-4b34-805f-3f1ac81e7288",
   "metadata": {},
   "outputs": [],
   "source": [
    "import rpy2\n",
    "import scipy\n",
    "import logging\n",
    "import warnings\n",
    "import anndata2ri\n",
    "import pandas as pd\n",
    "import scanpy as sc\n",
    "import numpy as np\n",
    "import seaborn as sb\n",
    "import decoupler as dc\n",
    "import scrublet as scr\n",
    "import decoupler as dc\n",
    "from scipy import sparse\n",
    "from anndata import AnnData\n",
    "from tabnanny import verbose\n",
    "import matplotlib.pyplot as plt\n",
    "from gsva_prep import prep_gsva\n",
    "import rpy2.robjects as robjects\n",
    "from rpy2.robjects import pandas2ri\n",
    "from typing import Optional, Union\n",
    "from matplotlib.pyplot import rcParams\n",
    "from functions import pathway_analyses\n",
    "from statsmodels.stats.multitest import multipletests\n",
    "from sklearn.model_selection import train_test_split\n",
    "from pytorch_lightning.loggers import TensorBoardLogger\n",
    "from rpy2.robjects.conversion import localconverter"
   ]
  },
  {
   "cell_type": "code",
   "execution_count": 2,
   "id": "c36a2bac",
   "metadata": {},
   "outputs": [],
   "source": [
    "def get_sys_dpi(width, height, diag):\n",
    "    '''\n",
    "    obtain dpi of system\n",
    "    \n",
    "    w: width in pixels (if unsure, go vist `whatismyscreenresolution.net`)\n",
    "    h: height in pixels\n",
    "    d: diagonal in inches\n",
    "    '''\n",
    "    w_inches = (diag**2/ (1 + height**2/width**2))**0.5\n",
    "    return round(width/w_inches)"
   ]
  },
  {
   "cell_type": "code",
   "execution_count": 3,
   "id": "447b6d1c",
   "metadata": {},
   "outputs": [
    {
     "name": "stdout",
     "output_type": "stream",
     "text": [
      "-----\n",
      "anndata     0.9.1\n",
      "scanpy      1.9.3\n",
      "-----\n",
      "PIL                         9.5.0\n",
      "anndata2ri                  1.1\n",
      "appnope                     0.1.3\n",
      "asttokens                   NA\n",
      "backcall                    0.2.0\n",
      "cffi                        1.15.1\n",
      "comm                        0.1.3\n",
      "cycler                      0.10.0\n",
      "cython_runtime              NA\n",
      "dateutil                    2.8.2\n",
      "debugpy                     1.6.7\n",
      "decorator                   5.1.1\n",
      "decoupler                   1.4.0\n",
      "executing                   1.2.0\n",
      "fsspec                      2023.6.0\n",
      "functions                   NA\n",
      "gsva_prep                   NA\n",
      "h5py                        3.8.0\n",
      "ipykernel                   6.23.1\n",
      "jedi                        0.18.2\n",
      "jinja2                      3.1.2\n",
      "joblib                      1.2.0\n",
      "kiwisolver                  1.4.4\n",
      "lightning_fabric            2.0.3\n",
      "lightning_utilities         0.8.0\n",
      "llvmlite                    0.40.1rc1\n",
      "markupsafe                  2.1.3\n",
      "matplotlib                  3.7.1\n",
      "mpl_toolkits                NA\n",
      "mpmath                      1.3.0\n",
      "natsort                     8.3.1\n",
      "numba                       0.57.0\n",
      "numpy                       1.24.3\n",
      "packaging                   23.1\n",
      "pandas                      2.0.2\n",
      "parso                       0.8.3\n",
      "patsy                       0.5.3\n",
      "pexpect                     4.8.0\n",
      "pickleshare                 0.7.5\n",
      "pkg_resources               NA\n",
      "platformdirs                3.5.3\n",
      "prompt_toolkit              3.0.38\n",
      "psutil                      5.9.5\n",
      "ptyprocess                  0.7.0\n",
      "pure_eval                   0.2.2\n",
      "pycparser                   2.21\n",
      "pydev_ipython               NA\n",
      "pydevconsole                NA\n",
      "pydevd                      2.9.5\n",
      "pydevd_file_utils           NA\n",
      "pydevd_plugins              NA\n",
      "pydevd_tracing              NA\n",
      "pygments                    2.15.1\n",
      "pyparsing                   3.0.9\n",
      "pytorch_lightning           2.0.3\n",
      "pytz                        2023.3\n",
      "pytz_deprecation_shim       NA\n",
      "rpy2                        3.5.12\n",
      "scipy                       1.10.1\n",
      "scrublet                    NA\n",
      "seaborn                     0.12.2\n",
      "session_info                1.0.0\n",
      "setuptools                  67.8.0\n",
      "six                         1.16.0\n",
      "sklearn                     1.2.2\n",
      "stack_data                  0.6.2\n",
      "statsmodels                 0.14.0\n",
      "sympy                       1.12\n",
      "threadpoolctl               3.1.0\n",
      "torch                       2.0.1\n",
      "torchmetrics                0.11.4\n",
      "tornado                     6.3.2\n",
      "tqdm                        4.65.0\n",
      "traitlets                   5.9.0\n",
      "typing_extensions           NA\n",
      "tzlocal                     NA\n",
      "wcwidth                     0.2.6\n",
      "yaml                        6.0\n",
      "zmq                         25.1.0\n",
      "zoneinfo                    NA\n",
      "-----\n",
      "IPython             8.14.0\n",
      "jupyter_client      8.2.0\n",
      "jupyter_core        5.3.0\n",
      "-----\n",
      "Python 3.10.6 (main, Oct 24 2022, 11:04:34) [Clang 12.0.0 ]\n",
      "macOS-10.16-x86_64-i386-64bit\n",
      "-----\n",
      "Session information updated at 2023-06-17 20:37\n"
     ]
    }
   ],
   "source": [
    "# # Ignore R warning messages\n",
    "#Note: this can be commented out to get more verbose R output\n",
    "rpy2.rinterface_lib.callbacks.logger.setLevel(logging.ERROR)\n",
    "\n",
    "# # Automatically convert rpy2 outputs to pandas dataframes\n",
    "# pandas2ri.activate()\n",
    "# anndata2ri.activate()\n",
    "# %load_ext rpy2.ipython\n",
    "\n",
    "warnings.filterwarnings(\"ignore\", category=PendingDeprecationWarning)\n",
    "warnings.filterwarnings(\"ignore\", category=UserWarning)\n",
    "warnings.filterwarnings(\"ignore\", category=FutureWarning)\n",
    "\n",
    "# Automatically convert rpy2 outputs to pandas dataframes\n",
    "pandas2ri.activate()\n",
    "anndata2ri.activate()\n",
    "%load_ext rpy2.ipython\n",
    "\n",
    "rcParams['figure.dpi'] = get_sys_dpi(1512, 982, 14.125)\n",
    "#rcParams['figure.figsize']=(4,4) #rescale figures\n",
    "\n",
    "sc.settings.verbosity = 3\n",
    "#sc.set_figure_params(dpi=200, dpi_save=300)\n",
    "sc.logging.print_versions()\n",
    "\n"
   ]
  },
  {
   "attachments": {},
   "cell_type": "markdown",
   "id": "c6ce1b6b",
   "metadata": {},
   "source": [
    "# **hdWGCNA Enrichment Analysis**"
   ]
  },
  {
   "cell_type": "code",
   "execution_count": 4,
   "id": "7503bb6b",
   "metadata": {},
   "outputs": [
    {
     "name": "stdout",
     "output_type": "stream",
     "text": [
      "\n",
      "    WARNING: The R package \"reticulate\" only fixed recently\n",
      "    an issue that caused a segfault when used with rpy2:\n",
      "    https://github.com/rstudio/reticulate/pull/1188\n",
      "    Make sure that you use a version of that package that includes\n",
      "    the fix.\n",
      "    "
     ]
    }
   ],
   "source": [
    "%%R\n",
    "suppressPackageStartupMessages({\n",
    "    library(WGCNA)\n",
    "    library(Matrix)\n",
    "    library(viridis)\n",
    "    library(harmony)\n",
    "    library(ggpubr)\n",
    "    library(tictoc)\n",
    "    library(RColorBrewer)\n",
    "    library(Hmisc)\n",
    "    library(corrplot)\n",
    "    library(grid)\n",
    "    library(gridExtra)\n",
    "    library(igraph)\n",
    "    library(ggrepel)\n",
    "    library(conflicted)\n",
    "\n",
    "    # single-cell analysis package\n",
    "    library(Seurat)\n",
    "\n",
    "    # plotting and data science packages\n",
    "    library(tidyverse)\n",
    "    library(cowplot)\n",
    "    library(patchwork)\n",
    "\n",
    "    # co-expression network analysis packages:\n",
    "    library(WGCNA)\n",
    "    library(hdWGCNA)\n",
    "\n",
    "    # gene enrichment packages\n",
    "    library(enrichR)\n",
    "    library(GeneOverlap)\n",
    "\n",
    "\n",
    "    library(GSEABase)\n",
    "    library(GSVA) \n",
    "# needs to be run every time you start R and want to use %>%\n",
    "})\n",
    "\n",
    "# using the cowplot theme for ggplot\n",
    "theme_set(theme_cowplot())\n",
    "\n",
    "# set random seed for reproducibility\n",
    "set.seed(12345)\n",
    "\n",
    "# optionally enable multithreading\n",
    "# enableWGCNAThreads(nThreads = 4)"
   ]
  },
  {
   "cell_type": "code",
   "execution_count": 5,
   "id": "d8504101",
   "metadata": {},
   "outputs": [],
   "source": [
    "save_prefix = 'allen_mtg'\n",
    "map_meta = True\n",
    "deg_method =  'DESeq2-Wald'\n",
    "test_names = ['late_vs_early', 'early_vs_no', 'late_vs_no', 'ad_vs_no']\n",
    "filter_genes = \"TRUE\"\n",
    "subject_id = 'individualID'                # for leng this is `PatientID` for mathys is 'Subject', and 'individualID' for allen\n",
    "gene_celltype_threshold = 0.05          # determines number of cells the gene must be expressed in \n",
    "covariates = ['None']                   # list of covariates to be accounted for in regression.\n",
    "gene_selection = 'custom'               # specifies the gene selection method when setting up seurat object for WGCNA. The th\n",
    "celltypes = [\"OPC\"] #[\"Excitatory\", \"Inhibitory\", \"Astrocyte\", \"Microglia\", \"Oligodendrocyte\", \"OPC\"]\n",
    "metadata = f'../data/raw/{save_prefix}/{save_prefix}_metadata.csv' \n",
    "meta = pd.read_csv(metadata, encoding_errors='ignore')\n",
    "\n",
    "gene_selection = 'custom'   # specifies the gene selection method when setting up seurat object for WGCNA. The th\n",
    "                            # Posible values are \"custom\", \"fraction\", \"variable\"\n",
    "                            # If custom, a list of genes must be passed.\n",
    "\n",
    "\n",
    "gene_set_select = 'diff_exp'      # If gene_selection = 'custom'. This specifies how to obtain the list of\n",
    "                                  # genes to pass into `SetupForWGCNA`. # The posible values are \"diff_exp\", \"overlap\", \"all\""
   ]
  },
  {
   "attachments": {},
   "cell_type": "markdown",
   "id": "8a3955a2",
   "metadata": {},
   "source": [
    "## **Load Seurat object for Enrichment and Differential Module Eigen Gene Analysis**"
   ]
  },
  {
   "cell_type": "code",
   "execution_count": 6,
   "id": "839f795a",
   "metadata": {},
   "outputs": [
    {
     "name": "stdout",
     "output_type": "stream",
     "text": [
      "[1] \"Loading data for hdWGCNA Experiment in OLIGODENDROCYTE\"\n"
     ]
    },
    {
     "name": "stdout",
     "output_type": "stream",
     "text": [
      "An object of class Seurat \n",
      "17950 features across 9120 samples within 1 assay \n",
      "Active assay: originalexp (17950 features, 2000 variable features)\n",
      " 3 dimensional reductions calculated: pca, harmony, umap\n",
      "[1] \"loaded data\"\n"
     ]
    }
   ],
   "source": [
    "%%R -i subject_id -i gene_celltype_threshold -i celltypes -i test_names -i save_prefix -i gene_selection -i gene_set_select -o seurat_obj\n",
    "\n",
    "seurat_obj <- list()\n",
    "\n",
    "for (cell_type in celltypes) {\n",
    "    \n",
    "    print(paste0('Loading data for hdWGCNA Experiment in ', toupper(cell_type)))\n",
    "    tryCatch({\n",
    "        seurat_obj[[cell_type]] <- readRDS(paste0(\"../results/hdWGCNA/SeuratObject/\", save_prefix, '/', cell_type, '_hdWGCNA_object.rds'))\n",
    "        print(seurat_obj[[cell_type]])\n",
    "    \n",
    "    }, error = function(e){\n",
    "        NULL\n",
    "    }, message = function(m){\n",
    "        print(paste0('Could not load data for ', toupper(cell_type)))\n",
    "    })\n",
    "\n",
    "}\n",
    "\n",
    "print('loaded data')"
   ]
  },
  {
   "cell_type": "code",
   "execution_count": 7,
   "id": "4332911e",
   "metadata": {},
   "outputs": [],
   "source": [
    "# convert nested list of Seurat object into Rpy2 object \n",
    "seurat_obj =  robjects.ListVector(\n",
    "                        {\n",
    "                            cell_type: seurat_obj[cell_type]\n",
    "                     \n",
    "                            for cell_type in seurat_obj.keys()\n",
    "                        }\n",
    "                    )"
   ]
  },
  {
   "attachments": {},
   "cell_type": "markdown",
   "id": "b534ca69",
   "metadata": {},
   "source": [
    "# **Enrichment analysis**"
   ]
  },
  {
   "attachments": {},
   "cell_type": "markdown",
   "id": "4261d643",
   "metadata": {},
   "source": [
    "Next, we perform enrichment tests on the hdWGCNA modules. We leverage the R pacakge enrichR to perform enrichment tests on a wide range of curated gene lists. This analysis should point us towards biological processes that our hdWGCNA modules are involved in. Additionally, we perform a gene set overlap analysis to compare the genes in hdWGCNA modules with the marker genes identified using Seurat’s FindAllMarkers function.\n"
   ]
  },
  {
   "attachments": {},
   "cell_type": "markdown",
   "id": "a77a18cb",
   "metadata": {},
   "source": [
    "## **EnrichR**\n",
    "\n",
    "hdWGCNA includes the function RunEnrichr to compare the set of genes in each module with any of the gene lists hosted by Enrichr.\n",
    "\n",
    "The results of the enrichment tests are stored in the hdWGCNA experiment, so can be easily retrieved for downstream analysis or exporting to external applicaitons like Excel. In the following example, we perform the enrichment test with three Gene Ontology datbases:\n",
    "\n",
    "- `GO_Biological_Process_2021`\n",
    "- `GO_Cellular_Component_2021`\n",
    "- `GO_Molecular_Function_2021`"
   ]
  },
  {
   "cell_type": "code",
   "execution_count": 8,
   "id": "f99c0a19",
   "metadata": {},
   "outputs": [
    {
     "name": "stdout",
     "output_type": "stream",
     "text": [
      "[1] \"Estimating Module Enrichments in hdWGCNA Experiment for OLIGODENDROCYTE\"\n",
      "Selecting by kME_OLI-M1\n",
      "Uploading data to Enrichr... Done.\n",
      "  Querying GO_Biological_Process_2021... Done.\n",
      "  Querying GO_Cellular_Component_2021... Done.\n",
      "  Querying GO_Molecular_Function_2021... Done.\n",
      "Parsing results... Done.\n",
      "Selecting by kME_OLI-M2\n",
      "Uploading data to Enrichr... Done.\n",
      "  Querying GO_Biological_Process_2021... Done.\n",
      "  Querying GO_Cellular_Component_2021... Done.\n",
      "  Querying GO_Molecular_Function_2021... Done.\n",
      "Parsing results... Done.\n",
      "Selecting by kME_OLI-M3\n",
      "Uploading data to Enrichr... Done.\n",
      "  Querying GO_Biological_Process_2021... Done.\n",
      "  Querying GO_Cellular_Component_2021... Done.\n",
      "  Querying GO_Molecular_Function_2021... Done.\n",
      "Parsing results... Done.\n",
      "Selecting by kME_OLI-M4\n",
      "Uploading data to Enrichr... Done.\n",
      "  Querying GO_Biological_Process_2021... Done.\n",
      "  Querying GO_Cellular_Component_2021... Done.\n",
      "  Querying GO_Molecular_Function_2021... Done.\n",
      "Parsing results... Done.\n",
      "Selecting by kME_OLI-M5\n",
      "Uploading data to Enrichr... Done.\n",
      "  Querying GO_Biological_Process_2021... Done.\n",
      "  Querying GO_Cellular_Component_2021... Done.\n",
      "  Querying GO_Molecular_Function_2021... Done.\n",
      "Parsing results... Done.\n"
     ]
    }
   ],
   "source": [
    "%%R -i seurat_obj -o seurat_obj -o enrich_df\n",
    "\n",
    "# dbs <- c('GO_Biological_Process_2021')\n",
    "\n",
    "dbs <- c('GO_Biological_Process_2021','GO_Cellular_Component_2021','GO_Molecular_Function_2021')\n",
    "\n",
    "enrich_df <- list()\n",
    "\n",
    "for (cell_type in names(seurat_obj)){\n",
    "\n",
    "  print(paste0('Estimating Module Enrichments in hdWGCNA Experiment for ', toupper(cell_type)))\n",
    "\n",
    "  # enrichr databases to test\n",
    "\n",
    "  # perform enrichment tests\n",
    "  seurat_obj[[cell_type]] <- RunEnrichr(\n",
    "    seurat_obj[[cell_type]],\n",
    "    dbs=dbs, # character vector of enrichr databases to test\n",
    "    max_genes = 100 # number of genes per module to test\n",
    "  )\n",
    "  # retrieve the output table\n",
    "  enrich_df[[cell_type]] <- GetEnrichrTable(seurat_obj[[cell_type]]) %>% subset(P.value < 0.05)\n",
    "\n",
    "}"
   ]
  },
  {
   "cell_type": "code",
   "execution_count": 9,
   "id": "22787bab",
   "metadata": {},
   "outputs": [],
   "source": [
    "# convert nested list of Seurat object into Rpy2 object \n",
    "seurat_obj =  robjects.ListVector(\n",
    "                        {\n",
    "                            cell_type: seurat_obj[cell_type]\n",
    "                     \n",
    "                            for cell_type in seurat_obj.keys()\n",
    "                        }\n",
    "                    )"
   ]
  },
  {
   "attachments": {},
   "cell_type": "markdown",
   "id": "f2494516",
   "metadata": {},
   "source": [
    "## **Visualize enrichments**\n",
    "\n",
    "Now that we have done the enrichment tests, we can now visualize the results.\n",
    "\n",
    "### **EnrichrBarPlot**\n",
    "\n",
    "hdWGCNA includes the function EnrichrBarPlot to summarize the results of every Enrichr database and every module. This function outputs a .pdf figure for each module, containing a barplot showing the top N enriched terms. The following example will plot the top 10 terms in each module and will output the results to a folder called enrichr_plots."
   ]
  },
  {
   "cell_type": "code",
   "execution_count": 10,
   "id": "e7d94ea7",
   "metadata": {},
   "outputs": [
    {
     "name": "stdout",
     "output_type": "stream",
     "text": [
      "[1] \"Enrichr Plots for Modules in hdWGCNA Experiment for OLIGODENDROCYTE\"\n",
      "[1] \"OLI-M1\"\n",
      "[1] \"OLI-M2\"\n",
      "[1] \"OLI-M3\"\n",
      "[1] \"OLI-M4\"\n",
      "[1] \"OLI-M5\"\n"
     ]
    }
   ],
   "source": [
    "%%R -i seurat_obj -o seurat_obj\n",
    "\n",
    "fig_dir = paste0(\"../results/hdWGCNA/Enrichr/\", save_prefix, '/')\n",
    "\n",
    "if (!dir.exists(fig_dir)) {\n",
    "  dir.create(fig_dir, recursive=TRUE)\n",
    "}\n",
    "\n",
    "for (cell_type in names(seurat_obj)){\n",
    "\n",
    "  print(paste0('Enrichr Plots for Modules in hdWGCNA Experiment for ', toupper(cell_type)))\n",
    "\n",
    "  # make GO term plots:\n",
    "  EnrichrBarPlot(\n",
    "    seurat_obj[[cell_type]],\n",
    "    outdir = paste0(fig_dir, cell_type, \"_enrichr_plots\"), # name of output directory\n",
    "    n_terms = 10, # number of enriched terms to show (sometimes more show if there are ties!!!)\n",
    "    plot_size = c(5,7), # width, height of the output .pdfs\n",
    "    logscale=TRUE # do you want to show the enrichment as a log scale?\n",
    "  )\n",
    "}"
   ]
  },
  {
   "cell_type": "code",
   "execution_count": 11,
   "id": "d9adf73f",
   "metadata": {},
   "outputs": [],
   "source": [
    "# convert nested list of Seurat object into Rpy2 object \n",
    "seurat_obj =  robjects.ListVector(\n",
    "                        {\n",
    "                            cell_type: seurat_obj[cell_type]\n",
    "                     \n",
    "                            for cell_type in seurat_obj.keys()\n",
    "                        }\n",
    "                    )"
   ]
  },
  {
   "attachments": {},
   "cell_type": "markdown",
   "id": "678b520b",
   "metadata": {},
   "source": [
    "### **EnrichrDotPlot**\n",
    "\n",
    "hdWGCNA includes an additional visualization function for enrichment results, EnrichrDotPlot, which shows the top results for one Enrichr database in each module. In the following example, we plot the top term in the GO_Biological_Process_2021 database."
   ]
  },
  {
   "cell_type": "code",
   "execution_count": 12,
   "id": "bcb62788",
   "metadata": {},
   "outputs": [
    {
     "name": "stdout",
     "output_type": "stream",
     "text": [
      "[conflicted] Will prefer dplyr::select over any other package.\n",
      "[1] \"Enrichr Dot-Plots for Modules in hdWGCNA Experiment for OLIGODENDROCYTE\"\n"
     ]
    },
    {
     "data": {
      "text/plain": [
       "In addition: Warning message:\n",
       "In db == database :\n",
       "  longer object length is not a multiple of shorter object length\n"
      ]
     },
     "metadata": {},
     "output_type": "display_data"
    }
   ],
   "source": [
    "%%R -i seurat_obj -o seurat_obj\n",
    "\n",
    "conflicts_prefer(dplyr::select)\n",
    "\n",
    "fig_dir = paste0(\"../results/hdWGCNA/Enrichr/\", save_prefix, '/')\n",
    "\n",
    "if (!dir.exists(fig_dir)) {\n",
    "  dir.create(fig_dir, recursive=TRUE)\n",
    "}\n",
    "\n",
    "for (cell_type in names(seurat_obj)){\n",
    "\n",
    "    print(paste0('Enrichr Dot-Plots for Modules in hdWGCNA Experiment for ', toupper(cell_type)))\n",
    "\n",
    "    # enrichr dotplot\n",
    "    p <- EnrichrDotPlot(\n",
    "    seurat_obj[[cell_type]],\n",
    "        mods='all',\n",
    "        database = c('GO_Biological_Process_2021','GO_Cellular_Component_2021','GO_Molecular_Function_2021'), \n",
    "        n_terms=3,\n",
    "        break_ties=TRUE,\n",
    "        )\n",
    "        \n",
    "    pdf(paste0(fig_dir, cell_type, \"_enrichr_dotplots.pdf\"), width=10, height=10, useDingbats=FALSE)\n",
    "    print(p)\n",
    "    dev.off()\n",
    "\n",
    "}"
   ]
  },
  {
   "cell_type": "code",
   "execution_count": 13,
   "id": "fb1d1cbc",
   "metadata": {},
   "outputs": [],
   "source": [
    "# convert nested list of Seurat object into Rpy2 object \n",
    "seurat_obj =  robjects.ListVector(\n",
    "                        {\n",
    "                            cell_type: seurat_obj[cell_type]\n",
    "                     \n",
    "                            for cell_type in seurat_obj.keys()\n",
    "                        }\n",
    "                    )"
   ]
  },
  {
   "attachments": {},
   "cell_type": "markdown",
   "id": "d5bae359",
   "metadata": {},
   "source": [
    "# **Differential module eigengene (DME) analysis**"
   ]
  },
  {
   "attachments": {},
   "cell_type": "markdown",
   "id": "c5b93666",
   "metadata": {},
   "source": [
    "Here, we perform differential module eigengene (DME) analysis, revealing modules that are up- or down-regulated in given groups of cells."
   ]
  },
  {
   "attachments": {},
   "cell_type": "markdown",
   "id": "b0ee2360",
   "metadata": {},
   "source": [
    "## **DME analysis comparing two groups**\n",
    "\n",
    "Here we perform DME testing between two different pathology groups (AD vs control). We use the hdWGCNA function FindDMEs, which is a special case of the Seurat function FindMarkers. We use the Mann-Whitney U test, also known as the Wilcoxon test, to compare two groups, but other tests can be used with the test.use parameter.\n",
    "\n",
    "FindDMEs requires a list of barcodes for group1 and for group2. We are only going to compare cells from the EX cluster since that is the group that we performed network analysis on.\n",
    "\n"
   ]
  },
  {
   "cell_type": "code",
   "execution_count": 14,
   "id": "1e343be3",
   "metadata": {},
   "outputs": [
    {
     "name": "stdout",
     "output_type": "stream",
     "text": [
      "[1] \"Differential Module Eigengene Analysis in hdWGCNA Experiment for OLIGODENDROCYTE\"\n",
      "[1] 9120    5\n",
      "[1] \"OLI-M5\" \"OLI-M3\" \"OLI-M4\" \"OLI-M2\" \"OLI-M1\"\n"
     ]
    },
    {
     "data": {
      "text/plain": [
       "For a more efficient implementation of the Wilcoxon Rank Sum Test,\n",
       "(default method for FindMarkers) please install the limma package\n",
       "--------------------------------------------\n",
       "install.packages('BiocManager')\n",
       "BiocManager::install('limma')\n",
       "--------------------------------------------\n",
       "After installation of limma, Seurat will automatically use the more \n",
       "efficient implementation (no further action necessary).\n",
       "This message will be shown once per session\n"
      ]
     },
     "metadata": {},
     "output_type": "display_data"
    }
   ],
   "source": [
    "%%R -i seurat_obj -o seurat_obj -o DMEs\n",
    "\n",
    "group_col <- 'cell_type'\n",
    "groups <- celltypes\n",
    "DMEs <- list()\n",
    "\n",
    "dat_dir = paste0(\"../results/hdWGCNA/DMEs/\", save_prefix, '/')\n",
    "\n",
    "if (!dir.exists(dat_dir)) {\n",
    "  dir.create(dat_dir, recursive=TRUE)\n",
    "}\n",
    "\n",
    "\n",
    "for (cell_type in names(seurat_obj)){\n",
    "\n",
    "  print(paste0('Differential Module Eigengene Analysis in hdWGCNA Experiment for ', toupper(cell_type)))\n",
    "\n",
    "\n",
    "  # get cell barcodes for this pseudotime bin in control & AD\n",
    "  g1 <- seurat_obj[[cell_type]]@meta.data[seurat_obj[[cell_type]]$pathology.group %in% c('early', 'late'),] %>% rownames\n",
    "  g2 <- seurat_obj[[cell_type]]@meta.data[seurat_obj[[cell_type]]$pathology.group == 'no',] %>% rownames\n",
    "\n",
    "  DMEs[[cell_type]] <- FindDMEs(\n",
    "          seurat_obj[[cell_type]],\n",
    "          barcodes1 = g1,\n",
    "          barcodes2 = g2,\n",
    "          test.use='wilcox',\n",
    "          wgcna_name=toupper(substr(cell_type, 1, 3)), # the name of the hdWGCNA experiment,,\n",
    "          harmonized=TRUE\n",
    "      )\n",
    "  \n",
    "  DMEs[[cell_type]]$group <- cell_type\n",
    "\n",
    "  # fix infs:\n",
    "  DMEs[[cell_type]]$avg_log2FC <- ifelse(abs(DMEs[[cell_type]]$avg_log2FC) == Inf, 0, DMEs[[cell_type]]$avg_log2FC)\n",
    "\n",
    "  write.csv(DMEs[[cell_type]], row.names=FALSE, quote=FALSE, file=paste0(dat_dir, cell_type, '_AD_DMEs.csv'))\n",
    "}\n"
   ]
  },
  {
   "cell_type": "code",
   "execution_count": 15,
   "id": "4aababeb",
   "metadata": {},
   "outputs": [],
   "source": [
    "# convert nested list of Seurat object into Rpy2 object \n",
    "seurat_obj =  robjects.ListVector(\n",
    "                        {\n",
    "                            cell_type: seurat_obj[cell_type]\n",
    "                     \n",
    "                            for cell_type in seurat_obj.keys()\n",
    "                        }\n",
    "                    )\n",
    "\n",
    "\n",
    "# convert nested list of Seurat object into Rpy2 object \n",
    "DMEs =  robjects.ListVector(\n",
    "                        {\n",
    "                            cell_type: DMEs[cell_type]\n",
    "                     \n",
    "                            for cell_type in DMEs.keys()\n",
    "                        }\n",
    "                    )"
   ]
  },
  {
   "attachments": {},
   "cell_type": "markdown",
   "id": "4ed4d48c",
   "metadata": {},
   "source": [
    "We can now visualize the results using the hdWGNCA functions `PlotDMEsLollipop` or `PlotDMEsVolcano`. First we make a lollipop plot to visualize the DME results.\n"
   ]
  },
  {
   "cell_type": "code",
   "execution_count": 16,
   "id": "2d11980c",
   "metadata": {},
   "outputs": [
    {
     "name": "stdout",
     "output_type": "stream",
     "text": [
      "[1] \"Lollipop for DMEs in hdWGCNA Experiment for OLIGODENDROCYTE\"\n",
      "[1] \"Please be aware comparison group/groups are not provided, which may casue an ERROR. PlotDMEsLollipop function will automatically assume all values are within the same group.\"\n"
     ]
    },
    {
     "data": {
      "text/plain": [
       "Loading required package: ggforestplot\n"
      ]
     },
     "metadata": {},
     "output_type": "display_data"
    }
   ],
   "source": [
    "%%R -i seurat_obj -o seurat_obj -i DMEs\n",
    "\n",
    "\n",
    "fig_dir = paste0(\"../results/hdWGCNA/DMEs/\", save_prefix, '/')\n",
    "\n",
    "if (!dir.exists(fig_dir)) {\n",
    "  dir.create(fig_dir, recursive=TRUE)\n",
    "}\n",
    "\n",
    "\n",
    "for (cell_type in names(seurat_obj)){\n",
    "\n",
    "  print(paste0('Lollipop for DMEs in hdWGCNA Experiment for ', toupper(cell_type)))\n",
    "\n",
    "  pdf(paste0(fig_dir, cell_type, '_dmes_lollipop.pdf'), width=10, height=10)\n",
    "  p <- PlotDMEsLollipop(\n",
    "    seurat_obj[[cell_type]], \n",
    "    DMEs[[cell_type]], \n",
    "    wgcna_name = toupper(substr(cell_type, 1, 3)), # the name of the hdWGCNA experiment,, \n",
    "    pvalue = \"p_val_adj\"\n",
    "  )\n",
    "  print(p)\n",
    "  dev.off()\n",
    "\n",
    "}"
   ]
  },
  {
   "cell_type": "code",
   "execution_count": 17,
   "id": "8c6e9df6",
   "metadata": {},
   "outputs": [],
   "source": [
    "seurat_obj =  robjects.ListVector(\n",
    "                        {\n",
    "                            cell_type: seurat_obj[cell_type]\n",
    "                     \n",
    "                            for cell_type in seurat_obj.keys()\n",
    "                        }\n",
    "                    )"
   ]
  },
  {
   "attachments": {},
   "cell_type": "markdown",
   "id": "3bc33b36",
   "metadata": {},
   "source": [
    "# **Save Seurat Object**"
   ]
  },
  {
   "cell_type": "code",
   "execution_count": 18,
   "id": "431d9ac4",
   "metadata": {},
   "outputs": [
    {
     "name": "stdout",
     "output_type": "stream",
     "text": [
      "[1] \"Saving hdWGCNA object in hdWGCNA Experiment for OLIGODENDROCYTE\"\n"
     ]
    }
   ],
   "source": [
    "%%R -i seurat_obj -o seurat_obj\n",
    "\n",
    "dat_dir = paste0(\"../results/hdWGCNA/SeuratObject/\", save_prefix, '/')\n",
    "\n",
    "if (!dir.exists(dat_dir)) {\n",
    "  dir.create(dat_dir, recursive=TRUE)\n",
    "}\n",
    "\n",
    "for (cell_type in names(seurat_obj)){\n",
    "    \n",
    "    print(paste0('Saving hdWGCNA object in hdWGCNA Experiment for ', toupper(cell_type)))\n",
    "\n",
    "    saveRDS(seurat_obj[[cell_type]], file=paste0(dat_dir, cell_type, '_hdWGCNA_object.rds'))\n",
    "\n",
    "}"
   ]
  }
 ],
 "metadata": {
  "kernelspec": {
   "display_name": "scRNA_seq_meta_analysis",
   "language": "python",
   "name": "python3"
  },
  "language_info": {
   "codemirror_mode": {
    "name": "ipython",
    "version": 3
   },
   "file_extension": ".py",
   "mimetype": "text/x-python",
   "name": "python",
   "nbconvert_exporter": "python",
   "pygments_lexer": "ipython3",
   "version": "3.10.6"
  },
  "vscode": {
   "interpreter": {
    "hash": "2f414a000012e1980f5fd1119ed6b9bf8cc73b51e37b52eb52a16ff857effd1c"
   }
  }
 },
 "nbformat": 4,
 "nbformat_minor": 5
}
