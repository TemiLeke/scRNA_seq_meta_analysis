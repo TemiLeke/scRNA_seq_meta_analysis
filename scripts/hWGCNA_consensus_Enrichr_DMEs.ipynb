{
 "cells": [
  {
   "cell_type": "code",
   "execution_count": 1,
   "id": "a5469d63",
   "metadata": {},
   "outputs": [],
   "source": [
    "import rpy2\n",
    "import scipy\n",
    "import logging\n",
    "import warnings\n",
    "import anndata\n",
    "import anndata2ri\n",
    "import pandas as pd\n",
    "import scanpy as sc\n",
    "import numpy as np\n",
    "import seaborn as sb\n",
    "import decoupler as dc\n",
    "import scrublet as scr\n",
    "import decoupler as dc\n",
    "from scipy import sparse\n",
    "from anndata import AnnData\n",
    "from tabnanny import verbose\n",
    "import matplotlib.pyplot as plt\n",
    "from gsva_prep import prep_gsva\n",
    "import rpy2.robjects as robjects\n",
    "from rpy2.robjects import pandas2ri\n",
    "from typing import Optional, Union\n",
    "from matplotlib.pyplot import rcParams\n",
    "from functions import pathway_analyses\n",
    "from statsmodels.stats.multitest import multipletests\n",
    "from sklearn.model_selection import train_test_split\n",
    "from pytorch_lightning.loggers import TensorBoardLogger\n",
    "from rpy2.robjects.conversion import localconverter"
   ]
  },
  {
   "cell_type": "code",
   "execution_count": 2,
   "id": "6e44ccaa",
   "metadata": {},
   "outputs": [],
   "source": [
    "def get_sys_dpi(width, height, diag):\n",
    "    '''\n",
    "    obtain dpi of system\n",
    "    \n",
    "    w: width in pixels (if unsure, go vist `whatismyscreenresolution.net`)\n",
    "    h: height in pixels\n",
    "    d: diagonal in inches\n",
    "    '''\n",
    "    w_inches = (diag**2/ (1 + height**2/width**2))**0.5\n",
    "    return round(width/w_inches)"
   ]
  },
  {
   "cell_type": "code",
   "execution_count": 3,
   "id": "587ed381",
   "metadata": {},
   "outputs": [
    {
     "name": "stdout",
     "output_type": "stream",
     "text": [
      "-----\n",
      "anndata     0.8.0\n",
      "scanpy      1.9.1\n",
      "-----\n",
      "OpenSSL                     22.0.0\n",
      "PIL                         9.2.0\n",
      "absl                        NA\n",
      "anndata2ri                  1.1\n",
      "appnope                     0.1.2\n",
      "asttokens                   NA\n",
      "astunparse                  1.6.3\n",
      "attr                        21.4.0\n",
      "backcall                    0.2.0\n",
      "beta_ufunc                  NA\n",
      "binom_ufunc                 NA\n",
      "boto3                       1.26.32\n",
      "botocore                    1.29.32\n",
      "bottleneck                  1.3.5\n",
      "brotli                      NA\n",
      "certifi                     2022.09.24\n",
      "cffi                        1.15.1\n",
      "cloudpickle                 2.2.0\n",
      "colorama                    0.4.4\n",
      "cryptography                38.0.1\n",
      "cycler                      0.10.0\n",
      "cython_runtime              NA\n",
      "dask                        2022.11.0\n",
      "dateutil                    2.8.2\n",
      "debugpy                     1.5.1\n",
      "decorator                   5.1.1\n",
      "decoupler                   1.4.0\n",
      "defusedxml                  0.7.1\n",
      "deprecate                   0.3.2\n",
      "entrypoints                 0.4\n",
      "executing                   0.8.3\n",
      "fsspec                      2022.10.0\n",
      "functions                   NA\n",
      "google                      NA\n",
      "gsva_prep                   NA\n",
      "h5py                        3.7.0\n",
      "hypergeom_ufunc             NA\n",
      "igraph                      0.10.2\n",
      "ipykernel                   6.15.2\n",
      "ipython_genutils            0.2.0\n",
      "ipywidgets                  7.6.5\n",
      "jedi                        0.18.1\n",
      "jinja2                      3.1.2\n",
      "jmespath                    1.0.1\n",
      "joblib                      1.1.1\n",
      "kiwisolver                  1.4.2\n",
      "leidenalg                   0.9.0\n",
      "llvmlite                    0.39.1\n",
      "louvain                     0.8.0\n",
      "markupsafe                  2.1.1\n",
      "matplotlib                  3.5.3\n",
      "mpl_toolkits                NA\n",
      "natsort                     7.1.1\n",
      "nbinom_ufunc                NA\n",
      "ncf_ufunc                   NA\n",
      "numba                       0.56.3\n",
      "numexpr                     2.8.3\n",
      "numpy                       1.23.3\n",
      "packaging                   21.3\n",
      "pandas                      1.4.4\n",
      "parso                       0.8.3\n",
      "pexpect                     4.8.0\n",
      "pickleshare                 0.7.5\n",
      "pkg_resources               NA\n",
      "prompt_toolkit              3.0.20\n",
      "psutil                      5.9.0\n",
      "ptyprocess                  0.7.0\n",
      "pure_eval                   0.2.2\n",
      "pyarrow                     11.0.0\n",
      "pycparser                   2.21\n",
      "pydev_ipython               NA\n",
      "pydevconsole                NA\n",
      "pydevd                      2.6.0\n",
      "pydevd_concurrency_analyser NA\n",
      "pydevd_file_utils           NA\n",
      "pydevd_plugins              NA\n",
      "pydevd_tracing              NA\n",
      "pygments                    2.13.0\n",
      "pyparsing                   3.0.9\n",
      "pytorch_lightning           1.7.7\n",
      "pytz                        2022.1\n",
      "pytz_deprecation_shim       NA\n",
      "rich                        NA\n",
      "rpy2                        3.5.10\n",
      "scipy                       1.9.3\n",
      "scrublet                    NA\n",
      "seaborn                     0.11.2\n",
      "session_info                1.0.0\n",
      "setuptools                  65.6.3\n",
      "six                         1.16.0\n",
      "sklearn                     1.1.3\n",
      "sparse                      0.13.0\n",
      "stack_data                  0.2.0\n",
      "statsmodels                 0.13.5\n",
      "tensorboard                 2.10.1\n",
      "texttable                   1.6.4\n",
      "threadpoolctl               2.2.0\n",
      "tlz                         0.12.0\n",
      "toolz                       0.12.0\n",
      "torch                       1.12.1\n",
      "torchmetrics                0.10.2\n",
      "tornado                     6.2\n",
      "tqdm                        4.64.1\n",
      "traitlets                   5.1.1\n",
      "typing_extensions           NA\n",
      "tzlocal                     NA\n",
      "urllib3                     1.26.12\n",
      "wcwidth                     0.2.5\n",
      "yaml                        5.4.1\n",
      "zmq                         23.2.0\n",
      "zoneinfo                    NA\n",
      "-----\n",
      "IPython             8.6.0\n",
      "jupyter_client      7.3.5\n",
      "jupyter_core        4.11.2\n",
      "notebook            6.4.12\n",
      "-----\n",
      "Python 3.10.6 | packaged by conda-forge | (main, Aug 22 2022, 20:41:22) [Clang 13.0.1 ]\n",
      "macOS-13.0.1-arm64-arm-64bit\n",
      "-----\n",
      "Session information updated at 2023-06-15 22:52\n"
     ]
    }
   ],
   "source": [
    "# # Ignore R warning messages\n",
    "#Note: this can be commented out to get more verbose R output\n",
    "rpy2.rinterface_lib.callbacks.logger.setLevel(logging.ERROR)\n",
    "\n",
    "# # Automatically convert rpy2 outputs to pandas dataframes\n",
    "# pandas2ri.activate()\n",
    "# anndata2ri.activate()\n",
    "# %load_ext rpy2.ipython\n",
    "\n",
    "warnings.filterwarnings(\"ignore\", category=PendingDeprecationWarning)\n",
    "warnings.filterwarnings(\"ignore\", category=UserWarning)\n",
    "warnings.filterwarnings(\"ignore\", category=FutureWarning)\n",
    "\n",
    "# Automatically convert rpy2 outputs to pandas dataframes\n",
    "pandas2ri.activate()\n",
    "anndata2ri.activate()\n",
    "%load_ext rpy2.ipython\n",
    "\n",
    "rcParams['figure.dpi'] = get_sys_dpi(1512, 982, 14.125)\n",
    "#rcParams['figure.figsize']=(4,4) #rescale figures\n",
    "\n",
    "sc.settings.verbosity = 3\n",
    "#sc.set_figure_params(dpi=200, dpi_save=300)\n",
    "sc.logging.print_versions()\n",
    "\n"
   ]
  },
  {
   "attachments": {},
   "cell_type": "markdown",
   "id": "fdaafc33",
   "metadata": {},
   "source": [
    "# **Consensus Network Enrichment Analysis**"
   ]
  },
  {
   "attachments": {},
   "cell_type": "markdown",
   "id": "b51bc4fd",
   "metadata": {},
   "source": [
    "Here, we perform nrichment analysis on the consensus co-expression network eusing `hdWGCNA`. \n",
    "\n",
    "- [**Morabito et al. bioRxiv 2022**](https://www.biorxiv.org/content/10.1101/2022.09.22.509094v1)\n",
    "- [**Morabito & Miyoshi et al. Nature Genetics 2021**](https://www.nature.com/articles/s41588-021-00894-z)\n"
   ]
  },
  {
   "cell_type": "code",
   "execution_count": 4,
   "id": "7b02654b",
   "metadata": {},
   "outputs": [
    {
     "name": "stdout",
     "output_type": "stream",
     "text": [
      "\n",
      "    WARNING: The R package \"reticulate\" only fixed recently\n",
      "    an issue that caused a segfault when used with rpy2:\n",
      "    https://github.com/rstudio/reticulate/pull/1188\n",
      "    Make sure that you use a version of that package that includes\n",
      "    the fix.\n",
      "    "
     ]
    }
   ],
   "source": [
    "%%R\n",
    "suppressPackageStartupMessages({\n",
    "    library(WGCNA)\n",
    "    library(Matrix)\n",
    "    library(viridis)\n",
    "    library(harmony)\n",
    "    library(ggpubr)\n",
    "    library(tictoc)\n",
    "    library(RColorBrewer)\n",
    "    library(Hmisc)\n",
    "    library(corrplot)\n",
    "    library(grid)\n",
    "    library(gridExtra)\n",
    "    library(igraph)\n",
    "    library(ggrepel)\n",
    "    library(conflicted)\n",
    "\n",
    "    # single-cell analysis package\n",
    "    library(Seurat)\n",
    "\n",
    "    # plotting and data science packages\n",
    "    library(tidyverse)\n",
    "    library(cowplot)\n",
    "    library(patchwork)\n",
    "\n",
    "    # co-expression network analysis packages:\n",
    "    library(WGCNA)\n",
    "    library(hdWGCNA)\n",
    "\n",
    "    # gene enrichment packages\n",
    "    library(enrichR)\n",
    "    library(GeneOverlap)\n",
    "\n",
    "\n",
    "    library(GSEABase)\n",
    "    library(GSVA) \n",
    "# needs to be run every time you start R and want to use %>%\n",
    "})\n",
    "\n",
    "# using the cowplot theme for ggplot\n",
    "theme_set(theme_cowplot())\n",
    "\n",
    "# set random seed for reproducibility\n",
    "set.seed(12345)\n",
    "\n",
    "# optionally enable multithreading\n",
    "# enableWGCNAThreads(nThreads = 4)"
   ]
  },
  {
   "attachments": {},
   "cell_type": "markdown",
   "id": "5eb6330b",
   "metadata": {},
   "source": [
    "## **Prepare data**\n",
    "\n",
    "Now, we load the preprocessed and annotated data for downstream analysis."
   ]
  },
  {
   "cell_type": "code",
   "execution_count": 5,
   "id": "49d1963d",
   "metadata": {},
   "outputs": [],
   "source": [
    "map_meta = True\n",
    "deg_method =  'DESeq2-Wald'\n",
    "test_names = ['late_vs_early', 'early_vs_no', 'late_vs_no', 'ad_vs_no']\n",
    "filter_genes = \"TRUE\"\n",
    "studies = ['allen_mtg', 'leng_sfg', 'leng_etc']\n",
    "subject_id = {'allen_mtg': 'individualID',\n",
    "             'leng_sfg': 'PatientID',\n",
    "             'leng_etc': 'PatientID'}      # for leng this is `PatientID` for mathys is 'Subject', and 'individualID' for allen\n",
    "\n",
    "gene_celltype_threshold = 0.05      # determines number of cells the gene must be expressed in \n",
    "covariates = ['None']               # list of covariates to be accounted for in regression.\n",
    "gene_selection = 'custom'           # specifies the gene selection method when setting up seurat object for WGCNA. The th\n",
    "celltypes = [\"Inhibitory\"]          #[\"Excitatory\", \"Inhibitory\", \"Astrocyte\", \"Microglia\", \"Oligodendrocyte\", \"OPC\"]\n",
    "gene_selection = 'custom'     # specifies the gene selection method when setting up seurat object for WGCNA. The th\n",
    "                                # Posible values are \"custom\", \"fraction\", \"variable\"\n",
    "                                # If custom, a list of genes must be passed.\n",
    "\n",
    "gene_set_select = 'overlap'      # If gene_selection = 'custom'. This specifies how to obtain the list of\n",
    "                                  # genes to pass into `SetupForWGCNA`. # The posible values are \"diff_exp\", \"overlap\", \"all\""
   ]
  },
  {
   "cell_type": "code",
   "execution_count": 6,
   "id": "d905e730",
   "metadata": {},
   "outputs": [],
   "source": [
    "# convert nested list of anndata object into Rpy2 object \n",
    "subject_id =  robjects.ListVector(\n",
    "                        {\n",
    "                            save_prefix: subject_id[save_prefix]\n",
    "                     \n",
    "                            for save_prefix in studies\n",
    "                        }\n",
    "                    )"
   ]
  },
  {
   "attachments": {},
   "cell_type": "markdown",
   "id": "ffc9be96",
   "metadata": {},
   "source": [
    "## **Load Seurat object for Network Visualizations**"
   ]
  },
  {
   "cell_type": "code",
   "execution_count": 7,
   "id": "c3e223c1",
   "metadata": {},
   "outputs": [
    {
     "name": "stdout",
     "output_type": "stream",
     "text": [
      "[1] \"Loading data for hdWGCNA Experiment in ASTROCYTE\"\n",
      "An object of class Seurat \n",
      "18168 features across 12621 samples within 1 assay \n",
      "Active assay: originalexp (18168 features, 2000 variable features)\n",
      " 3 dimensional reductions calculated: pca, harmony, umap\n",
      "[1] \"loaded data\"\n"
     ]
    }
   ],
   "source": [
    "%%R -i subject_id -i gene_celltype_threshold -i celltypes -i test_names -i studies -i gene_selection -i gene_set_select -o seurat_obj\n",
    "\n",
    "seurat_obj <- list()\n",
    "\n",
    "for (cell_type in celltypes) {\n",
    "    \n",
    "    print(paste0('Loading data for hdWGCNA Experiment in ', toupper(cell_type)))\n",
    "    tryCatch({\n",
    "        seurat_obj[[cell_type]] <- readRDS(paste0(\"../results/hdWGCNA/SeuratObject/Consensus/\", cell_type, '_hdWGCNA_object.rds'))\n",
    "        print(seurat_obj[[cell_type]])\n",
    "    \n",
    "    }, error = function(e){\n",
    "        NULL\n",
    "    }, message = function(m){\n",
    "        print(paste0('Could not load data for ', toupper(cell_type)))\n",
    "    })\n",
    "\n",
    "}\n",
    "\n",
    "print('loaded data')"
   ]
  },
  {
   "cell_type": "code",
   "execution_count": 8,
   "id": "4d48bf6f",
   "metadata": {},
   "outputs": [],
   "source": [
    "# convert nested list of Seurat object into Rpy2 object \n",
    "seurat_obj =  robjects.ListVector(\n",
    "                        {\n",
    "                            cell_type: seurat_obj[cell_type]\n",
    "                     \n",
    "                            for cell_type in seurat_obj.keys()\n",
    "                        }\n",
    "                    )"
   ]
  },
  {
   "attachments": {},
   "cell_type": "markdown",
   "id": "b534ca69",
   "metadata": {},
   "source": [
    "# **Enrichment analysis**"
   ]
  },
  {
   "attachments": {},
   "cell_type": "markdown",
   "id": "4261d643",
   "metadata": {},
   "source": [
    "Next, we perform enrichment tests on the hdWGCNA modules. We leverage the R pacakge enrichR to perform enrichment tests on a wide range of curated gene lists. This analysis should point us towards biological processes that our hdWGCNA modules are involved in. Additionally, we perform a gene set overlap analysis to compare the genes in hdWGCNA modules with the marker genes identified using Seurat’s FindAllMarkers function.\n"
   ]
  },
  {
   "attachments": {},
   "cell_type": "markdown",
   "id": "a77a18cb",
   "metadata": {},
   "source": [
    "## **EnrichR**\n",
    "\n",
    "hdWGCNA includes the function RunEnrichr to compare the set of genes in each module with any of the gene lists hosted by Enrichr.\n",
    "\n",
    "The results of the enrichment tests are stored in the hdWGCNA experiment, so can be easily retrieved for downstream analysis or exporting to external applicaitons like Excel. In the following example, we perform the enrichment test with three Gene Ontology datbases:\n",
    "\n",
    "- `GO_Biological_Process_2021`\n",
    "- `GO_Cellular_Component_2021`\n",
    "- `GO_Molecular_Function_2021`"
   ]
  },
  {
   "cell_type": "code",
   "execution_count": 9,
   "id": "f99c0a19",
   "metadata": {},
   "outputs": [
    {
     "name": "stdout",
     "output_type": "stream",
     "text": [
      "[1] \"Estimating Module Enrichments in hdWGCNA Experiment for ASTROCYTE\"\n",
      "Selecting by kME_AST-M1\n",
      "Uploading data to Enrichr... Done.\n",
      "  Querying GO_Biological_Process_2021... Done.\n",
      "  Querying GO_Cellular_Component_2021... Done.\n",
      "  Querying GO_Molecular_Function_2021... Done.\n",
      "Parsing results... Done.\n",
      "Selecting by kME_AST-M2\n",
      "Uploading data to Enrichr... Done.\n",
      "  Querying GO_Biological_Process_2021... Done.\n",
      "  Querying GO_Cellular_Component_2021... Done.\n",
      "  Querying GO_Molecular_Function_2021... Done.\n",
      "Parsing results... Done.\n",
      "Selecting by kME_AST-M3\n",
      "Uploading data to Enrichr... Done.\n",
      "  Querying GO_Biological_Process_2021... Done.\n",
      "  Querying GO_Cellular_Component_2021... Done.\n",
      "  Querying GO_Molecular_Function_2021... Done.\n",
      "Parsing results... Done.\n"
     ]
    }
   ],
   "source": [
    "%%R -i seurat_obj -o seurat_obj -o enrich_df\n",
    "\n",
    "#dbs <- c('GO_Biological_Process_2021')\n",
    "\n",
    "dbs <- c('GO_Biological_Process_2021','GO_Cellular_Component_2021','GO_Molecular_Function_2021')\n",
    "\n",
    "enrich_df <- list()\n",
    "\n",
    "for (cell_type in names(seurat_obj)){\n",
    "\n",
    "  print(paste0('Estimating Module Enrichments in hdWGCNA Experiment for ', toupper(cell_type)))\n",
    "\n",
    "  # enrichr databases to test\n",
    "\n",
    "  # perform enrichment tests\n",
    "  seurat_obj[[cell_type]] <- RunEnrichr(\n",
    "    seurat_obj[[cell_type]],\n",
    "    dbs=dbs, # character vector of enrichr databases to test\n",
    "  )\n",
    "  # retrieve the output table\n",
    "  enrich_df[[cell_type]] <- GetEnrichrTable(seurat_obj[[cell_type]]) %>% subset(P.value < 0.05)\n",
    "\n",
    "}"
   ]
  },
  {
   "cell_type": "code",
   "execution_count": 10,
   "id": "22787bab",
   "metadata": {},
   "outputs": [],
   "source": [
    "# convert nested list of Seurat object into Rpy2 object \n",
    "seurat_obj =  robjects.ListVector(\n",
    "                        {\n",
    "                            cell_type: seurat_obj[cell_type]\n",
    "                     \n",
    "                            for cell_type in seurat_obj.keys()\n",
    "                        }\n",
    "                    )"
   ]
  },
  {
   "attachments": {},
   "cell_type": "markdown",
   "id": "f2494516",
   "metadata": {},
   "source": [
    "## **Visualize enrichments**\n",
    "\n",
    "Now that we have done the enrichment tests, we can now visualize the results.\n",
    "\n",
    "### **EnrichrBarPlot**\n",
    "\n",
    "hdWGCNA includes the function EnrichrBarPlot to summarize the results of every Enrichr database and every module. This function outputs a .pdf figure for each module, containing a barplot showing the top N enriched terms. The following example will plot the top 10 terms in each module and will output the results to a folder called enrichr_plots."
   ]
  },
  {
   "cell_type": "code",
   "execution_count": 11,
   "id": "e7d94ea7",
   "metadata": {},
   "outputs": [
    {
     "name": "stdout",
     "output_type": "stream",
     "text": [
      "[1] \"Enrichr Plots for Modules in hdWGCNA Experiment for ASTROCYTE\"\n",
      "[1] \"AST-M1\"\n",
      "[1] \"AST-M2\"\n",
      "[1] \"AST-M3\"\n"
     ]
    }
   ],
   "source": [
    "%%R -i seurat_obj -o seurat_obj\n",
    "\n",
    "fig_dir = paste0(\"../results/hdWGCNA/Enrichr/Consensus/\")\n",
    "\n",
    "if (!dir.exists(fig_dir)) {\n",
    "  dir.create(fig_dir, recursive=TRUE)\n",
    "}\n",
    "\n",
    "for (cell_type in names(seurat_obj)){\n",
    "\n",
    "  print(paste0('Enrichr Plots for Modules in hdWGCNA Experiment for ', toupper(cell_type)))\n",
    "\n",
    "  # make GO term plots:\n",
    "  EnrichrBarPlot(\n",
    "    seurat_obj[[cell_type]],\n",
    "    outdir = paste0(fig_dir, cell_type, \"_consensus_enrichr_plots\"), # name of output directory\n",
    "    n_terms = 10, # number of enriched terms to show (sometimes more show if there are ties!!!)\n",
    "    plot_size = c(5,7), # width, height of the output .pdfs\n",
    "    logscale=TRUE # do you want to show the enrichment as a log scale?\n",
    "  )\n",
    "}"
   ]
  },
  {
   "cell_type": "code",
   "execution_count": 12,
   "id": "d9adf73f",
   "metadata": {},
   "outputs": [],
   "source": [
    "# convert nested list of Seurat object into Rpy2 object \n",
    "seurat_obj =  robjects.ListVector(\n",
    "                        {\n",
    "                            cell_type: seurat_obj[cell_type]\n",
    "                     \n",
    "                            for cell_type in seurat_obj.keys()\n",
    "                        }\n",
    "                    )"
   ]
  },
  {
   "attachments": {},
   "cell_type": "markdown",
   "id": "678b520b",
   "metadata": {},
   "source": [
    "### **EnrichrDotPlot**\n",
    "\n",
    "hdWGCNA includes an additional visualization function for enrichment results, EnrichrDotPlot, which shows the top results for one Enrichr database in each module. In the following example, we plot the top term in the GO_Biological_Process_2021 database."
   ]
  },
  {
   "cell_type": "code",
   "execution_count": 13,
   "id": "bcb62788",
   "metadata": {},
   "outputs": [
    {
     "name": "stdout",
     "output_type": "stream",
     "text": [
      "[conflicted] Will prefer dplyr::select over any other package.\n",
      "[1] \"Enrichr Dot-Plots for Modules in hdWGCNA Experiment for ASTROCYTE\"\n"
     ]
    }
   ],
   "source": [
    "%%R -i seurat_obj -o seurat_obj\n",
    "\n",
    "conflicts_prefer(dplyr::select)\n",
    "\n",
    "fig_dir = paste0(\"../results/hdWGCNA/Enrichr/Consensus\")\n",
    "\n",
    "if (!dir.exists(fig_dir)) {\n",
    "  dir.create(fig_dir, recursive=TRUE)\n",
    "}\n",
    "\n",
    "for (cell_type in names(seurat_obj)){\n",
    "\n",
    "    print(paste0('Enrichr Dot-Plots for Modules in hdWGCNA Experiment for ', toupper(cell_type)))\n",
    "\n",
    "    # enrichr dotplot\n",
    "    p <- EnrichrDotPlot(\n",
    "    seurat_obj[[cell_type]],\n",
    "        mods='all',\n",
    "        database = c('GO_Biological_Process_2021','GO_Cellular_Component_2021','GO_Molecular_Function_2021'), \n",
    "        n_terms=3,\n",
    "        break_ties=TRUE,\n",
    "        )\n",
    "        \n",
    "    pdf(paste0(fig_dir, cell_type, \"_consensus_enrichr_dotplots.pdf\"), width=10, height=10, useDingbats=FALSE)\n",
    "    print(p)\n",
    "    dev.off()\n",
    "\n",
    "}"
   ]
  },
  {
   "cell_type": "code",
   "execution_count": 14,
   "id": "fb1d1cbc",
   "metadata": {},
   "outputs": [],
   "source": [
    "# convert nested list of Seurat object into Rpy2 object \n",
    "seurat_obj =  robjects.ListVector(\n",
    "                        {\n",
    "                            cell_type: seurat_obj[cell_type]\n",
    "                     \n",
    "                            for cell_type in seurat_obj.keys()\n",
    "                        }\n",
    "                    )"
   ]
  },
  {
   "attachments": {},
   "cell_type": "markdown",
   "id": "1185439e",
   "metadata": {},
   "source": [
    "# **Save Seurat Object**"
   ]
  },
  {
   "cell_type": "code",
   "execution_count": 15,
   "id": "49b4895f",
   "metadata": {},
   "outputs": [
    {
     "name": "stdout",
     "output_type": "stream",
     "text": [
      "[1] \"Saving hdWGCNA object in hdWGCNA Experiment for ASTROCYTE\"\n"
     ]
    }
   ],
   "source": [
    "%%R -i seurat_obj -o seurat_obj\n",
    "\n",
    "dat_dir = paste0(\"../results/hdWGCNA/SeuratObject/Consensus/\")\n",
    "\n",
    "if (!dir.exists(dat_dir)) {\n",
    "  dir.create(dat_dir, recursive=TRUE)\n",
    "}\n",
    "\n",
    "for (cell_type in names(seurat_obj)){\n",
    "    \n",
    "    print(paste0('Saving hdWGCNA object in hdWGCNA Experiment for ', toupper(cell_type)))\n",
    "\n",
    "    saveRDS(seurat_obj[[cell_type]], file=paste0(dat_dir, cell_type, '_hdWGCNA_object.rds'))\n",
    "\n",
    "}"
   ]
  }
 ],
 "metadata": {
  "kernelspec": {
   "display_name": "scRNA_seq_meta_analysis",
   "language": "python",
   "name": "python3"
  },
  "language_info": {
   "codemirror_mode": {
    "name": "ipython",
    "version": 3
   },
   "file_extension": ".py",
   "mimetype": "text/x-python",
   "name": "python",
   "nbconvert_exporter": "python",
   "pygments_lexer": "ipython3",
   "version": "3.10.6"
  },
  "vscode": {
   "interpreter": {
    "hash": "2f414a000012e1980f5fd1119ed6b9bf8cc73b51e37b52eb52a16ff857effd1c"
   }
  }
 },
 "nbformat": 4,
 "nbformat_minor": 5
}
