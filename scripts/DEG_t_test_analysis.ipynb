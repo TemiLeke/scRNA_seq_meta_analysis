{
 "cells": [
  {
   "cell_type": "code",
   "execution_count": 1,
   "id": "62042f97-a76e-4b34-805f-3f1ac81e7288",
   "metadata": {},
   "outputs": [
    {
     "name": "stderr",
     "output_type": "stream",
     "text": [
      "Global seed set to 0\n",
      "/Users/temitopeleke/miniforge3/envs/scRNA_seq_meta_analysis/lib/python3.10/site-packages/pytorch_lightning/utilities/warnings.py:53: LightningDeprecationWarning: pytorch_lightning.utilities.warnings.rank_zero_deprecation has been deprecated in v1.6 and will be removed in v1.8. Use the equivalent function from the pytorch_lightning.utilities.rank_zero module instead.\n",
      "  new_rank_zero_deprecation(\n",
      "/Users/temitopeleke/miniforge3/envs/scRNA_seq_meta_analysis/lib/python3.10/site-packages/pytorch_lightning/utilities/warnings.py:58: LightningDeprecationWarning: The `pytorch_lightning.loggers.base.rank_zero_experiment` is deprecated in v1.7 and will be removed in v1.9. Please use `pytorch_lightning.loggers.logger.rank_zero_experiment` instead.\n",
      "  return new_rank_zero_deprecation(*args, **kwargs)\n",
      "/Users/temitopeleke/miniforge3/envs/scRNA_seq_meta_analysis/lib/python3.10/site-packages/phenograph/cluster.py:13: DeprecationWarning: Please use `spmatrix` from the `scipy.sparse` namespace, the `scipy.sparse.base` namespace is deprecated.\n",
      "  from scipy.sparse.base import spmatrix\n"
     ]
    }
   ],
   "source": [
    "import os\n",
    "import scvi\n",
    "import scgen\n",
    "import rpy2\n",
    "import scib\n",
    "import anndata\n",
    "import logging\n",
    "import warnings\n",
    "import anndata2ri\n",
    "import matplotlib\n",
    "import pandas as pd\n",
    "import scanpy as sc\n",
    "import numpy as np\n",
    "import seaborn as sb\n",
    "import scrublet as scr\n",
    "import doubletdetection\n",
    "from anndata import AnnData\n",
    "from tabnanny import verbose\n",
    "import matplotlib.pyplot as plt\n",
    "from os import PathLike, fspath\n",
    "import rpy2.robjects as robjects\n",
    "from rpy2.robjects import pandas2ri\n",
    "from matplotlib.pyplot import rcParams\n",
    "from functions.deg_functions import deg_analyses\n",
    "from statsmodels.stats.multitest import multipletests\n",
    "from sklearn.model_selection import train_test_split\n",
    "from pytorch_lightning.loggers import TensorBoardLogger\n",
    "from rpy2.robjects.conversion import localconverter"
   ]
  },
  {
   "cell_type": "code",
   "execution_count": 2,
   "id": "c36a2bac",
   "metadata": {},
   "outputs": [],
   "source": [
    "def get_sys_dpi(width, height, diag):\n",
    "    '''\n",
    "    obtain dpi of system\n",
    "    \n",
    "    w: width in pixels (if unsure, go vist `whatismyscreenresolution.net`)\n",
    "    h: height in pixels\n",
    "    d: diagonal in inches\n",
    "    '''\n",
    "    w_inches = (diag**2/ (1 + height**2/width**2))**0.5\n",
    "    return round(width/w_inches)"
   ]
  },
  {
   "cell_type": "code",
   "execution_count": 3,
   "id": "447b6d1c",
   "metadata": {},
   "outputs": [
    {
     "name": "stderr",
     "output_type": "stream",
     "text": [
      "/Users/temitopeleke/miniforge3/envs/scRNA_seq_meta_analysis/lib/python3.10/site-packages/rpy2/robjects/pandas2ri.py:356: DeprecationWarning: The global conversion available with activate() is deprecated and will be removed in the next major release. Use a local converter.\n",
      "  warnings.warn('The global conversion available with activate() '\n",
      "/Users/temitopeleke/miniforge3/envs/scRNA_seq_meta_analysis/lib/python3.10/site-packages/rpy2/robjects/numpy2ri.py:245: DeprecationWarning: The global conversion available with activate() is deprecated and will be removed in the next major release. Use a local converter.\n",
      "  warnings.warn('The global conversion available with activate() '\n",
      "/Users/temitopeleke/miniforge3/envs/scRNA_seq_meta_analysis/lib/python3.10/site-packages/rpy2/robjects/conversion.py:28: DeprecationWarning: The use of converter in module rpy2.robjects.conversion is deprecated. Use rpy2.robjects.conversion.get_conversion() instead of rpy2.robjects.conversion.converter.\n",
      "  warnings.warn(\n"
     ]
    },
    {
     "name": "stdout",
     "output_type": "stream",
     "text": [
      "-----\n",
      "anndata     0.8.0\n",
      "scanpy      1.9.1\n",
      "-----\n",
      "OpenSSL                     22.0.0\n",
      "PIL                         9.2.0\n",
      "absl                        NA\n",
      "adjustText                  NA\n",
      "anndata2ri                  1.1\n",
      "appnope                     0.1.2\n",
      "asttokens                   NA\n",
      "astunparse                  1.6.3\n",
      "attr                        21.4.0\n",
      "backcall                    0.2.0\n",
      "beta_ufunc                  NA\n",
      "binom_ufunc                 NA\n",
      "boto3                       1.26.32\n",
      "botocore                    1.29.32\n",
      "bottleneck                  1.3.5\n",
      "brotli                      NA\n",
      "certifi                     2022.09.24\n",
      "cffi                        1.15.1\n",
      "chex                        0.1.5\n",
      "cloudpickle                 2.2.0\n",
      "colorama                    0.4.4\n",
      "contextlib2                 NA\n",
      "cryptography                38.0.1\n",
      "cycler                      0.10.0\n",
      "cython_runtime              NA\n",
      "dask                        2022.11.0\n",
      "dateutil                    2.8.2\n",
      "debugpy                     1.5.1\n",
      "decorator                   5.1.1\n",
      "decoupler                   1.4.0\n",
      "defusedxml                  0.7.1\n",
      "deprecate                   0.3.2\n",
      "deprecated                  1.2.13\n",
      "docrep                      0.3.2\n",
      "doubletdetection            4.2\n",
      "entrypoints                 0.4\n",
      "executing                   0.8.3\n",
      "flax                        0.6.1\n",
      "fsspec                      2022.10.0\n",
      "functions                   NA\n",
      "google                      NA\n",
      "gsva_prep                   NA\n",
      "h5py                        3.7.0\n",
      "hypergeom_ufunc             NA\n",
      "igraph                      0.10.2\n",
      "ipykernel                   6.15.2\n",
      "ipython_genutils            0.2.0\n",
      "ipywidgets                  7.6.5\n",
      "jax                         0.3.24\n",
      "jaxlib                      0.3.24\n",
      "jedi                        0.18.1\n",
      "jinja2                      3.1.2\n",
      "jmespath                    1.0.1\n",
      "joblib                      1.1.1\n",
      "kiwisolver                  1.4.2\n",
      "leidenalg                   0.9.0\n",
      "llvmlite                    0.39.1\n",
      "louvain                     0.8.0\n",
      "markupsafe                  2.1.1\n",
      "matplotlib                  3.5.3\n",
      "ml_collections              NA\n",
      "mpl_toolkits                NA\n",
      "msgpack                     1.0.3\n",
      "mudata                      0.1.2\n",
      "multipledispatch            0.6.0\n",
      "natsort                     7.1.1\n",
      "nbinom_ufunc                NA\n",
      "ncf_ufunc                   NA\n",
      "numba                       0.56.3\n",
      "numexpr                     2.8.3\n",
      "numpy                       1.23.3\n",
      "numpyro                     0.10.1\n",
      "opt_einsum                  v3.3.0\n",
      "optax                       0.1.3\n",
      "packaging                   21.3\n",
      "pandas                      1.4.4\n",
      "parso                       0.8.3\n",
      "pexpect                     4.8.0\n",
      "phenograph                  1.5.7\n",
      "pickleshare                 0.7.5\n",
      "pkg_resources               NA\n",
      "prompt_toolkit              3.0.20\n",
      "psutil                      5.9.0\n",
      "ptyprocess                  0.7.0\n",
      "pure_eval                   0.2.2\n",
      "pyarrow                     11.0.0\n",
      "pycparser                   2.21\n",
      "pydev_ipython               NA\n",
      "pydevconsole                NA\n",
      "pydevd                      2.6.0\n",
      "pydevd_concurrency_analyser NA\n",
      "pydevd_file_utils           NA\n",
      "pydevd_plugins              NA\n",
      "pydevd_tracing              NA\n",
      "pygments                    2.13.0\n",
      "pyparsing                   3.0.9\n",
      "pyro                        1.8.2+2e3bd02\n",
      "pytorch_lightning           1.7.7\n",
      "pytz                        2022.1\n",
      "pytz_deprecation_shim       NA\n",
      "rich                        NA\n",
      "rpy2                        3.5.10\n",
      "scgen                       2.1.0\n",
      "scib                        1.0.4\n",
      "scipy                       1.9.3\n",
      "scrublet                    NA\n",
      "scvi                        0.19.0\n",
      "seaborn                     0.11.2\n",
      "session_info                1.0.0\n",
      "setuptools                  65.6.3\n",
      "six                         1.16.0\n",
      "sklearn                     1.1.3\n",
      "sparse                      0.13.0\n",
      "stack_data                  0.2.0\n",
      "statsmodels                 0.13.5\n",
      "tensorboard                 2.10.1\n",
      "texttable                   1.6.4\n",
      "threadpoolctl               2.2.0\n",
      "tlz                         0.12.0\n",
      "toolz                       0.12.0\n",
      "torch                       1.12.1\n",
      "torchmetrics                0.10.2\n",
      "tornado                     6.2\n",
      "tqdm                        4.64.1\n",
      "traitlets                   5.1.1\n",
      "tree                        0.1.7\n",
      "typing_extensions           NA\n",
      "tzlocal                     NA\n",
      "urllib3                     1.26.12\n",
      "wcwidth                     0.2.5\n",
      "wrapt                       1.14.1\n",
      "yaml                        5.4.1\n",
      "zmq                         23.2.0\n",
      "zoneinfo                    NA\n",
      "-----\n",
      "IPython             8.6.0\n",
      "jupyter_client      7.3.5\n",
      "jupyter_core        4.11.2\n",
      "notebook            6.4.12\n",
      "-----\n",
      "Python 3.10.6 | packaged by conda-forge | (main, Aug 22 2022, 20:41:22) [Clang 13.0.1 ]\n",
      "macOS-13.0.1-arm64-arm-64bit\n",
      "-----\n",
      "Session information updated at 2023-04-18 17:42\n"
     ]
    }
   ],
   "source": [
    "# # Ignore R warning messages\n",
    "#Note: this can be commented out to get more verbose R output\n",
    "rpy2.rinterface_lib.callbacks.logger.setLevel(logging.ERROR)\n",
    "\n",
    "# # Automatically convert rpy2 outputs to pandas dataframes\n",
    "# pandas2ri.activate()\n",
    "# anndata2ri.activate()\n",
    "# %load_ext rpy2.ipython\n",
    "\n",
    "warnings.filterwarnings(\"ignore\", category=PendingDeprecationWarning)\n",
    "warnings.filterwarnings(\"ignore\", category=UserWarning)\n",
    "warnings.filterwarnings(\"ignore\", category=FutureWarning)\n",
    "\n",
    "# Automatically convert rpy2 outputs to pandas dataframes\n",
    "pandas2ri.activate()\n",
    "anndata2ri.activate()\n",
    "%load_ext rpy2.ipython\n",
    "\n",
    "rcParams['figure.dpi'] = get_sys_dpi(1512, 982, 14.125)\n",
    "#rcParams['figure.figsize']=(4,4) #rescale figures\n",
    "\n",
    "sc.settings.verbosity = 3\n",
    "#sc.set_figure_params(dpi=200, dpi_save=300)\n",
    "sc.logging.print_versions()\n",
    "\n"
   ]
  },
  {
   "cell_type": "markdown",
   "id": "a1a6a687-9397-4cce-809f-0bca4c0072f6",
   "metadata": {},
   "source": [
    "## Table of contents:\n",
    "\n",
    "  * <a href=#Reading>1. Reading in the data</a>\n",
    "  * <a href=#Preprocessing>2. Systematic differential analysis of gene expression</a>"
   ]
  },
  {
   "attachments": {},
   "cell_type": "markdown",
   "id": "10be21f0-000d-48d7-9e97-4051ec9da0bd",
   "metadata": {},
   "source": [
    "# **1. Reading in the data**"
   ]
  },
  {
   "attachments": {},
   "cell_type": "markdown",
   "id": "d40204d0-56d5-4984-a2af-1075b64098f1",
   "metadata": {},
   "source": [
    "### **Prepare data**\n",
    "\n",
    "Now, we load the preprocessed and annotated data for downstream analysis."
   ]
  },
  {
   "cell_type": "code",
   "execution_count": 4,
   "id": "e763f1ce",
   "metadata": {},
   "outputs": [
    {
     "data": {
      "text/plain": [
       "AnnData object with n_obs × n_vars = 70310 × 16571\n",
       "    obs: 'projid', 'tsne1', 'tsne2', 'pre.cluster', 'broad.cell.type', 'Subcluster', 'fastq', 'Subject', 'sample', 'libraryid', 'study', 'age_death', 'educ', 'msex_x', 'gpath_x', 'amyloid_x', 'plaq_n_x', 'cogdx_x', 'pathologic diagnosis of AD', 'amyloid_y', 'plaq_n_y', 'nft', 'tangles', 'cogn_global_lv', 'gpath_y', 'gpath_3neocort', 'amyloid.group', 'caa_4gp', 'ceradsc', 'braaksc', 'niareagansc', 'cogdx_y', 'msex_y', 'pathology.group', 'sampleid', 'cell_type', 'n_genes_by_counts', 'total_counts', 'pct_counts_in_top_50_genes', 'total_counts_mt', 'pct_counts_mt', 'n_genes', 'doublet_score', 'predicted_doublet', 'louvain_0.5', 'louvain_1.0', 'predictions'\n",
       "    var: 'mt', 'n_cells_by_counts', 'mean_counts', 'pct_dropout_by_counts', 'total_counts', 'n_cells', 'highly_variable', 'means', 'dispersions', 'dispersions_norm', 'mean', 'std'\n",
       "    uns: 'Subject_colors', 'amyloid.group_colors', 'braaksc_colors', 'cell_type_colors', 'dendrogram_louvain_0.5', 'hvg', 'log1p', 'louvain', 'louvain_0.5_colors', 'louvain_1.0_colors', 'msex_x_colors', 'neighbors', 'ov_t_test_rank_genes_0.5', 'pathology.group_colors', 'pca', 'predicted_doublet_colors', 'scrublet', 't_test_rank_genes_0.5', 'tsne', 'umap'\n",
       "    obsm: 'X_pca', 'X_scANVI', 'X_tsne', 'X_umap'\n",
       "    varm: 'PCs'\n",
       "    layers: 'counts'\n",
       "    obsp: 'connectivities', 'distances'"
      ]
     },
     "execution_count": 4,
     "metadata": {},
     "output_type": "execute_result"
    }
   ],
   "source": [
    "save_prefix = 'mathys_pfc'\n",
    "\n",
    "adata_annot = sc.read_h5ad(f'../data/processed/{save_prefix}/{save_prefix}_mapped_anndata.h5ad')\n",
    "#adata_annot.obs['cell_type'] = adata_annot.obs['predictions'].copy()\n",
    "#adata_annot = adata_annot[:, adata_annot.var.highly_variable==\"True\"]\n",
    "adata_annot\n"
   ]
  },
  {
   "attachments": {},
   "cell_type": "markdown",
   "id": "b4146286",
   "metadata": {},
   "source": [
    "### **Prepare metadata**\n",
    "\n",
    "Now we specify other related information\n",
    "\n",
    "Specify the following:\n",
    "\n",
    "- `metadata`: Path to metadata. Metadata must contain a column called `pathology.group` with the only unique groups being `no`, `early`, and `late`.\n",
    "\n",
    "- `map_meta`: whether to map metadata to obtain `pathology.group`. If False, it will be assumed that `pathology.group` exist in `adata.obs`\n",
    "\n",
    "- `reference_group`: Name of control group in metadata. This should ideally be `no`, representing the control group \n",
    "\n",
    "- `test_groups`: A list of the name of the group(s) in metadata/ `.obs` that should be treated as the test groups.d \n",
    "\n",
    "- `save_prefix`: Prefix for saving critical files. preferably chosen to be in the format `{source name}_{brain region}`. e.g `mathys_pfc`\n",
    "\n",
    "- `filter_genes`: Specifies whether to filter genes using `gene_celltype_threshold` before before performing differential expression tests\n",
    "\n",
    "- `grouped_test`: Specifies whether `early-` and `late-` pathology group should be grouped into `ad-pathology`. This should ideally be only set to `True` when `reference_group = no` and `test_groups = [late, early]`\n",
    "\n",
    "        "
   ]
  },
  {
   "cell_type": "code",
   "execution_count": 5,
   "id": "b0c74c19",
   "metadata": {},
   "outputs": [],
   "source": [
    "map_meta = True\n",
    "filter_genes = True\n",
    "grouped_test = False\n",
    "metadata = f'../data/raw/{save_prefix}/{save_prefix}_metadata.csv'\n",
    "reference_group = 'early'                # name of the control group in metadata \n",
    "subject_id = 'Subject'                # for leng this is `PatientID` for mathys is 'Subject'\n",
    "test_groups = ['late']      \n",
    "gene_celltype_threshold = 0.05        # determines number of cells the gene must be expressed in"
   ]
  },
  {
   "attachments": {},
   "cell_type": "markdown",
   "id": "a5d8a01b",
   "metadata": {},
   "source": [
    "## 2.4 Systematic differential analysis of gene expression\n",
    "\n",
    "[**Hansruedi Mathys et. al.**](https://doi.org/10.1038/s41586-019-1195-2) compared gene expression levels between `AD-pathology and no-pathology individuals in a cell type manner. The differential expression analysis was assessed using two tests. \n",
    "\n",
    "- **First**, a cell-level analysis was performed using the Wilcoxon rank-sum test and FDR multiple-testing correction (`FDR-adjusted p-values`). \n",
    "\n",
    "- **Second**, a Poisson mixed model accounting for the individual of origin for nuclei and for unwanted sources of variability was performed using the R packages `lme4` and `RUV-seq`, respectively.\n",
    "\n",
    "\n",
    "Next, we use the ` Wilcoxon rank-sum test` in `scapany.tl.rank_genes_group` comparing `AD-pathology` group to `no-pathology` such that the log foldchange is ;\n",
    "\n",
    "$$ Log_{2} ({Mean\\ Gene\\ Expression\\ in\\ AD\\ category\\ of\\ Cell\\ Type\\ x \\over Mean\\ Gene\\ Expression\\ in\\ Normal\\ category\\ of\\ Cell\\ Type\\ x})$$\n"
   ]
  },
  {
   "cell_type": "markdown",
   "id": "c568575c",
   "metadata": {},
   "source": [
    "##### Group Cells (Pathology / No-Pathology)"
   ]
  },
  {
   "cell_type": "code",
   "execution_count": 6,
   "id": "df0e4df1",
   "metadata": {},
   "outputs": [],
   "source": [
    "adata_annot = deg_analyses.prep_anndata(adata_annot, map_meta, metadata, \n",
    "                                        reference_group, test_groups, subject_id,\n",
    "                                        grouped_test)"
   ]
  },
  {
   "attachments": {},
   "cell_type": "markdown",
   "id": "3830d142",
   "metadata": {},
   "source": [
    "##### Cell-type Differential Expression with Wilcoxon Rank-Sum Test\n",
    "\n",
    "\n",
    "To perform the differential expression between conditions within cell-clusters, we subset the full data set into cluster-specific data sets. These cluster subsets are filtered to only include genes that are expressed in the data to reduce the multiple testing burdeN. Importantly, we normalize and log transform the count matrix (stored in `adata.layers`) in a cell-type-specific manner, since each cell-group is tested independently. Finally we define the model we are testing, run the test, and postprocess the results."
   ]
  },
  {
   "cell_type": "code",
   "execution_count": 7,
   "id": "64fddc81",
   "metadata": {},
   "outputs": [
    {
     "name": "stdout",
     "output_type": "stream",
     "text": [
      "\n",
      "filtered out 7108 genes that are detected in less than 1739.6000000000001 cells\n",
      "evaluating differential expression in Excitatory...\n",
      "ranking genes\n",
      "    finished: added to `.uns['wilcoxon_test_pathology']`\n",
      "    'names', sorted np.recarray to be indexed by group ids\n",
      "    'scores', sorted np.recarray to be indexed by group ids\n",
      "    'logfoldchanges', sorted np.recarray to be indexed by group ids\n",
      "    'pvals', sorted np.recarray to be indexed by group ids\n",
      "    'pvals_adj', sorted np.recarray to be indexed by group ids (0:00:13)\n",
      "\n",
      "filtered out 8497 genes that are detected in less than 455.35 cells\n",
      "evaluating differential expression in Inhibitory...\n",
      "ranking genes\n",
      "    finished: added to `.uns['wilcoxon_test_pathology']`\n",
      "    'names', sorted np.recarray to be indexed by group ids\n",
      "    'scores', sorted np.recarray to be indexed by group ids\n",
      "    'logfoldchanges', sorted np.recarray to be indexed by group ids\n",
      "    'pvals', sorted np.recarray to be indexed by group ids\n",
      "    'pvals_adj', sorted np.recarray to be indexed by group ids (0:00:02)\n",
      "\n",
      "filtered out 13623 genes that are detected in less than 95.75 cells\n",
      "evaluating differential expression in Microglia...\n",
      "ranking genes\n",
      "    finished: added to `.uns['wilcoxon_test_pathology']`\n",
      "    'names', sorted np.recarray to be indexed by group ids\n",
      "    'scores', sorted np.recarray to be indexed by group ids\n",
      "    'logfoldchanges', sorted np.recarray to be indexed by group ids\n",
      "    'pvals', sorted np.recarray to be indexed by group ids\n",
      "    'pvals_adj', sorted np.recarray to be indexed by group ids (0:00:00)\n",
      "\n",
      "filtered out 13039 genes that are detected in less than 911.3000000000001 cells\n",
      "evaluating differential expression in Oligodendrocyte...\n",
      "ranking genes\n",
      "    finished: added to `.uns['wilcoxon_test_pathology']`\n",
      "    'names', sorted np.recarray to be indexed by group ids\n",
      "    'scores', sorted np.recarray to be indexed by group ids\n",
      "    'logfoldchanges', sorted np.recarray to be indexed by group ids\n",
      "    'pvals', sorted np.recarray to be indexed by group ids\n",
      "    'pvals_adj', sorted np.recarray to be indexed by group ids (0:00:02)\n",
      "\n",
      "filtered out 10206 genes that are detected in less than 130.45000000000002 cells\n",
      "evaluating differential expression in OPC...\n",
      "ranking genes\n",
      "    finished: added to `.uns['wilcoxon_test_pathology']`\n",
      "    'names', sorted np.recarray to be indexed by group ids\n",
      "    'scores', sorted np.recarray to be indexed by group ids\n",
      "    'logfoldchanges', sorted np.recarray to be indexed by group ids\n",
      "    'pvals', sorted np.recarray to be indexed by group ids\n",
      "    'pvals_adj', sorted np.recarray to be indexed by group ids (0:00:00)\n",
      "\n",
      "filtered out 11028 genes that are detected in less than 168.8 cells\n",
      "evaluating differential expression in Astrocyte...\n",
      "ranking genes\n",
      "    finished: added to `.uns['wilcoxon_test_pathology']`\n",
      "    'names', sorted np.recarray to be indexed by group ids\n",
      "    'scores', sorted np.recarray to be indexed by group ids\n",
      "    'logfoldchanges', sorted np.recarray to be indexed by group ids\n",
      "    'pvals', sorted np.recarray to be indexed by group ids\n",
      "    'pvals_adj', sorted np.recarray to be indexed by group ids (0:00:00)\n",
      "\n",
      "filtered out 11791 genes that are detected in less than 14.25 cells\n",
      "evaluating differential expression in Endothelial...\n",
      "ranking genes\n",
      "    finished: added to `.uns['wilcoxon_test_pathology']`\n",
      "    'names', sorted np.recarray to be indexed by group ids\n",
      "    'scores', sorted np.recarray to be indexed by group ids\n",
      "    'logfoldchanges', sorted np.recarray to be indexed by group ids\n",
      "    'pvals', sorted np.recarray to be indexed by group ids\n",
      "    'pvals_adj', sorted np.recarray to be indexed by group ids (0:00:00)\n"
     ]
    }
   ],
   "source": [
    "adata_sub = deg_analyses.wilcoxon_de(adata_annot, reference_group, norm_method = 'actionet', filter=True,\n",
    "                                    filter_by = 'prop', filter_thresh = 0.05, test_layer=None, grouped_test=grouped_test)"
   ]
  },
  {
   "attachments": {},
   "cell_type": "markdown",
   "id": "0f84051c",
   "metadata": {},
   "source": [
    "Reported DEGs\n",
    "\n",
    "Next, we load the reported DEGs from [**Hansruedi Mathys et. al.**](https://doi.org/10.1038/s41586-019-1195-2) for comparison in a later step"
   ]
  },
  {
   "cell_type": "code",
   "execution_count": 8,
   "id": "f184cab2",
   "metadata": {},
   "outputs": [],
   "source": [
    "mathys_degs = {}\n",
    "for key in adata_sub.keys():\n",
    "    try:\n",
    "        mathys_degs[key] = pd.read_excel(f'../data/raw/mathys_pfc_from_paper/degs/ad_vs_no/{key.lower()}_degs.xlsx')\n",
    "        mathys_degs[key].rename({'Unnamed: 0': 'names'}, inplace=True)\n",
    "        mathys_degs[key]['IndModel.absFC'] = np.abs(mathys_degs[key]['IndModel.FC'])\n",
    "\n",
    "    except FileNotFoundError:\n",
    "        continue"
   ]
  },
  {
   "attachments": {},
   "cell_type": "markdown",
   "id": "af2d3683",
   "metadata": {},
   "source": [
    "T-test\n",
    "\n",
    "Next, we package the test results into a presentable format, annotating genes as `up-` or `down-` regulated, and ranking genes according to `adjusted p-values`."
   ]
  },
  {
   "cell_type": "code",
   "execution_count": 9,
   "id": "2570fc52",
   "metadata": {},
   "outputs": [],
   "source": [
    "degs_t_test = deg_analyses.get_degs(adata_sub, grouped_test, reference_group, test_groups, save_prefix)"
   ]
  },
  {
   "attachments": {},
   "cell_type": "markdown",
   "id": "6d09ac41",
   "metadata": {},
   "source": [
    "#### **OPTIONAL: Using custom script**"
   ]
  },
  {
   "cell_type": "code",
   "execution_count": null,
   "id": "e2433b09",
   "metadata": {},
   "outputs": [],
   "source": [
    "# import numpy as np\n",
    "# import pandas as pd\n",
    "# import scanpy as sc\n",
    "# from scipy.stats import wilcoxon\n",
    "# from statsmodels.stats.multitest import fdrcorrection\n",
    "\n",
    "# def scRNA_diff_run_wilcox_test(adata, group_key):\n",
    "#     group = adata.obs[group_key]\n",
    "#     # remove genes that aren't expressed in at least 10 cells\n",
    "#     sc.pp.filter_genes(adata, min_cells=10)\n",
    "#     # Library size normalization\n",
    "#     sc.pp.normalize_total(adata, target_sum=1e4)\n",
    "#     # Perform Wilcoxon rank-sum test and get p-values\n",
    "#     pvals = np.apply_along_axis(lambda x: wilcoxon(x[group == np.unique(group)[0]],\n",
    "#                                                     x[group == np.unique(group)[1]]).pvalue,\n",
    "#                                 axis=1, arr=adata.X)\n",
    "#     # multiple testing correction\n",
    "#     pvals_adj = fdrcorrection(pvals, alpha=0.05)[1]\n",
    "#     # Compute mean expression values for each group\n",
    "#     group_means = adata[:, group_key].X.mean(axis=1)\n",
    "#     # Compute fold change\n",
    "#     fc = np.log2(group_means[:, 0] + 1e-8) - np.log2(group_means[:, 1] + 1e-8)\n",
    "#     # Create a DataFrame with gene names, adjusted p-values, mean expression values and fold change\n",
    "#     result_df = pd.DataFrame({'gene.name': adata.var_names,\n",
    "#                               'adj.pvals': pvals_adj,\n",
    "#                               'temp.mean': group_means.ravel(),\n",
    "#                               'FC': fc})\n",
    "#     # Order the DataFrame by adjusted p-values\n",
    "#     result_df = result_df.sort_values('adj.pvals')\n",
    "#     return result_df\n"
   ]
  },
  {
   "cell_type": "code",
   "execution_count": null,
   "id": "2e386655",
   "metadata": {},
   "outputs": [],
   "source": [
    "# degs_t_test2 = {}\n",
    "# for cell_type in adata_annot.obs.cell_type.unique():\n",
    "#     adata = adata_annot[adata_annot.obs.cell_type == cell_type].copy()\n",
    "#     adata.X = adata.layers['counts'].toarray() \n",
    "#     degs_t_test2[cell_type] = scRNA_diff_run_wilcox_test(adata, 'disease_group')"
   ]
  },
  {
   "cell_type": "markdown",
   "id": "c5b076c9",
   "metadata": {},
   "source": [
    "The authors assessed the consistency of DEGs detected using the cell-level analysis model (`Wilcoxon rank-sum test`) with those obtained with the Poisson mixed model (`lme4` combined with `RUV-seq`) by comparing the directionality and rank of DEGs in the two models. Considering the technical challenges, of using these packages, we instead benchmark the `rank-sum test` results against `MAST`, a generalized linear model for modelling scRNA-seq data in R, developed by [**Finak, G. et. al. 2015**](https://genomebiology.biomedcentral.com/articles/10.1186/s13059-015-0844-5). In addition to accounting for the the sample (`Subject`) of origin for each nuclei, we include the cellular detection rate, the fraction of genes expressed in a cell as a sources of unwanted variation/variability. Sveral benchmarking studies have shown that MAST is comparitvely better than other methods for scRNA-seq differential expression testing and is a commonly used tool in scRNA-seq analysis. Thus, We perform differential testing using the `MAST package`. \n",
    "\n",
    "Since MAST is only available in R, we convert our AnnData object into an R object via `anndata2ri`. MAST requires its own data input format, `SingleCellAssy` instead of the `SingleCellExperiment` object produced by the `anndata2ri` conversion. So, to run MAST we thus first put the data into the SingleCellExperiment format, then convert the SCE object into MAST's expected SingleCellAssay (sca) object. "
   ]
  },
  {
   "cell_type": "markdown",
   "id": "6da78c91",
   "metadata": {},
   "source": [
    "#### MAST implementation details\n",
    "\n",
    "Here, we perform differential testing for AD-pathology vs No-pathology `disease_group`s in each of the cell clusters. Since `MAST` incorporates a zero-inflated negative binomial model tests for differential expression using a hurdle model, it can be very computationally intensive for large data sizes. To remedy this, `we randomly split each data in a stratified manner to inlude <5000 cells across both conditions` while retaining the relative proportion of cells in both test groups (AD-pathology vs No-pathology). This is expected to retain the expression patterns in both tests groups, while speeding up computation\n",
    "\n",
    "In the generalized linear mixed model (specified and fit with the `zlm()` function), we include the test covariate `disease_group` (AD-pathology vs No-pathology), the `Subject` ID (ROS1 -- ROS48), and the number of genes in the cells, reculated from the log normalized values stored in `adata.layers['log']`. The `Subject` IDs are included as random effects to account for unwanted variability/effects due to individual nuclei orgin, mouse-specific that may confound our results. The number of genes is added to fit the technical variability.\n",
    "\n",
    "To test for differences over the `disease_group` covariate we perform a likelihood ratio test (in the `summary()` function call after fitting the model). \n",
    "\n",
    "In post-processing we correct for multiple testing using a Benjamini-Hochberg FDR correction (function `p.adjust()`) and map the Ensembl Gene IDs to gene symbols which are easier to read and interpret."
   ]
  },
  {
   "attachments": {},
   "cell_type": "markdown",
   "id": "c8e6b730",
   "metadata": {},
   "source": [
    "We provide python implementation of MAST which can run inline in the `mixed_model_DEG_analysis.ipynb` notebook  "
   ]
  }
 ],
 "metadata": {
  "kernelspec": {
   "display_name": "scRNA_seq_meta_analysis",
   "language": "python",
   "name": "python3"
  },
  "language_info": {
   "codemirror_mode": {
    "name": "ipython",
    "version": 3
   },
   "file_extension": ".py",
   "mimetype": "text/x-python",
   "name": "python",
   "nbconvert_exporter": "python",
   "pygments_lexer": "ipython3",
   "version": "3.10.6"
  },
  "vscode": {
   "interpreter": {
    "hash": "2f414a000012e1980f5fd1119ed6b9bf8cc73b51e37b52eb52a16ff857effd1c"
   }
  }
 },
 "nbformat": 4,
 "nbformat_minor": 5
}
