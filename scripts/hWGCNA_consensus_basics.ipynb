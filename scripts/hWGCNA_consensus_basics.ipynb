{
 "cells": [
  {
   "cell_type": "code",
   "execution_count": 1,
   "id": "62042f97-a76e-4b34-805f-3f1ac81e7288",
   "metadata": {},
   "outputs": [],
   "source": [
    "import rpy2\n",
    "import scipy\n",
    "import logging\n",
    "import warnings\n",
    "import anndata\n",
    "import anndata2ri\n",
    "import pandas as pd\n",
    "import scanpy as sc\n",
    "import numpy as np\n",
    "import seaborn as sb\n",
    "import decoupler as dc\n",
    "import scrublet as scr\n",
    "import decoupler as dc\n",
    "from scipy import sparse\n",
    "from anndata import AnnData\n",
    "from tabnanny import verbose\n",
    "import matplotlib.pyplot as plt\n",
    "from gsva_prep import prep_gsva\n",
    "import rpy2.robjects as robjects\n",
    "from rpy2.robjects import pandas2ri\n",
    "from typing import Optional, Union\n",
    "from matplotlib.pyplot import rcParams\n",
    "from functions import pathway_analyses\n",
    "from statsmodels.stats.multitest import multipletests\n",
    "from sklearn.model_selection import train_test_split\n",
    "from pytorch_lightning.loggers import TensorBoardLogger\n",
    "from rpy2.robjects.conversion import localconverter"
   ]
  },
  {
   "cell_type": "code",
   "execution_count": 2,
   "id": "c36a2bac",
   "metadata": {},
   "outputs": [],
   "source": [
    "def get_sys_dpi(width, height, diag):\n",
    "    '''\n",
    "    obtain dpi of system\n",
    "    \n",
    "    w: width in pixels (if unsure, go vist `whatismyscreenresolution.net`)\n",
    "    h: height in pixels\n",
    "    d: diagonal in inches\n",
    "    '''\n",
    "    w_inches = (diag**2/ (1 + height**2/width**2))**0.5\n",
    "    return round(width/w_inches)"
   ]
  },
  {
   "cell_type": "code",
   "execution_count": 3,
   "id": "447b6d1c",
   "metadata": {},
   "outputs": [
    {
     "name": "stdout",
     "output_type": "stream",
     "text": [
      "-----\n",
      "anndata     0.8.0\n",
      "scanpy      1.9.1\n",
      "-----\n",
      "OpenSSL                     22.0.0\n",
      "PIL                         9.2.0\n",
      "absl                        NA\n",
      "anndata2ri                  1.1\n",
      "appnope                     0.1.2\n",
      "asttokens                   NA\n",
      "astunparse                  1.6.3\n",
      "attr                        21.4.0\n",
      "backcall                    0.2.0\n",
      "beta_ufunc                  NA\n",
      "binom_ufunc                 NA\n",
      "boto3                       1.26.32\n",
      "botocore                    1.29.32\n",
      "bottleneck                  1.3.5\n",
      "brotli                      NA\n",
      "certifi                     2022.09.24\n",
      "cffi                        1.15.1\n",
      "cloudpickle                 2.2.0\n",
      "colorama                    0.4.4\n",
      "cryptography                38.0.1\n",
      "cycler                      0.10.0\n",
      "cython_runtime              NA\n",
      "dask                        2022.11.0\n",
      "dateutil                    2.8.2\n",
      "debugpy                     1.5.1\n",
      "decorator                   5.1.1\n",
      "decoupler                   1.4.0\n",
      "defusedxml                  0.7.1\n",
      "deprecate                   0.3.2\n",
      "entrypoints                 0.4\n",
      "executing                   0.8.3\n",
      "fsspec                      2022.10.0\n",
      "functions                   NA\n",
      "google                      NA\n",
      "gsva_prep                   NA\n",
      "h5py                        3.7.0\n",
      "hypergeom_ufunc             NA\n",
      "igraph                      0.10.2\n",
      "ipykernel                   6.15.2\n",
      "ipython_genutils            0.2.0\n",
      "ipywidgets                  7.6.5\n",
      "jedi                        0.18.1\n",
      "jinja2                      3.1.2\n",
      "jmespath                    1.0.1\n",
      "joblib                      1.1.1\n",
      "kiwisolver                  1.4.2\n",
      "leidenalg                   0.9.0\n",
      "llvmlite                    0.39.1\n",
      "louvain                     0.8.0\n",
      "markupsafe                  2.1.1\n",
      "matplotlib                  3.5.3\n",
      "mpl_toolkits                NA\n",
      "natsort                     7.1.1\n",
      "nbinom_ufunc                NA\n",
      "ncf_ufunc                   NA\n",
      "numba                       0.56.3\n",
      "numexpr                     2.8.3\n",
      "numpy                       1.23.3\n",
      "packaging                   21.3\n",
      "pandas                      1.4.4\n",
      "parso                       0.8.3\n",
      "pexpect                     4.8.0\n",
      "pickleshare                 0.7.5\n",
      "pkg_resources               NA\n",
      "prompt_toolkit              3.0.20\n",
      "psutil                      5.9.0\n",
      "ptyprocess                  0.7.0\n",
      "pure_eval                   0.2.2\n",
      "pyarrow                     11.0.0\n",
      "pycparser                   2.21\n",
      "pydev_ipython               NA\n",
      "pydevconsole                NA\n",
      "pydevd                      2.6.0\n",
      "pydevd_concurrency_analyser NA\n",
      "pydevd_file_utils           NA\n",
      "pydevd_plugins              NA\n",
      "pydevd_tracing              NA\n",
      "pygments                    2.13.0\n",
      "pyparsing                   3.0.9\n",
      "pytorch_lightning           1.7.7\n",
      "pytz                        2022.1\n",
      "pytz_deprecation_shim       NA\n",
      "rich                        NA\n",
      "rpy2                        3.5.10\n",
      "scipy                       1.9.3\n",
      "scrublet                    NA\n",
      "seaborn                     0.11.2\n",
      "session_info                1.0.0\n",
      "setuptools                  65.6.3\n",
      "six                         1.16.0\n",
      "sklearn                     1.1.3\n",
      "sparse                      0.13.0\n",
      "stack_data                  0.2.0\n",
      "statsmodels                 0.13.5\n",
      "tensorboard                 2.10.1\n",
      "texttable                   1.6.4\n",
      "threadpoolctl               2.2.0\n",
      "tlz                         0.12.0\n",
      "toolz                       0.12.0\n",
      "torch                       1.12.1\n",
      "torchmetrics                0.10.2\n",
      "tornado                     6.2\n",
      "tqdm                        4.64.1\n",
      "traitlets                   5.1.1\n",
      "typing_extensions           NA\n",
      "tzlocal                     NA\n",
      "urllib3                     1.26.12\n",
      "wcwidth                     0.2.5\n",
      "yaml                        5.4.1\n",
      "zmq                         23.2.0\n",
      "zoneinfo                    NA\n",
      "-----\n",
      "IPython             8.6.0\n",
      "jupyter_client      7.3.5\n",
      "jupyter_core        4.11.2\n",
      "notebook            6.4.12\n",
      "-----\n",
      "Python 3.10.6 | packaged by conda-forge | (main, Aug 22 2022, 20:41:22) [Clang 13.0.1 ]\n",
      "macOS-13.0.1-arm64-arm-64bit\n",
      "-----\n",
      "Session information updated at 2023-06-15 15:37\n"
     ]
    }
   ],
   "source": [
    "# # Ignore R warning messages\n",
    "#Note: this can be commented out to get more verbose R output\n",
    "rpy2.rinterface_lib.callbacks.logger.setLevel(logging.ERROR)\n",
    "\n",
    "# # Automatically convert rpy2 outputs to pandas dataframes\n",
    "# pandas2ri.activate()\n",
    "# anndata2ri.activate()\n",
    "# %load_ext rpy2.ipython\n",
    "\n",
    "warnings.filterwarnings(\"ignore\", category=PendingDeprecationWarning)\n",
    "warnings.filterwarnings(\"ignore\", category=UserWarning)\n",
    "warnings.filterwarnings(\"ignore\", category=FutureWarning)\n",
    "\n",
    "# Automatically convert rpy2 outputs to pandas dataframes\n",
    "pandas2ri.activate()\n",
    "anndata2ri.activate()\n",
    "%load_ext rpy2.ipython\n",
    "\n",
    "rcParams['figure.dpi'] = get_sys_dpi(1512, 982, 14.125)\n",
    "#rcParams['figure.figsize']=(4,4) #rescale figures\n",
    "\n",
    "sc.settings.verbosity = 3\n",
    "#sc.set_figure_params(dpi=200, dpi_save=300)\n",
    "sc.logging.print_versions()\n",
    "\n"
   ]
  },
  {
   "attachments": {},
   "cell_type": "markdown",
   "id": "10be21f0-000d-48d7-9e97-4051ec9da0bd",
   "metadata": {},
   "source": [
    "# **Consensus network analysis**"
   ]
  },
  {
   "attachments": {},
   "cell_type": "markdown",
   "id": "2fb39a9a",
   "metadata": {},
   "source": [
    "Here, we perform consensus co-expression network analysis using `hdWGCNA`. \n",
    "\n",
    "Consensus co-expression network analysis differs from the standard co-expression network analysis workflow by `constructing individual networks across distinct datasets`, and `then computing an integrated co-expression network`. \n",
    "\n",
    "This framework can be used to `identify networks that are conserved across a variety of biological conditions`, and it can also be used as a way to construct a unified network from any number of different datasets. \n",
    "\n",
    "Here, use this framework to identify consensus coexpression network of genes across celltypes (from the three studies) in AD.\n",
    "\n",
    "- [**Morabito et al. bioRxiv 2022**](https://www.biorxiv.org/content/10.1101/2022.09.22.509094v1)\n",
    "- [**Morabito & Miyoshi et al. Nature Genetics 2021**](https://www.nature.com/articles/s41588-021-00894-z)\n"
   ]
  },
  {
   "cell_type": "code",
   "execution_count": 4,
   "id": "8b87d243",
   "metadata": {},
   "outputs": [
    {
     "name": "stdout",
     "output_type": "stream",
     "text": [
      "\n",
      "    WARNING: The R package \"reticulate\" only fixed recently\n",
      "    an issue that caused a segfault when used with rpy2:\n",
      "    https://github.com/rstudio/reticulate/pull/1188\n",
      "    Make sure that you use a version of that package that includes\n",
      "    the fix.\n",
      "    "
     ]
    }
   ],
   "source": [
    "%%R\n",
    "suppressPackageStartupMessages({\n",
    "    library(WGCNA)\n",
    "    library(Matrix)\n",
    "    library(viridis)\n",
    "    library(harmony)\n",
    "    library(ggpubr)\n",
    "    library(tictoc)\n",
    "    library(RColorBrewer)\n",
    "    library(Hmisc)\n",
    "    library(corrplot)\n",
    "    library(grid)\n",
    "    library(gridExtra)\n",
    "    library(igraph)\n",
    "    library(ggrepel)\n",
    "\n",
    "\n",
    "    # single-cell analysis package\n",
    "    library(Seurat)\n",
    "\n",
    "    # plotting and data science packages\n",
    "    library(tidyverse)\n",
    "    library(cowplot)\n",
    "    library(patchwork)\n",
    "\n",
    "    # co-expression network analysis packages:\n",
    "    library(WGCNA)\n",
    "    library(hdWGCNA)\n",
    "\n",
    "    # gene enrichment packages\n",
    "    library(enrichR)\n",
    "    library(GeneOverlap)\n",
    "\n",
    "\n",
    "    library(GSEABase)\n",
    "    library(GSVA) \n",
    "# needs to be run every time you start R and want to use %>%\n",
    "})\n",
    "\n",
    "# using the cowplot theme for ggplot\n",
    "theme_set(theme_cowplot())\n",
    "\n",
    "# set random seed for reproducibility\n",
    "set.seed(12345)\n",
    "\n",
    "# optionally enable multithreading\n",
    "# enableWGCNAThreads(nThreads = 4)"
   ]
  },
  {
   "attachments": {},
   "cell_type": "markdown",
   "id": "c00d65ea",
   "metadata": {},
   "source": [
    "## **Prepare data**\n",
    "\n",
    "Now, we load the preprocessed and annotated data for downstream analysis."
   ]
  },
  {
   "cell_type": "code",
   "execution_count": 5,
   "id": "d8504101",
   "metadata": {},
   "outputs": [],
   "source": [
    "map_meta = True\n",
    "deg_method =  'DESeq2-Wald'\n",
    "test_names = ['late_vs_early', 'early_vs_no', 'late_vs_no', 'ad_vs_no']\n",
    "filter_genes = \"TRUE\"\n",
    "studies = ['allen_mtg', 'leng_sfg', 'leng_etc']\n",
    "subject_id = {'allen_mtg': 'individualID',\n",
    "             'leng_sfg': 'PatientID',\n",
    "             'leng_etc': 'PatientID'}      # for leng this is `PatientID` for mathys is 'Subject', and 'individualID' for allen\n",
    "\n",
    "gene_celltype_threshold = 0.05      # determines number of cells the gene must be expressed in \n",
    "covariates = ['None']               # list of covariates to be accounted for in regression.\n",
    "gene_selection = 'custom'           # specifies the gene selection method when setting up seurat object for WGCNA. The th\n",
    "celltypes = [\"Inhibitory\"]          #[\"Excitatory\", \"Inhibitory\", \"Astrocyte\", \"Microglia\", \"Oligodendrocyte\", \"OPC\"]\n",
    "gene_selection = 'fraction'     # specifies the gene selection method when setting up seurat object for WGCNA. The th\n",
    "                                # Posible values are \"custom\", \"fraction\", \"variable\"\n",
    "                                # If custom, a list of genes must be passed."
   ]
  },
  {
   "cell_type": "code",
   "execution_count": 6,
   "id": "1e74ee31",
   "metadata": {},
   "outputs": [
    {
     "name": "stdout",
     "output_type": "stream",
     "text": [
      "----------------------------\n",
      "Fetching ALLEN_MTG data\n",
      "----------------------------\n",
      "AnnData object with n_obs × n_vars = 41366 × 17950\n",
      "    obs: 'ID', 'name', 'versionNumber', 'contentType', 'dataFileSizeBytes', 'createdBy', 'createdOn', 'modifiedBy', 'modifiedOn', 'parentId', 'synapseURL', 'dataFileMD5Hex', 'assay_x', 'consortium', 'dataSubtype', 'dataType', 'fileFormat', 'grant', 'individualID_x', 'isModelSystem', 'isMultiSpecimen', 'isMultiome', 'libraryPrep', 'nucleicAcidSource_x', 'organ_x', 'platform', 'readLength', 'resourceType', 'runType', 'sex_x', 'species_x', 'specimenID', 'study', 'tissue_x', 'path', 'error', 'individualID_y', 'specimenIdSource', 'organ_y', 'tissue_y', 'BrodmannArea', 'sampleStatus', 'tissueWeight', 'tissueVolume', 'nucleicAcidSource_y', 'cellType', 'fastingState', 'isPostMortem', 'samplingAge', 'samplingAgeUnits', 'visitNumber', 'assay_y', 'individualID', 'dataset', 'individualIdSource', 'species_y', 'sex_y', 'race', 'ethnicity', 'yearsEducation', 'ageDeath', 'causeDeath', 'mannerDeath', 'apoe4Status', 'apoeGenotype', 'pmi', 'pH', 'brainWeight', 'diagnosis', 'diagnosisCriteria', 'CERAD', 'Braak', 'Cognitive status', 'Age of dementia diagnosis', 'Consensus clinical diagnosis', 'CASI score', 'Interval from last CASI', 'MMSE score', 'Interval from last MMSE', 'MoCA score', 'Interval from last MoCA', 'ADNC', 'Thal phase', 'Overall CAA Score', 'Lewy body disease pathology', 'Microinfarcts in screening sections', 'Atherosclerosis', 'Arteriolosclerosis', 'LATE-NC stage', 'pathology.group', 'sample_id', 'Class', 'Subclass', 'Supertype', 'barcodes', 'cell_labels', 'n_genes', 'n_genes_by_counts', 'total_counts', 'pct_counts_in_top_50_genes', 'total_counts_mt', 'pct_counts_mt', 'louvain_0.5', 'louvain_1.0', 'cell_type', 'predictions'\n",
      "    var: 'mt', 'n_cells_by_counts', 'mean_counts', 'pct_dropout_by_counts', 'total_counts', 'n_cells', 'highly_variable', 'means', 'dispersions', 'dispersions_norm'\n",
      "----------------------------\n",
      "Fetching LENG_SFG data\n",
      "----------------------------\n",
      "AnnData object with n_obs × n_vars = 43607 × 16755\n",
      "    obs: 'SampleID', 'PatientID', 'BrainRegion', 'BraakStage', 'SampleBatch', 'nUMI', 'nGene', 'initialClusterAssignments', 'seurat.clusters', 'clusterAssignment', 'clusterCellType', 'cell_type', 'n_genes_by_counts', 'total_counts', 'pct_counts_in_top_50_genes', 'total_counts_mt', 'pct_counts_mt', 'n_genes', 'doublet_score', 'predicted_doublet', 'louvain_0.5', 'louvain_1.0', 'predictions', 'study', 'pathology.group'\n",
      "    var: 'mt', 'n_cells_by_counts', 'mean_counts', 'pct_dropout_by_counts', 'total_counts', 'n_cells', 'highly_variable', 'means', 'dispersions', 'dispersions_norm', 'mean', 'std'\n",
      "----------------------------\n",
      "Fetching LENG_ETC data\n",
      "----------------------------\n",
      "AnnData object with n_obs × n_vars = 29167 × 16585\n",
      "    obs: 'SampleID', 'PatientID', 'BrainRegion', 'BraakStage', 'SampleBatch', 'nUMI', 'nGene', 'initialClusterAssignments', 'seurat.clusters', 'clusterAssignment', 'clusterCellType', 'cell_type', 'n_genes_by_counts', 'total_counts', 'pct_counts_in_top_50_genes', 'total_counts_mt', 'pct_counts_mt', 'n_genes', 'doublet_score', 'predicted_doublet', 'louvain_0.5', 'louvain_1.0', 'predictions', 'study', 'pathology.group'\n",
      "    var: 'mt', 'n_cells_by_counts', 'mean_counts', 'pct_dropout_by_counts', 'total_counts', 'n_cells', 'highly_variable', 'means', 'dispersions', 'dispersions_norm', 'mean', 'std'\n",
      "----------------------------\n",
      "Concatenated data\n",
      "----------------------------\n",
      "AnnData object with n_obs × n_vars = 114140 × 18168\n",
      "    obs: 'ID', 'name', 'versionNumber', 'contentType', 'dataFileSizeBytes', 'createdBy', 'createdOn', 'modifiedBy', 'modifiedOn', 'parentId', 'synapseURL', 'dataFileMD5Hex', 'assay_x', 'consortium', 'dataSubtype', 'dataType', 'fileFormat', 'grant', 'individualID_x', 'isModelSystem', 'isMultiSpecimen', 'isMultiome', 'libraryPrep', 'nucleicAcidSource_x', 'organ_x', 'platform', 'readLength', 'resourceType', 'runType', 'sex_x', 'species_x', 'specimenID', 'study', 'tissue_x', 'path', 'error', 'individualID_y', 'specimenIdSource', 'organ_y', 'tissue_y', 'BrodmannArea', 'sampleStatus', 'tissueWeight', 'tissueVolume', 'nucleicAcidSource_y', 'cellType', 'fastingState', 'isPostMortem', 'samplingAge', 'samplingAgeUnits', 'visitNumber', 'assay_y', 'individualID', 'dataset', 'individualIdSource', 'species_y', 'sex_y', 'race', 'ethnicity', 'yearsEducation', 'ageDeath', 'causeDeath', 'mannerDeath', 'apoe4Status', 'apoeGenotype', 'pmi', 'pH', 'brainWeight', 'diagnosis', 'diagnosisCriteria', 'CERAD', 'Braak', 'Cognitive status', 'Age of dementia diagnosis', 'Consensus clinical diagnosis', 'CASI score', 'Interval from last CASI', 'MMSE score', 'Interval from last MMSE', 'MoCA score', 'Interval from last MoCA', 'ADNC', 'Thal phase', 'Overall CAA Score', 'Lewy body disease pathology', 'Microinfarcts in screening sections', 'Atherosclerosis', 'Arteriolosclerosis', 'LATE-NC stage', 'pathology.group', 'sample_id', 'Class', 'Subclass', 'Supertype', 'barcodes', 'cell_labels', 'n_genes', 'n_genes_by_counts', 'total_counts', 'pct_counts_in_top_50_genes', 'total_counts_mt', 'pct_counts_mt', 'louvain_0.5', 'louvain_1.0', 'cell_type', 'predictions', 'SampleID', 'PatientID', 'BrainRegion', 'BraakStage', 'SampleBatch', 'nUMI', 'nGene', 'initialClusterAssignments', 'seurat.clusters', 'clusterAssignment', 'clusterCellType', 'doublet_score', 'predicted_doublet'\n"
     ]
    }
   ],
   "source": [
    "adatas = []\n",
    "for save_prefix in studies:\n",
    "    \n",
    "    print('----------------------------')\n",
    "    print(f'Fetching {save_prefix.upper()} data')\n",
    "    print('----------------------------')\n",
    "\n",
    "    adata = sc.read_h5ad(f'../data/processed/{save_prefix}/{save_prefix}_mapped_anndata.h5ad')\n",
    "    adata.obs['study'] = save_prefix\n",
    "    adata.obs_names_make_unique()\n",
    "    adata.var_names_make_unique()\n",
    "    adata.X = adata.layers['counts'].copy()\n",
    "\n",
    "    metadata = f'../data/raw/{save_prefix}/{save_prefix}_metadata.csv' \n",
    "    meta = pd.read_csv(metadata, encoding_errors='ignore')  \n",
    "\n",
    "    # map the pathology group to the subject id in .obs\n",
    "\n",
    "    adata.obs['pathology.group'] = adata.obs[subject_id[save_prefix]].map(dict(zip(meta[subject_id[save_prefix]].astype(str),meta['pathology.group'])))\n",
    "    \n",
    "    adata = adata[adata.obs['pathology.group'].isin(['early', 'late'])]\n",
    "\n",
    "    del adata.obsm, adata.layers, \\\n",
    "        adata.varm, adata.uns, \\\n",
    "        adata.obsp\n",
    "    \n",
    "    adatas.append(adata)\n",
    "    \n",
    "    print(adata)\n",
    "\n",
    "print('----------------------------')\n",
    "print(f'Concatenated data')\n",
    "print('----------------------------')\n",
    "\n",
    "adata_annot = anndata.concat(adatas, join='outer')\n",
    "adata_annot.obs = adata_annot.obs.replace(np.nan, None)\n",
    "print(adata_annot)\n",
    "\n",
    "del adatas, adata"
   ]
  },
  {
   "cell_type": "code",
   "execution_count": 7,
   "id": "86ef226f",
   "metadata": {},
   "outputs": [],
   "source": [
    "# convert nested list of anndata object into Rpy2 object \n",
    "subject_id =  robjects.ListVector(\n",
    "                        {\n",
    "                            save_prefix: subject_id[save_prefix]\n",
    "                     \n",
    "                            for save_prefix in studies\n",
    "                        }\n",
    "                    )"
   ]
  },
  {
   "cell_type": "code",
   "execution_count": 8,
   "id": "839f795a",
   "metadata": {},
   "outputs": [
    {
     "name": "stdout",
     "output_type": "stream",
     "text": [
      "class: SingleCellExperiment \n",
      "dim: 18168 114140 \n",
      "metadata(0):\n",
      "assays(1): X\n",
      "rownames(18168): A1BG A1CF ... ZZEF1 ZZZ3\n",
      "rowData names(0):\n",
      "colnames(114140): AAAGGTAGTACGGCAA AACCAACGTGGATCGA ...\n",
      "  EC10_TTTGTCATCTATCGCC EC10_TTTGTCATCTCTGCTG\n",
      "colData names(119): ID name ... doublet_score predicted_doublet\n",
      "reducedDimNames(0):\n",
      "mainExpName: NULL\n",
      "altExpNames(0):\n",
      "[1] \"loaded data into memory for recursive use\"\n"
     ]
    }
   ],
   "source": [
    "%%R -i adata_annot -i subject_id -i gene_celltype_threshold -i celltypes -i test_names -i studies -i gene_selection\n",
    "\n",
    "print(adata_annot)\n",
    "print('loaded data into memory for recursive use')"
   ]
  },
  {
   "cell_type": "code",
   "execution_count": 9,
   "id": "74c5d20a",
   "metadata": {},
   "outputs": [],
   "source": [
    "del adata_annot"
   ]
  },
  {
   "attachments": {},
   "cell_type": "markdown",
   "id": "646870b9",
   "metadata": {},
   "source": [
    "## **Consensus network analysis of celltypes in AD**\n",
    "\n",
    "Here, we perform consensus network analysis between all three datastes in AD. We will also follow the “standard” workflow (not consensus), and compare the resulting gene module assignments.\n",
    "\n",
    "First, we setup the seurat object for hdWGCNA and we construct metacells. This part of the workflow is the same as the standard hdWGCNA workflow, but we must include the `relevant metadata for consensus network analysis when running MetacellsByGroups`. \n",
    "\n",
    "The loaded Seurat object has a metadata column called `pathology.group`, which contains a `early` or `late` AD identifiers depending on the pathological stage of the donor where a given cell originated from, so we must include  in our group.by list within MetacellsByGroups in order to run consensus network analysis.\n",
    "\n"
   ]
  },
  {
   "attachments": {},
   "cell_type": "markdown",
   "id": "8a3955a2",
   "metadata": {},
   "source": [
    "## **Set up Seurat object for WGCNA**"
   ]
  },
  {
   "attachments": {},
   "cell_type": "markdown",
   "id": "3e7607cd",
   "metadata": {},
   "source": [
    "For our specific case, we will either select genes that are expressed in at least 5% of cells within each cell type or specify a list of custom genes. Additionally, we will rename our hdWGCNA experiment to enhance clarity.\n",
    "\n",
    "Here, the `gene_selection` parameter is set to `custom`, we employ the genes present in all the overlapping pathways in a cell type-specific and study-specific manner.\n",
    "\n",
    "To accomplish this, we load the list of overlapping pathways that was previously saved in `../results/{test_name}/{test_name}_pathway_overlap.csv` from the `pathway_meta_analysis.ipynb` notebook. Additionally, we load the genes from the `.gmt` file saved in `../results/gsva/{study}/{cur_celltype}/gs.gmt` from the `pathway_analysis.ipynb` notebook."
   ]
  },
  {
   "attachments": {},
   "cell_type": "markdown",
   "id": "c4ddf8bf",
   "metadata": {},
   "source": [
    "##### **Overlapping Pathways**"
   ]
  },
  {
   "attachments": {},
   "cell_type": "markdown",
   "id": "9e481a4c",
   "metadata": {},
   "source": [
    "Obtain list of overlapping pathways"
   ]
  },
  {
   "cell_type": "code",
   "execution_count": 10,
   "id": "0f695cf2",
   "metadata": {},
   "outputs": [],
   "source": [
    "# get list of overlapping pathways and save to R                        \n",
    "overlap_paths = {}\n",
    "\n",
    "for test_name in test_names:\n",
    "    overlap_paths[test_name] = pd.read_csv(f'../results/{test_name}/{test_name}_pathway_overlap.csv')\n",
    "\n",
    "try:\n",
    "    list_of_overlapping_paths = robjects.ListVector({test_name: robjects.vectors.StrVector(overlap_paths[test_name].pathway.to_list()) for test_name in test_names})\n",
    "except AttributeError:\n",
    "    temp_tests = []\n",
    "    for test_name in test_names:\n",
    "        if len(overlap_paths.pathway)>0:\n",
    "            temp_tests.append(test_name)\n",
    "        else:\n",
    "            print(f\"AttributeError occurred for test_name: {test_name}\")\n",
    "    list_of_overlapping_paths = robjects.ListVector({test_name: robjects.vectors.StrVector(overlap_paths[test_name].pathway.to_list()) for test_name in temp_tests})\n"
   ]
  },
  {
   "attachments": {},
   "cell_type": "markdown",
   "id": "7234ec55",
   "metadata": {},
   "source": [
    "Obtain the genesets in the overlapping pathways"
   ]
  },
  {
   "cell_type": "code",
   "execution_count": 11,
   "id": "703041ee",
   "metadata": {},
   "outputs": [],
   "source": [
    "%%R -o geneSets -i list_of_overlapping_paths\n",
    "\n",
    "# iterate over celltypes and obtain \n",
    "geneSets <- list()\n",
    "for(test_name in test_names){\n",
    "\n",
    "  geneSets[[test_name]] <- list()\n",
    "  for (cur_celltype in celltypes){\n",
    "\n",
    "    geneSets[[test_name]][[cur_celltype]] <- list()\n",
    "    for (study in studies){\n",
    "        # get gene sets\n",
    "        geneSets[[test_name]][[cur_celltype]][[study]] <- getGmt(file.path('../results/gsva/', study, '/', cur_celltype, 'gs.gmt'))\n",
    "        geneSets[[test_name]][[cur_celltype]][[study]] <- geneIds(geneSets[[test_name]][[cur_celltype]][[study]])\n",
    "\n",
    "        # Check if test_name exists in list_of_overlapping_paths\n",
    "        if (test_name %in% names(list_of_overlapping_paths)) {\n",
    "          geneSets[[test_name]][[cur_celltype]][[study]] <-  geneSets[[test_name]][[cur_celltype]][[study]][names(geneSets[[test_name]][[cur_celltype]][[study]]) %in% list_of_overlapping_paths[[test_name]]]\n",
    "          } else {\n",
    "          geneSets[[test_name]][[cur_celltype]][[study]] <- character(0)  # Set an empty vector if no scores exist\n",
    "        }\n",
    "        geneSets[[test_name]][[cur_celltype]][[study]] <- unlist(geneSets[[test_name]][[cur_celltype]][[study]], recursive = FALSE)\n",
    "    }\n",
    "    geneSets[[test_name]][[cur_celltype]] <- unique(unlist(geneSets[[test_name]][[cur_celltype]], recursive = FALSE))\n",
    "  }\n",
    "}"
   ]
  },
  {
   "cell_type": "code",
   "execution_count": 12,
   "id": "f2d4d1b1",
   "metadata": {},
   "outputs": [],
   "source": [
    "# convert nested list of geneSets object into Rpy2 object \n",
    "\n",
    "geneSets =  robjects.ListVector(\n",
    "                        {\n",
    "                            test_name: robjects.ListVector(\n",
    "                                    {cell_type: geneSets[test_name][cell_type]\n",
    "                                                 \n",
    "                                    for cell_type in celltypes\n",
    "                                    }\n",
    "                                )\n",
    "                            for test_name in test_names\n",
    "                        }\n",
    "\n",
    "                        )"
   ]
  },
  {
   "cell_type": "code",
   "execution_count": 13,
   "id": "845fa1c5",
   "metadata": {},
   "outputs": [
    {
     "name": "stdout",
     "output_type": "stream",
     "text": [
      "An object of class Seurat \n",
      "18168 features across 114140 samples within 1 assay \n",
      "Active assay: originalexp (18168 features, 0 variable features)\n",
      "[1] \"Creating hdWGNA Experiment for INHIBITORY\"\n",
      "[1] 18168 10104\n",
      "[1] 18168  4868\n",
      "[1] 18168  3167\n",
      "An object of class Seurat \n",
      "18168 features across 18139 samples within 1 assay \n",
      "Active assay: originalexp (18168 features, 2000 variable features)\n",
      " 3 dimensional reductions calculated: pca, harmony, umap\n",
      "[1] \"10681 WGCNA Genes\"\n"
     ]
    }
   ],
   "source": [
    "%%R -o seurat_obj -i geneSets\n",
    "\n",
    "seurat_obj <- as.Seurat(adata_annot, counts = \"X\", data = \"X\")\n",
    "\n",
    "print(seurat_obj)\n",
    "\n",
    "# Perform dimensionality reduction and plot\n",
    "\n",
    "seurat_obj <- FindVariableFeatures(seurat_obj)\n",
    "seurat_obj <- ScaleData(seurat_obj)\n",
    "seurat_obj <- RunPCA(seurat_obj)\n",
    "seurat_obj <- RunHarmony(seurat_obj, group.by.vars = \"study\")\n",
    "seurat_obj <- RunUMAP(seurat_obj, reduction='harmony', n.neighbors=15, dims=1:30, min.dist=0.1)\n",
    "\n",
    "p <- DimPlot(seurat_obj, group.by = \"cell_type\", label = TRUE) +\n",
    "     umap_theme() + ggtitle(\"all_studies\") + NoLegend()\n",
    "\n",
    "\n",
    "fig_dir = paste0(\"../results/hdWGCNA/UMAP/Consensus/\")\n",
    "\n",
    "if (!dir.exists(fig_dir)) {\n",
    "  dir.create(fig_dir, recursive=TRUE)\n",
    "}\n",
    "\n",
    "# Save plot to PDF\n",
    "pdf(file = paste0(fig_dir, \"Integrated_umap_all_studies.pdf\"), width = 4, height = 4, useDingbats = FALSE)\n",
    "print(p)\n",
    "dev.off()\n",
    "\n",
    "\n",
    "\n",
    "# create a hdWGCNA experiment for each celltype\n",
    "seurat_dat <- seurat_obj\n",
    "seurat_obj <- list()\n",
    "\n",
    "for (cur_cell_type in celltypes){\n",
    "\n",
    "  seurat_obj[[cur_cell_type]] <- subset(seurat_dat, cell_type == cur_cell_type)\n",
    "\n",
    "  print(paste0('Creating hdWGNA Experiment for ', toupper(cur_cell_type)))\n",
    "\n",
    "  if (gene_selection == 'custom') {\n",
    "    seurat_obj[[cur_cell_type]] <- SetupForWGCNA(\n",
    "      seurat_obj[[cur_cell_type]],\n",
    "      gene_select = \"custom\",                                 # the gene selection approach\n",
    "      gene_list = as.vector(geneSets[['ad_vs_no']][[cur_cell_type]]),    # list of genes to be included\n",
    "      group.by = 'study',                                 # grouping parameter\n",
    "      wgcna_name = paste0(toupper(substr(cur_cell_type, 1, 3)), '_consensus')       # the name of the hdWGCNA experiment\n",
    "    )\n",
    "  } else {\n",
    "    seurat_obj[[cur_cell_type]] <- SetupForWGCNA(\n",
    "      seurat_obj[[cur_cell_type]],\n",
    "      gene_select = \"fraction\",                                                 # the gene selection approach\n",
    "      fraction = 0.05,                                                          # fraction of cells for gene inclusion\n",
    "      group.by = 'study',                                                       # grouping parameter\n",
    "      wgcna_name = paste0(toupper(substr(cur_cell_type, 1, 3)), '_consensus')       # the name of the hdWGCNA experiment\n",
    "    )\n",
    "  }\n",
    "  print(seurat_obj[[cur_cell_type]])\n",
    "  print(paste0(length(GetWGCNAGenes(seurat_obj[[cur_cell_type]])), \" WGCNA Genes\"))\n",
    "\n",
    "}\n",
    "\n",
    "rm(seurat_dat)\n",
    "rm(adata_annot)"
   ]
  },
  {
   "attachments": {},
   "cell_type": "markdown",
   "id": "9e89e217",
   "metadata": {},
   "source": [
    "Send list to R interface"
   ]
  },
  {
   "cell_type": "code",
   "execution_count": 14,
   "id": "ff771eaa",
   "metadata": {},
   "outputs": [],
   "source": [
    "# convert nested list of Seurat object into Rpy2 object \n",
    "\n",
    "seurat_obj =  robjects.ListVector(\n",
    "                        {\n",
    "                            cell_type: seurat_obj[cell_type]\n",
    "                     \n",
    "                            for cell_type in celltypes\n",
    "                        }\n",
    "                    )"
   ]
  },
  {
   "attachments": {},
   "cell_type": "markdown",
   "id": "ccd0e590",
   "metadata": {},
   "source": [
    "## **Construct metacells**"
   ]
  },
  {
   "attachments": {},
   "cell_type": "markdown",
   "id": "07813598",
   "metadata": {},
   "source": [
    "After setting up our Seurat object, we construct metacells from the single-cell dataset.\n",
    "\n",
    "First, we setup the seurat object for hdWGCNA and we construct metacells. This part of the workflow is the same as the standard hdWGCNA workflow, but we must include the `relevant metadata for consensus network analysis when running MetacellsByGroups`. \n",
    "\n",
    "The loaded Seurat object has a metadata column called `pathology.group`, which contains a `early` or `late` AD identifiers depending on the pathological stage of the donor where a given cell originated from, so we must include  in our group.by list within MetacellsByGroups in order to run consensus network analysis."
   ]
  },
  {
   "cell_type": "code",
   "execution_count": 15,
   "id": "e92860fa",
   "metadata": {},
   "outputs": [
    {
     "name": "stdout",
     "output_type": "stream",
     "text": [
      "[1] \"Constructing MetaCells in hdWGCNA Experiment for INHIBITORY\"\n"
     ]
    }
   ],
   "source": [
    "%%R -i seurat_obj -o seurat_obj\n",
    "\n",
    "# construct metacells in each group for each wgnca experiment\n",
    "\n",
    "for (cell_type in celltypes){\n",
    "\n",
    "  print(paste0('Constructing MetaCells in hdWGCNA Experiment for ', toupper(cell_type)))\n",
    "  \n",
    "  seurat_obj[[cell_type]] <- MetacellsByGroups(\n",
    "      \n",
    "    seurat_obj = seurat_obj[[cell_type]],\n",
    "    group.by = c(\"pathology.group\", \"study\", \"cell_type\"), # specify the columns in seurat_obj@meta.data to group by\n",
    "    reduction = 'harmony',  # select the dimensionality reduction to perform KNN on\n",
    "    k = 25, # nearest-neighbors parameter\n",
    "    max_shared = 10, # maximum number of shared cells between two metacells\n",
    "    ident.group = 'cell_type', # set the Idents of the metacell seurat object\n",
    "    wgcna_name = paste0(toupper(substr(cell_type, 1, 3)), '_consensus')        # the name of the hdWGCNA experiment\n",
    "    )\n",
    "\n",
    "    # normalize metacell expression matrix:\n",
    "  seurat_obj[[cell_type]] <- NormalizeMetacells(seurat_obj[[cell_type]],  \n",
    "                            wgcna_name = paste0(toupper(substr(cell_type, 1, 3)), '_consensus'))\n",
    "}\n"
   ]
  },
  {
   "cell_type": "code",
   "execution_count": 16,
   "id": "db92cb94",
   "metadata": {},
   "outputs": [],
   "source": [
    "# convert nested list of Seurat object into Rpy2 object \n",
    "seurat_obj =  robjects.ListVector(\n",
    "                        {\n",
    "                            cell_type: seurat_obj[cell_type]\n",
    "                     \n",
    "                            for cell_type in celltypes\n",
    "                        }\n",
    "                    )"
   ]
  },
  {
   "attachments": {},
   "cell_type": "markdown",
   "id": "fac55be8",
   "metadata": {},
   "source": [
    "## **Co-expression network analysis**"
   ]
  },
  {
   "attachments": {},
   "cell_type": "markdown",
   "id": "bb462c2f",
   "metadata": {},
   "source": [
    "Next we have to set up the expression dataset for consensus network analysis. In the standard workflow, we use the function `SetDatExpr` to set up the expression matrix that will be used for network analyis. Instead of `SetDatExpr`, here we use `SetMultiExpr` to set up a separate expression matrix for each `study`. This allows us to perform network analysis individually on these expression matrices."
   ]
  },
  {
   "cell_type": "code",
   "execution_count": 17,
   "id": "6b1c6066",
   "metadata": {},
   "outputs": [
    {
     "name": "stdout",
     "output_type": "stream",
     "text": [
      "[1] \"Setting up expression matrix in hdWGCNA Experiment for INHIBITORY\"\n",
      "  ..Excluding 582 genes from the calculation due to too many missing samples or zero variance.\n"
     ]
    }
   ],
   "source": [
    "%%R -i seurat_obj -o seurat_obj\n",
    "\n",
    "# set up a gene expression matrix list for each study\n",
    "# construct metacells in each group for each wgnca experiment\n",
    "\n",
    "for (cell_type in celltypes){\n",
    "\n",
    "  print(paste0('Setting up expression matrix in hdWGCNA Experiment for ', toupper(cell_type)))\n",
    "  \n",
    "  seurat_obj[[cell_type]] <- SetMultiExpr(\n",
    "      seurat_obj[[cell_type]],\n",
    "      group_name = cell_type, # the name of the group of interest in the group.by column\n",
    "      group.by = 'cell_type', # the metadata column containing the cell type info. This same column should have also been used in MetacellsByGroups  \n",
    "      assay = 'originalexp', # using RNA assay\n",
    "      slot = 'data', # using normalized data\n",
    "      wgcna_name = paste0(toupper(substr(cell_type, 1, 3)), '_consensus'), # the name of the hdWGCNA experiment\n",
    "      multi.group.by = \"study\",\n",
    "      multi_groups = NULL # this parameter can be used to select a subset of groups in the multi.group.by column\n",
    "    )\n",
    "}\n"
   ]
  },
  {
   "cell_type": "code",
   "execution_count": 18,
   "id": "3c40b7ec",
   "metadata": {},
   "outputs": [],
   "source": [
    "# convert nested list of Seurat object into Rpy2 object \n",
    "seurat_obj =  robjects.ListVector(\n",
    "                        {\n",
    "                            cell_type: seurat_obj[cell_type]\n",
    "                     \n",
    "                            for cell_type in celltypes\n",
    "                        }\n",
    "                    )"
   ]
  },
  {
   "attachments": {},
   "cell_type": "markdown",
   "id": "a70cc5c4",
   "metadata": {},
   "source": [
    "### **Select soft-power threshold**\n",
    "\n",
    "Now that we have expression matrices for all studies, we identify an appropriate soft power threshold for each of these matrices separately. Instead of the `TestSoftPowers` function which we use in the standard hdWGCNA workflow, `we use TestSoftPowersConsensus`, which will perform the test for each of the expression matrices. When we plot the results with  `PlotSoftPowers`, we get a nested list of plots for each dataset, and we can assemble the plots using patchwork.\n"
   ]
  },
  {
   "cell_type": "code",
   "execution_count": 19,
   "id": "e63133c6",
   "metadata": {},
   "outputs": [
    {
     "name": "stdout",
     "output_type": "stream",
     "text": [
      "[1] \"Estinmating Soft-Power Threshold in hdWGCNA Experiment for INHIBITORY\"\n",
      "[1] \"allen_mtg\"\n",
      "pickSoftThreshold: will use block size 4430.\n",
      " pickSoftThreshold: calculating connectivity for given powers...\n",
      "   ..working on genes 1 through 4430 of 10099\n",
      "   ..working on genes 4431 through 8860 of 10099\n",
      "   ..working on genes 8861 through 10099 of 10099\n",
      "   Power SFT.R.sq slope truncated.R.sq  mean.k. median.k.  max.k.\n",
      "1      1  0.17500 26.80          0.899 5.10e+03  5.10e+03 5340.00\n",
      "2      2  0.00458  2.30          0.963 2.60e+03  2.60e+03 2930.00\n",
      "3      3  0.02310 -3.23          0.930 1.34e+03  1.33e+03 1670.00\n",
      "4      4  0.20300 -6.61          0.813 6.98e+02  6.87e+02  979.00\n",
      "5      5  0.61800 -7.98          0.858 3.67e+02  3.56e+02  593.00\n",
      "6      6  0.89900 -7.85          0.973 1.95e+02  1.86e+02  381.00\n",
      "7      7  0.93200 -6.40          0.980 1.05e+02  9.75e+01  254.00\n",
      "8      8  0.93300 -5.30          0.976 5.76e+01  5.14e+01  176.00\n",
      "9      9  0.92500 -4.46          0.970 3.20e+01  2.72e+01  126.00\n",
      "10    10  0.92600 -3.77          0.966 1.82e+01  1.45e+01   93.10\n",
      "11    12  0.94400 -2.85          0.979 6.29e+00  4.20e+00   54.80\n",
      "12    14  0.95800 -2.28          0.993 2.44e+00  1.24e+00   34.90\n",
      "13    16  0.95200 -1.98          0.994 1.08e+00  3.73e-01   24.30\n",
      "14    18  0.93500 -1.81          0.984 5.38e-01  1.15e-01   18.20\n",
      "15    20  0.92900 -1.71          0.991 3.00e-01  3.60e-02   14.10\n",
      "16    22  0.92000 -1.65          0.990 1.81e-01  1.15e-02   11.20\n",
      "17    24  0.92200 -1.59          0.986 1.17e-01  3.74e-03    9.04\n",
      "18    26  0.91400 -1.58          0.975 7.89e-02  1.25e-03    7.43\n",
      "19    28  0.92700 -1.54          0.978 5.52e-02  4.23e-04    6.19\n",
      "20    30  0.41800 -1.97          0.407 3.98e-02  1.46e-04    5.21\n",
      "[1] \"leng_etc\"\n",
      "pickSoftThreshold: will use block size 4430.\n",
      " pickSoftThreshold: calculating connectivity for given powers...\n",
      "   ..working on genes 1 through 4430 of 10099\n",
      "   ..working on genes 4431 through 8860 of 10099\n",
      "   ..working on genes 8861 through 10099 of 10099\n",
      "   Power SFT.R.sq  slope truncated.R.sq  mean.k. median.k.   max.k.\n",
      "1      1 0.000199   1.36          0.974 5.07e+03  5.07e+03 5290.000\n",
      "2      2 0.118000 -16.70          0.937 2.57e+03  2.56e+03 2820.000\n",
      "3      3 0.427000 -21.40          0.891 1.31e+03  1.30e+03 1530.000\n",
      "4      4 0.679000 -20.00          0.913 6.70e+02  6.67e+02  839.000\n",
      "5      5 0.788000 -16.10          0.946 3.46e+02  3.43e+02  468.000\n",
      "6      6 0.860000 -12.30          0.943 1.80e+02  1.77e+02  265.000\n",
      "7      7 0.924000  -9.98          0.960 9.42e+01  9.21e+01  156.000\n",
      "8      8 0.962000  -8.32          0.978 4.98e+01  4.81e+01   96.900\n",
      "9      9 0.975000  -6.96          0.980 2.65e+01  2.53e+01   62.000\n",
      "10    10 0.986000  -5.66          0.984 1.42e+01  1.33e+01   41.000\n",
      "11    12 0.989000  -3.99          0.986 4.23e+00  3.78e+00   19.800\n",
      "12    14 0.984000  -3.12          0.980 1.32e+00  1.09e+00   11.500\n",
      "13    16 0.980000  -2.58          0.981 4.41e-01  3.22e-01    7.310\n",
      "14    18 0.975000  -2.20          0.986 1.61e-01  9.68e-02    4.930\n",
      "15    20 0.966000  -1.92          0.987 6.58e-02  2.97e-02    3.460\n",
      "16    22 0.949000  -1.73          0.982 3.05e-02  9.28e-03    2.510\n",
      "17    24 0.939000  -1.59          0.973 1.59e-02  2.96e-03    1.860\n",
      "18    26 0.947000  -1.49          0.986 9.13e-03  9.62e-04    1.400\n",
      "19    28 0.932000  -1.45          0.964 5.65e-03  3.19e-04    1.070\n",
      "20    30 0.938000  -1.39          0.963 3.68e-03  1.08e-04    0.824\n",
      "[1] \"leng_sfg\"\n",
      "pickSoftThreshold: will use block size 4430.\n",
      " pickSoftThreshold: calculating connectivity for given powers...\n",
      "   ..working on genes 1 through 4430 of 10099\n",
      "   ..working on genes 4431 through 8860 of 10099\n",
      "   ..working on genes 8861 through 10099 of 10099\n",
      "   Power SFT.R.sq  slope truncated.R.sq  mean.k. median.k.  max.k.\n",
      "1      1  0.00114   2.40          0.956 5.08e+03  5.08e+03 5320.00\n",
      "2      2  0.11100 -12.70          0.979 2.58e+03  2.57e+03 2880.00\n",
      "3      3  0.37200 -16.70          0.943 1.32e+03  1.31e+03 1590.00\n",
      "4      4  0.57100 -14.70          0.942 6.77e+02  6.71e+02  893.00\n",
      "5      5  0.75900 -12.20          0.966 3.51e+02  3.45e+02  512.00\n",
      "6      6  0.88500  -9.27          0.966 1.83e+02  1.79e+02  299.00\n",
      "7      7  0.94400  -7.86          0.980 9.65e+01  9.29e+01  190.00\n",
      "8      8  0.96900  -6.63          0.987 5.13e+01  4.85e+01  126.00\n",
      "9      9  0.98200  -5.53          0.988 2.75e+01  2.55e+01   86.70\n",
      "10    10  0.98400  -4.68          0.986 1.49e+01  1.35e+01   61.90\n",
      "11    12  0.98300  -3.47          0.983 4.58e+00  3.80e+00   34.80\n",
      "12    14  0.98400  -2.71          0.987 1.51e+00  1.09e+00   21.80\n",
      "13    16  0.97700  -2.25          0.988 5.48e-01  3.21e-01   14.70\n",
      "14    18  0.95100  -1.96          0.973 2.25e-01  9.58e-02   10.40\n",
      "15    20  0.95800  -1.70          0.979 1.06e-01  2.92e-02    7.70\n",
      "16    22  0.96200  -1.54          0.984 5.72e-02  9.02e-03    5.86\n",
      "17    24  0.96300  -1.44          0.984 3.43e-02  2.85e-03    4.56\n",
      "18    26  0.40900  -1.81          0.372 2.23e-02  9.12e-04    3.67\n",
      "19    28  0.41800  -1.76          0.393 1.52e-02  2.96e-04    3.04\n",
      "20    30  0.42900  -1.74          0.414 1.09e-02  9.76e-05    2.55\n",
      "[1] \"here\"\n",
      "[1] 1\n",
      "[1] 6\n",
      "# A tibble: 6 × 7\n",
      "  Power SFT.R.sq slope truncated.R.sq mean.k. median.k. max.k.\n",
      "  <dbl>    <dbl> <dbl>          <dbl>   <dbl>     <dbl>  <dbl>\n",
      "1     1  0.175   26.8           0.899   5100.     5103.  5341.\n",
      "2     2  0.00458  2.30          0.963   2602.     2598.  2935.\n",
      "3     3  0.0231  -3.23          0.930   1340.     1332.  1668.\n",
      "4     4  0.203   -6.61          0.813    698.      687.   979.\n",
      "5     5  0.618   -7.98          0.858    367.      356.   593.\n",
      "6     6  0.899   -7.85          0.973    195.      186.   381.\n",
      "[1] 2\n",
      "[1] 6\n",
      "# A tibble: 6 × 7\n",
      "  Power SFT.R.sq  slope truncated.R.sq mean.k. median.k. max.k.\n",
      "  <dbl>    <dbl>  <dbl>          <dbl>   <dbl>     <dbl>  <dbl>\n",
      "1     1 0.000199   1.36          0.974   5072.     5073.  5292.\n",
      "2     2 0.118    -16.7           0.937   2565.     2564.  2820.\n",
      "3     3 0.427    -21.4           0.891   1307.     1304.  1527.\n",
      "4     4 0.679    -20.0           0.913    670.      667.   839.\n",
      "5     5 0.788    -16.1           0.946    346.      343.   468.\n",
      "6     6 0.860    -12.3           0.943    180.      177.   265.\n",
      "[1] 3\n",
      "[1] 6\n",
      "# A tibble: 6 × 7\n",
      "  Power SFT.R.sq  slope truncated.R.sq mean.k. median.k. max.k.\n",
      "  <dbl>    <dbl>  <dbl>          <dbl>   <dbl>     <dbl>  <dbl>\n",
      "1     1  0.00114   2.40          0.956   5081.     5083.  5325.\n",
      "2     2  0.111   -12.7           0.979   2576.     2574.  2876.\n",
      "3     3  0.372   -16.7           0.943   1316.     1311.  1587.\n",
      "4     4  0.571   -14.7           0.942    677.      671.   893.\n",
      "5     5  0.759   -12.2           0.966    351.      345.   512.\n",
      "6     6  0.885    -9.27          0.966    183.      179.   299.\n"
     ]
    }
   ],
   "source": [
    "%%R -i seurat_obj -o seurat_obj\n",
    "\n",
    "fig_dir = paste0(\"../results/hdWGCNA/SoftPower/Consensus/\")\n",
    "\n",
    "if (!dir.exists(fig_dir)) {\n",
    "  dir.create(fig_dir, recursive=TRUE)\n",
    "}\n",
    "\n",
    "for (cell_type in celltypes){\n",
    "  \n",
    "  print(paste0('Estinmating Soft-Power Threshold in hdWGCNA Experiment for ', toupper(cell_type)))\n",
    "\n",
    "  # Test different soft powers:\n",
    "  seurat_obj[[cell_type]] <- TestSoftPowersConsensus(\n",
    "    seurat_obj[[cell_type]],\n",
    "    group.by = 'cell_type',\n",
    "    group_name = cell_type,\n",
    "  )\n",
    "\n",
    "  # plot the results:\n",
    "  plot_list <- PlotSoftPowers(seurat_obj[[cell_type]], \n",
    "                              # wgcna_name = paste0(toupper(substr(cell_type, 1, 3)), '_consensus') # the name of the hdWGCNA experiment\n",
    "                              )\n",
    "\n",
    "  # get just the scale-free topology fit plot for each group\n",
    "  consensus_groups <- unique(seurat_obj[[cell_type]]$study)\n",
    "\n",
    "  p_list <- lapply(1:length(consensus_groups), function(i){\n",
    "    cur_group <- consensus_groups[[i]]\n",
    "    plot_list[[i]][[1]] + ggtitle(paste0('Study: ', cur_group)) + theme(plot.title=element_text(hjust=0.5))\n",
    "  })\n",
    "\n",
    "  pdf(paste0(fig_dir, cell_type, '_consensus_SoftPower.pdf'), width=10, height=8)\n",
    "  print(wrap_plots(p_list, ncol=length(studies)))\n",
    "  dev.off()\n",
    "}\n"
   ]
  },
  {
   "cell_type": "code",
   "execution_count": 20,
   "id": "f5b7f474",
   "metadata": {},
   "outputs": [],
   "source": [
    "# convert nested list of Seurat object into Rpy2 object \n",
    "seurat_obj =  robjects.ListVector(\n",
    "                        {\n",
    "                            cell_type: seurat_obj[cell_type]\n",
    "                     \n",
    "                            for cell_type in celltypes\n",
    "                        }\n",
    "                    )"
   ]
  },
  {
   "attachments": {},
   "cell_type": "markdown",
   "id": "2ad0b902",
   "metadata": {},
   "source": [
    "The general guidance for WGCNA and hdWGCNA is to `pick the lowest soft power threshold that has a Scale Free Topology Model Fit greater than or equal to 0.8`. Later on, the `ConstructNetwork `will automatically select the soft power threshold if we do not provide one.\n",
    "\n",
    "The output table from the parameter sweep is stored in the hdWGCNA experiment and can be accessed using the GetPowerTable function for further inspection:"
   ]
  },
  {
   "cell_type": "code",
   "execution_count": 21,
   "id": "62c54e96",
   "metadata": {},
   "outputs": [],
   "source": [
    "# %%R -i seurat_obj -o seurat_obj\n",
    "\n",
    "# power_table <- GetPowerTable(seurat_obj)\n",
    "# head(power_table)"
   ]
  },
  {
   "attachments": {},
   "cell_type": "markdown",
   "id": "7c6251e4",
   "metadata": {},
   "source": [
    "### **Construct co-expression network**\n",
    "\n",
    "Now we construct the co-expression network and identify gene modules using the `ConstructNetwork` function, making sure to specify `consensus=TRUE`. \n",
    "\n",
    "Indicating `consensus=TRUE tells hdWGCNA to construct a separate network for each expression matrix`, followed by integrating the networks and identifying gene modules. Depending on the results of `TestSoftPowersConsensus`, we can supply a different soft power threshold for each dataset."
   ]
  },
  {
   "cell_type": "code",
   "execution_count": 22,
   "id": "494fe710",
   "metadata": {},
   "outputs": [],
   "source": [
    "soft_powers = input('Look at the file saved to \"../results/hdWGCNA/SoftPower/Consensus/Consensus_SoftPower\" \\\n",
    "                    and input the softpowers for each study starting from left to right, separated by comma with no space: ').strip(\" \").split(',')\n",
    "\n",
    "soft_powers = [int(i) for i in soft_powers]"
   ]
  },
  {
   "cell_type": "code",
   "execution_count": 23,
   "id": "14831950",
   "metadata": {},
   "outputs": [
    {
     "name": "stdout",
     "output_type": "stream",
     "text": [
      "[1] \"Constructing co-expression network in hdWGCNA Experiment for INHIBITORY\"\n",
      " Calculating consensus modules and module eigengenes block-wise from all genes\n",
      " Calculating topological overlaps block-wise from all genes\n",
      "   Flagging genes and samples with too many missing values...\n",
      "    ..step 1\n",
      "    TOM calculation: adjacency..\n",
      "    ..will not use multithreading.\n",
      "     Fraction of slow calculations: 0.000000\n",
      "    ..connectivity..\n",
      "    ..matrix multiplication (system BLAS)..\n",
      "    ..normalization..\n",
      "    ..done.\n",
      "    TOM calculation: adjacency..\n",
      "    ..will not use multithreading.\n",
      "     Fraction of slow calculations: 0.000000\n",
      "    ..connectivity..\n",
      "    ..matrix multiplication (system BLAS)..\n",
      "    ..normalization..\n",
      "    ..done.\n",
      "    TOM calculation: adjacency..\n",
      "    ..will not use multithreading.\n",
      "     Fraction of slow calculations: 0.000000\n",
      "    ..connectivity..\n",
      "    ..matrix multiplication (system BLAS)..\n",
      "    ..normalization..\n",
      "    ..done.\n",
      " ..Working on block 1 .\n",
      " ..Working on block 1 .\n",
      " ..merging consensus modules that are too close..\n",
      "[1] \"Inhibitory\"\n"
     ]
    }
   ],
   "source": [
    "%%R -i seurat_obj -o seurat_obj -i soft_powers\n",
    "\n",
    "\n",
    "for (cell_type in celltypes) {\n",
    "  \n",
    "  print(paste0('Constructing co-expression network in hdWGCNA Experiment for ', toupper(cell_type)))\n",
    "  \n",
    "  tryCatch({\n",
    "    # construct co-expression network:\n",
    "    seurat_obj[[cell_type]] <- ConstructNetwork(\n",
    "      seurat_obj[[cell_type]], \n",
    "      soft_power = as.vector(soft_powers), # Set to NULL so that the ConstructNetwork function obtains it automatically (Scale Free Topology Model Fit >= 0.8)\n",
    "      setDatExpr = FALSE,\n",
    "      overwrite_tom = TRUE,\n",
    "      consensus = TRUE,\n",
    "      tom_name = paste0(toupper(substr(cell_type, 1, 3)), '_consensus') # name of the topological overlap matrix written to disk set as the name of the hdWGCNA experiment \n",
    "    )\n",
    "  }, error = function(e) {\n",
    "    print(paste0('Error encountered while processing ', toupper(cell_type)))\n",
    "    print(paste0(toupper(cell_type), ' dropped from experiment'))\n",
    "    # Code to handle the error condition\n",
    "    seurat_obj <- seurat_obj[names(seurat_obj) != cell_type]\n",
    "    assign(\"seurat_obj\", seurat_obj, envir = .GlobalEnv) # Update the modified seurat_obj in the global environment\n",
    "\n",
    "  },  \n",
    "  message = function(m) {\n",
    "    print(paste0('Error encountered while processing ', toupper(cell_type)))\n",
    "    print(paste0(toupper(cell_type), ' dropped from experiment'))\n",
    "    # Code to handle the error condition\n",
    "    seurat_obj <- seurat_obj[names(seurat_obj) != cell_type]\n",
    "    assign(\"seurat_obj\", seurat_obj, envir = .GlobalEnv) # Update the modified seurat_obj in the global environment\n",
    "\n",
    "  }) \n",
    "  \n",
    "}\n",
    "\n",
    "print(names(seurat_obj))\n"
   ]
  },
  {
   "cell_type": "code",
   "execution_count": 24,
   "id": "b8e77379",
   "metadata": {},
   "outputs": [],
   "source": [
    "# convert nested list of Seurat object into Rpy2 object \n",
    "seurat_obj =  robjects.ListVector(\n",
    "                        {\n",
    "                            cell_type: seurat_obj[cell_type]\n",
    "                     \n",
    "                            for cell_type in seurat_obj.keys()\n",
    "                        }\n",
    "                    )"
   ]
  },
  {
   "attachments": {},
   "cell_type": "markdown",
   "id": "49676183",
   "metadata": {},
   "source": [
    "hdWGCNA also includes a function PlotDendrogram to visualize the WGCNA dendrogram, a common visualization to show the different co-expression modules resulting from the network analysis. Each leaf on the dendrogram represents a single gene, and the color at the bottom indicates the co-expression module assignment.\n",
    "\n",
    "\n",
    "`Importantly, the “grey” module consists of genes that were not grouped into any co-expression module. The grey module should be ignored for all downstream analysis and interpretation.`"
   ]
  },
  {
   "cell_type": "code",
   "execution_count": 25,
   "id": "8da7dcca",
   "metadata": {},
   "outputs": [],
   "source": [
    "%%R -i seurat_obj -o seurat_obj\n",
    "\n",
    "fig_dir = paste0(\"../results/hdWGCNA/dendrogram/Consensus/\")\n",
    "\n",
    "if (!dir.exists(fig_dir)) {\n",
    "  dir.create(fig_dir, recursive=TRUE)\n",
    "}\n",
    "\n",
    "tryCatch({\n",
    "    for (cell_type in names(seurat_obj)){\n",
    "        # print(paste0('Constructing co-expression networkd in hdWGCNA Experiment for ', toupper(cell_type)))\n",
    "        pdf(paste0(fig_dir, cell_type, \"_consensus_dendrogram.pdf\"), height=2, width=4)\n",
    "        PlotDendrogram(seurat_obj[[cell_type]], main='hdWGCNA Dendrogram')\n",
    "        dev.off()\n",
    "    }\n",
    "}, error = function(e){\n",
    "    NULL\n",
    "})"
   ]
  },
  {
   "cell_type": "code",
   "execution_count": 26,
   "id": "ed9baba4",
   "metadata": {},
   "outputs": [],
   "source": [
    "# convert nested list of Seurat object into Rpy2 object \n",
    "seurat_obj =  robjects.ListVector(\n",
    "                        {\n",
    "                            cell_type: seurat_obj[cell_type]\n",
    "                     \n",
    "                            for cell_type in seurat_obj.keys()\n",
    "                        }\n",
    "                    )"
   ]
  },
  {
   "attachments": {},
   "cell_type": "markdown",
   "id": "a5dfb822",
   "metadata": {},
   "source": [
    "### **Optional: Compare Consensus network results to the standard hdWGCNA workflow**\n",
    "\n",
    "### **Standard hdWGCNA workflow**\n"
   ]
  },
  {
   "cell_type": "code",
   "execution_count": 27,
   "id": "fbea29f2",
   "metadata": {},
   "outputs": [
    {
     "name": "stdout",
     "output_type": "stream",
     "text": [
      "[1] \"Running standard hdWGCNA workflow in hdWGCNA Experiment for INHIBITORY\"\n",
      "pickSoftThreshold: will use block size 4547.\n",
      " pickSoftThreshold: calculating connectivity for given powers...\n",
      "   ..working on genes 1 through 4547 of 4547\n",
      "   Power SFT.R.sq slope truncated.R.sq  mean.k. median.k. max.k.\n",
      "1      1    0.308 26.20          0.963 2310.000  2.31e+03 2410.0\n",
      "2      2    0.121 -7.39          0.858 1190.000  1.19e+03 1380.0\n",
      "3      3    0.640 -9.25          0.775  626.000  6.17e+02  839.0\n",
      "4      4    0.872 -6.98          0.886  334.000  3.24e+02  543.0\n",
      "5      5    0.946 -5.37          0.936  182.000  1.71e+02  370.0\n",
      "6      6    0.961 -4.16          0.949  101.000  9.14e+01  265.0\n",
      "7      7    0.953 -3.36          0.941   57.400  4.92e+01  198.0\n",
      "8      8    0.949 -2.81          0.936   33.600  2.66e+01  153.0\n",
      "9      9    0.938 -2.42          0.923   20.300  1.46e+01  122.0\n",
      "10    10    0.930 -2.14          0.911   12.700  8.01e+00   99.9\n",
      "11    12    0.885 -1.81          0.855    5.620  2.47e+00   71.4\n",
      "12    14    0.868 -1.57          0.841    2.910  7.86e-01   54.3\n",
      "13    16    0.874 -1.42          0.850    1.740  2.57e-01   43.1\n",
      "14    18    0.851 -1.34          0.838    1.150  8.67e-02   35.2\n",
      "15    20    0.834 -1.29          0.836    0.811  2.99e-02   29.4\n",
      "16    22    0.845 -1.23          0.855    0.603  1.05e-02   24.9\n",
      "17    24    0.855 -1.19          0.874    0.463  3.74e-03   21.3\n",
      "18    26    0.856 -1.18          0.883    0.364  1.37e-03   18.5\n",
      "19    28    0.838 -1.18          0.863    0.291  5.05e-04   16.1\n",
      "20    30    0.857 -1.15          0.892    0.237  1.91e-04   14.1\n",
      "Soft power not provided. Automatically using the lowest power that meets 0.8 scale-free topology fit. Using soft_power = 4\n",
      " Calculating consensus modules and module eigengenes block-wise from all genes\n",
      " Calculating topological overlaps block-wise from all genes\n",
      "   Flagging genes and samples with too many missing values...\n",
      "    ..step 1\n",
      "    TOM calculation: adjacency..\n",
      "    ..will not use multithreading.\n",
      "     Fraction of slow calculations: 0.000000\n",
      "    ..connectivity..\n",
      "    ..matrix multiplication (system BLAS)..\n",
      "    ..normalization..\n",
      "    ..done.\n",
      " ..Working on block 1 .\n",
      " ..Working on block 1 .\n",
      " ..merging consensus modules that are too close..\n",
      "$mar\n",
      "[1] 1 5 0 1\n",
      "\n"
     ]
    }
   ],
   "source": [
    "%%R -i seurat_obj -o seurat_obj \n",
    "\n",
    "fig_dir = paste0(\"../results/hdWGCNA/dendrogram/Consensus/\")\n",
    "\n",
    "if (!dir.exists(fig_dir)) {\n",
    "  dir.create(fig_dir, recursive=TRUE)\n",
    "}\n",
    "\n",
    "for (cell_type in celltypes) {\n",
    "  \n",
    "  print(paste0('Running standard hdWGCNA workflow in hdWGCNA Experiment for ', toupper(cell_type)))\n",
    "  \n",
    "  # setup new hdWGCNA experiment\n",
    "  seurat_obj[[cell_type]] <- SetupForWGCNA(\n",
    "    seurat_obj[[cell_type]],\n",
    "    gene_select = \"custom\",\n",
    "    gene_list = as.vector(geneSets[['ad_vs_no']][[cell_type]]),\n",
    "    wgcna_name = paste0(toupper(substr(cell_type, 1, 3)), '_standard'),\n",
    "    metacell_location = paste0(toupper(substr(cell_type, 1, 3)), '_consensus') # use the same metacells\n",
    "  )\n",
    "  seurat_obj[[cell_type]] <- NormalizeMetacells(seurat_obj[[cell_type]])\n",
    "\n",
    "  # construct network\n",
    "  seurat_obj[[cell_type]] <- SetDatExpr(seurat_obj[[cell_type]], group_name = cell_type, group.by = \"cell_type\")\n",
    "  seurat_obj[[cell_type]] <- TestSoftPowers(seurat_obj[[cell_type]])\n",
    "  seurat_obj[[cell_type]] <- ConstructNetwork(seurat_obj[[cell_type]], soft_power=NULL, overwrite_tom = TRUE,\n",
    "                              tom_name = paste0(toupper(substr(cell_type, 1, 3)), '_standard'))\n",
    "\n",
    "  # plot the dendrogram\n",
    "  pdf(paste0(fig_dir, cell_type, \"_standard_dendrogram.pdf\"), height=2, width=4)\n",
    "  print(PlotDendrogram(seurat_obj[[cell_type]], main='ASC standard Dendrogram'))\n",
    "  dev.off()\n",
    "\n",
    "}"
   ]
  },
  {
   "cell_type": "code",
   "execution_count": 28,
   "id": "f51be4d6",
   "metadata": {},
   "outputs": [],
   "source": [
    "# convert nested list of Seurat object into Rpy2 object \n",
    "seurat_obj =  robjects.ListVector(\n",
    "                        {\n",
    "                            cell_type: seurat_obj[cell_type]\n",
    "                     \n",
    "                            for cell_type in seurat_obj.keys()\n",
    "                        }\n",
    "                    )"
   ]
  },
  {
   "attachments": {},
   "cell_type": "markdown",
   "id": "a1171d43",
   "metadata": {},
   "source": [
    "We can plot the gene module assignments from the standard workflow under those from the consensus analysis in the same dendrogram plot as a rough comparison.\n"
   ]
  },
  {
   "cell_type": "code",
   "execution_count": 29,
   "id": "bd0a74f7",
   "metadata": {},
   "outputs": [
    {
     "name": "stdout",
     "output_type": "stream",
     "text": [
      "[1] \"Comparing module assignments in hdWGCNA Experiment for INHIBITORY\"\n"
     ]
    }
   ],
   "source": [
    "%%R -i seurat_obj -o seurat_obj \n",
    "\n",
    "fig_dir = paste0(\"../results/hdWGCNA/dendrogram/Consensus/\")\n",
    "\n",
    "if (!dir.exists(fig_dir)) {\n",
    "  dir.create(fig_dir, recursive=TRUE)\n",
    "}\n",
    "\n",
    "for (cell_type in celltypes) {\n",
    "  \n",
    "  print(paste0('Comparing module assignments in hdWGCNA Experiment for ', toupper(cell_type)))\n",
    "  \n",
    "  # get both sets of modules\n",
    "  modules <- GetModules(seurat_obj[[cell_type]], wgcna_name=paste0(toupper(substr(cell_type, 1, 3)), '_standard'))\n",
    "  consensus_modules <- GetModules(seurat_obj[[cell_type]], wgcna_name=paste0(toupper(substr(cell_type, 1, 3)), '_consensus'))\n",
    "\n",
    "  # get consensus dendrogram\n",
    "  net <- GetNetworkData(seurat_obj[[cell_type]], wgcna_name=paste0(toupper(substr(cell_type, 1, 3)), '_consensus'))\n",
    "  dendro <- net$dendrograms[[1]]\n",
    "\n",
    "  # get the gene and module color for consensus\n",
    "  consensus_genes <- consensus_modules$gene_name\n",
    "  consensus_colors <- consensus_modules$color\n",
    "  names(consensus_colors) <- consensus_genes\n",
    "\n",
    "  # get the gene and module color for standard\n",
    "  genes <- modules$gene_name\n",
    "  colors <- modules$color\n",
    "  names(colors) <- genes\n",
    "\n",
    "  # re-order the genes to match the consensus genes\n",
    "  colors <- colors[consensus_genes]\n",
    "\n",
    "  # set up dataframe for plotting\n",
    "  color_df <- data.frame(\n",
    "    consensus = consensus_colors,\n",
    "    standard = colors\n",
    "  )\n",
    "\n",
    "\n",
    "  pdf(paste0(fig_dir, cell_type, \"_consensus_&_standard_dendrogram.pdf\"), height=2, width=4)\n",
    "  # plot dendrogram using WGCNA function\n",
    "  WGCNA::plotDendroAndColors(\n",
    "    net$dendrograms[[1]],\n",
    "    color_df,\n",
    "    groupLabels=colnames(color_df),\n",
    "    dendroLabels = FALSE, hang = 0.03, addGuide = TRUE, guideHang = 0.05,\n",
    "    main = \"AD consensus dendrogram\",\n",
    "  )\n",
    "  dev.off()\n",
    "\n",
    "}"
   ]
  },
  {
   "cell_type": "code",
   "execution_count": 30,
   "id": "f0831855",
   "metadata": {},
   "outputs": [],
   "source": [
    "# convert nested list of Seurat object into Rpy2 object \n",
    "seurat_obj =  robjects.ListVector(\n",
    "                        {\n",
    "                            cell_type: seurat_obj[cell_type]\n",
    "                     \n",
    "                            for cell_type in seurat_obj.keys()\n",
    "                        }\n",
    "                    )"
   ]
  },
  {
   "attachments": {},
   "cell_type": "markdown",
   "id": "0c1e4545",
   "metadata": {},
   "source": [
    "It is clear to see that much of the co-expression structure is missing when using the standard workflow when the dataset contains vast differences coming from the individual studies. We can take the consensus network and perform any of the downstream hdWGCNA analysis steps.\n"
   ]
  },
  {
   "attachments": {},
   "cell_type": "markdown",
   "id": "5e1c23ce",
   "metadata": {},
   "source": [
    "## **Module Eigengenes and Connectivity**"
   ]
  },
  {
   "attachments": {},
   "cell_type": "markdown",
   "id": "08779263",
   "metadata": {},
   "source": [
    "### **Compute harmonized module eigengenes**\n",
    "\n",
    "`Module Eigengenes (MEs)` are a commonly used metric to summarize the gene expression profile of an entire co-expression module. Briefly, module eigengenes are computed by performing principal component analysis (PCA) on the subset of the gene expression matrix comprising each module. `The first PC of each of these PCA matrices are the MEs.`\n",
    "\n",
    "Dimensionality reduction techniques are a very hot topic in single-cell genomics. It is well known that technical artifacts can muddy the analysis of single-cell datasets, and over the years there have been many methods that aim to reduce the effects of these artifacts. Therefore it stands to reason that `MEs would be subject to these technical artifacts as well`, and hdWGCNA seeks to alleviate these effects.\n",
    "\n",
    "`hdWGCNA includes a function ModuleEigengenes` to compute module eigengenes in single cells. Additionally, we can apply Harmony batch correction to the MEs, yielding harmonized module eigengenes (hMEs).\n",
    "\n",
    "The following code performs the module eigengene computation `harmonizing by the Sample of origin using the group.by.vars parameter.`"
   ]
  },
  {
   "attachments": {},
   "cell_type": "markdown",
   "id": "c011bbb2",
   "metadata": {},
   "source": [
    "### **Compute module connectivity**"
   ]
  },
  {
   "attachments": {},
   "cell_type": "markdown",
   "id": "e9f2e4ad",
   "metadata": {},
   "source": [
    "In co-expression network analysis, we often want to focus on the `“hub genes”`,`those which are highly connected within each module.` Therefore we wish to determine the `eigengene-based connectivity, also known as kME`, of each gene. \n",
    "\n",
    "hdWGCNA includes the ModuleConnectivity to compute the kME values in the full single-cell dataset, rather than the metacell dataset. This function essentially computes pairwise correlations between genes and module eigengenes. kME can be computed for all cells in the dataset, but we recommend computing kME in the cell type or group that was previously used to run ConstructNetwork."
   ]
  },
  {
   "cell_type": "code",
   "execution_count": 31,
   "id": "df854ccb",
   "metadata": {},
   "outputs": [
    {
     "name": "stdout",
     "output_type": "stream",
     "text": [
      "[1] \"Estimating module eigen-genes in hdWGCNA Experiment for INHIBITORY\"\n",
      "[1] \"grey\"\n",
      "[1] \"blue\"\n",
      "[1] \"brown\"\n",
      "[1] \"turquoise\"\n",
      "[1] \"green\"\n",
      "[1] \"red\"\n",
      "[1] \"yellow\"\n",
      "[1] \"Estimating module connectivity in hdWGCNA Experiment for INHIBITORY\"\n",
      "[1] \"----------------\"\n"
     ]
    }
   ],
   "source": [
    "%%R -i seurat_obj -o seurat_obj\n",
    "\n",
    "for (cell_type in names(seurat_obj)){\n",
    "\n",
    "    # change active hdWGCNA experiment to consensus\n",
    "    \n",
    "    seurat_obj[[cell_type]] <- SetActiveWGCNA(seurat_obj[[cell_type]],\n",
    "                             wgcna_name=paste0(toupper(substr(cell_type, 1, 3)), '_consensus'))\n",
    "\n",
    "    print(paste0('Estimating module eigen-genes in hdWGCNA Experiment for ', toupper(cell_type)))\n",
    "    \n",
    "    # need to run ScaleData first or else harmony throws an error:\n",
    "    # seurat_obj[[cell_type]] <- ScaleData(seurat_obj[[cell_type]], features=VariableFeatures(seurat_obj[[cell_type]]))\n",
    "\n",
    "    # compute all MEs in the full single-cell dataset\n",
    "    seurat_obj[[cell_type]] <- ModuleEigengenes(\n",
    "    seurat_obj[[cell_type]],\n",
    "    group.by.vars='study'\n",
    "    )\n",
    "\n",
    "    print(paste0('Estimating module connectivity in hdWGCNA Experiment for ', toupper(cell_type)))\n",
    "\n",
    "    # compute eigengene-based connectivity (kME):\n",
    "    seurat_obj[[cell_type]] <- ModuleConnectivity(\n",
    "        seurat_obj[[cell_type]],\n",
    "        group.by = 'cell_type', \n",
    "        group_name = cell_type\n",
    "    )\n",
    "    \n",
    "    print('----------------')\n",
    "\n",
    "}"
   ]
  },
  {
   "cell_type": "code",
   "execution_count": 32,
   "id": "05f2fc35",
   "metadata": {},
   "outputs": [],
   "source": [
    "# convert nested list of Seurat object into Rpy2 object \n",
    "seurat_obj =  robjects.ListVector(\n",
    "                        {\n",
    "                            cell_type: seurat_obj[cell_type]\n",
    "                     \n",
    "                            for cell_type in seurat_obj.keys()\n",
    "                        }\n",
    "                    )"
   ]
  },
  {
   "attachments": {},
   "cell_type": "markdown",
   "id": "95b46026",
   "metadata": {},
   "source": [
    "For convenience, we re-name the hdWGCNA modules to indicate that they are from the Excitatory neuron group."
   ]
  },
  {
   "cell_type": "code",
   "execution_count": 33,
   "id": "a52dff32",
   "metadata": {},
   "outputs": [
    {
     "name": "stdout",
     "output_type": "stream",
     "text": [
      "[1] \"Renaming modules in hdWGCNA Experiment for INHIBITORY\"\n"
     ]
    }
   ],
   "source": [
    "%%R -i seurat_obj -o seurat_obj\n",
    "\n",
    "for (cell_type in names(seurat_obj)){\n",
    "\n",
    "  print(paste0('Renaming modules in hdWGCNA Experiment for ', toupper(cell_type)))\n",
    "\n",
    "  # rename the modules\n",
    "  seurat_obj[[cell_type]] <- ResetModuleNames(\n",
    "    seurat_obj[[cell_type]],\n",
    "    new_name = paste0(toupper(substr(cell_type, 1, 3)), \"-M\"),\n",
    "    wgcna_name = paste0(toupper(substr(cell_type, 1, 3)), '_consensus') # the name of the hdWGCNA experiment,\n",
    "  )\n",
    "}"
   ]
  },
  {
   "cell_type": "code",
   "execution_count": 34,
   "id": "0f353a5c",
   "metadata": {},
   "outputs": [],
   "source": [
    "# convert nested list of Seurat object into Rpy2 object \n",
    "seurat_obj =  robjects.ListVector(\n",
    "                        {\n",
    "                            cell_type: seurat_obj[cell_type]\n",
    "                     \n",
    "                            for cell_type in seurat_obj.keys()\n",
    "                        }\n",
    "                    )"
   ]
  },
  {
   "attachments": {},
   "cell_type": "markdown",
   "id": "88ad5a62",
   "metadata": {},
   "source": [
    "We also reset module colors"
   ]
  },
  {
   "cell_type": "code",
   "execution_count": 35,
   "id": "5e7726f3",
   "metadata": {},
   "outputs": [
    {
     "name": "stdout",
     "output_type": "stream",
     "text": [
      "[1] \"Resetting module colors in hdWGCNA Experiment for INHIBITORY\"\n"
     ]
    }
   ],
   "source": [
    "%%R -i seurat_obj -o seurat_obj \n",
    "\n",
    "\n",
    "\n",
    "library(MetBrewer)\n",
    "\n",
    "for (cell_type in names(seurat_obj)){\n",
    "\n",
    "  print(paste0('Resetting module colors in hdWGCNA Experiment for ', toupper(cell_type)))\n",
    "\n",
    "\n",
    "  modules <- GetModules(seurat_obj[[cell_type]])\n",
    "  mods <- levels(modules$module)\n",
    "  mod_colors <- dplyr::select(modules, c(module, color)) %>%\n",
    "    distinct %>% arrange(module) %>% .$color\n",
    "  n_colors <- length(mod_colors) -1\n",
    "\n",
    "  new_colors <- paste0(met.brewer(\"Signac\", n=n_colors,))\n",
    "  new_colors <- sample(new_colors)\n",
    "  seurat_obj[[cell_type]] <- ResetModuleColors(seurat_obj[[cell_type]], new_colors)\n",
    "\n",
    "}\n"
   ]
  },
  {
   "cell_type": "code",
   "execution_count": 36,
   "id": "6b194589",
   "metadata": {},
   "outputs": [],
   "source": [
    "# convert nested list of Seurat object into Rpy2 object \n",
    "seurat_obj =  robjects.ListVector(\n",
    "                        {\n",
    "                            cell_type: seurat_obj[cell_type]\n",
    "                     \n",
    "                            for cell_type in seurat_obj.keys()\n",
    "                        }\n",
    "                    )"
   ]
  },
  {
   "attachments": {},
   "cell_type": "markdown",
   "id": "ae334b97",
   "metadata": {},
   "source": [
    "We can visualize the genes in each module ranked by kME using the PlotKMEs function."
   ]
  },
  {
   "cell_type": "code",
   "execution_count": 37,
   "id": "03423498",
   "metadata": {},
   "outputs": [
    {
     "name": "stdout",
     "output_type": "stream",
     "text": [
      "[conflicted] Will prefer dplyr::select over any other package.\n",
      "[1] \"Visualize Module Connectivity (kMEs) in hdWGCNA Experiment for INHIBITORY\"\n",
      "[1] \"INH-M1\"\n",
      "[1] \"INH-M2\"\n",
      "[1] \"INH-M3\"\n",
      "[1] \"INH-M4\"\n",
      "[1] \"INH-M5\"\n",
      "[1] \"INH-M6\"\n",
      "[1] \"INH-M1\"\n",
      "[1] \"INH-M2\"\n",
      "[1] \"INH-M3\"\n",
      "[1] \"INH-M4\"\n",
      "[1] \"INH-M5\"\n",
      "[1] \"INH-M6\"\n"
     ]
    }
   ],
   "source": [
    "%%R -i seurat_obj -o seurat_obj\n",
    "\n",
    "library(conflicted)\n",
    "conflicts_prefer(dplyr::select)\n",
    "\n",
    "fig_dir = paste0(\"../results/hdWGCNA/ModuleConnectivity/Consensus/\")\n",
    "\n",
    "if (!dir.exists(fig_dir)) {\n",
    "  dir.create(fig_dir, recursive=TRUE)\n",
    "}\n",
    "\n",
    "for (cell_type in names(seurat_obj)){\n",
    "    \n",
    "    print(paste0('Visualize Module Connectivity (kMEs) in hdWGCNA Experiment for ', toupper(cell_type)))\n",
    "\n",
    "    # plot genes ranked by kME for each module\n",
    "\n",
    "    p <- PlotKMEs(seurat_obj[[cell_type]], ncol=5)\n",
    "\n",
    "    pdf(paste0(fig_dir, cell_type, 'consensus_KMEs.pdf'), width=12, height=8)\n",
    "    print(p)\n",
    "    dev.off()\n",
    "}"
   ]
  },
  {
   "cell_type": "code",
   "execution_count": 38,
   "id": "c6b1f8fd",
   "metadata": {},
   "outputs": [],
   "source": [
    "# convert nested list of Seurat object into Rpy2 object \n",
    "seurat_obj =  robjects.ListVector(\n",
    "                        {\n",
    "                            cell_type: seurat_obj[cell_type]\n",
    "                     \n",
    "                            for cell_type in seurat_obj.keys()\n",
    "                        }\n",
    "                    )"
   ]
  },
  {
   "attachments": {},
   "cell_type": "markdown",
   "id": "27f2d80d",
   "metadata": {},
   "source": [
    "## **Compute hub gene signature scores**\n",
    "\n",
    "Gene scoring analysis is a popular method in single-cell transcriptomics for computing a score for the overall signature of a set of genes. Seurat implements their own gene scoring technique using the `AddModuleScore` function, but there are also alternative approaches such as UCell.\n",
    "\n",
    "hdWGCNA includes the function `ModuleExprScore` to compute gene scores for a give number of genes for each module, using either the Seurat or UCell algorithm. Gene scoring is an alternative way of summarizing the expression of a module from computing the module eigengene."
   ]
  },
  {
   "cell_type": "code",
   "execution_count": 39,
   "id": "e1f93a8a",
   "metadata": {},
   "outputs": [
    {
     "name": "stdout",
     "output_type": "stream",
     "text": [
      "[1] \"Compute hub gene scores in hdWGCNA Experiment for INHIBITORY\"\n",
      "Selecting by kME_INH-M1\n",
      "Selecting by kME_INH-M2\n",
      "Selecting by kME_INH-M3\n",
      "Selecting by kME_INH-M4\n",
      "Selecting by kME_INH-M5\n",
      "Selecting by kME_INH-M6\n",
      "Selecting by kME_INH-M1\n",
      "Selecting by kME_INH-M2\n",
      "Selecting by kME_INH-M3\n",
      "Selecting by kME_INH-M4\n",
      "Selecting by kME_INH-M5\n",
      "Selecting by kME_INH-M6\n"
     ]
    }
   ],
   "source": [
    "%%R -i seurat_obj -o seurat_obj\n",
    "\n",
    "for (cell_type in names(seurat_obj)){\n",
    "    \n",
    "  print(paste0('Compute hub gene scores in hdWGCNA Experiment for ', toupper(cell_type)))\n",
    "    \n",
    "  # compute gene scoring for the top 25 hub genes by kME for each module\n",
    "  # with Seurat method\n",
    "  seurat_obj[[cell_type]] <- ModuleExprScore(\n",
    "    seurat_obj[[cell_type]],\n",
    "    n_genes = 25,\n",
    "    method='Seurat'\n",
    "  )\n",
    "  \n",
    "  # compute gene scoring for the top 25 hub genes by kME for each module\n",
    "  # with UCell method\n",
    "  library(UCell)\n",
    "  seurat_obj[[cell_type]] <- ModuleExprScore(\n",
    "    seurat_obj[[cell_type]],\n",
    "    n_genes = 25,\n",
    "    method='UCell'\n",
    "  )\n",
    "}"
   ]
  },
  {
   "cell_type": "code",
   "execution_count": 40,
   "id": "34de1c30",
   "metadata": {},
   "outputs": [],
   "source": [
    "# convert nested list of Seurat object into Rpy2 object \n",
    "seurat_obj =  robjects.ListVector(\n",
    "                        {\n",
    "                            cell_type: seurat_obj[cell_type]\n",
    "                     \n",
    "                            for cell_type in seurat_obj.keys()\n",
    "                        }\n",
    "                    )"
   ]
  },
  {
   "attachments": {},
   "cell_type": "markdown",
   "id": "03dc3f32",
   "metadata": {},
   "source": [
    "## **Basic Visualization**\n",
    "\n",
    "Here we visualize some results using hdWGCNA, and we employ some of Seurat’s built-in plotting tools to visualize our hdWGCNA results.\n",
    "\n"
   ]
  },
  {
   "attachments": {},
   "cell_type": "markdown",
   "id": "368c8716",
   "metadata": {},
   "source": [
    "### **Module Feature Plots**\n",
    "\n",
    "FeaturePlot is a commonly used Seurat visualization to show a feature of interest directly on the dimensionality reduction. hdWGCNA includes the ModuleFeaturePlot function to consruct FeaturePlots for each co-expression module colored by each module’s uniquely assigned color."
   ]
  },
  {
   "cell_type": "code",
   "execution_count": 41,
   "id": "c5865383",
   "metadata": {},
   "outputs": [
    {
     "name": "stdout",
     "output_type": "stream",
     "text": [
      "[1] \"Module Feature Plots in hdWGCNA Experiment for INHIBITORY\"\n",
      "[1] \"INH-M1\"\n",
      "[1] \"INH-M2\"\n",
      "[1] \"INH-M3\"\n",
      "[1] \"INH-M4\"\n",
      "[1] \"INH-M5\"\n",
      "[1] \"INH-M6\"\n"
     ]
    }
   ],
   "source": [
    "%%R -i seurat_obj -o seurat_obj\n",
    "\n",
    "\n",
    "fig_dir = paste0(\"../results/hdWGCNA/FeaturePlots/Consensus/\")\n",
    "\n",
    "if (!dir.exists(fig_dir)) {\n",
    "  dir.create(fig_dir, recursive=TRUE)\n",
    "}\n",
    "\n",
    "\n",
    "for (cell_type in names(seurat_obj)){\n",
    "    \n",
    "  print(paste0('Module Feature Plots in hdWGCNA Experiment for ', toupper(cell_type)))\n",
    "     \n",
    "  # make a featureplot of hMEs for each module\n",
    "  plot_list <- ModuleFeaturePlot(\n",
    "    seurat_obj[[cell_type]],\n",
    "    features='hMEs', # plot the hMEs\n",
    "    order=TRUE, # order so the points with highest hMEs are on top\n",
    "    # raster=TRUE, \n",
    "    # raster_dpi=400, \n",
    "    # alpha=1,\n",
    "    # restrict_range=FALSE, \n",
    "    # raster_scale=0.25,\n",
    "  )\n",
    "\n",
    "  plot_list <- lapply(1:length(plot_list), function(x){\n",
    "    plot_list[[x]] + NoLegend() + theme(plot.title=element_text(face='plain', vjust=0.25), plot.margin=margin(c(0,0,0,0)))\n",
    "  })\n",
    "\n",
    "  pdf(paste0(fig_dir, cell_type, \"_consensus_featureplot_MEs.pdf\"), height=10, width=5)\n",
    "  print(wrap_plots(plot_list, ncol=3))\n",
    "  dev.off()\n",
    "}"
   ]
  },
  {
   "cell_type": "code",
   "execution_count": 42,
   "id": "7d1a4b43",
   "metadata": {},
   "outputs": [],
   "source": [
    "# convert nested list of Seurat object into Rpy2 object \n",
    "seurat_obj =  robjects.ListVector(\n",
    "                        {\n",
    "                            cell_type: seurat_obj[cell_type]\n",
    "                     \n",
    "                            for cell_type in seurat_obj.keys()\n",
    "                        }\n",
    "                    )"
   ]
  },
  {
   "attachments": {},
   "cell_type": "markdown",
   "id": "2e09999a",
   "metadata": {},
   "source": [
    "We can also plot the hub gene signature score using the same function:"
   ]
  },
  {
   "cell_type": "code",
   "execution_count": 43,
   "id": "07825465",
   "metadata": {},
   "outputs": [
    {
     "name": "stdout",
     "output_type": "stream",
     "text": [
      "[1] \"Module Feature Plots for HUB GENES in hdWGCNA Experiment for INHIBITORY\"\n",
      "[1] \"INH-M1\"\n",
      "[1] \"INH-M2\"\n",
      "[1] \"INH-M3\"\n",
      "[1] \"INH-M4\"\n",
      "[1] \"INH-M5\"\n",
      "[1] \"INH-M6\"\n"
     ]
    }
   ],
   "source": [
    "%%R -i seurat_obj -o seurat_obj\n",
    "\n",
    "\n",
    "fig_dir = paste0(\"../results/hdWGCNA/FeaturePlots/Consensus/\")\n",
    "\n",
    "if (!dir.exists(fig_dir)) {\n",
    "  dir.create(fig_dir, recursive=TRUE)\n",
    "}\n",
    "\n",
    "\n",
    "for (cell_type in names(seurat_obj)){\n",
    "    \n",
    "  print(paste0('Module Feature Plots for HUB GENES in hdWGCNA Experiment for ', toupper(cell_type)))\n",
    "     \n",
    "  # make a featureplot of hMEs for each module\n",
    "  plot_list <- ModuleFeaturePlot(\n",
    "    seurat_obj[[cell_type]],\n",
    "    features='scores',  # plot the hub gene scores\n",
    "    order='shuffle', # order so cells are shuffled\n",
    "    ucell = TRUE, # depending on Seurat vs UCell for gene scoring\n",
    "    # raster=TRUE, \n",
    "    # raster_dpi=400, \n",
    "    # alpha=1,\n",
    "    # restrict_range=FALSE, \n",
    "    # raster_scale=0.25,\n",
    "  )\n",
    "\n",
    "  plot_list <- lapply(1:length(plot_list), function(x){\n",
    "    plot_list[[x]] + NoLegend() + theme(plot.title=element_text(face='plain', vjust=0.25), plot.margin=margin(c(0,0,0,0)))\n",
    "  })\n",
    "\n",
    "  pdf(paste0(fig_dir, cell_type, \"_consensus_featureplot_hubs.pdf\"), height=10, width=5)\n",
    "  print(wrap_plots(plot_list, ncol=3))\n",
    "  dev.off()\n",
    "}"
   ]
  },
  {
   "cell_type": "code",
   "execution_count": null,
   "id": "dbbce473",
   "metadata": {},
   "outputs": [],
   "source": [
    "# convert nested list of Seurat object into Rpy2 object \n",
    "seurat_obj =  robjects.ListVector(\n",
    "                        {\n",
    "                            cell_type: seurat_obj[cell_type]\n",
    "                     \n",
    "                            for cell_type in seurat_obj.keys()\n",
    "                        }\n",
    "                    )"
   ]
  },
  {
   "cell_type": "markdown",
   "id": "e1975403",
   "metadata": {},
   "source": [
    "# **Save Seurat Object**"
   ]
  },
  {
   "cell_type": "code",
   "execution_count": null,
   "id": "816dbc14",
   "metadata": {},
   "outputs": [
    {
     "name": "stdout",
     "output_type": "stream",
     "text": [
      "[1] \"Saving hdWGCNA object in hdWGCNA Experiment for EXCITATORY\"\n",
      "[1] \"Saving hdWGCNA object in hdWGCNA Experiment for INHIBITORY\"\n",
      "[1] \"Saving hdWGCNA object in hdWGCNA Experiment for ASTROCYTE\"\n",
      "[1] \"Saving hdWGCNA object in hdWGCNA Experiment for MICROGLIA\"\n",
      "[1] \"Saving hdWGCNA object in hdWGCNA Experiment for OLIGODENDROCYTE\"\n"
     ]
    }
   ],
   "source": [
    "%%R -i seurat_obj -o seurat_obj\n",
    "\n",
    "dat_dir = paste0(\"../results/hdWGCNA/SeuratObject/Consensus/\")\n",
    "\n",
    "if (!dir.exists(dat_dir)) {\n",
    "  dir.create(dat_dir, recursive=TRUE)\n",
    "}\n",
    "\n",
    "for (cell_type in names(seurat_obj)){\n",
    "    \n",
    "    print(paste0('Saving hdWGCNA object in hdWGCNA Experiment for ', toupper(cell_type)))\n",
    "\n",
    "    saveRDS(seurat_obj[[cell_type]], file=paste0(dat_dir, cell_type, '_hdWGCNA_object.rds'))\n",
    "\n",
    "}"
   ]
  }
 ],
 "metadata": {
  "kernelspec": {
   "display_name": "scRNA_seq_meta_analysis",
   "language": "python",
   "name": "python3"
  },
  "language_info": {
   "codemirror_mode": {
    "name": "ipython",
    "version": 3
   },
   "file_extension": ".py",
   "mimetype": "text/x-python",
   "name": "python",
   "nbconvert_exporter": "python",
   "pygments_lexer": "ipython3",
   "version": "3.10.6"
  },
  "vscode": {
   "interpreter": {
    "hash": "2f414a000012e1980f5fd1119ed6b9bf8cc73b51e37b52eb52a16ff857effd1c"
   }
  }
 },
 "nbformat": 4,
 "nbformat_minor": 5
}
