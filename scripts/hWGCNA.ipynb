{
 "cells": [
  {
   "cell_type": "code",
   "execution_count": 1,
   "id": "62042f97-a76e-4b34-805f-3f1ac81e7288",
   "metadata": {},
   "outputs": [],
   "source": [
    "import rpy2\n",
    "import scipy\n",
    "import logging\n",
    "import warnings\n",
    "import anndata2ri\n",
    "import pandas as pd\n",
    "import scanpy as sc\n",
    "import numpy as np\n",
    "import seaborn as sb\n",
    "import decoupler as dc\n",
    "import scrublet as scr\n",
    "import decoupler as dc\n",
    "from scipy import sparse\n",
    "from anndata import AnnData\n",
    "from tabnanny import verbose\n",
    "import matplotlib.pyplot as plt\n",
    "from gsva_prep import prep_gsva\n",
    "import rpy2.robjects as robjects\n",
    "from rpy2.robjects import pandas2ri\n",
    "from typing import Optional, Union\n",
    "from matplotlib.pyplot import rcParams\n",
    "from functions import pathway_analyses\n",
    "from statsmodels.stats.multitest import multipletests\n",
    "from sklearn.model_selection import train_test_split\n",
    "from pytorch_lightning.loggers import TensorBoardLogger\n",
    "from rpy2.robjects.conversion import localconverter"
   ]
  },
  {
   "cell_type": "code",
   "execution_count": 2,
   "id": "c36a2bac",
   "metadata": {},
   "outputs": [],
   "source": [
    "def get_sys_dpi(width, height, diag):\n",
    "    '''\n",
    "    obtain dpi of system\n",
    "    \n",
    "    w: width in pixels (if unsure, go vist `whatismyscreenresolution.net`)\n",
    "    h: height in pixels\n",
    "    d: diagonal in inches\n",
    "    '''\n",
    "    w_inches = (diag**2/ (1 + height**2/width**2))**0.5\n",
    "    return round(width/w_inches)"
   ]
  },
  {
   "cell_type": "code",
   "execution_count": 3,
   "id": "447b6d1c",
   "metadata": {},
   "outputs": [
    {
     "name": "stdout",
     "output_type": "stream",
     "text": [
      "-----\n",
      "anndata     0.8.0\n",
      "scanpy      1.9.1\n",
      "-----\n",
      "OpenSSL                     22.0.0\n",
      "PIL                         9.2.0\n",
      "absl                        NA\n",
      "anndata2ri                  1.1\n",
      "appnope                     0.1.2\n",
      "asttokens                   NA\n",
      "astunparse                  1.6.3\n",
      "attr                        21.4.0\n",
      "backcall                    0.2.0\n",
      "beta_ufunc                  NA\n",
      "binom_ufunc                 NA\n",
      "boto3                       1.26.32\n",
      "botocore                    1.29.32\n",
      "bottleneck                  1.3.5\n",
      "brotli                      NA\n",
      "certifi                     2022.09.24\n",
      "cffi                        1.15.1\n",
      "cloudpickle                 2.2.0\n",
      "colorama                    0.4.4\n",
      "cryptography                38.0.1\n",
      "cycler                      0.10.0\n",
      "cython_runtime              NA\n",
      "dask                        2022.11.0\n",
      "dateutil                    2.8.2\n",
      "debugpy                     1.5.1\n",
      "decorator                   5.1.1\n",
      "decoupler                   1.4.0\n",
      "defusedxml                  0.7.1\n",
      "deprecate                   0.3.2\n",
      "entrypoints                 0.4\n",
      "executing                   0.8.3\n",
      "fsspec                      2022.10.0\n",
      "functions                   NA\n",
      "google                      NA\n",
      "gsva_prep                   NA\n",
      "h5py                        3.7.0\n",
      "hypergeom_ufunc             NA\n",
      "igraph                      0.10.2\n",
      "ipykernel                   6.15.2\n",
      "ipython_genutils            0.2.0\n",
      "ipywidgets                  7.6.5\n",
      "jedi                        0.18.1\n",
      "jinja2                      3.1.2\n",
      "jmespath                    1.0.1\n",
      "joblib                      1.1.1\n",
      "kiwisolver                  1.4.2\n",
      "leidenalg                   0.9.0\n",
      "llvmlite                    0.39.1\n",
      "louvain                     0.8.0\n",
      "markupsafe                  2.1.1\n",
      "matplotlib                  3.5.3\n",
      "mpl_toolkits                NA\n",
      "natsort                     7.1.1\n",
      "nbinom_ufunc                NA\n",
      "ncf_ufunc                   NA\n",
      "numba                       0.56.3\n",
      "numexpr                     2.8.3\n",
      "numpy                       1.23.3\n",
      "packaging                   21.3\n",
      "pandas                      1.4.4\n",
      "parso                       0.8.3\n",
      "pexpect                     4.8.0\n",
      "pickleshare                 0.7.5\n",
      "pkg_resources               NA\n",
      "prompt_toolkit              3.0.20\n",
      "psutil                      5.9.0\n",
      "ptyprocess                  0.7.0\n",
      "pure_eval                   0.2.2\n",
      "pyarrow                     11.0.0\n",
      "pycparser                   2.21\n",
      "pydev_ipython               NA\n",
      "pydevconsole                NA\n",
      "pydevd                      2.6.0\n",
      "pydevd_concurrency_analyser NA\n",
      "pydevd_file_utils           NA\n",
      "pydevd_plugins              NA\n",
      "pydevd_tracing              NA\n",
      "pygments                    2.13.0\n",
      "pyparsing                   3.0.9\n",
      "pytorch_lightning           1.7.7\n",
      "pytz                        2022.1\n",
      "pytz_deprecation_shim       NA\n",
      "rich                        NA\n",
      "rpy2                        3.5.10\n",
      "scipy                       1.9.3\n",
      "scrublet                    NA\n",
      "seaborn                     0.11.2\n",
      "session_info                1.0.0\n",
      "setuptools                  65.6.3\n",
      "six                         1.16.0\n",
      "sklearn                     1.1.3\n",
      "sparse                      0.13.0\n",
      "stack_data                  0.2.0\n",
      "statsmodels                 0.13.5\n",
      "tensorboard                 2.10.1\n",
      "texttable                   1.6.4\n",
      "threadpoolctl               2.2.0\n",
      "tlz                         0.12.0\n",
      "toolz                       0.12.0\n",
      "torch                       1.12.1\n",
      "torchmetrics                0.10.2\n",
      "tornado                     6.2\n",
      "tqdm                        4.64.1\n",
      "traitlets                   5.1.1\n",
      "typing_extensions           NA\n",
      "tzlocal                     NA\n",
      "urllib3                     1.26.12\n",
      "wcwidth                     0.2.5\n",
      "yaml                        5.4.1\n",
      "zmq                         23.2.0\n",
      "zoneinfo                    NA\n",
      "-----\n",
      "IPython             8.6.0\n",
      "jupyter_client      7.3.5\n",
      "jupyter_core        4.11.2\n",
      "notebook            6.4.12\n",
      "-----\n",
      "Python 3.10.6 | packaged by conda-forge | (main, Aug 22 2022, 20:41:22) [Clang 13.0.1 ]\n",
      "macOS-13.0.1-arm64-arm-64bit\n",
      "-----\n",
      "Session information updated at 2023-06-13 10:27\n"
     ]
    }
   ],
   "source": [
    "# # Ignore R warning messages\n",
    "#Note: this can be commented out to get more verbose R output\n",
    "rpy2.rinterface_lib.callbacks.logger.setLevel(logging.ERROR)\n",
    "\n",
    "# # Automatically convert rpy2 outputs to pandas dataframes\n",
    "# pandas2ri.activate()\n",
    "# anndata2ri.activate()\n",
    "# %load_ext rpy2.ipython\n",
    "\n",
    "warnings.filterwarnings(\"ignore\", category=PendingDeprecationWarning)\n",
    "warnings.filterwarnings(\"ignore\", category=UserWarning)\n",
    "warnings.filterwarnings(\"ignore\", category=FutureWarning)\n",
    "\n",
    "# Automatically convert rpy2 outputs to pandas dataframes\n",
    "pandas2ri.activate()\n",
    "anndata2ri.activate()\n",
    "%load_ext rpy2.ipython\n",
    "\n",
    "rcParams['figure.dpi'] = get_sys_dpi(1512, 982, 14.125)\n",
    "#rcParams['figure.figsize']=(4,4) #rescale figures\n",
    "\n",
    "sc.settings.verbosity = 3\n",
    "#sc.set_figure_params(dpi=200, dpi_save=300)\n",
    "sc.logging.print_versions()\n",
    "\n"
   ]
  },
  {
   "attachments": {},
   "cell_type": "markdown",
   "id": "a1a6a687-9397-4cce-809f-0bca4c0072f6",
   "metadata": {},
   "source": [
    "# **Table of contents**:\n",
    "\n",
    "  * <a href=#Reading>1. Reading in the data</a>\n",
    "  * <a href=#Preprocessing>2. Systematic differential analysis of gene expression</a>"
   ]
  },
  {
   "attachments": {},
   "cell_type": "markdown",
   "id": "10be21f0-000d-48d7-9e97-4051ec9da0bd",
   "metadata": {},
   "source": [
    "## **1. hdWGCNA in single-cell data**"
   ]
  },
  {
   "attachments": {},
   "cell_type": "markdown",
   "id": "2fb39a9a",
   "metadata": {},
   "source": [
    "Here we use `hdWGCNA` to perform co-expression network analysis on single-cell data. \n",
    "\n",
    "`hdWGCNA` is an R package for performing `weighted gene co-expression network analysis (WGCNA)` in high dimensional transcriptomics data such as single-cell RNA-seq or spatial transcriptomics. hdWGCNA is highly modular and can construct co-expression networks across multi-scale cellular and spatial hierarchies. hdWGNCA identifies robust modules of inerconnected genes, and provides context for these modules through various biological knowledge sources. hdWGCNA requires data formatted as Seurat objects, one of the most ubiquitous formats for single-cell data. \n",
    "\n",
    "`Note: hdWGCNA is under active development, so you may run into errors and small typos. We welcome users to write GitHub issues to report bugs, ask for help, and to request potential enhancements.`\n",
    "\n",
    "Explore the full capabilites of hWGNA in the following publications:\n",
    "\n",
    "- [**Morabito et al. bioRxiv 2022**](https://www.biorxiv.org/content/10.1101/2022.09.22.509094v1)\n",
    "- [**Morabito & Miyoshi et al. Nature Genetics 2021**](https://www.nature.com/articles/s41588-021-00894-z)\n"
   ]
  },
  {
   "attachments": {},
   "cell_type": "markdown",
   "id": "5cda9123",
   "metadata": {},
   "source": [
    "Here, apply hdWGCNA to the processed single-nucleus RNA-seq (snRNA-seq) datasets. These dataset have already been fully processed using a standard single-cell transcritpomics analysis pipelines (please see the following notebooks, `preprocessing_data_integration`, `preprocessing_quality_control`, `preprocessing_cluster_annotation`). \n",
    "\n",
    "\n",
    "If you would like to apply this notebook to your own dataset, you first need to satisfy the following prerequisites:\n",
    "\n",
    "A single-cell or single-nucleus transcriptomics dataset in Seurat format.\n",
    "Normalize the gene expression matrix NormalizeData.\n",
    "Identify highly variable genes VariableFeatures.\n",
    "Scale the normalized expression data ScaleData\n",
    "Perform dimensionality reduction RunPCA and batch correction if needed RunHarmony.\n",
    "Non-linear dimensionality reduction RunUMAP for visualizations.\n",
    "Group cells into clusters (FindNeighbors and FindClusters).\n",
    "An example of running the prerequisite data processing steps can be found in the Seurat Guided Clustering Tutorial.\n"
   ]
  },
  {
   "cell_type": "code",
   "execution_count": 4,
   "id": "8b87d243",
   "metadata": {},
   "outputs": [
    {
     "name": "stdout",
     "output_type": "stream",
     "text": [
      "\n",
      "    WARNING: The R package \"reticulate\" only fixed recently\n",
      "    an issue that caused a segfault when used with rpy2:\n",
      "    https://github.com/rstudio/reticulate/pull/1188\n",
      "    Make sure that you use a version of that package that includes\n",
      "    the fix.\n",
      "    "
     ]
    }
   ],
   "source": [
    "%%R\n",
    "suppressPackageStartupMessages({\n",
    "    library(WGCNA)\n",
    "    library(Matrix)\n",
    "    library(viridis)\n",
    "    library(harmony)\n",
    "    library(ggpubr)\n",
    "    library(tictoc)\n",
    "    library(RColorBrewer)\n",
    "    library(Hmisc)\n",
    "    library(corrplot)\n",
    "    library(grid)\n",
    "    library(gridExtra)\n",
    "    library(igraph)\n",
    "    library(ggrepel)\n",
    "\n",
    "\n",
    "    # single-cell analysis package\n",
    "    library(Seurat)\n",
    "\n",
    "    # plotting and data science packages\n",
    "    library(tidyverse)\n",
    "    library(cowplot)\n",
    "    library(patchwork)\n",
    "\n",
    "    # co-expression network analysis packages:\n",
    "    library(WGCNA)\n",
    "    library(hdWGCNA)\n",
    "\n",
    "    # gene enrichment packages\n",
    "    library(enrichR)\n",
    "    library(GeneOverlap)\n",
    "\n",
    "\n",
    "# needs to be run every time you start R and want to use %>%\n",
    "})\n",
    "\n",
    "# using the cowplot theme for ggplot\n",
    "theme_set(theme_cowplot())\n",
    "\n",
    "# set random seed for reproducibility\n",
    "set.seed(12345)\n",
    "\n",
    "# optionally enable multithreading\n",
    "# enableWGCNAThreads(nThreads = 4)"
   ]
  },
  {
   "attachments": {},
   "cell_type": "markdown",
   "id": "646870b9",
   "metadata": {},
   "source": [
    "## **Prepare data**\n",
    "\n",
    "Now, we load the preprocessed and annotated data for downstream analysis."
   ]
  },
  {
   "cell_type": "code",
   "execution_count": 5,
   "id": "9697f83a",
   "metadata": {},
   "outputs": [],
   "source": [
    "save_prefix = 'allen_mtg'\n",
    "\n",
    "adata_annot = sc.read_h5ad(f'../data/processed/{save_prefix}/{save_prefix}_mapped_anndata.h5ad')\n",
    "adata_annot.obs_names_make_unique()\n",
    "adata_annot.var_names_make_unique()\n",
    "adata_annot.X = adata_annot.layers['counts'].copy()\n",
    "del adata_annot.obsm, adata_annot.layers, adata_annot.varm, adata_annot.uns, adata_annot.obsp\n"
   ]
  },
  {
   "cell_type": "code",
   "execution_count": 6,
   "id": "d8504101",
   "metadata": {},
   "outputs": [],
   "source": [
    "map_meta = True\n",
    "filter_genes = \"TRUE\"\n",
    "subject_id = 'individualID'                # for leng this is `PatientID` for mathys is 'Subject', and 'individualID' for allen\n",
    "gene_celltype_threshold = 0.05          # determines number of cells the gene must be expressed in \n",
    "covariates = ['None']                   # list of covariates to be accounted for in regression.\n",
    "deg_method =  'DESeq2-Wald'\n",
    "test_names = ['late_vs_early', 'early_vs_no', 'late_vs_no', 'ad_vs_no']\n",
    "celltypes = [\"OPC\"] #[\"Excitatory\", \"Inhibitory\", \"Astrocyte\", \"Microglia\", \"Oligodendrocyte\", \"OPC\"]\n",
    "metadata = f'../data/raw/{save_prefix}/{save_prefix}_metadata.csv' \n",
    "meta = pd.read_csv(metadata, encoding_errors='ignore')"
   ]
  },
  {
   "cell_type": "code",
   "execution_count": 7,
   "id": "3888c7a2",
   "metadata": {},
   "outputs": [],
   "source": [
    "# map the pathology group to teh subject id in .obs\n",
    "\n",
    "adata_annot.obs['pathology.group'] = adata_annot.obs[subject_id].map(dict(zip(meta[subject_id].astype(str), meta['pathology.group'])))"
   ]
  },
  {
   "cell_type": "code",
   "execution_count": 8,
   "id": "839f795a",
   "metadata": {},
   "outputs": [
    {
     "name": "stdout",
     "output_type": "stream",
     "text": [
      "class: SingleCellExperiment \n",
      "dim: 17950 104349 \n",
      "metadata(0):\n",
      "assays(1): X\n",
      "rownames(17950): A1BG A1CF ... ZZEF1 ZZZ3\n",
      "rowData names(10): mt n_cells_by_counts ... dispersions\n",
      "  dispersions_norm\n",
      "colnames(104349): AAAGGTAGTACGGCAA AACCAACGTGGATCGA ...\n",
      "  TTTGTTGCAACAGTGG TTTGTTGGTGAATTGA\n",
      "colData names(106): ID name ... cell_type predictions\n",
      "reducedDimNames(0):\n",
      "mainExpName: NULL\n",
      "altExpNames(0):\n",
      "[1] \"loaded data into memory for recursive use\"\n"
     ]
    }
   ],
   "source": [
    "%%R -i adata_annot -i subject_id -i gene_celltype_threshold -i celltypes -i test_names -i save_prefix\n",
    "\n",
    "print(adata_annot)\n",
    "print('loaded data into memory for recursive use')"
   ]
  },
  {
   "cell_type": "code",
   "execution_count": 9,
   "id": "74c5d20a",
   "metadata": {},
   "outputs": [],
   "source": [
    "del adata_annot"
   ]
  },
  {
   "attachments": {},
   "cell_type": "markdown",
   "id": "8a3955a2",
   "metadata": {},
   "source": [
    "## **Set up Seurat object for WGCNA**"
   ]
  },
  {
   "attachments": {},
   "cell_type": "markdown",
   "id": "2d154d2e",
   "metadata": {},
   "source": [
    "Before running hdWGCNA, we first have to set up the Seurat object. Most of the information computed by hdWGCNA is stored in the Seurat object’s `@misc slot`. \n",
    "\n",
    "A single Seurat object can hold multiple hdWGCNA experiments, for example representing different cell types in the same single-cell dataset. Notably, since we consider hdWGCNA to be a downstream data analysis step, we do not need to subset the Seurat object after `SetupForWGCNA` has been run.\n",
    "\n",
    "Here we will set up the Seurat object using the `SetupForWGCNA` function, specifying the name of the hdWGNCA experiment. This function also selects the genes that will be used for WGCNA. We can aslo select genes using three different approaches using the gene_select parameter:\n",
    "\n",
    "\n",
    "- `variable`: use the genes stored in the Seurat object’s `VariableFeatures`.\n",
    "\n",
    "- `fraction`: use genes that are expressed in a certain fraction of cells for in the whole dataset or in each group of cells, specified by group.by.\n",
    "\n",
    "- `custom`: use genes that are specified in a custom list.\n",
    "\n",
    "Here, we will select genes that are expressed in at least 5% of cells in each cell-type, and we will rename our hdWGCNA experiment.\n"
   ]
  },
  {
   "cell_type": "code",
   "execution_count": 10,
   "id": "845fa1c5",
   "metadata": {},
   "outputs": [
    {
     "name": "stdout",
     "output_type": "stream",
     "text": [
      "An object of class Seurat \n",
      "17950 features across 104349 samples within 1 assay \n",
      "Active assay: originalexp (17950 features, 0 variable features)\n",
      "[1] \"Creating hdWGNA Experiment for OPC\"\n",
      "[1] 17950  2838\n",
      "An object of class Seurat \n",
      "17950 features across 2838 samples within 1 assay \n",
      "Active assay: originalexp (17950 features, 2000 variable features)\n",
      " 3 dimensional reductions calculated: pca, harmony, umap\n"
     ]
    }
   ],
   "source": [
    "%%R -o seurat_obj\n",
    "\n",
    "seurat_obj <- as.Seurat(adata_annot, counts = \"X\", data = \"X\")\n",
    "\n",
    "print(seurat_obj)\n",
    "\n",
    "# Perform dimensionality reduction and plot\n",
    "\n",
    "seurat_obj <- FindVariableFeatures(seurat_obj)\n",
    "seurat_obj <- ScaleData(seurat_obj)\n",
    "seurat_obj <- RunPCA(seurat_obj)\n",
    "seurat_obj <- RunHarmony(seurat_obj, group.by.vars = subject_id)\n",
    "seurat_obj <- RunUMAP(seurat_obj, reduction='harmony', n.neighbors=15, dims=1:30, min.dist=0.1)\n",
    "\n",
    "p <- DimPlot(seurat_obj, group.by = \"cell_type\", label = TRUE) +\n",
    "     umap_theme() + ggtitle(\"leng\") + NoLegend()\n",
    "\n",
    "# Save plot to PDF\n",
    "pdf(file = paste0(\"../results/hdWGCNA/UMAP/\", save_prefix, \"_integrated_umap.pdf\"), width = 4, height = 4, useDingbats = FALSE)\n",
    "print(p)\n",
    "dev.off()\n",
    "\n",
    "# create a hdWGCNA experiment for each celltype\n",
    "seurat_dat <- seurat_obj\n",
    "seurat_obj <- list()\n",
    "\n",
    "for (cur_cell_type in celltypes){\n",
    "\n",
    "  seurat_obj[[cur_cell_type]] <- subset(seurat_dat, cell_type == cur_cell_type)\n",
    "\n",
    "  print(paste0('Creating hdWGNA Experiment for ', toupper(cur_cell_type)))\n",
    "\n",
    "  seurat_obj[[cur_cell_type]] <- SetupForWGCNA(\n",
    "    seurat_obj[[cur_cell_type]],\n",
    "    gene_select = \"fraction\", # the gene selection approach\n",
    "    fraction = 0.05,          # fraction of cells that a gene needs to be expressed in order to be included\n",
    "    group.by = 'cell_type',   # \n",
    "    wgcna_name = toupper(substr(cur_cell_type, 1, 3)),        # the name of the hdWGCNA experiment\n",
    "  )\n",
    "  print(seurat_obj[[cur_cell_type]])\n",
    "}\n",
    "\n",
    "rm(seurat_dat)\n",
    "rm(adata_annot)"
   ]
  },
  {
   "attachments": {},
   "cell_type": "markdown",
   "id": "9e89e217",
   "metadata": {},
   "source": [
    "Send list to R interface"
   ]
  },
  {
   "cell_type": "code",
   "execution_count": 11,
   "id": "ff771eaa",
   "metadata": {},
   "outputs": [],
   "source": [
    "# convert nested list of Seurat object into Rpy2 object \n",
    "\n",
    "seurat_obj =  robjects.ListVector(\n",
    "                        {\n",
    "                            cell_type: seurat_obj[cell_type]\n",
    "                     \n",
    "                            for cell_type in celltypes\n",
    "                        }\n",
    "                    )"
   ]
  },
  {
   "attachments": {},
   "cell_type": "markdown",
   "id": "ccd0e590",
   "metadata": {},
   "source": [
    "## **Construct metacells**"
   ]
  },
  {
   "attachments": {},
   "cell_type": "markdown",
   "id": "07813598",
   "metadata": {},
   "source": [
    "After setting up our Seurat object, the first step in running the hdWGCNA pipeine in hdWGCNA is to construct metacells from the single-cell dataset. \n",
    "\n",
    "Briefly, `metacells are aggregates of small groups of similar cells originating from the same biological sample of origin.` The k-Nearest Neighbors (KNN) algorithm is used to identify groups of similar cells to aggregate, and then the average or summed expression of these cells is computed, thus yielding a metacell gene expression matrix. `The sparsity of the metacell expression matrix is considerably reduced` when compared to the original expression matrix, and therefore it is preferable to use. We were originally motivated to use metacells in place of the original single cells because correlation network approaches such as WGCNA are sensitive to data sparsity. Furthermore, single-cell epigenomic approaches, such as Cicero, employ a similar metacell aggregation approach prior to constructing co-accessibility networks.\n",
    "\n",
    "hdWGCNA includes a function MetacellsByGroups to construct metacell expression matrices given a single-cell dataset. This function constructs a new Seurat object for the metacell dataset which is stored internally in the hdWGCNA experiment. \n",
    "\n",
    "The `group.by` parameter determines which groups metacells will be constructed in. \n",
    "\n",
    "`We only want to construct metacells from cells that came from the same biological sample of origin, so it is critical to pass that information to hdWGCNA via the group.by parameter.` \n",
    "\n",
    "Additionally, we usually construct metacells for each cell type separately. `Thus, in this example, we are grouping by Sample and cell_type to achieve the desired result.`\n",
    "\n",
    "The number of cells to be aggregated k should be tuned based on the size of the input dataset, in general a lower number for k can be used for small datasets. `Generally use k values between 20 and 75 for 40,039 cells`, ranging from 890 to 8,188 in each biological sample, and here we used k=25. The amount of allowable overlap between metacells can be tuned using the max_shared argument.\n",
    "\n",
    "Note: The metacell aggregation approach does not yield good results for extremely underrepresented cell types. For example, the brain vascular cells (pericytes and endothelial cells), thus we have excluded them from this analysis. \n",
    "\n",
    "`MetacellsByGroups `has a parameter min_cells to exclude groups that are smaller than a specified number of cells. Errors are likely to arise if the selected value for min_cells is too low.\n",
    "\n",
    "`Here we construct metacells and normalize in each hdWGCNA experiment`\n",
    "\n",
    "The resulting expression matrix is obtained using the following code:"
   ]
  },
  {
   "cell_type": "code",
   "execution_count": 12,
   "id": "e92860fa",
   "metadata": {},
   "outputs": [
    {
     "name": "stdout",
     "output_type": "stream",
     "text": [
      "[1] \"Constructing MetaCells in hdWGCNA Experiment for OPC\"\n"
     ]
    }
   ],
   "source": [
    "%%R -i seurat_obj -o seurat_obj\n",
    "\n",
    "# construct metacells in each group for each wgnca experiment\n",
    "\n",
    "for (cell_type in celltypes){\n",
    "\n",
    "  print(paste0('Constructing MetaCells in hdWGCNA Experiment for ', toupper(cell_type)))\n",
    "  \n",
    "  seurat_obj[[cell_type]] <- MetacellsByGroups(\n",
    "      \n",
    "    seurat_obj = seurat_obj[[cell_type]],\n",
    "    group.by = c(\"cell_type\", subject_id), # specify the columns in seurat_obj@meta.data to group by\n",
    "    reduction = 'harmony',  # select the dimensionality reduction to perform KNN on\n",
    "    k = 25, # nearest-neighbors parameter\n",
    "    max_shared = 10, # maximum number of shared cells between two metacells\n",
    "    ident.group = 'cell_type', # set the Idents of the metacell seurat object\n",
    "    wgcna_name = toupper(substr(cell_type, 1, 3)),        # the name of the hdWGCNA experiment\n",
    "    )\n",
    "\n",
    "    # normalize metacell expression matrix:\n",
    "  seurat_obj[[cell_type]] <- NormalizeMetacells(seurat_obj[[cell_type]],  wgcna_name = toupper(substr(cell_type, 1, 3)))\n",
    "}\n"
   ]
  },
  {
   "cell_type": "code",
   "execution_count": 13,
   "id": "db92cb94",
   "metadata": {},
   "outputs": [],
   "source": [
    "# convert nested list of Seurat object into Rpy2 object \n",
    "seurat_obj =  robjects.ListVector(\n",
    "                        {\n",
    "                            cell_type: seurat_obj[cell_type]\n",
    "                     \n",
    "                            for cell_type in celltypes\n",
    "                        }\n",
    "                    )"
   ]
  },
  {
   "attachments": {},
   "cell_type": "markdown",
   "id": "b70e5121",
   "metadata": {},
   "source": [
    "## **Process the Metacell Seurat Object**\n",
    "\n",
    "Since we store the Metacell expression information as its own Seurat object, we can run Seurat functions on the metacell data. We can get the metacell object from the hdWGCNA experiment using `GetMetacellObject.`"
   ]
  },
  {
   "cell_type": "code",
   "execution_count": 14,
   "id": "46d9dccd",
   "metadata": {},
   "outputs": [],
   "source": [
    "# %%R -i seurat_obj -o metacell_obj\n",
    "\n",
    "# metacell_obj <- list()\n",
    "# for (cell_type in celltypes){\n",
    "#     print(paste0('Obtaining MetaCells in hdWGCNA Experiment for ', toupper(cell_type)))\n",
    "#     metacell_obj[[cell_type]] <- GetMetacellObject(seurat_obj[[cell_type]] , \n",
    "#                                         wgcna_name = toupper(substr(cell_type, 1, 3))       # the name of the hdWGCNA experiment\n",
    "#                                      )\n",
    "#     print(metacell_obj[[cell_type]])\n",
    "# }"
   ]
  },
  {
   "attachments": {},
   "cell_type": "markdown",
   "id": "a6c0058a",
   "metadata": {},
   "source": [
    "Here we use wrapper functions to process the metacell object and visualize one of the aggregated expression profiles in two dimensions with UMAP."
   ]
  },
  {
   "cell_type": "code",
   "execution_count": 15,
   "id": "db7b36f8",
   "metadata": {},
   "outputs": [
    {
     "name": "stdout",
     "output_type": "stream",
     "text": [
      "[1] \"Processing MetaCells in hdWGCNA Experiment for OPC\"\n"
     ]
    }
   ],
   "source": [
    "%%R -i seurat_obj -o seurat_obj\n",
    "\n",
    "\n",
    "for (cell_type in celltypes){\n",
    "\n",
    "    print(paste0('Processing MetaCells in hdWGCNA Experiment for ', toupper(cell_type)))\n",
    "    \n",
    "    seurat_obj[[cell_type]]  <- NormalizeMetacells(seurat_obj[[cell_type]])\n",
    "    seurat_obj[[cell_type]]  <- ScaleMetacells(seurat_obj[[cell_type]] , features=VariableFeatures(seurat_obj[[cell_type]]))\n",
    "    seurat_obj[[cell_type]]  <- RunPCAMetacells(seurat_obj[[cell_type]] , features=VariableFeatures(seurat_obj[[cell_type]]))\n",
    "    seurat_obj[[cell_type]]  <- RunHarmonyMetacells(seurat_obj[[cell_type]] , group.by.vars=subject_id)\n",
    "    seurat_obj[[cell_type]]  <- RunUMAPMetacells(seurat_obj[[cell_type]] , reduction='harmony', dims=1:15)\n",
    "\n",
    "\n",
    "    p1 <- DimPlotMetacells(seurat_obj[[cell_type]] , group.by='cell_type') + umap_theme() + ggtitle(\"Cell Type\")\n",
    "    p2 <- DimPlotMetacells(seurat_obj[[cell_type]] , group.by=subject_id) + umap_theme() + ggtitle(subject_id)\n",
    "\n",
    "    p1 | p2\n",
    "\n",
    "}"
   ]
  },
  {
   "cell_type": "code",
   "execution_count": 16,
   "id": "6085ce6e",
   "metadata": {},
   "outputs": [],
   "source": [
    "# convert nested list of Seurat object into Rpy2 object \n",
    "seurat_obj =  robjects.ListVector(\n",
    "                        {\n",
    "                            cell_type: seurat_obj[cell_type]\n",
    "                     \n",
    "                            for cell_type in celltypes\n",
    "                        }\n",
    "                    )"
   ]
  },
  {
   "attachments": {},
   "cell_type": "markdown",
   "id": "fac55be8",
   "metadata": {},
   "source": [
    "## **Co-expression network analysis**"
   ]
  },
  {
   "attachments": {},
   "cell_type": "markdown",
   "id": "f03072ae",
   "metadata": {},
   "source": [
    "### **Set up the expression matrix**\n",
    "\n",
    "Here we specify the expression matrix that we will use for network analysis. We only include a single cell-type of interest per run/simulation, so we have to subset our expression data prior to constructing the network. hdWGCNA includes the `SetDatExpr` function to store the transposed expression matrix for a given group of cells that will be used for downstream network analysis.\n",
    "\n",
    "The metacell expression matrix is used by default `(use_metacells=TRUE)`, but hdWGCNA does allow for the single-cell expression matrix to be used if desired.. This function allows the user to specify which slot to take the expression matrix from, for example if the user wanted to apply SCTransform normalization instead of NormalizeData."
   ]
  },
  {
   "cell_type": "code",
   "execution_count": 17,
   "id": "7830296b",
   "metadata": {},
   "outputs": [
    {
     "name": "stdout",
     "output_type": "stream",
     "text": [
      "[1] \"Setting up expression matrix in hdWGCNA Experiment for OPC\"\n"
     ]
    }
   ],
   "source": [
    "%%R -i seurat_obj -o seurat_obj\n",
    "\n",
    "\n",
    "for (cell_type in celltypes){\n",
    "\n",
    "    print(paste0('Setting up expression matrix in hdWGCNA Experiment for ', toupper(cell_type)))\n",
    "\n",
    "    seurat_obj[[cell_type]] <- SetDatExpr(\n",
    "      seurat_obj[[cell_type]],\n",
    "      group_name = cell_type, # the name of the group of interest in the group.by column\n",
    "      group.by = 'cell_type', # the metadata column containing the cell type info. This same column should have also been used in MetacellsByGroups\n",
    "      assay = 'originalexp', # using RNA assay\n",
    "      slot = 'data', # using normalized data\n",
    "      wgcna_name = toupper(substr(cell_type, 1, 3)) # the name of the hdWGCNA experiment\n",
    "    )\n",
    "}"
   ]
  },
  {
   "cell_type": "code",
   "execution_count": 18,
   "id": "3c40b7ec",
   "metadata": {},
   "outputs": [],
   "source": [
    "# convert nested list of Seurat object into Rpy2 object \n",
    "seurat_obj =  robjects.ListVector(\n",
    "                        {\n",
    "                            cell_type: seurat_obj[cell_type]\n",
    "                     \n",
    "                            for cell_type in celltypes\n",
    "                        }\n",
    "                    )"
   ]
  },
  {
   "attachments": {},
   "cell_type": "markdown",
   "id": "a70cc5c4",
   "metadata": {},
   "source": [
    "### **Select soft-power threshold**\n",
    "\n",
    "Next we will select the “soft power threshold”. This is an extremely important step in the hdWGNCA pipleine (and for vanilla WGCNA). hdWGCNA constructs a gene-gene correlation adjacency matrix to infer co-expression relationships between genes. The correlations are raised to a power to reduce the amount of noise present in the correlation matrix, thereby retaining the strong connections and removing the weak connections. Therefore, it is critical to determine a proper value for the soft power threshold.\n",
    "\n",
    "We use the function `TestSoftPowers` to perform a parameter sweep for different soft power thresholds. This function helps us to guide our choice in a soft power threshold for constructing the co-expression network by inspecting the resulting network topology for different power values. The co-expression network should have a scale-free topology, therefore the TestSoftPowers function models how closely the co-expression network resembles a scale-free graph at different soft power thresholds. Furthermore, we use the function `PlotSoftPowers` to visualize the results of the parameter sweep.\n",
    "\n",
    "The following code performs the parameter sweep and outputs a summary figure."
   ]
  },
  {
   "cell_type": "code",
   "execution_count": 19,
   "id": "e63133c6",
   "metadata": {},
   "outputs": [
    {
     "name": "stdout",
     "output_type": "stream",
     "text": [
      "[1] \"Estinmating Soft-Power Threshold in hdWGCNA Experiment for OPC\"\n",
      "pickSoftThreshold: will use block size 4104.\n",
      " pickSoftThreshold: calculating connectivity for given powers...\n",
      "   ..working on genes 1 through 4104 of 10901\n",
      "   ..working on genes 4105 through 8208 of 10901\n",
      "   ..working on genes 8209 through 10901 of 10901\n",
      "   Power SFT.R.sq slope truncated.R.sq  mean.k. median.k.  max.k.\n",
      "1      1  0.17200  8.98          0.919 5.58e+03  5.60e+03 6150.00\n",
      "2      2  0.00693 -0.86          0.986 2.91e+03  2.91e+03 3620.00\n",
      "3      3  0.18400 -3.33          0.965 1.54e+03  1.53e+03 2220.00\n",
      "4      4  0.45400 -4.28          0.935 8.31e+02  8.11e+02 1410.00\n",
      "5      5  0.73500 -4.63          0.955 4.55e+02  4.35e+02  920.00\n",
      "6      6  0.87400 -4.44          0.976 2.53e+02  2.36e+02  616.00\n",
      "7      7  0.92000 -3.95          0.982 1.43e+02  1.30e+02  423.00\n",
      "8      8  0.95100 -3.55          0.985 8.22e+01  7.22e+01  296.00\n",
      "9      9  0.97600 -3.20          0.992 4.81e+01  4.07e+01  212.00\n",
      "10    10  0.98400 -2.97          0.994 2.86e+01  2.31e+01  157.00\n",
      "11    12  0.98900 -2.57          0.992 1.07e+01  7.68e+00   89.60\n",
      "12    14  0.99200 -2.30          0.997 4.30e+00  2.64e+00   56.80\n",
      "13    16  0.99100 -2.08          0.998 1.88e+00  9.35e-01   38.20\n",
      "14    18  0.98500 -1.93          0.997 8.89e-01  3.40e-01   26.90\n",
      "15    20  0.98000 -1.81          0.996 4.55e-01  1.27e-01   19.70\n",
      "16    22  0.97300 -1.72          0.994 2.50e-01  4.85e-02   14.90\n",
      "17    24  0.96800 -1.64          0.987 1.47e-01  1.90e-02   11.50\n",
      "18    26  0.97000 -1.56          0.981 9.10e-02  7.55e-03    9.12\n",
      "19    28  0.97000 -1.52          0.985 5.90e-02  3.05e-03    7.34\n",
      "20    30  0.97500 -1.47          0.985 3.97e-02  1.26e-03    5.99\n",
      "  Power   SFT.R.sq      slope truncated.R.sq   mean.k. median.k.    max.k.\n",
      "1     1 0.17173633  8.9759042      0.9188594 5581.9837 5599.3437 6149.5783\n",
      "2     2 0.00693363 -0.8595773      0.9863146 2909.3391 2909.5926 3624.6260\n",
      "3     3 0.18377467 -3.3342461      0.9650234 1542.0374 1526.9599 2223.1154\n",
      "4     4 0.45362201 -4.2836953      0.9348703  830.7669  810.9246 1409.3129\n",
      "5     5 0.73457440 -4.6281587      0.9549338  454.8230  434.9921  919.8569\n",
      "6     6 0.87423919 -4.4410680      0.9762417  253.0270  236.0267  616.3145\n"
     ]
    }
   ],
   "source": [
    "%%R -i seurat_obj -o seurat_obj\n",
    "\n",
    "fig_dir = paste0(\"../results/hdWGCNA/SoftPower/\", save_prefix, '/')\n",
    "\n",
    "if (!dir.exists(fig_dir)) {\n",
    "  dir.create(fig_dir, recursive=TRUE)\n",
    "}\n",
    "\n",
    "\n",
    "for (cell_type in celltypes){\n",
    "  \n",
    "  print(paste0('Estinmating Soft-Power Threshold in hdWGCNA Experiment for ', toupper(cell_type)))\n",
    "\n",
    "  # Test different soft powers:\n",
    "  seurat_obj[[cell_type]] <- TestSoftPowers(\n",
    "    seurat_obj[[cell_type]],\n",
    "    networkType = 'signed', # you can also use \"unsigned\" or \"signed hybrid\"\n",
    "    setDatExpr = TRUE,\n",
    "    group.by = 'cell_type',\n",
    "    group_name = cell_type,\n",
    "  )\n",
    "\n",
    "  # plot the results:\n",
    "  plot_list <- PlotSoftPowers(seurat_obj[[cell_type]], \n",
    "                              # wgcna_name = toupper(substr(cell_type, 1, 3)) # the name of the hdWGCNA experiment\n",
    "                              )\n",
    "\n",
    "  # assemble with patchwork\n",
    "  pdf(paste0(fig_dir, cell_type, '_SoftPower.pdf'), width=12, height=8)\n",
    "  print(wrap_plots(plot_list, ncol=2))\n",
    "  dev.off()\n",
    "\n",
    "}"
   ]
  },
  {
   "cell_type": "code",
   "execution_count": 20,
   "id": "f5b7f474",
   "metadata": {},
   "outputs": [],
   "source": [
    "# convert nested list of Seurat object into Rpy2 object \n",
    "seurat_obj =  robjects.ListVector(\n",
    "                        {\n",
    "                            cell_type: seurat_obj[cell_type]\n",
    "                     \n",
    "                            for cell_type in celltypes\n",
    "                        }\n",
    "                    )"
   ]
  },
  {
   "attachments": {},
   "cell_type": "markdown",
   "id": "2ad0b902",
   "metadata": {},
   "source": [
    "The general guidance for WGCNA and hdWGCNA is to `pick the lowest soft power threshold that has a Scale Free Topology Model Fit greater than or equal to 0.8`. Later on, the `ConstructNetwork `will automatically select the soft power threshold if we do not provide one.\n",
    "\n",
    "The output table from the parameter sweep is stored in the hdWGCNA experiment and can be accessed using the GetPowerTable function for further inspection:"
   ]
  },
  {
   "cell_type": "code",
   "execution_count": 21,
   "id": "62c54e96",
   "metadata": {},
   "outputs": [],
   "source": [
    "# %%R -i seurat_obj -o seurat_obj\n",
    "\n",
    "# power_table <- GetPowerTable(seurat_obj)\n",
    "# head(power_table)"
   ]
  },
  {
   "attachments": {},
   "cell_type": "markdown",
   "id": "7c6251e4",
   "metadata": {},
   "source": [
    "### **Construct co-expression network**\n",
    "\n",
    "We now have everything that we need to construct our co-expression network. Here we use the hdWGCNA function ConstructNetwork, which calls the WGCNA function blockwiseConsensusModules under the hood. This function has quite a few parameters to play with if for advanced use cases, but we use default parameters that work well with many single-cell datasets. \n",
    "\n",
    "The parameters for blockwiseConsensusModules can be passed directly to ConstructNetwork with the same parameter names.\n",
    "\n",
    "The following code construtcts the co-expression network using the soft power threshold selected above:"
   ]
  },
  {
   "cell_type": "code",
   "execution_count": 22,
   "id": "14831950",
   "metadata": {},
   "outputs": [
    {
     "name": "stdout",
     "output_type": "stream",
     "text": [
      "[1] \"Constructing co-expression network in hdWGCNA Experiment for OPC\"\n",
      "Soft power not provided. Automatically using the lowest power that meets 0.8 scale-free topology fit. Using soft_power = 6\n",
      " Calculating consensus modules and module eigengenes block-wise from all genes\n",
      " Calculating topological overlaps block-wise from all genes\n",
      "   Flagging genes and samples with too many missing values...\n",
      "    ..step 1\n",
      "    TOM calculation: adjacency..\n",
      "    ..will not use multithreading.\n",
      "     Fraction of slow calculations: 0.000000\n",
      "    ..connectivity..\n",
      "    ..matrix multiplication (system BLAS)..\n",
      "    ..normalization..\n",
      "    ..done.\n",
      " ..Working on block 1 .\n",
      " ..Working on block 1 .\n",
      " ..merging consensus modules that are too close..\n",
      "[1] \"OPC\"\n"
     ]
    }
   ],
   "source": [
    "%%R -i seurat_obj -o seurat_obj\n",
    "\n",
    "\n",
    "for (cell_type in celltypes) {\n",
    "  \n",
    "  print(paste0('Constructing co-expression network in hdWGCNA Experiment for ', toupper(cell_type)))\n",
    "  \n",
    "  tryCatch({\n",
    "    # construct co-expression network:\n",
    "    seurat_obj[[cell_type]] <- ConstructNetwork(\n",
    "      seurat_obj[[cell_type]], \n",
    "      soft_power = NULL, # Set to NULL so that the ConstructNetwork function obtains it automatically (Scale Free Topology Model Fit >= 0.8)\n",
    "      setDatExpr = FALSE,\n",
    "      overwrite_tom = TRUE,\n",
    "      tom_name = toupper(substr(cell_type, 1, 3)) # name of the topological overlap matrix written to disk set as the name of the hdWGCNA experiment \n",
    "    )\n",
    "  }, error = function(e) {\n",
    "    print(paste0('Error encountered while processing ', toupper(cell_type)))\n",
    "    print(paste0(toupper(cell_type), ' dropped from experiment'))\n",
    "    # Code to handle the error condition\n",
    "    seurat_obj <- seurat_obj[names(seurat_obj) != cell_type]\n",
    "    assign(\"seurat_obj\", seurat_obj, envir = .GlobalEnv) # Update the modified seurat_obj in the global environment\n",
    "\n",
    "  },  \n",
    "  message = function(m) {\n",
    "    print(paste0('Error encountered while processing ', toupper(cell_type)))\n",
    "    print(paste0(toupper(cell_type), ' dropped from experiment'))\n",
    "    # Code to handle the error condition\n",
    "    seurat_obj <- seurat_obj[names(seurat_obj) != cell_type]\n",
    "    assign(\"seurat_obj\", seurat_obj, envir = .GlobalEnv) # Update the modified seurat_obj in the global environment\n",
    "\n",
    "  }) \n",
    "  \n",
    "}\n",
    "\n",
    "\n",
    "print(names(seurat_obj))\n"
   ]
  },
  {
   "cell_type": "code",
   "execution_count": 23,
   "id": "b8e77379",
   "metadata": {},
   "outputs": [],
   "source": [
    "# convert nested list of Seurat object into Rpy2 object \n",
    "seurat_obj =  robjects.ListVector(\n",
    "                        {\n",
    "                            cell_type: seurat_obj[cell_type]\n",
    "                     \n",
    "                            for cell_type in seurat_obj.keys()\n",
    "                        }\n",
    "                    )"
   ]
  },
  {
   "attachments": {},
   "cell_type": "markdown",
   "id": "49676183",
   "metadata": {},
   "source": [
    "hdWGCNA also includes a function PlotDendrogram to visualize the WGCNA dendrogram, a common visualization to show the different co-expression modules resulting from the network analysis. Each leaf on the dendrogram represents a single gene, and the color at the bottom indicates the co-expression module assignment.\n",
    "\n",
    "\n",
    "`Importantly, the “grey” module consists of genes that were not grouped into any co-expression module. The grey module should be ignored for all downstream analysis and interpretation.`"
   ]
  },
  {
   "cell_type": "code",
   "execution_count": 24,
   "id": "8da7dcca",
   "metadata": {},
   "outputs": [],
   "source": [
    "%%R -i seurat_obj -o seurat_obj\n",
    "\n",
    "fig_dir = paste0(\"../results/hdWGCNA/dendrogram/\", save_prefix, '/')\n",
    "\n",
    "if (!dir.exists(fig_dir)) {\n",
    "  dir.create(fig_dir, recursive=TRUE)\n",
    "}\n",
    "\n",
    "tryCatch({\n",
    "    for (cell_type in names(seurat_obj)){\n",
    "        # print(paste0('Constructing co-expression networkd in hdWGCNA Experiment for ', toupper(cell_type)))\n",
    "        pdf(paste0(fig_dir, cell_type, \"_dendro.pdf\"), height=2, width=4)\n",
    "        PlotDendrogram(seurat_obj[[cell_type]], main='hdWGCNA Dendrogram')\n",
    "        dev.off()\n",
    "    }\n",
    "}, error = function(e){\n",
    "    NULL\n",
    "})"
   ]
  },
  {
   "cell_type": "code",
   "execution_count": 25,
   "id": "ed9baba4",
   "metadata": {},
   "outputs": [],
   "source": [
    "# convert nested list of Seurat object into Rpy2 object \n",
    "seurat_obj =  robjects.ListVector(\n",
    "                        {\n",
    "                            cell_type: seurat_obj[cell_type]\n",
    "                     \n",
    "                            for cell_type in seurat_obj.keys()\n",
    "                        }\n",
    "                    )"
   ]
  },
  {
   "attachments": {},
   "cell_type": "markdown",
   "id": "a5dfb822",
   "metadata": {},
   "source": [
    "### **Optional: inspect the topoligcal overlap matrix (TOM)**\n",
    "\n",
    "hdWGCNA represents the co-expression network as a `topoligcal overlap matrix (TOM)`. This is a square matrix of genes by genes, where each value is the topoligcal overlap between the genes. The TOM is written to the disk when running ConstructNetwork, and we can load it into R using the GetTOM function. \n",
    "\n",
    "We may wish to inspect the TOM for custom downstream analyses.\n",
    "\n"
   ]
  },
  {
   "cell_type": "code",
   "execution_count": 26,
   "id": "fbea29f2",
   "metadata": {},
   "outputs": [],
   "source": [
    "# %%R -i seurat_obj -o seurat_obj -o TOM\n",
    "\n",
    "# TOM <- GetTOM(seurat_obj)"
   ]
  },
  {
   "attachments": {},
   "cell_type": "markdown",
   "id": "5e1c23ce",
   "metadata": {},
   "source": [
    "### **Module Eigengenes and Connectivity**"
   ]
  },
  {
   "attachments": {},
   "cell_type": "markdown",
   "id": "08779263",
   "metadata": {},
   "source": [
    "### Compute harmonized module eigengenes\n",
    "\n",
    "`Module Eigengenes (MEs)` are a commonly used metric to summarize the gene expression profile of an entire co-expression module. Briefly, module eigengenes are computed by performing principal component analysis (PCA) on the subset of the gene expression matrix comprising each module. `The first PC of each of these PCA matrices are the MEs.`\n",
    "\n",
    "Dimensionality reduction techniques are a very hot topic in single-cell genomics. It is well known that technical artifacts can muddy the analysis of single-cell datasets, and over the years there have been many methods that aim to reduce the effects of these artifacts. Therefore it stands to reason that `MEs would be subject to these technical artifacts as well`, and hdWGCNA seeks to alleviate these effects.\n",
    "\n",
    "`hdWGCNA includes a function ModuleEigengenes` to compute module eigengenes in single cells. Additionally, we can apply Harmony batch correction to the MEs, yielding harmonized module eigengenes (hMEs).\n",
    "\n",
    "The following code performs the module eigengene computation `harmonizing by the Sample of origin using the group.by.vars parameter.`"
   ]
  },
  {
   "cell_type": "code",
   "execution_count": 27,
   "id": "df854ccb",
   "metadata": {},
   "outputs": [
    {
     "name": "stdout",
     "output_type": "stream",
     "text": [
      "[1] \"Estimating module eigen-genes in hdWGCNA Experiment for OPC\"\n",
      "[1] \"yellow\"\n",
      "[1] \"grey\"\n",
      "[1] \"turquoise\"\n",
      "[1] \"blue\"\n",
      "[1] \"magenta\"\n",
      "[1] \"brown\"\n",
      "[1] \"black\"\n",
      "[1] \"green\"\n",
      "[1] \"red\"\n",
      "[1] \"purple\"\n",
      "[1] \"tan\"\n",
      "[1] \"pink\"\n",
      "[1] \"greenyellow\"\n",
      "[1] \"salmon\"\n",
      "[1] \"cyan\"\n",
      "[1] \"----------------\"\n"
     ]
    }
   ],
   "source": [
    "%%R -i seurat_obj -o seurat_obj\n",
    "\n",
    "for (cell_type in names(seurat_obj)){\n",
    "\n",
    "    print(paste0('Estimating module eigen-genes in hdWGCNA Experiment for ', toupper(cell_type)))\n",
    "    \n",
    "    # need to run ScaleData first or else harmony throws an error:\n",
    "    seurat_obj[[cell_type]] <- ScaleData(seurat_obj[[cell_type]], features=VariableFeatures(seurat_obj[[cell_type]]))\n",
    "\n",
    "    # compute all MEs in the full single-cell dataset\n",
    "    seurat_obj[[cell_type]] <- ModuleEigengenes(\n",
    "    seurat_obj[[cell_type]],\n",
    "    group.by.vars=subject_id\n",
    "    )\n",
    "    print('----------------')\n",
    "\n",
    "}"
   ]
  },
  {
   "cell_type": "code",
   "execution_count": 28,
   "id": "05f2fc35",
   "metadata": {},
   "outputs": [],
   "source": [
    "# convert nested list of Seurat object into Rpy2 object \n",
    "seurat_obj =  robjects.ListVector(\n",
    "                        {\n",
    "                            cell_type: seurat_obj[cell_type]\n",
    "                     \n",
    "                            for cell_type in seurat_obj.keys()\n",
    "                        }\n",
    "                    )"
   ]
  },
  {
   "attachments": {},
   "cell_type": "markdown",
   "id": "05cd78cf",
   "metadata": {},
   "source": [
    "The ME matrices are stored as a matrix where each row is a cell and each column is a module. This matrix can be extracted from the Seurat object using the GetMEs function, which retrieves the hMEs by default."
   ]
  },
  {
   "cell_type": "code",
   "execution_count": 29,
   "id": "93840f67",
   "metadata": {},
   "outputs": [
    {
     "name": "stdout",
     "output_type": "stream",
     "text": [
      "[1] \"Getting harmonized and non-harmonized MEs in hdWGCNA Experiment for OPC\"\n"
     ]
    }
   ],
   "source": [
    "%%R -i seurat_obj -o seurat_obj -o hMEs -o MEs\n",
    "\n",
    "hMEs <- list()\n",
    "MEs <- list()\n",
    "\n",
    "for (cell_type in names(seurat_obj)){\n",
    "    print(paste0('Getting harmonized and non-harmonized MEs in hdWGCNA Experiment for ', toupper(cell_type)))\n",
    "    \n",
    "    # harmonized module eigengenes:\n",
    "    hMEs[[cell_type]] <- GetMEs(seurat_obj[[cell_type]])\n",
    "\n",
    "    # module eigengenes:\n",
    "    MEs[[cell_type]] <- GetMEs(seurat_obj[[cell_type]], harmonized=FALSE)\n",
    "}"
   ]
  },
  {
   "cell_type": "code",
   "execution_count": 30,
   "id": "8075bc3e",
   "metadata": {},
   "outputs": [],
   "source": [
    "# convert nested list of Seurat object into Rpy2 object \n",
    "seurat_obj =  robjects.ListVector(\n",
    "                        {\n",
    "                            cell_type: seurat_obj[cell_type]\n",
    "                     \n",
    "                            for cell_type in seurat_obj.keys()\n",
    "                        }\n",
    "                    )"
   ]
  },
  {
   "attachments": {},
   "cell_type": "markdown",
   "id": "c011bbb2",
   "metadata": {},
   "source": [
    "### Compute module connectivity"
   ]
  },
  {
   "attachments": {},
   "cell_type": "markdown",
   "id": "e9f2e4ad",
   "metadata": {},
   "source": [
    "In co-expression network analysis, we often want to focus on the `“hub genes”`,`those which are highly connected within each module.` Therefore we wish to determine the `eigengene-based connectivity, also known as kME`, of each gene. \n",
    "\n",
    "hdWGCNA includes the ModuleConnectivity to compute the kME values in the full single-cell dataset, rather than the metacell dataset. This function essentially computes pairwise correlations between genes and module eigengenes. kME can be computed for all cells in the dataset, but we recommend computing kME in the cell type or group that was previously used to run ConstructNetwork."
   ]
  },
  {
   "cell_type": "code",
   "execution_count": 31,
   "id": "9ebaef5b",
   "metadata": {},
   "outputs": [
    {
     "name": "stdout",
     "output_type": "stream",
     "text": [
      "[1] \"Estimating module connectivity in hdWGCNA Experiment for OPC\"\n"
     ]
    }
   ],
   "source": [
    "%%R -i seurat_obj -o seurat_obj\n",
    "\n",
    "for (cell_type in names(seurat_obj)){\n",
    "\n",
    "  print(paste0('Estimating module connectivity in hdWGCNA Experiment for ', toupper(cell_type)))\n",
    "\n",
    "  # compute eigengene-based connectivity (kME):\n",
    "  seurat_obj[[cell_type]] <- ModuleConnectivity(\n",
    "    seurat_obj[[cell_type]],\n",
    "    group.by = 'cell_type', \n",
    "    group_name = cell_type\n",
    "  )\n",
    "  \n",
    "}"
   ]
  },
  {
   "cell_type": "code",
   "execution_count": 32,
   "id": "72891253",
   "metadata": {},
   "outputs": [],
   "source": [
    "# convert nested list of Seurat object into Rpy2 object \n",
    "seurat_obj =  robjects.ListVector(\n",
    "                        {\n",
    "                            cell_type: seurat_obj[cell_type]\n",
    "                     \n",
    "                            for cell_type in seurat_obj.keys()\n",
    "                        }\n",
    "                    )"
   ]
  },
  {
   "attachments": {},
   "cell_type": "markdown",
   "id": "95b46026",
   "metadata": {},
   "source": [
    "For convenience, we re-name the hdWGCNA modules to indicate that they are from the Excitatory neuron group."
   ]
  },
  {
   "cell_type": "code",
   "execution_count": 33,
   "id": "a52dff32",
   "metadata": {},
   "outputs": [
    {
     "name": "stdout",
     "output_type": "stream",
     "text": [
      "[1] \"Renaming modules in hdWGCNA Experiment for OPC\"\n"
     ]
    }
   ],
   "source": [
    "%%R -i seurat_obj -o seurat_obj\n",
    "\n",
    "for (cell_type in names(seurat_obj)){\n",
    "\n",
    "  print(paste0('Renaming modules in hdWGCNA Experiment for ', toupper(cell_type)))\n",
    "\n",
    "  # rename the modules\n",
    "  seurat_obj[[cell_type]] <- ResetModuleNames(\n",
    "    seurat_obj[[cell_type]],\n",
    "    new_name = paste0(toupper(substr(cell_type, 1, 3)), \"-M\"),\n",
    "    wgcna_name = toupper(substr(cell_type, 1, 3)) # the name of the hdWGCNA experiment,\n",
    "  )\n",
    "}"
   ]
  },
  {
   "cell_type": "code",
   "execution_count": 34,
   "id": "0f353a5c",
   "metadata": {},
   "outputs": [],
   "source": [
    "# convert nested list of Seurat object into Rpy2 object \n",
    "seurat_obj =  robjects.ListVector(\n",
    "                        {\n",
    "                            cell_type: seurat_obj[cell_type]\n",
    "                     \n",
    "                            for cell_type in seurat_obj.keys()\n",
    "                        }\n",
    "                    )"
   ]
  },
  {
   "attachments": {},
   "cell_type": "markdown",
   "id": "88ad5a62",
   "metadata": {},
   "source": [
    "We also reset module colors"
   ]
  },
  {
   "cell_type": "code",
   "execution_count": 35,
   "id": "5e7726f3",
   "metadata": {},
   "outputs": [
    {
     "name": "stdout",
     "output_type": "stream",
     "text": [
      "[1] \"Resetting module colors in hdWGCNA Experiment for OPC\"\n"
     ]
    }
   ],
   "source": [
    "%%R -i seurat_obj -o seurat_obj \n",
    "\n",
    "\n",
    "\n",
    "library(MetBrewer)\n",
    "\n",
    "for (cell_type in names(seurat_obj)){\n",
    "\n",
    "  print(paste0('Resetting module colors in hdWGCNA Experiment for ', toupper(cell_type)))\n",
    "\n",
    "\n",
    "  modules <- GetModules(seurat_obj[[cell_type]])\n",
    "  mods <- levels(modules$module)\n",
    "  mod_colors <- dplyr::select(modules, c(module, color)) %>%\n",
    "    distinct %>% arrange(module) %>% .$color\n",
    "  n_colors <- length(mod_colors) -1\n",
    "\n",
    "  new_colors <- paste0(met.brewer(\"Signac\", n=n_colors, type='discrete'))\n",
    "  new_colors <- sample(new_colors)\n",
    "  seurat_obj[[cell_type]] <- ResetModuleColors(seurat_obj[[cell_type]], new_colors)\n",
    "\n",
    "}\n"
   ]
  },
  {
   "cell_type": "code",
   "execution_count": 36,
   "id": "6b194589",
   "metadata": {},
   "outputs": [],
   "source": [
    "# convert nested list of Seurat object into Rpy2 object \n",
    "seurat_obj =  robjects.ListVector(\n",
    "                        {\n",
    "                            cell_type: seurat_obj[cell_type]\n",
    "                     \n",
    "                            for cell_type in seurat_obj.keys()\n",
    "                        }\n",
    "                    )"
   ]
  },
  {
   "attachments": {},
   "cell_type": "markdown",
   "id": "ae334b97",
   "metadata": {},
   "source": [
    "We can visualize the genes in each module ranked by kME using the PlotKMEs function."
   ]
  },
  {
   "cell_type": "code",
   "execution_count": 37,
   "id": "03423498",
   "metadata": {},
   "outputs": [
    {
     "name": "stdout",
     "output_type": "stream",
     "text": [
      "[1] \"Visualize Module Connectivity (kMEs) in hdWGCNA Experiment for OPC\"\n",
      "[1] \"OPC-M1\"\n",
      "[1] \"OPC-M2\"\n",
      "[1] \"OPC-M3\"\n",
      "[1] \"OPC-M4\"\n",
      "[1] \"OPC-M5\"\n",
      "[1] \"OPC-M6\"\n",
      "[1] \"OPC-M7\"\n",
      "[1] \"OPC-M8\"\n",
      "[1] \"OPC-M9\"\n",
      "[1] \"OPC-M10\"\n",
      "[1] \"OPC-M11\"\n",
      "[1] \"OPC-M12\"\n",
      "[1] \"OPC-M13\"\n",
      "[1] \"OPC-M14\"\n",
      "[1] \"OPC-M1\"\n",
      "[1] \"OPC-M2\"\n",
      "[1] \"OPC-M3\"\n",
      "[1] \"OPC-M4\"\n",
      "[1] \"OPC-M5\"\n",
      "[1] \"OPC-M6\"\n",
      "[1] \"OPC-M7\"\n",
      "[1] \"OPC-M8\"\n",
      "[1] \"OPC-M9\"\n",
      "[1] \"OPC-M10\"\n",
      "[1] \"OPC-M11\"\n",
      "[1] \"OPC-M12\"\n",
      "[1] \"OPC-M13\"\n",
      "[1] \"OPC-M14\"\n"
     ]
    }
   ],
   "source": [
    "%%R -i seurat_obj -o seurat_obj\n",
    "\n",
    "\n",
    "fig_dir = paste0(\"../results/hdWGCNA/ModuleConnectivity/\", save_prefix, '/')\n",
    "\n",
    "if (!dir.exists(fig_dir)) {\n",
    "  dir.create(fig_dir, recursive=TRUE)\n",
    "}\n",
    "\n",
    "for (cell_type in names(seurat_obj)){\n",
    "    \n",
    "    print(paste0('Visualize Module Connectivity (kMEs) in hdWGCNA Experiment for ', toupper(cell_type)))\n",
    "\n",
    "    # plot genes ranked by kME for each module\n",
    "\n",
    "    p <- PlotKMEs(seurat_obj[[cell_type]], ncol=5)\n",
    "\n",
    "    pdf(paste0(fig_dir, cell_type, '_KMEs.pdf'), width=12, height=8)\n",
    "    print(p)\n",
    "    dev.off()\n",
    "}"
   ]
  },
  {
   "cell_type": "code",
   "execution_count": 38,
   "id": "c6b1f8fd",
   "metadata": {},
   "outputs": [],
   "source": [
    "# convert nested list of Seurat object into Rpy2 object \n",
    "seurat_obj =  robjects.ListVector(\n",
    "                        {\n",
    "                            cell_type: seurat_obj[cell_type]\n",
    "                     \n",
    "                            for cell_type in seurat_obj.keys()\n",
    "                        }\n",
    "                    )"
   ]
  },
  {
   "attachments": {},
   "cell_type": "markdown",
   "id": "b8d0658b",
   "metadata": {},
   "source": [
    "### Getting the module assignment table\n",
    "\n",
    "hdWGCNA allows for easy access of the module assignment table using the GetModules function. \n",
    "\n",
    "This table consists of three columns: \n",
    "\n",
    "- gene_name stores the gene’s symbol or ID, \n",
    "- module stores the gene’s module assignment, and \n",
    "- color stores a color mapping for each module, \n",
    "\n",
    "which is used in many downstream plotting steps. If ModuleConnectivity has been called on this hdWGCNA experiment, this table will have additional columns for the kME of each module."
   ]
  },
  {
   "cell_type": "code",
   "execution_count": 39,
   "id": "9121be04",
   "metadata": {},
   "outputs": [
    {
     "name": "stdout",
     "output_type": "stream",
     "text": [
      "[1] \"Obtain Module Assignment Table in hdWGCNA Experiment for OPC\"\n",
      "      gene_name module   color kME_OPC-M1   kME_grey kME_OPC-M2\n",
      "A2M         A2M OPC-M1 #9b3441  0.2245655 0.05185938 0.01187656\n",
      "AAAS       AAAS   grey    grey  0.1103003 0.15419261 0.14485426\n",
      "AACS       AACS   grey    grey  0.1136716 0.20582454 0.22261105\n",
      "AADAT     AADAT   grey    grey  0.2531230 0.27139765 0.25258343\n",
      "AAGAB     AAGAB   grey    grey  0.2077413 0.27707943 0.28005958\n",
      "AAK1       AAK1 OPC-M2 #9f5691  0.4496742 0.56295352 0.54802637\n"
     ]
    }
   ],
   "source": [
    "%%R -i seurat_obj -o seurat_obj\n",
    "\n",
    "for (cell_type in names(seurat_obj)){\n",
    "    \n",
    "    print(paste0('Obtain Module Assignment Table in hdWGCNA Experiment for ', toupper(cell_type)))\n",
    "\n",
    "    # get the module assignment table:\n",
    "    modules <- GetModules(seurat_obj[[cell_type]])\n",
    "\n",
    "    # show the first 6 columns:\n",
    "    print(head(modules[,1:6]))\n",
    "}"
   ]
  },
  {
   "cell_type": "code",
   "execution_count": 40,
   "id": "21bdbbf7",
   "metadata": {},
   "outputs": [],
   "source": [
    "# convert nested list of Seurat object into Rpy2 object \n",
    "seurat_obj =  robjects.ListVector(\n",
    "                        {\n",
    "                            cell_type: seurat_obj[cell_type]\n",
    "                     \n",
    "                            for cell_type in seurat_obj.keys()\n",
    "                        }\n",
    "                    )"
   ]
  },
  {
   "attachments": {},
   "cell_type": "markdown",
   "id": "48d2e707",
   "metadata": {},
   "source": [
    "A table of the top N hub genes sorted by kME can be extracted using the GetHubGenes function."
   ]
  },
  {
   "cell_type": "code",
   "execution_count": 41,
   "id": "3a0b8898",
   "metadata": {},
   "outputs": [
    {
     "name": "stdout",
     "output_type": "stream",
     "text": [
      "[1] \"Obtain Hub Genes in hdWGCNA Experiment for OPC\"\n",
      "  gene_name module       kME\n",
      "1     HMGN1 OPC-M1 0.4771302\n",
      "2     TRPC1 OPC-M1 0.4898684\n",
      "3      RCN2 OPC-M1 0.4903589\n",
      "4   SPARCL1 OPC-M1 0.4967821\n",
      "5     ARMC8 OPC-M1 0.5065546\n",
      "6    MFSD4B OPC-M1 0.5070362\n"
     ]
    }
   ],
   "source": [
    "%%R -i seurat_obj -o seurat_obj\n",
    "\n",
    "for (cell_type in names(seurat_obj)){\n",
    "    \n",
    "    print(paste0('Obtain Hub Genes in hdWGCNA Experiment for ', toupper(cell_type)))\n",
    "\n",
    "    # get hub genes\n",
    "    hub_df <- GetHubGenes(seurat_obj[[cell_type]], n_hubs = 10)\n",
    "\n",
    "    print(head(hub_df))\n",
    "}"
   ]
  },
  {
   "cell_type": "code",
   "execution_count": 42,
   "id": "8f478886",
   "metadata": {},
   "outputs": [],
   "source": [
    "# convert nested list of Seurat object into Rpy2 object \n",
    "seurat_obj =  robjects.ListVector(\n",
    "                        {\n",
    "                            cell_type: seurat_obj[cell_type]\n",
    "                     \n",
    "                            for cell_type in seurat_obj.keys()\n",
    "                        }\n",
    "                    )"
   ]
  },
  {
   "attachments": {},
   "cell_type": "markdown",
   "id": "c0739db5",
   "metadata": {},
   "source": [
    "This wraps up the critical analysis steps for hdWGCNA, let's save our output."
   ]
  },
  {
   "cell_type": "code",
   "execution_count": 43,
   "id": "ba8f4c61",
   "metadata": {},
   "outputs": [
    {
     "name": "stdout",
     "output_type": "stream",
     "text": [
      "[1] \"Saving hdWGCNA object in hdWGCNA Experiment for OPC\"\n"
     ]
    }
   ],
   "source": [
    "%%R -i seurat_obj -o seurat_obj\n",
    "\n",
    "dat_dir = paste0(\"../results/hdWGCNA/SeuratObject/\", save_prefix, '/')\n",
    "\n",
    "if (!dir.exists(dat_dir)) {\n",
    "  dir.create(dat_dir, recursive=TRUE)\n",
    "}\n",
    "\n",
    "\n",
    "for (cell_type in names(seurat_obj)){\n",
    "    \n",
    "    print(paste0('Saving hdWGCNA object in hdWGCNA Experiment for ', toupper(cell_type)))\n",
    "\n",
    "    saveRDS(seurat_obj[[cell_type]], file=paste0(dat_dir, cell_type, '_hdWGCNA_object.rds'))\n",
    "\n",
    "}"
   ]
  },
  {
   "cell_type": "code",
   "execution_count": 44,
   "id": "05bbd46f",
   "metadata": {},
   "outputs": [],
   "source": [
    "# convert nested list of Seurat object into Rpy2 object \n",
    "seurat_obj =  robjects.ListVector(\n",
    "                        {\n",
    "                            cell_type: seurat_obj[cell_type]\n",
    "                     \n",
    "                            for cell_type in seurat_obj.keys()\n",
    "                        }\n",
    "                    )"
   ]
  },
  {
   "attachments": {},
   "cell_type": "markdown",
   "id": "27f2d80d",
   "metadata": {},
   "source": [
    "## **Compute hub gene signature scores**\n",
    "\n",
    "Gene scoring analysis is a popular method in single-cell transcriptomics for computing a score for the overall signature of a set of genes. Seurat implements their own gene scoring technique using the `AddModuleScore` function, but there are also alternative approaches such as UCell.\n",
    "\n",
    "hdWGCNA includes the function `ModuleExprScore` to compute gene scores for a give number of genes for each module, using either the Seurat or UCell algorithm. Gene scoring is an alternative way of summarizing the expression of a module from computing the module eigengene."
   ]
  },
  {
   "cell_type": "code",
   "execution_count": 45,
   "id": "e1f93a8a",
   "metadata": {},
   "outputs": [
    {
     "name": "stdout",
     "output_type": "stream",
     "text": [
      "[1] \"Compute hub gene scores in hdWGCNA Experiment for OPC\"\n",
      "Selecting by kME_OPC-M1\n",
      "Selecting by kME_OPC-M2\n",
      "Selecting by kME_OPC-M3\n",
      "Selecting by kME_OPC-M4\n",
      "Selecting by kME_OPC-M5\n",
      "Selecting by kME_OPC-M6\n",
      "Selecting by kME_OPC-M7\n",
      "Selecting by kME_OPC-M8\n",
      "Selecting by kME_OPC-M9\n",
      "Selecting by kME_OPC-M10\n",
      "Selecting by kME_OPC-M11\n",
      "Selecting by kME_OPC-M12\n",
      "Selecting by kME_OPC-M13\n",
      "Selecting by kME_OPC-M14\n",
      "Selecting by kME_OPC-M1\n",
      "Selecting by kME_OPC-M2\n",
      "Selecting by kME_OPC-M3\n",
      "Selecting by kME_OPC-M4\n",
      "Selecting by kME_OPC-M5\n",
      "Selecting by kME_OPC-M6\n",
      "Selecting by kME_OPC-M7\n",
      "Selecting by kME_OPC-M8\n",
      "Selecting by kME_OPC-M9\n",
      "Selecting by kME_OPC-M10\n",
      "Selecting by kME_OPC-M11\n",
      "Selecting by kME_OPC-M12\n",
      "Selecting by kME_OPC-M13\n",
      "Selecting by kME_OPC-M14\n"
     ]
    }
   ],
   "source": [
    "%%R -i seurat_obj -o seurat_obj\n",
    "\n",
    "for (cell_type in names(seurat_obj)){\n",
    "    \n",
    "  print(paste0('Compute hub gene scores in hdWGCNA Experiment for ', toupper(cell_type)))\n",
    "    \n",
    "  # compute gene scoring for the top 25 hub genes by kME for each module\n",
    "  # with Seurat method\n",
    "  seurat_obj[[cell_type]] <- ModuleExprScore(\n",
    "    seurat_obj[[cell_type]],\n",
    "    n_genes = 25,\n",
    "    method='Seurat'\n",
    "  )\n",
    "\n",
    "  # compute gene scoring for the top 25 hub genes by kME for each module\n",
    "  # with UCell method\n",
    "  library(UCell)\n",
    "  seurat_obj[[cell_type]] <- ModuleExprScore(\n",
    "    seurat_obj[[cell_type]],\n",
    "    n_genes = 25,\n",
    "    method='UCell'\n",
    "  )\n",
    "}"
   ]
  },
  {
   "cell_type": "code",
   "execution_count": 46,
   "id": "34de1c30",
   "metadata": {},
   "outputs": [],
   "source": [
    "# convert nested list of Seurat object into Rpy2 object \n",
    "seurat_obj =  robjects.ListVector(\n",
    "                        {\n",
    "                            cell_type: seurat_obj[cell_type]\n",
    "                     \n",
    "                            for cell_type in seurat_obj.keys()\n",
    "                        }\n",
    "                    )"
   ]
  },
  {
   "attachments": {},
   "cell_type": "markdown",
   "id": "03dc3f32",
   "metadata": {},
   "source": [
    "## **Basic Visualization**\n",
    "\n",
    "Here we visualize some results using hdWGCNA, and we employ some of Seurat’s built-in plotting tools to visualize our hdWGCNA results.\n",
    "\n"
   ]
  },
  {
   "attachments": {},
   "cell_type": "markdown",
   "id": "368c8716",
   "metadata": {},
   "source": [
    "### **Module Feature Plots**\n",
    "\n",
    "FeaturePlot is a commonly used Seurat visualization to show a feature of interest directly on the dimensionality reduction. hdWGCNA includes the ModuleFeaturePlot function to consruct FeaturePlots for each co-expression module colored by each module’s uniquely assigned color."
   ]
  },
  {
   "cell_type": "code",
   "execution_count": 47,
   "id": "c5865383",
   "metadata": {},
   "outputs": [
    {
     "name": "stdout",
     "output_type": "stream",
     "text": [
      "[1] \"Module Feature Plots in hdWGCNA Experiment for OPC\"\n",
      "[1] \"OPC-M1\"\n",
      "[1] \"OPC-M2\"\n",
      "[1] \"OPC-M3\"\n",
      "[1] \"OPC-M4\"\n",
      "[1] \"OPC-M5\"\n",
      "[1] \"OPC-M6\"\n",
      "[1] \"OPC-M7\"\n",
      "[1] \"OPC-M8\"\n",
      "[1] \"OPC-M9\"\n",
      "[1] \"OPC-M10\"\n",
      "[1] \"OPC-M11\"\n",
      "[1] \"OPC-M12\"\n",
      "[1] \"OPC-M13\"\n",
      "[1] \"OPC-M14\"\n"
     ]
    }
   ],
   "source": [
    "%%R -i seurat_obj -o seurat_obj\n",
    "\n",
    "\n",
    "fig_dir = paste0(\"../results/hdWGCNA/FeaturePlots/\", save_prefix, '/')\n",
    "\n",
    "if (!dir.exists(fig_dir)) {\n",
    "  dir.create(fig_dir, recursive=TRUE)\n",
    "}\n",
    "\n",
    "\n",
    "for (cell_type in names(seurat_obj)){\n",
    "    \n",
    "  print(paste0('Module Feature Plots in hdWGCNA Experiment for ', toupper(cell_type)))\n",
    "     \n",
    "  # make a featureplot of hMEs for each module\n",
    "  plot_list <- ModuleFeaturePlot(\n",
    "    seurat_obj[[cell_type]],\n",
    "    features='hMEs', # plot the hMEs\n",
    "    order=TRUE, # order so the points with highest hMEs are on top\n",
    "    # raster=TRUE, \n",
    "    # raster_dpi=400, \n",
    "    # alpha=1,\n",
    "    # restrict_range=FALSE, \n",
    "    # raster_scale=0.25,\n",
    "  )\n",
    "\n",
    "  plot_list <- lapply(1:length(plot_list), function(x){\n",
    "    plot_list[[x]] + NoLegend() + theme(plot.title=element_text(face='plain', vjust=0.25), plot.margin=margin(c(0,0,0,0)))\n",
    "  })\n",
    "\n",
    "  pdf(paste0(fig_dir, cell_type, \"_featureplot_MEs.pdf\"), height=10, width=5)\n",
    "  print(wrap_plots(plot_list, ncol=3))\n",
    "  dev.off()\n",
    "}"
   ]
  },
  {
   "cell_type": "code",
   "execution_count": 48,
   "id": "7d1a4b43",
   "metadata": {},
   "outputs": [],
   "source": [
    "# convert nested list of Seurat object into Rpy2 object \n",
    "seurat_obj =  robjects.ListVector(\n",
    "                        {\n",
    "                            cell_type: seurat_obj[cell_type]\n",
    "                     \n",
    "                            for cell_type in seurat_obj.keys()\n",
    "                        }\n",
    "                    )"
   ]
  },
  {
   "attachments": {},
   "cell_type": "markdown",
   "id": "2e09999a",
   "metadata": {},
   "source": [
    "We can also plot the hub gene signature score using the same function:"
   ]
  },
  {
   "cell_type": "code",
   "execution_count": 49,
   "id": "07825465",
   "metadata": {},
   "outputs": [
    {
     "name": "stdout",
     "output_type": "stream",
     "text": [
      "[1] \"Module Feature Plots for HUB GENES in hdWGCNA Experiment for OPC\"\n",
      "[1] \"OPC-M1\"\n",
      "[1] \"OPC-M2\"\n",
      "[1] \"OPC-M3\"\n",
      "[1] \"OPC-M4\"\n",
      "[1] \"OPC-M5\"\n",
      "[1] \"OPC-M6\"\n",
      "[1] \"OPC-M7\"\n",
      "[1] \"OPC-M8\"\n",
      "[1] \"OPC-M9\"\n",
      "[1] \"OPC-M10\"\n",
      "[1] \"OPC-M11\"\n",
      "[1] \"OPC-M12\"\n",
      "[1] \"OPC-M13\"\n",
      "[1] \"OPC-M14\"\n"
     ]
    }
   ],
   "source": [
    "%%R -i seurat_obj -o seurat_obj\n",
    "\n",
    "\n",
    "fig_dir = paste0(\"../results/hdWGCNA/FeaturePlots/\", save_prefix, '/')\n",
    "\n",
    "if (!dir.exists(fig_dir)) {\n",
    "  dir.create(fig_dir, recursive=TRUE)\n",
    "}\n",
    "\n",
    "\n",
    "for (cell_type in names(seurat_obj)){\n",
    "    \n",
    "  print(paste0('Module Feature Plots for HUB GENES in hdWGCNA Experiment for ', toupper(cell_type)))\n",
    "     \n",
    "  # make a featureplot of hMEs for each module\n",
    "  plot_list <- ModuleFeaturePlot(\n",
    "    seurat_obj[[cell_type]],\n",
    "    features='scores',  # plot the hub gene scores\n",
    "    order='shuffle', # order so cells are shuffled\n",
    "    ucell = TRUE, # depending on Seurat vs UCell for gene scoring\n",
    "    # raster=TRUE, \n",
    "    # raster_dpi=400, \n",
    "    # alpha=1,\n",
    "    # restrict_range=FALSE, \n",
    "    # raster_scale=0.25,\n",
    "  )\n",
    "\n",
    "  plot_list <- lapply(1:length(plot_list), function(x){\n",
    "    plot_list[[x]] + NoLegend() + theme(plot.title=element_text(face='plain', vjust=0.25), plot.margin=margin(c(0,0,0,0)))\n",
    "  })\n",
    "\n",
    "  pdf(paste0(fig_dir, cell_type, \"_featureplot_hubs.pdf\"), height=10, width=5)\n",
    "  print(wrap_plots(plot_list, ncol=3))\n",
    "  dev.off()\n",
    "}"
   ]
  },
  {
   "cell_type": "code",
   "execution_count": 50,
   "id": "dbbce473",
   "metadata": {},
   "outputs": [],
   "source": [
    "# convert nested list of Seurat object into Rpy2 object \n",
    "seurat_obj =  robjects.ListVector(\n",
    "                        {\n",
    "                            cell_type: seurat_obj[cell_type]\n",
    "                     \n",
    "                            for cell_type in seurat_obj.keys()\n",
    "                        }\n",
    "                    )"
   ]
  },
  {
   "attachments": {},
   "cell_type": "markdown",
   "id": "219d5785",
   "metadata": {},
   "source": [
    "### **Module Correlations**\n",
    "\n",
    "hdWGCNA includes the ModuleCorrelogram function to visualize the correlation between each module based on their hMEs, MEs, or hub gene scores using the R package corrplot."
   ]
  },
  {
   "cell_type": "code",
   "execution_count": 51,
   "id": "9ac695b4",
   "metadata": {},
   "outputs": [
    {
     "name": "stdout",
     "output_type": "stream",
     "text": [
      "[1] \"Module Correlation in hdWGCNA Experiment for OPC\"\n"
     ]
    }
   ],
   "source": [
    "%%R -i seurat_obj -o seurat_obj\n",
    "\n",
    "\n",
    "fig_dir = paste0(\"../results/hdWGCNA/ModuleCorrelations/\", save_prefix, '/')\n",
    "\n",
    "if (!dir.exists(fig_dir)) {\n",
    "  dir.create(fig_dir, recursive=TRUE)\n",
    "}\n",
    "\n",
    "for (cell_type in names(seurat_obj)){\n",
    "\n",
    "    print(paste0('Module Correlation in hdWGCNA Experiment for ', toupper(cell_type)))\n",
    "    # plot module correlagram\n",
    "    pdf(paste0(fig_dir, cell_type, \"_correlogram.pdf\"), height=10, width=5)\n",
    "    ModuleCorrelogram(seurat_obj[[cell_type]])\n",
    "    dev.off()\n",
    "}"
   ]
  },
  {
   "cell_type": "code",
   "execution_count": 52,
   "id": "29692fa2",
   "metadata": {},
   "outputs": [],
   "source": [
    "# convert nested list of Seurat object into Rpy2 object \n",
    "seurat_obj =  robjects.ListVector(\n",
    "                        {\n",
    "                            cell_type: seurat_obj[cell_type]\n",
    "                     \n",
    "                            for cell_type in seurat_obj.keys()\n",
    "                        }\n",
    "                    )"
   ]
  },
  {
   "attachments": {},
   "cell_type": "markdown",
   "id": "3cf396dd",
   "metadata": {},
   "source": [
    "### **Seurat plotting functions**\n",
    "\n",
    "\n",
    "The base Seurat plotting functions are also great for visualizing hdWGCNA outputs. Here we demonstrate plotting hMEs using DotPlot and VlnPlot. The key to using Seurat’s plotting functions to visualize the hdWGCNA data is to add it into the Seurat object’s @meta.data slot:"
   ]
  },
  {
   "cell_type": "code",
   "execution_count": 53,
   "id": "4dd017bf",
   "metadata": {},
   "outputs": [],
   "source": [
    "%%R -i seurat_obj -o seurat_obj -o mods\n",
    "\n",
    "mods <- list()\n",
    "\n",
    "for (cell_type in names(seurat_obj)){\n",
    "\n",
    "    # get hMEs from seurat object\n",
    "    MEs <- GetMEs(seurat_obj[[cell_type]], harmonized=TRUE)\n",
    "    mods[[cell_type]] <- colnames(MEs); \n",
    "    mods[[cell_type]] <- mods[[cell_type]][mods[[cell_type]] != 'grey']\n",
    "    \n",
    "    \n",
    "    # add hMEs to Seurat meta-data:\n",
    "    seurat_obj[[cell_type]]@meta.data <- cbind(seurat_obj[[cell_type]]@meta.data, MEs)\n",
    "}"
   ]
  },
  {
   "cell_type": "code",
   "execution_count": 54,
   "id": "6c8c3009",
   "metadata": {},
   "outputs": [],
   "source": [
    "# convert nested list of Seurat object into Rpy2 object \n",
    "seurat_obj =  robjects.ListVector(\n",
    "                        {\n",
    "                            cell_type: seurat_obj[cell_type]\n",
    "                     \n",
    "                            for cell_type in seurat_obj.keys()\n",
    "                        }\n",
    "                    )\n",
    "\n",
    "\n",
    "# convert nested list of Seurat object into Rpy2 object \n",
    "mods =  robjects.ListVector(\n",
    "                        {\n",
    "                            cell_type: mods[cell_type]\n",
    "                     \n",
    "                            for cell_type in mods.keys()\n",
    "                        }\n",
    "                    )"
   ]
  },
  {
   "attachments": {},
   "cell_type": "markdown",
   "id": "c1c37b40",
   "metadata": {},
   "source": [
    "Now we can easily use Seurat’s DotPlot function:"
   ]
  },
  {
   "cell_type": "code",
   "execution_count": 55,
   "id": "4f45a3f5",
   "metadata": {},
   "outputs": [
    {
     "name": "stdout",
     "output_type": "stream",
     "text": [
      "[1] \"DotPlot for average expression of MEs in hdWGCNA Experiment for OPC\"\n",
      "Scale for colour is already present.\n",
      "Adding another scale for colour, which will replace the existing scale.\n"
     ]
    }
   ],
   "source": [
    "%%R -i seurat_obj -i mods -o seurat_obj\n",
    "\n",
    "\n",
    "\n",
    "fig_dir = paste0(\"../results/hdWGCNA/DotPlot/\", save_prefix, '/')\n",
    "\n",
    "if (!dir.exists(fig_dir)) {\n",
    "  dir.create(fig_dir, recursive=TRUE)\n",
    "}\n",
    "\n",
    "\n",
    "for (cell_type in names(seurat_obj)){\n",
    "\n",
    "  print(paste0('DotPlot for average expression of MEs in hdWGCNA Experiment for ', toupper(cell_type)))\n",
    "\n",
    "  # plot with Seurat's DotPlot function\n",
    "  p <- DotPlot(seurat_obj[[cell_type]], features=mods[[cell_type]], group.by = 'cell_type')\n",
    "\n",
    "  # flip the x/y axes, rotate the axis labels, and change color scheme:\n",
    "  p <- p +\n",
    "    coord_flip() +\n",
    "    RotatedAxis() +\n",
    "    scale_color_gradient2(high='red', mid='grey95', low='blue')\n",
    "\n",
    "  pdf(paste0(fig_dir, cell_type, \"_dotplot.pdf\"), height=10, width=5)\n",
    "  print(p)\n",
    "  dev.off()\n",
    "\n",
    "}"
   ]
  },
  {
   "cell_type": "code",
   "execution_count": 56,
   "id": "31592f99",
   "metadata": {},
   "outputs": [],
   "source": [
    "# convert nested list of Seurat object into Rpy2 object \n",
    "seurat_obj =  robjects.ListVector(\n",
    "                        {\n",
    "                            cell_type: seurat_obj[cell_type]\n",
    "                     \n",
    "                            for cell_type in seurat_obj.keys()\n",
    "                        }\n",
    "                    )\n"
   ]
  },
  {
   "attachments": {},
   "cell_type": "markdown",
   "id": "b1b75ca0",
   "metadata": {},
   "source": [
    "Here is another example where we use Seurat’s VlnPlot function:"
   ]
  },
  {
   "cell_type": "code",
   "execution_count": 57,
   "id": "5c23ebda",
   "metadata": {},
   "outputs": [],
   "source": [
    "# %%R -i seurat_obj -o seurat_obj\n",
    "\n",
    "\n",
    "# for (cell_type in names(seurat_obj)){\n",
    "\n",
    "#   print(paste0('ViolinPlot for average expression of MEs in hdWGCNA Experiment for ', toupper(cell_type)))\n",
    "\n",
    "#   # Plot INH-M4 hME using Seurat VlnPlot function\n",
    "#   p <- VlnPlot(\n",
    "#     seurat_obj,\n",
    "#     features = as.vector(mods[[cell_type]]),\n",
    "#     group.by = 'cell_type',\n",
    "#     pt.size = 0 # don't show actual data points\n",
    "#   )\n",
    "\n",
    "#   # add box-and-whisker plots on top:\n",
    "#   p <- p + geom_boxplot(width=.25, fill='white')\n",
    "\n",
    "#   # change axis labels and remove legend:\n",
    "#   p <- p + xlab('') + ylab('hME') + NoLegend()\n",
    "\n",
    "#   # plot output\n",
    "#   pdf(paste0(\"../results/hdWGCNA/ViolinPlot/\", save_prefix, '_', cell_type, \"_violinplot.pdf\"), height=10, width=5)\n",
    "#   print(p)\n",
    "#   dev.off()\n",
    "\n",
    "# }\n"
   ]
  },
  {
   "cell_type": "code",
   "execution_count": 58,
   "id": "8246a79f",
   "metadata": {},
   "outputs": [],
   "source": [
    "# # convert nested list of Seurat object into Rpy2 object \n",
    "# seurat_obj =  robjects.ListVector(\n",
    "#                         {\n",
    "#                             cell_type: seurat_obj[cell_type]\n",
    "                     \n",
    "#                             for cell_type in seurat_obj.keys()\n",
    "#                         }\n",
    "#                     )\n"
   ]
  },
  {
   "attachments": {},
   "cell_type": "markdown",
   "id": "9b2ac7d7",
   "metadata": {},
   "source": [
    "# **Network Visualization**\n"
   ]
  },
  {
   "attachments": {},
   "cell_type": "markdown",
   "id": "20a45cef",
   "metadata": {},
   "source": [
    "Here, we visualize the co-expression networks made with hdWGCNA using the following functions:\n",
    "\n",
    "- `ModuleNetworkPlot`, visualizes a separate network plot for each module, showing the top N genes by kME.\n",
    "- `HubGeneNetworkPlot`, visualizes the network comprisng all modules with a given number of hub genes per module.\n",
    "- `ModuleUMAPPlot`, visualizes all of the genes in the co-expression simultaneously using the UMAP dimensionality reduction algorithm."
   ]
  },
  {
   "attachments": {},
   "cell_type": "markdown",
   "id": "f720e63b",
   "metadata": {},
   "source": [
    "## **Individual module network plots**\n",
    "\n",
    "\n",
    "Here we demonstrate using the `ModuleNetworkPlot` function to visualize the network underlying the top 25 hub genes for each module. By default, this function creates a new folder called “ModuleNetworks”, and generates a .pdf figure for each module.\n",
    "\n"
   ]
  },
  {
   "cell_type": "code",
   "execution_count": 59,
   "id": "8537d71c",
   "metadata": {},
   "outputs": [
    {
     "name": "stdout",
     "output_type": "stream",
     "text": [
      "[1] \"Module network plots in hdWGCNA Experiment for OPC\"\n",
      "Writing output files to ../results/hdWGCNA/NetworkPlot/allen_mtg/OPC_hubNetworks/Selecting by kME_OPC-M1\n",
      "Selecting by kME_OPC-M2\n",
      "Selecting by kME_OPC-M3\n",
      "Selecting by kME_OPC-M4\n",
      "Selecting by kME_OPC-M5\n",
      "Selecting by kME_OPC-M6\n",
      "Selecting by kME_OPC-M7\n",
      "Selecting by kME_OPC-M8\n",
      "Selecting by kME_OPC-M9\n",
      "Selecting by kME_OPC-M10\n",
      "Selecting by kME_OPC-M11\n",
      "Selecting by kME_OPC-M12\n",
      "Selecting by kME_OPC-M13\n",
      "Selecting by kME_OPC-M14\n",
      "[1] \"OPC-M1\"\n",
      "[1] \"OPC-M2\"\n",
      "[1] \"OPC-M3\"\n",
      "[1] \"OPC-M4\"\n",
      "[1] \"OPC-M5\"\n",
      "[1] \"OPC-M6\"\n",
      "[1] \"OPC-M7\"\n",
      "[1] \"OPC-M8\"\n",
      "[1] \"OPC-M9\"\n",
      "[1] \"OPC-M10\"\n",
      "[1] \"OPC-M11\"\n",
      "[1] \"OPC-M12\"\n",
      "[1] \"OPC-M13\"\n",
      "[1] \"OPC-M14\"\n"
     ]
    }
   ],
   "source": [
    "%%R -i seurat_obj -o seurat_obj\n",
    "\n",
    "fig_dir = paste0('../results/hdWGCNA/NetworkPlot/', save_prefix, '/')\n",
    "\n",
    "if (!dir.exists(fig_dir)) {\n",
    "  dir.create(fig_dir, recursive=TRUE)\n",
    "}\n",
    "\n",
    "for (cell_type in names(seurat_obj)){\n",
    "\n",
    "  print(paste0('Module network plots in hdWGCNA Experiment for ', toupper(cell_type)))\n",
    "\n",
    "  # individual module networks\n",
    "  ModuleNetworkPlot(\n",
    "    seurat_obj[[cell_type]],\n",
    "    mods = \"all\",\n",
    "    outdir = paste0(fig_dir, cell_type, '_hubNetworks/')\n",
    "  )\n",
    "}"
   ]
  },
  {
   "attachments": {},
   "cell_type": "markdown",
   "id": "311f315f",
   "metadata": {},
   "source": [
    "In this network, each node represents a gene, and each edge represents the co-expression relationship between two genes in the network. Each of these module network plots are colored based on the color column in the hdWGCNA module assignment table GetModules(seurat_obj). The top 10 hub genes by kME are placed in the center of the plot, while the remaining 15 genes are placed in the outer circle.\n",
    "\n",
    "Optionally, certain visualization parameters can be changed in this plot:\n",
    "\n",
    "- `edge.alpha`: determines the opacity of the network edges\n",
    "- `vertex.size`: determines the size of the nodes\n",
    "- `vertex.label.cex`: determines the font size of the gene label\n"
   ]
  },
  {
   "cell_type": "code",
   "execution_count": 60,
   "id": "db743ad8",
   "metadata": {},
   "outputs": [],
   "source": [
    "# convert nested list of Seurat object into Rpy2 object \n",
    "seurat_obj =  robjects.ListVector(\n",
    "                        {\n",
    "                            cell_type: seurat_obj[cell_type]\n",
    "                     \n",
    "                            for cell_type in seurat_obj.keys()\n",
    "                        }\n",
    "                    )"
   ]
  },
  {
   "attachments": {},
   "cell_type": "markdown",
   "id": "e00f5d04",
   "metadata": {},
   "source": [
    "## **Combined hub gene network plots**\n",
    "\n",
    "Here we will make a network plot combining all of the modules together using the `HubGeneNetworkPlot` function. \n",
    "\n",
    "This function takes the top n hub genes, and other randomly selected genes, and constructs a joint network using the force-directed graph drawing algorithm. For visual clarity, the number of edges in the network can be downsampled using the edge_prop parameter. In the following example, we visualize the top 3 hub genes and 6 other genes per module.\n",
    "\n"
   ]
  },
  {
   "cell_type": "code",
   "execution_count": 61,
   "id": "eca4578b",
   "metadata": {},
   "outputs": [
    {
     "name": "stdout",
     "output_type": "stream",
     "text": [
      "[1] \"Hubs Gene Network Plot in hdWGCNA Experiment for OPC\"\n",
      "Selecting by kME_OPC-M1\n",
      "Selecting by kME_OPC-M2\n",
      "Selecting by kME_OPC-M3\n",
      "Selecting by kME_OPC-M4\n",
      "Selecting by kME_OPC-M5\n",
      "Selecting by kME_OPC-M6\n",
      "Selecting by kME_OPC-M7\n",
      "Selecting by kME_OPC-M8\n",
      "Selecting by kME_OPC-M9\n",
      "Selecting by kME_OPC-M10\n",
      "Selecting by kME_OPC-M11\n",
      "Selecting by kME_OPC-M12\n",
      "Selecting by kME_OPC-M13\n",
      "Selecting by kME_OPC-M14\n",
      "\n",
      " OPC-M1    grey  OPC-M2  OPC-M3  OPC-M4  OPC-M5  OPC-M6  OPC-M7  OPC-M8  OPC-M9 \n",
      "      9       3       9       9       9       9       9       9       9       9 \n",
      "OPC-M10 OPC-M11 OPC-M12 OPC-M13 OPC-M14 \n",
      "      9       9       9       9       8 \n",
      " [1] \"#9b3441\" \"grey90\"  \"#9f5691\" \"#d8443c\" \"#f4c40f\" \"#aa7aa1\" \"#de597c\"\n",
      " [8] \"#2b9b81\" \"#fe9b00\" \"#e87b89\" \"#e6a2a6\" \"#633372\" \"#92c051\"\n",
      "[1] \"here\"\n",
      "[1] 2207    4\n"
     ]
    }
   ],
   "source": [
    "%%R -i seurat_obj -o seurat_obj\n",
    "\n",
    "\n",
    "\n",
    "  fig_dir = paste0(\"../results/hdWGCNA/HubGeneNetworkPlot/\", save_prefix, '/')\n",
    "  if (!dir.exists(fig_dir)) {\n",
    "    dir.create(fig_dir, recursive=TRUE)\n",
    "  }\n",
    "\n",
    "\n",
    "for (cell_type in names(seurat_obj)){\n",
    "\n",
    "  print(paste0('Hubs Gene Network Plot in hdWGCNA Experiment for ', toupper(cell_type)))\n",
    "\n",
    "  # hubgene network\n",
    "\n",
    "  # Save plot to PDF\n",
    "  pdf(file = paste0(fig_dir,  cell_type, \"_allHubGeneNetwork.pdf\"), width = 4, height = 4, useDingbats = FALSE)\n",
    "  HubGeneNetworkPlot(\n",
    "    seurat_obj[[cell_type]],\n",
    "    n_hubs = 6,\n",
    "    n_other=3,\n",
    "    edge_prop = 0.75,\n",
    "    mods = 'all',\n",
    "    sample_edges = TRUE,\n",
    "    return_graph = FALSE,\n",
    "    edge.alpha = 0.25,\n",
    "    vertex.label.cex = 0.25,\n",
    "    hub.vertex.size = 6,\n",
    "    other.vertex.size = 2,\n",
    "    wgcna_name = NULL,\n",
    "\n",
    "  )\n",
    "  dev.off()\n",
    "\n",
    "}"
   ]
  },
  {
   "cell_type": "code",
   "execution_count": 62,
   "id": "d00bdc4d",
   "metadata": {},
   "outputs": [],
   "source": [
    "# convert nested list of Seurat object into Rpy2 object \n",
    "seurat_obj =  robjects.ListVector(\n",
    "                        {\n",
    "                            cell_type: seurat_obj[cell_type]\n",
    "                     \n",
    "                            for cell_type in seurat_obj.keys()\n",
    "                        }\n",
    "                    )"
   ]
  },
  {
   "attachments": {},
   "cell_type": "markdown",
   "id": "fc1be299",
   "metadata": {},
   "source": [
    "As in the previous network plot, each node represents a gene and each edge represents a co-expression relationship. In this network, `we color intramodular edges with the module’s color, and intermodular edges gray.` The opacity of edges in this network is scaled by the strength of the co-expression relationship."
   ]
  },
  {
   "attachments": {},
   "cell_type": "markdown",
   "id": "289931dc",
   "metadata": {},
   "source": [
    "## **Applying UMAP to co-expression networks**\n",
    "\n",
    "We have only visualized a subset of the co-expression network with an emphasis on the hub genes. Here, we use an alternative approach to visualize all genes in the co-expression network simultaneously. UMAP is a suitable method for visualizing high-dimensional data in two dimensions, and here we apply UMAP to embed the hdWGCNA network in a low-dimensional manifold.\n",
    "\n",
    "hdWGCNA includes the function `RunModuleUMAP to run the UMAP algorithm on the hdWGCNA topological overlap matrix (TOM)`. For the UMAP analysis, we subset the columns in the TOM to only contain the top n hub genes by kME for each module. \n",
    "\n",
    "Therefore, the organization of each gene in UMAP space is dependent on that gene’s connectivity with the network’s hub genes. This function leverages the UMAP implementation from the uwot R package, so additional UMAP parameters for the uwot::umap function such as min_dist or spread can be included in RunModuleUMAP.\n",
    "\n",
    "The following code demonstrates using the RunModuleUMAP function with 10 hub genes per module:"
   ]
  },
  {
   "cell_type": "code",
   "execution_count": 63,
   "id": "179e3598",
   "metadata": {},
   "outputs": [
    {
     "name": "stdout",
     "output_type": "stream",
     "text": [
      "[1] \"Obtaining Module UMAP in hdWGCNA Experiment for OPC\"\n",
      "Selecting by kME_OPC-M1\n",
      "Selecting by kME_OPC-M2\n",
      "Selecting by kME_OPC-M3\n",
      "Selecting by kME_OPC-M4\n",
      "Selecting by kME_OPC-M5\n",
      "Selecting by kME_OPC-M6\n",
      "Selecting by kME_OPC-M7\n",
      "Selecting by kME_OPC-M8\n",
      "Selecting by kME_OPC-M9\n",
      "Selecting by kME_OPC-M10\n",
      "Selecting by kME_OPC-M11\n",
      "Selecting by kME_OPC-M12\n",
      "Selecting by kME_OPC-M13\n",
      "Selecting by kME_OPC-M14\n"
     ]
    }
   ],
   "source": [
    "%%R -i seurat_obj -o seurat_obj\n",
    "\n",
    "\n",
    "for (cell_type in names(seurat_obj)){\n",
    "\n",
    "  print(paste0('Obtaining Module UMAP in hdWGCNA Experiment for ', toupper(cell_type)))\n",
    "\n",
    "  seurat_obj[[cell_type]] <- RunModuleUMAP(\n",
    "    seurat_obj[[cell_type]],\n",
    "    n_hubs = 5, # number of hub genes to include for the UMAP embedding\n",
    "    n_neighbors=15, # neighbors parameter for UMAP\n",
    "    min_dist=0.3, # min distance between points in UMAP space\n",
    "    spread = 2,\n",
    "  )\n",
    "}"
   ]
  },
  {
   "cell_type": "code",
   "execution_count": 64,
   "id": "f507f011",
   "metadata": {},
   "outputs": [],
   "source": [
    "# convert nested list of Seurat object into Rpy2 object \n",
    "seurat_obj =  robjects.ListVector(\n",
    "                        {\n",
    "                            cell_type: seurat_obj[cell_type]\n",
    "                     \n",
    "                            for cell_type in seurat_obj.keys()\n",
    "                        }\n",
    "                    )"
   ]
  },
  {
   "attachments": {},
   "cell_type": "markdown",
   "id": "4a2e8943",
   "metadata": {},
   "source": [
    "Next we will make a simple visualization of the UMAP for Excitatory cells using ggplot2:"
   ]
  },
  {
   "cell_type": "code",
   "execution_count": 65,
   "id": "16d8a540",
   "metadata": {},
   "outputs": [
    {
     "name": "stdout",
     "output_type": "stream",
     "text": [
      "[1] \"Store Module UMAP in hdWGCNA Experiment for OPC\"\n"
     ]
    },
    {
     "data": {
      "image/png": "[encoded data removed]",
      "text/plain": [
       "<IPython.core.display.Image object>"
      ]
     },
     "metadata": {},
     "output_type": "display_data"
    }
   ],
   "source": [
    "%%R -i seurat_obj -o seurat_obj\n",
    "\n",
    "# get the hub gene UMAP table from the seurat object\n",
    "\n",
    "umap_df <- list()\n",
    "\n",
    "for (cell_type in names(seurat_obj)){\n",
    "\n",
    "  print(paste0('Store Module UMAP in hdWGCNA Experiment for ', toupper(cell_type)))\n",
    "\n",
    "  umap_df[[cell_type]] <- GetModuleUMAP(seurat_obj[[cell_type]])\n",
    "\n",
    "}\n",
    "\n",
    "# plot sample for Excitatory cells with ggplot\n",
    "ggplot(umap_df[[celltypes[1]]], aes(x=UMAP1, y=UMAP2)) +\n",
    "  geom_point(\n",
    "   color=umap_df[[celltypes[1]]]$color, # color each point by WGCNA module\n",
    "   size=umap_df[[celltypes[1]]]$kME*2 # size of each point based on intramodular connectivity\n",
    "  ) +\n",
    "  umap_theme()"
   ]
  },
  {
   "cell_type": "code",
   "execution_count": 66,
   "id": "f4962cdc",
   "metadata": {},
   "outputs": [],
   "source": [
    "# convert nested list of Seurat object into Rpy2 object \n",
    "seurat_obj =  robjects.ListVector(\n",
    "                        {\n",
    "                            cell_type: seurat_obj[cell_type]\n",
    "                     \n",
    "                            for cell_type in seurat_obj.keys()\n",
    "                        }\n",
    "                    )"
   ]
  },
  {
   "attachments": {},
   "cell_type": "markdown",
   "id": "c32ccef3",
   "metadata": {},
   "source": [
    "In this plot, each point represents a single gene. The size of each dot is scaled by the gene’s kME for it’s assigned module. ggplot2 is sufficient to visualize the genes in the module UMAP, but here we are not visualizing the underlying network. We can use the function ModuleUMAPPlot to plot the genes and their co-expression relationships."
   ]
  },
  {
   "cell_type": "code",
   "execution_count": 67,
   "id": "297033cc",
   "metadata": {},
   "outputs": [
    {
     "name": "stdout",
     "output_type": "stream",
     "text": [
      "[1] \"UMAP Plot of Connectivities in hdWGCNA Experiment for OPC\"\n",
      "Selecting by kME_OPC-M1\n",
      "Selecting by kME_OPC-M2\n",
      "Selecting by kME_OPC-M3\n",
      "Selecting by kME_OPC-M4\n",
      "Selecting by kME_OPC-M5\n",
      "Selecting by kME_OPC-M6\n",
      "Selecting by kME_OPC-M7\n",
      "Selecting by kME_OPC-M8\n",
      "Selecting by kME_OPC-M9\n",
      "Selecting by kME_OPC-M10\n",
      "Selecting by kME_OPC-M11\n",
      "Selecting by kME_OPC-M12\n",
      "Selecting by kME_OPC-M13\n",
      "Selecting by kME_OPC-M14\n",
      "[1] \"hub labels\"\n",
      " [1] \"ARGLU1\"   \"PDE4D\"    \"KCNMA1\"   \"LHFPL3\"   \"DDX5\"     \"PTPRZ1\"  \n",
      " [7] \"PKP4\"     \"TNS3\"     \"CSMD1\"    \"CTNND2\"   \"ASTN2\"    \"SCD5\"    \n",
      "[13] \"MACF1\"    \"PRKCA\"    \"CLASP2\"   \"GPHN\"     \"SHC3\"     \"TMEM178B\"\n",
      "[19] \"ANKRD17\"  \"TTC3\"     \"DOCK3\"    \"OPCML\"    \"CSMD2\"    \"NTRK3\"   \n",
      "[25] \"ADGRL3\"   \"NLGN1\"    \"KMT2C\"    \"ZNF638\"  \n",
      "NULL\n",
      " [1] \"ARGLU1\"   \"PDE4D\"    \"KCNMA1\"   \"LHFPL3\"   \"DDX5\"     \"PTPRZ1\"  \n",
      " [7] \"PKP4\"     \"TNS3\"     \"CSMD1\"    \"CTNND2\"   \"ASTN2\"    \"SCD5\"    \n",
      "[13] \"MACF1\"    \"PRKCA\"    \"CLASP2\"   \"GPHN\"     \"SHC3\"     \"TMEM178B\"\n",
      "[19] \"ANKRD17\"  \"TTC3\"     \"DOCK3\"    \"OPCML\"    \"CSMD2\"    \"NTRK3\"   \n",
      "[25] \"ADGRL3\"   \"NLGN1\"    \"KMT2C\"    \"ZNF638\"  \n",
      "[1] 216160      3\n",
      "[1] 1544    4\n",
      "[1] \"making net\"\n",
      "# A tibble: 6 × 5\n",
      "# Groups:   color [4]\n",
      "  Var1   Var2   value color   color_alpha\n",
      "  <fct>  <fct>  <dbl> <chr>   <chr>      \n",
      "1 ADGRB3 ADGRB3     0 #633372 #63337200  \n",
      "2 PCDH15 PCDH15     0 #633372 #63337200  \n",
      "3 PNISR  PNISR      0 #fbe183 #FBE18300  \n",
      "4 TTC3   TTC3       0 #fbe183 #FBE18300  \n",
      "5 ABCA1  PDE4D      0 #9b3441 #9B344100  \n",
      "6 AFF2   DISC1      0 #de597c #DE597C00  \n",
      "      gene_name module   color kME_OPC-M1   kME_grey kME_OPC-M2 kME_OPC-M3\n",
      "A2M         A2M OPC-M1 #9b3441  0.2245655 0.05185938 0.01187656 0.14585506\n",
      "AAK1       AAK1 OPC-M2 #9f5691  0.4496742 0.56295352 0.54802637 0.31390935\n",
      "AAMP       AAMP OPC-M3 #d8443c  0.1237001 0.11550710 0.11971995 0.16062711\n",
      "AATK       AATK OPC-M4 #f4c40f  0.1384070 0.29213163 0.25610479 0.09509101\n",
      "ABAT       ABAT OPC-M5 #aa7aa1  0.3417924 0.46829493 0.42250174 0.19260921\n",
      "ABCA1     ABCA1 OPC-M1 #9b3441  0.3770693 0.40023902 0.35255444 0.22171826\n",
      "      kME_OPC-M4 kME_OPC-M5 kME_OPC-M6  kME_OPC-M7 kME_OPC-M8 kME_OPC-M9\n",
      "A2M   0.02744542 0.02889059 0.06428121 -0.01125343 0.03865402 0.02228268\n",
      "AAK1  0.35828510 0.52171958 0.53624635  0.52002519 0.53999330 0.53622399\n",
      "AAMP  0.05916001 0.08045159 0.08061137  0.09432264 0.10540291 0.08386466\n",
      "AATK  0.51692176 0.23964627 0.24665858  0.27518648 0.24046511 0.28439265\n",
      "ABAT  0.31228800 0.50907233 0.48465056  0.44531189 0.46153755 0.46113850\n",
      "ABCA1 0.23330726 0.41735834 0.41340446  0.35114911 0.39127529 0.36746117\n",
      "      kME_OPC-M10 kME_OPC-M11  kME_OPC-M12 kME_OPC-M13 kME_OPC-M14      UMAP1\n",
      "A2M    0.07164974 0.009388577 -0.000119556  0.04634668  0.01220436  -9.563106\n",
      "AAK1   0.51671312 0.534576766  0.514807854  0.52093846  0.52905203 -10.885301\n",
      "AAMP   0.09663972 0.088840408  0.072235037  0.09686918  0.09416897 -13.564745\n",
      "AATK   0.21236725 0.315657254  0.237912573  0.23650503  0.25992100   5.577876\n",
      "ABAT   0.44721240 0.492263244  0.465411328  0.46246835  0.44571452  12.017920\n",
      "ABCA1  0.39239140 0.387472996  0.375797615  0.39537902  0.36817263  -2.385305\n",
      "          UMAP2   hub       kME label fontcolor framecolor\n",
      "A2M    6.856248 other 0.2917042           black    #9b3441\n",
      "AAK1  -8.459604 other 0.7193155           black    #9f5691\n",
      "AAMP  -2.130554 other 0.1407457           black    #d8443c\n",
      "AATK   2.062577 other 0.5359295           black    #f4c40f\n",
      "ABAT   1.563814 other 0.4387661           black    #aa7aa1\n",
      "ABCA1  7.114567 other 0.5778953           black    #9b3441\n"
     ]
    }
   ],
   "source": [
    "%%R -i seurat_obj -o seurat_obj\n",
    "\n",
    "fig_dir = paste0(\"../results/hdWGCNA/HubGeneUMAP/\", save_prefix, '/')\n",
    "\n",
    "if (!dir.exists(fig_dir)) {\n",
    "  dir.create(fig_dir, recursive=TRUE)\n",
    "}\n",
    "\n",
    "for (cell_type in names(seurat_obj)){\n",
    "\n",
    "  print(paste0('UMAP Plot of Connectivities in hdWGCNA Experiment for ', toupper(cell_type)))\n",
    "\n",
    "  # hubgene network\n",
    "\n",
    "  pdf(paste0(fig_dir, cell_type, '_hubgene_umap_igraph.pdf'), width=10, height=10)\n",
    "\n",
    "  ModuleUMAPPlot(\n",
    "    seurat_obj[[cell_type]],\n",
    "    edge.alpha = 0.25,\n",
    "    sample_edges=TRUE,\n",
    "    keep_grey_edges=FALSE,\n",
    "    edge_prop=0.1,  # proportion of edges to sample (10% here) # taking the top 10% strongest edges in each module \n",
    "    #label_genes = label_genes,\n",
    "    label_hubs=2 # how many hub genes to plot per module?\n",
    "  )\n",
    "  dev.off()\n",
    "}"
   ]
  },
  {
   "cell_type": "code",
   "execution_count": 68,
   "id": "182af47a",
   "metadata": {},
   "outputs": [],
   "source": [
    "# convert nested list of Seurat object into Rpy2 object \n",
    "seurat_obj =  robjects.ListVector(\n",
    "                        {\n",
    "                            cell_type: seurat_obj[cell_type]\n",
    "                     \n",
    "                            for cell_type in seurat_obj.keys()\n",
    "                        }\n",
    "                    )"
   ]
  },
  {
   "attachments": {},
   "cell_type": "markdown",
   "id": "65ac718d",
   "metadata": {},
   "source": [
    "Next, our hypothesis is that the hub genes are the differentially expressed genes that are in the overlapping pathways."
   ]
  },
  {
   "attachments": {},
   "cell_type": "markdown",
   "id": "563a2a2f",
   "metadata": {},
   "source": [
    "### **Visualizing Hub Genes: Overlapping Pathways and DEGs**\n",
    "\n",
    "The hub genes, which are also differentially expressed genes (DEGs), can be visualized in the pathways where they overlap. You can find the results of this analysis saved at `f'../results/{test_name}/{study}_{deg_method}_{cell_type}_DEGs_in_overlapping_pathways.csv.csv` from the previous analysis."
   ]
  },
  {
   "attachments": {},
   "cell_type": "markdown",
   "id": "786f4317",
   "metadata": {},
   "source": [
    "Save to pathway names to R"
   ]
  },
  {
   "cell_type": "code",
   "execution_count": 69,
   "id": "bd43c3b0",
   "metadata": {},
   "outputs": [
    {
     "name": "stdout",
     "output_type": "stream",
     "text": [
      "[1] \"AD_VS_NO\"\n",
      "[1] \"UMAP Plot of Hub-DEG Connectivities in hdWGCNA Experiment for OPC\"\n",
      "Selecting by kME_OPC-M1\n",
      "Selecting by kME_OPC-M2\n",
      "Selecting by kME_OPC-M3\n",
      "Selecting by kME_OPC-M4\n",
      "Selecting by kME_OPC-M5\n",
      "Selecting by kME_OPC-M6\n",
      "Selecting by kME_OPC-M7\n",
      "Selecting by kME_OPC-M8\n",
      "Selecting by kME_OPC-M9\n",
      "Selecting by kME_OPC-M10\n",
      "Selecting by kME_OPC-M11\n",
      "Selecting by kME_OPC-M12\n",
      "Selecting by kME_OPC-M13\n",
      "Selecting by kME_OPC-M14\n",
      "[1] \"hub labels\"\n",
      "character(0)\n",
      "[1] \"RAPGEF1\" \"SLC44A1\" \"PKP4\"    \"MAP2\"   \n",
      "[1] \"RAPGEF1\" \"SLC44A1\" \"PKP4\"    \"MAP2\"   \n",
      "[1] 216160      3\n",
      "[1] 1544    4\n",
      "[1] \"making net\"\n",
      "# A tibble: 6 × 5\n",
      "# Groups:   color [5]\n",
      "  Var1    Var2    value color   color_alpha\n",
      "  <fct>   <fct>   <dbl> <chr>   <chr>      \n",
      "1 GRAMD1C NLGN1       0 #633372 #63337200  \n",
      "2 ANKRD17 ANKRD17     0 #fbe183 #FBE18300  \n",
      "3 PPA2    PPA2        0 #fbe183 #FBE18300  \n",
      "4 ARGLU1  ARGLU1      0 #9b3441 #9B344100  \n",
      "5 FRMPD1  DISC1       0 #de597c #DE597C00  \n",
      "6 SPECC1  LHFPL3      0 #9f5691 #9F569100  \n",
      "      gene_name module   color kME_OPC-M1   kME_grey kME_OPC-M2 kME_OPC-M3\n",
      "A2M         A2M OPC-M1 #9b3441  0.2245655 0.05185938 0.01187656 0.14585506\n",
      "AAK1       AAK1 OPC-M2 #9f5691  0.4496742 0.56295352 0.54802637 0.31390935\n",
      "AAMP       AAMP OPC-M3 #d8443c  0.1237001 0.11550710 0.11971995 0.16062711\n",
      "AATK       AATK OPC-M4 #f4c40f  0.1384070 0.29213163 0.25610479 0.09509101\n",
      "ABAT       ABAT OPC-M5 #aa7aa1  0.3417924 0.46829493 0.42250174 0.19260921\n",
      "ABCA1     ABCA1 OPC-M1 #9b3441  0.3770693 0.40023902 0.35255444 0.22171826\n",
      "      kME_OPC-M4 kME_OPC-M5 kME_OPC-M6  kME_OPC-M7 kME_OPC-M8 kME_OPC-M9\n",
      "A2M   0.02744542 0.02889059 0.06428121 -0.01125343 0.03865402 0.02228268\n",
      "AAK1  0.35828510 0.52171958 0.53624635  0.52002519 0.53999330 0.53622399\n",
      "AAMP  0.05916001 0.08045159 0.08061137  0.09432264 0.10540291 0.08386466\n",
      "AATK  0.51692176 0.23964627 0.24665858  0.27518648 0.24046511 0.28439265\n",
      "ABAT  0.31228800 0.50907233 0.48465056  0.44531189 0.46153755 0.46113850\n",
      "ABCA1 0.23330726 0.41735834 0.41340446  0.35114911 0.39127529 0.36746117\n",
      "      kME_OPC-M10 kME_OPC-M11  kME_OPC-M12 kME_OPC-M13 kME_OPC-M14      UMAP1\n",
      "A2M    0.07164974 0.009388577 -0.000119556  0.04634668  0.01220436  -9.563106\n",
      "AAK1   0.51671312 0.534576766  0.514807854  0.52093846  0.52905203 -10.885301\n",
      "AAMP   0.09663972 0.088840408  0.072235037  0.09686918  0.09416897 -13.564745\n",
      "AATK   0.21236725 0.315657254  0.237912573  0.23650503  0.25992100   5.577876\n",
      "ABAT   0.44721240 0.492263244  0.465411328  0.46246835  0.44571452  12.017920\n",
      "ABCA1  0.39239140 0.387472996  0.375797615  0.39537902  0.36817263  -2.385305\n",
      "          UMAP2   hub       kME label fontcolor framecolor\n",
      "A2M    6.856248 other 0.2917042           black    #9b3441\n",
      "AAK1  -8.459604 other 0.7193155           black    #9f5691\n",
      "AAMP  -2.130554 other 0.1407457           black    #d8443c\n",
      "AATK   2.062577 other 0.5359295           black    #f4c40f\n",
      "ABAT   1.563814 other 0.4387661           black    #aa7aa1\n",
      "ABCA1  7.114567 other 0.5778953           black    #9b3441\n"
     ]
    }
   ],
   "source": [
    "%%R -i test_names -i deg_method -i seurat_obj -o seurat_obj\n",
    "\n",
    "\n",
    "fig_dir = paste0(\"../results/hdWGCNA/HubGeneUMAP/\", save_prefix, '/')\n",
    "\n",
    "if (!dir.exists(fig_dir)) {\n",
    "  dir.create(fig_dir, recursive=TRUE)\n",
    "}\n",
    "\n",
    "\n",
    "# label the DEGs in the overlapping pathways\n",
    "\n",
    "for (test in c('ad_vs_no')){\n",
    "\n",
    "  print(toupper(test))\n",
    "  for (cell_type in names(seurat_obj)){\n",
    "\n",
    "    print(paste0('UMAP Plot of Hub-DEG Connectivities in hdWGCNA Experiment for ', toupper(cell_type)))\n",
    "\n",
    "    # hubgene network\n",
    "\n",
    "    overlap_degs <- read.csv(paste0('../results/', test, '/', save_prefix, '_', deg_method, '_',\n",
    "                           cell_type, \"_DEGs_in_overlapping_pathways.csv\"), header=TRUE)\n",
    "\n",
    "    hub_genes <- GetHubGenes(seurat_obj[[cell_type]], 25)\n",
    "    label_genes <- intersect(hub_genes$gene_name, unique(overlap_degs$x))\n",
    "    \n",
    "    if (length(label_genes) == 0) {\n",
    "      print(paste0('No genes to label for ', toupper(cell_type)))\n",
    "      print('setting label_genes to NULL')\n",
    "      label_genes <- NULL\n",
    "    } else {\n",
    "      label_genes <- label_genes\n",
    "    }\n",
    "\n",
    "\n",
    "    pdf(paste0(fig_dir, test, \"_\", cell_type, '_overlap_hubDEGs_umap_igraph.pdf'), width=10, height=10)\n",
    "    ModuleUMAPPlot(\n",
    "      seurat_obj[[cell_type]],\n",
    "      edge.alpha=0.25,\n",
    "      sample_edges=TRUE,\n",
    "      keep_grey_edges=FALSE,\n",
    "      edge_prop=0.1,  # proportion of edges to sample (10% here) # taking the top 10% strongest edges in each module \n",
    "      label_genes = label_genes,\n",
    "      label_hubs=0 # how many hub genes to plot per module?\n",
    "    )\n",
    "    dev.off()\n",
    "  }\n",
    "\n",
    "}\n",
    "\n"
   ]
  },
  {
   "cell_type": "code",
   "execution_count": 70,
   "id": "08af7c46",
   "metadata": {},
   "outputs": [],
   "source": [
    "# convert nested list of Seurat object into Rpy2 object \n",
    "seurat_obj =  robjects.ListVector(\n",
    "                        {\n",
    "                            cell_type: seurat_obj[cell_type]\n",
    "                     \n",
    "                            for cell_type in seurat_obj.keys()\n",
    "                        }\n",
    "                    )"
   ]
  },
  {
   "attachments": {},
   "cell_type": "markdown",
   "id": "b534ca69",
   "metadata": {},
   "source": [
    "# **Enrichment analysis**"
   ]
  },
  {
   "attachments": {},
   "cell_type": "markdown",
   "id": "4261d643",
   "metadata": {},
   "source": [
    "Next, we perform enrichment tests on the hdWGCNA modules. We leverage the R pacakge enrichR to perform enrichment tests on a wide range of curated gene lists. This analysis should point us towards biological processes that our hdWGCNA modules are involved in. Additionally, we perform a gene set overlap analysis to compare the genes in hdWGCNA modules with the marker genes identified using Seurat’s FindAllMarkers function.\n"
   ]
  },
  {
   "attachments": {},
   "cell_type": "markdown",
   "id": "a77a18cb",
   "metadata": {},
   "source": [
    "## **EnrichR**\n",
    "\n",
    "hdWGCNA includes the function RunEnrichr to compare the set of genes in each module with any of the gene lists hosted by Enrichr.\n",
    "\n",
    "The results of the enrichment tests are stored in the hdWGCNA experiment, so can be easily retrieved for downstream analysis or exporting to external applicaitons like Excel. In the following example, we perform the enrichment test with three Gene Ontology datbases:\n",
    "\n",
    "- `GO_Biological_Process_2021`\n",
    "- `GO_Cellular_Component_2021`\n",
    "- `GO_Molecular_Function_2021`"
   ]
  },
  {
   "cell_type": "code",
   "execution_count": 71,
   "id": "f99c0a19",
   "metadata": {},
   "outputs": [
    {
     "name": "stdout",
     "output_type": "stream",
     "text": [
      "[1] \"Estimating Module Enrichments in hdWGCNA Experiment for OPC\"\n",
      "Selecting by kME_OPC-M1\n",
      "Uploading data to Enrichr... Done.\n",
      "  Querying GO_Biological_Process_2021...   Querying GO_Cellular_Component_2021...   Querying GO_Molecular_Function_2021... Parsing results... Done.\n",
      "\n",
      "Error in if (nrow(cur_df) > 1) { : argument is of length zero\n"
     ]
    },
    {
     "ename": "RInterpreterError",
     "evalue": "Failed to parse and evaluate line \"\\ndbs <- c('GO_Biological_Process_2021','GO_Cellular_Component_2021','GO_Molecular_Function_2021')\\n\\nenrich_df <- list()\\n\\nfor (cell_type in names(seurat_obj)){\\n\\n  print(paste0('Estimating Module Enrichments in hdWGCNA Experiment for ', toupper(cell_type)))\\n\\n  # enrichr databases to test\\n\\n  # perform enrichment tests\\n  seurat_obj[[cell_type]] <- RunEnrichr(\\n    seurat_obj[[cell_type]],\\n    dbs=dbs, # character vector of enrichr databases to test\\n    max_genes = 100 # number of genes per module to test\\n  )\\n  # retrieve the output table\\n  enrich_df[[cell_type]] <- GetEnrichrTable(seurat_obj[[cell_type]]) %>% subset(P.value < 0.05)\\n\\n}\\n\".\nR error message: 'Error in if (nrow(cur_df) > 1) { : argument is of length zero'",
     "output_type": "error",
     "traceback": [
      "\u001b[0;31m---------------------------------------------------------------------------\u001b[0m",
      "\u001b[0;31mRRuntimeError\u001b[0m                             Traceback (most recent call last)",
      "File \u001b[0;32m~/miniforge3/envs/scRNA_seq_meta_analysis/lib/python3.10/site-packages/rpy2/ipython/rmagic.py:385\u001b[0m, in \u001b[0;36mRMagics.eval\u001b[0;34m(self, code)\u001b[0m\n\u001b[1;32m    383\u001b[0m \u001b[39mtry\u001b[39;00m:\n\u001b[1;32m    384\u001b[0m     \u001b[39m# Need the newline in case the last line in code is a comment.\u001b[39;00m\n\u001b[0;32m--> 385\u001b[0m     value, visible \u001b[39m=\u001b[39m ro\u001b[39m.\u001b[39;49mr(\u001b[39m\"\u001b[39;49m\u001b[39mwithVisible(\u001b[39;49m\u001b[39m{\u001b[39;49m\u001b[39m%s\u001b[39;49;00m\u001b[39m\\n\u001b[39;49;00m\u001b[39m})\u001b[39;49m\u001b[39m\"\u001b[39;49m \u001b[39m%\u001b[39;49m code)\n\u001b[1;32m    386\u001b[0m \u001b[39mexcept\u001b[39;00m (ri\u001b[39m.\u001b[39membedded\u001b[39m.\u001b[39mRRuntimeError, \u001b[39mValueError\u001b[39;00m) \u001b[39mas\u001b[39;00m exception:\n\u001b[1;32m    387\u001b[0m     \u001b[39m# Otherwise next return seems to have copy of error.\u001b[39;00m\n",
      "File \u001b[0;32m~/miniforge3/envs/scRNA_seq_meta_analysis/lib/python3.10/site-packages/rpy2/robjects/__init__.py:459\u001b[0m, in \u001b[0;36mR.__call__\u001b[0;34m(self, string)\u001b[0m\n\u001b[1;32m    458\u001b[0m p \u001b[39m=\u001b[39m rinterface\u001b[39m.\u001b[39mparse(string)\n\u001b[0;32m--> 459\u001b[0m res \u001b[39m=\u001b[39m \u001b[39mself\u001b[39;49m\u001b[39m.\u001b[39;49meval(p)\n\u001b[1;32m    460\u001b[0m \u001b[39mreturn\u001b[39;00m conversion\u001b[39m.\u001b[39mget_conversion()\u001b[39m.\u001b[39mrpy2py(res)\n",
      "File \u001b[0;32m~/miniforge3/envs/scRNA_seq_meta_analysis/lib/python3.10/site-packages/rpy2/robjects/functions.py:208\u001b[0m, in \u001b[0;36mSignatureTranslatedFunction.__call__\u001b[0;34m(self, *args, **kwargs)\u001b[0m\n\u001b[1;32m    207\u001b[0m         kwargs[r_k] \u001b[39m=\u001b[39m v\n\u001b[0;32m--> 208\u001b[0m \u001b[39mreturn\u001b[39;00m (\u001b[39msuper\u001b[39;49m(SignatureTranslatedFunction, \u001b[39mself\u001b[39;49m)\n\u001b[1;32m    209\u001b[0m         \u001b[39m.\u001b[39;49m\u001b[39m__call__\u001b[39;49m(\u001b[39m*\u001b[39;49margs, \u001b[39m*\u001b[39;49m\u001b[39m*\u001b[39;49mkwargs))\n",
      "File \u001b[0;32m~/miniforge3/envs/scRNA_seq_meta_analysis/lib/python3.10/site-packages/rpy2/robjects/functions.py:131\u001b[0m, in \u001b[0;36mFunction.__call__\u001b[0;34m(self, *args, **kwargs)\u001b[0m\n\u001b[1;32m    130\u001b[0m         new_kwargs[k] \u001b[39m=\u001b[39m cv\u001b[39m.\u001b[39mpy2rpy(v)\n\u001b[0;32m--> 131\u001b[0m res \u001b[39m=\u001b[39m \u001b[39msuper\u001b[39;49m(Function, \u001b[39mself\u001b[39;49m)\u001b[39m.\u001b[39;49m\u001b[39m__call__\u001b[39;49m(\u001b[39m*\u001b[39;49mnew_args, \u001b[39m*\u001b[39;49m\u001b[39m*\u001b[39;49mnew_kwargs)\n\u001b[1;32m    132\u001b[0m res \u001b[39m=\u001b[39m cv\u001b[39m.\u001b[39mrpy2py(res)\n",
      "File \u001b[0;32m~/miniforge3/envs/scRNA_seq_meta_analysis/lib/python3.10/site-packages/rpy2/rinterface_lib/conversion.py:45\u001b[0m, in \u001b[0;36m_cdata_res_to_rinterface.<locals>._\u001b[0;34m(*args, **kwargs)\u001b[0m\n\u001b[1;32m     44\u001b[0m \u001b[39mdef\u001b[39;00m \u001b[39m_\u001b[39m(\u001b[39m*\u001b[39margs, \u001b[39m*\u001b[39m\u001b[39m*\u001b[39mkwargs):\n\u001b[0;32m---> 45\u001b[0m     cdata \u001b[39m=\u001b[39m function(\u001b[39m*\u001b[39;49margs, \u001b[39m*\u001b[39;49m\u001b[39m*\u001b[39;49mkwargs)\n\u001b[1;32m     46\u001b[0m     \u001b[39m# TODO: test cdata is of the expected CType\u001b[39;00m\n",
      "File \u001b[0;32m~/miniforge3/envs/scRNA_seq_meta_analysis/lib/python3.10/site-packages/rpy2/rinterface.py:817\u001b[0m, in \u001b[0;36mSexpClosure.__call__\u001b[0;34m(self, *args, **kwargs)\u001b[0m\n\u001b[1;32m    816\u001b[0m     \u001b[39mif\u001b[39;00m error_occured[\u001b[39m0\u001b[39m]:\n\u001b[0;32m--> 817\u001b[0m         \u001b[39mraise\u001b[39;00m embedded\u001b[39m.\u001b[39mRRuntimeError(_rinterface\u001b[39m.\u001b[39m_geterrmessage())\n\u001b[1;32m    818\u001b[0m \u001b[39mreturn\u001b[39;00m res\n",
      "\u001b[0;31mRRuntimeError\u001b[0m: Error in if (nrow(cur_df) > 1) { : argument is of length zero\n",
      "\nDuring handling of the above exception, another exception occurred:\n",
      "\u001b[0;31mRInterpreterError\u001b[0m                         Traceback (most recent call last)",
      "\u001b[1;32m/Users/temitopeleke/Documents/Research Documents/Research codes/mathys_reproduce/scripts/hWGCNA.ipynb Cell 124\u001b[0m in \u001b[0;36m1\n\u001b[0;32m----> <a href='vscode-notebook-cell:/Users/temitopeleke/Documents/Research%20Documents/Research%20codes/mathys_reproduce/scripts/hWGCNA.ipynb#Y234sZmlsZQ%3D%3D?line=0'>1</a>\u001b[0m get_ipython()\u001b[39m.\u001b[39;49mrun_cell_magic(\u001b[39m'\u001b[39;49m\u001b[39mR\u001b[39;49m\u001b[39m'\u001b[39;49m, \u001b[39m'\u001b[39;49m\u001b[39m-i seurat_obj -o seurat_obj -o enrich_df\u001b[39;49m\u001b[39m'\u001b[39;49m, \u001b[39m\"\u001b[39;49m\u001b[39m\\n\u001b[39;49;00m\u001b[39mdbs <- c(\u001b[39;49m\u001b[39m'\u001b[39;49m\u001b[39mGO_Biological_Process_2021\u001b[39;49m\u001b[39m'\u001b[39;49m\u001b[39m,\u001b[39;49m\u001b[39m'\u001b[39;49m\u001b[39mGO_Cellular_Component_2021\u001b[39;49m\u001b[39m'\u001b[39;49m\u001b[39m,\u001b[39;49m\u001b[39m'\u001b[39;49m\u001b[39mGO_Molecular_Function_2021\u001b[39;49m\u001b[39m'\u001b[39;49m\u001b[39m)\u001b[39;49m\u001b[39m\\n\u001b[39;49;00m\u001b[39m\\n\u001b[39;49;00m\u001b[39menrich_df <- list()\u001b[39;49m\u001b[39m\\n\u001b[39;49;00m\u001b[39m\\n\u001b[39;49;00m\u001b[39mfor (cell_type in names(seurat_obj))\u001b[39;49m\u001b[39m{\u001b[39;49m\u001b[39m\\n\u001b[39;49;00m\u001b[39m\\n\u001b[39;49;00m\u001b[39m  print(paste0(\u001b[39;49m\u001b[39m'\u001b[39;49m\u001b[39mEstimating Module Enrichments in hdWGCNA Experiment for \u001b[39;49m\u001b[39m'\u001b[39;49m\u001b[39m, toupper(cell_type)))\u001b[39;49m\u001b[39m\\n\u001b[39;49;00m\u001b[39m\\n\u001b[39;49;00m\u001b[39m  # enrichr databases to test\u001b[39;49m\u001b[39m\\n\u001b[39;49;00m\u001b[39m\\n\u001b[39;49;00m\u001b[39m  # perform enrichment tests\u001b[39;49m\u001b[39m\\n\u001b[39;49;00m\u001b[39m  seurat_obj[[cell_type]] <- RunEnrichr(\u001b[39;49m\u001b[39m\\n\u001b[39;49;00m\u001b[39m    seurat_obj[[cell_type]],\u001b[39;49m\u001b[39m\\n\u001b[39;49;00m\u001b[39m    dbs=dbs, # character vector of enrichr databases to test\u001b[39;49m\u001b[39m\\n\u001b[39;49;00m\u001b[39m    max_genes = 100 # number of genes per module to test\u001b[39;49m\u001b[39m\\n\u001b[39;49;00m\u001b[39m  )\u001b[39;49m\u001b[39m\\n\u001b[39;49;00m\u001b[39m  # retrieve the output table\u001b[39;49m\u001b[39m\\n\u001b[39;49;00m\u001b[39m  enrich_df[[cell_type]] <- GetEnrichrTable(seurat_obj[[cell_type]]) \u001b[39;49m\u001b[39m%\u001b[39;49m\u001b[39m>\u001b[39;49m\u001b[39m% s\u001b[39;49;00m\u001b[39mubset(P.value < 0.05)\u001b[39;49m\u001b[39m\\n\u001b[39;49;00m\u001b[39m\\n\u001b[39;49;00m\u001b[39m}\u001b[39;49m\u001b[39m\\n\u001b[39;49;00m\u001b[39m\"\u001b[39;49m)\n",
      "File \u001b[0;32m~/miniforge3/envs/scRNA_seq_meta_analysis/lib/python3.10/site-packages/IPython/core/interactiveshell.py:2417\u001b[0m, in \u001b[0;36mInteractiveShell.run_cell_magic\u001b[0;34m(self, magic_name, line, cell)\u001b[0m\n\u001b[1;32m   2415\u001b[0m \u001b[39mwith\u001b[39;00m \u001b[39mself\u001b[39m\u001b[39m.\u001b[39mbuiltin_trap:\n\u001b[1;32m   2416\u001b[0m     args \u001b[39m=\u001b[39m (magic_arg_s, cell)\n\u001b[0;32m-> 2417\u001b[0m     result \u001b[39m=\u001b[39m fn(\u001b[39m*\u001b[39;49margs, \u001b[39m*\u001b[39;49m\u001b[39m*\u001b[39;49mkwargs)\n\u001b[1;32m   2418\u001b[0m \u001b[39mreturn\u001b[39;00m result\n",
      "File \u001b[0;32m~/miniforge3/envs/scRNA_seq_meta_analysis/lib/python3.10/site-packages/rpy2/ipython/rmagic.py:943\u001b[0m, in \u001b[0;36mRMagics.R\u001b[0;34m(self, line, cell, local_ns)\u001b[0m\n\u001b[1;32m    941\u001b[0m     \u001b[39mif\u001b[39;00m \u001b[39mnot\u001b[39;00m e\u001b[39m.\u001b[39mstdout\u001b[39m.\u001b[39mendswith(e\u001b[39m.\u001b[39merr):\n\u001b[1;32m    942\u001b[0m         \u001b[39mprint\u001b[39m(e\u001b[39m.\u001b[39merr)\n\u001b[0;32m--> 943\u001b[0m     \u001b[39mraise\u001b[39;00m e\n\u001b[1;32m    944\u001b[0m \u001b[39mfinally\u001b[39;00m:\n\u001b[1;32m    945\u001b[0m     \u001b[39mif\u001b[39;00m \u001b[39mself\u001b[39m\u001b[39m.\u001b[39mdevice \u001b[39min\u001b[39;00m DEVICES_STATIC:\n",
      "File \u001b[0;32m~/miniforge3/envs/scRNA_seq_meta_analysis/lib/python3.10/site-packages/rpy2/ipython/rmagic.py:923\u001b[0m, in \u001b[0;36mRMagics.R\u001b[0;34m(self, line, cell, local_ns)\u001b[0m\n\u001b[1;32m    921\u001b[0m         return_output \u001b[39m=\u001b[39m \u001b[39mFalse\u001b[39;00m\n\u001b[1;32m    922\u001b[0m \u001b[39melse\u001b[39;00m:\n\u001b[0;32m--> 923\u001b[0m     text_result, result, visible \u001b[39m=\u001b[39m \u001b[39mself\u001b[39;49m\u001b[39m.\u001b[39;49meval(code)\n\u001b[1;32m    924\u001b[0m     text_output \u001b[39m+\u001b[39m\u001b[39m=\u001b[39m text_result\n\u001b[1;32m    925\u001b[0m     \u001b[39mif\u001b[39;00m visible:\n",
      "File \u001b[0;32m~/miniforge3/envs/scRNA_seq_meta_analysis/lib/python3.10/site-packages/rpy2/ipython/rmagic.py:389\u001b[0m, in \u001b[0;36mRMagics.eval\u001b[0;34m(self, code)\u001b[0m\n\u001b[1;32m    386\u001b[0m \u001b[39mexcept\u001b[39;00m (ri\u001b[39m.\u001b[39membedded\u001b[39m.\u001b[39mRRuntimeError, \u001b[39mValueError\u001b[39;00m) \u001b[39mas\u001b[39;00m exception:\n\u001b[1;32m    387\u001b[0m     \u001b[39m# Otherwise next return seems to have copy of error.\u001b[39;00m\n\u001b[1;32m    388\u001b[0m     warning_or_other_msg \u001b[39m=\u001b[39m \u001b[39mself\u001b[39m\u001b[39m.\u001b[39mflush()\n\u001b[0;32m--> 389\u001b[0m     \u001b[39mraise\u001b[39;00m RInterpreterError(code, \u001b[39mstr\u001b[39m(exception),\n\u001b[1;32m    390\u001b[0m                             warning_or_other_msg)\n\u001b[1;32m    391\u001b[0m text_output \u001b[39m=\u001b[39m \u001b[39mself\u001b[39m\u001b[39m.\u001b[39mflush()\n\u001b[1;32m    392\u001b[0m \u001b[39mreturn\u001b[39;00m text_output, value, visible[\u001b[39m0\u001b[39m]\n",
      "\u001b[0;31mRInterpreterError\u001b[0m: Failed to parse and evaluate line \"\\ndbs <- c('GO_Biological_Process_2021','GO_Cellular_Component_2021','GO_Molecular_Function_2021')\\n\\nenrich_df <- list()\\n\\nfor (cell_type in names(seurat_obj)){\\n\\n  print(paste0('Estimating Module Enrichments in hdWGCNA Experiment for ', toupper(cell_type)))\\n\\n  # enrichr databases to test\\n\\n  # perform enrichment tests\\n  seurat_obj[[cell_type]] <- RunEnrichr(\\n    seurat_obj[[cell_type]],\\n    dbs=dbs, # character vector of enrichr databases to test\\n    max_genes = 100 # number of genes per module to test\\n  )\\n  # retrieve the output table\\n  enrich_df[[cell_type]] <- GetEnrichrTable(seurat_obj[[cell_type]]) %>% subset(P.value < 0.05)\\n\\n}\\n\".\nR error message: 'Error in if (nrow(cur_df) > 1) { : argument is of length zero'"
     ]
    }
   ],
   "source": [
    "%%R -i seurat_obj -o seurat_obj -o enrich_df\n",
    "\n",
    "dbs <- c('GO_Biological_Process_2021','GO_Cellular_Component_2021','GO_Molecular_Function_2021')\n",
    "\n",
    "enrich_df <- list()\n",
    "\n",
    "for (cell_type in names(seurat_obj)){\n",
    "\n",
    "  print(paste0('Estimating Module Enrichments in hdWGCNA Experiment for ', toupper(cell_type)))\n",
    "\n",
    "  # enrichr databases to test\n",
    "\n",
    "  # perform enrichment tests\n",
    "  seurat_obj[[cell_type]] <- RunEnrichr(\n",
    "    seurat_obj[[cell_type]],\n",
    "    dbs=dbs, # character vector of enrichr databases to test\n",
    "    max_genes = 100 # number of genes per module to test\n",
    "  )\n",
    "  # retrieve the output table\n",
    "  enrich_df[[cell_type]] <- GetEnrichrTable(seurat_obj[[cell_type]]) %>% subset(P.value < 0.05)\n",
    "\n",
    "}"
   ]
  },
  {
   "cell_type": "code",
   "execution_count": null,
   "id": "22787bab",
   "metadata": {},
   "outputs": [],
   "source": [
    "# convert nested list of Seurat object into Rpy2 object \n",
    "seurat_obj =  robjects.ListVector(\n",
    "                        {\n",
    "                            cell_type: seurat_obj[cell_type]\n",
    "                     \n",
    "                            for cell_type in seurat_obj.keys()\n",
    "                        }\n",
    "                    )"
   ]
  },
  {
   "attachments": {},
   "cell_type": "markdown",
   "id": "f2494516",
   "metadata": {},
   "source": [
    "## **Visualize enrichments**\n",
    "\n",
    "Now that we have done the enrichment tests, we can now visualize the results.\n",
    "\n",
    "### **EnrichrBarPlot**\n",
    "\n",
    "hdWGCNA includes the function EnrichrBarPlot to summarize the results of every Enrichr database and every module. This function outputs a .pdf figure for each module, containing a barplot showing the top N enriched terms. The following example will plot the top 10 terms in each module and will output the results to a folder called enrichr_plots."
   ]
  },
  {
   "cell_type": "code",
   "execution_count": null,
   "id": "e7d94ea7",
   "metadata": {},
   "outputs": [
    {
     "name": "stdout",
     "output_type": "stream",
     "text": [
      "[1] \"Enrichr Plots for Modules in hdWGCNA Experiment for OPC\"\n",
      "[1] \"OPC-M1\"\n",
      "[1] \"OPC-M2\"\n",
      "[1] \"OPC-M3\"\n",
      "[1] \"OPC-M4\"\n"
     ]
    }
   ],
   "source": [
    "%%R -i seurat_obj -o seurat_obj\n",
    "\n",
    "fig_dir = paste0(\"../results/hdWGCNA/Enrichr/\", save_prefix, '/')\n",
    "\n",
    "if (!dir.exists(fig_dir)) {\n",
    "  dir.create(fig_dir, recursive=TRUE)\n",
    "}\n",
    "\n",
    "for (cell_type in names(seurat_obj)){\n",
    "\n",
    "  print(paste0('Enrichr Plots for Modules in hdWGCNA Experiment for ', toupper(cell_type)))\n",
    "\n",
    "  # make GO term plots:\n",
    "  EnrichrBarPlot(\n",
    "    seurat_obj[[cell_type]],\n",
    "    outdir = paste0(fig_dir, cell_type, \"_enrichr_plots\"), # name of output directory\n",
    "    n_terms = 10, # number of enriched terms to show (sometimes more show if there are ties!!!)\n",
    "    plot_size = c(5,7), # width, height of the output .pdfs\n",
    "    logscale=TRUE # do you want to show the enrichment as a log scale?\n",
    "  )\n",
    "}"
   ]
  },
  {
   "cell_type": "code",
   "execution_count": null,
   "id": "d9adf73f",
   "metadata": {},
   "outputs": [],
   "source": [
    "# convert nested list of Seurat object into Rpy2 object \n",
    "seurat_obj =  robjects.ListVector(\n",
    "                        {\n",
    "                            cell_type: seurat_obj[cell_type]\n",
    "                     \n",
    "                            for cell_type in seurat_obj.keys()\n",
    "                        }\n",
    "                    )"
   ]
  },
  {
   "attachments": {},
   "cell_type": "markdown",
   "id": "678b520b",
   "metadata": {},
   "source": [
    "### **EnrichrDotPlot**\n",
    "\n",
    "hdWGCNA includes an additional visualization function for enrichment results, EnrichrDotPlot, which shows the top results for one Enrichr database in each module. In the following example, we plot the top term in the GO_Biological_Process_2021 database."
   ]
  },
  {
   "cell_type": "code",
   "execution_count": null,
   "id": "bcb62788",
   "metadata": {},
   "outputs": [],
   "source": [
    "# %%R -i seurat_obj -o seurat_obj\n",
    "\n",
    "# fig_dir = '../results/'\n",
    "# # enrichr dotplot\n",
    "# p <- EnrichrDotPlot(\n",
    "#   seurat_obj,\n",
    "#   mods='all',\n",
    "#   database = \"GO_Biological_Process_2021\",\n",
    "#   n_terms=3,\n",
    "#   break_ties=TRUE\n",
    "# )\n",
    "# pdf(paste0(fig_dir, 'EX_GO_dotplot.pdf'), width=10, height=10, useDingbats=FALSE)\n",
    "# p\n",
    "# dev.off()"
   ]
  },
  {
   "cell_type": "code",
   "execution_count": null,
   "id": "fb1d1cbc",
   "metadata": {},
   "outputs": [],
   "source": [
    "# # convert nested list of Seurat object into Rpy2 object \n",
    "# seurat_obj =  robjects.ListVector(\n",
    "#                         {\n",
    "#                             cell_type: seurat_obj[cell_type]\n",
    "                     \n",
    "#                             for cell_type in seurat_obj.keys()\n",
    "#                         }\n",
    "#                     )"
   ]
  },
  {
   "attachments": {},
   "cell_type": "markdown",
   "id": "d5bae359",
   "metadata": {},
   "source": [
    "# **Differential module eigengene (DME) analysis**"
   ]
  },
  {
   "attachments": {},
   "cell_type": "markdown",
   "id": "c5b93666",
   "metadata": {},
   "source": [
    "Here, we perform differential module eigengene (DME) analysis, revealing modules that are up- or down-regulated in given groups of cells."
   ]
  },
  {
   "attachments": {},
   "cell_type": "markdown",
   "id": "b0ee2360",
   "metadata": {},
   "source": [
    "## **DME analysis comparing two groups**\n",
    "\n",
    "Here we perform DME testing between two different pathology groups (AD vs control). We use the hdWGCNA function FindDMEs, which is a special case of the Seurat function FindMarkers. We use the Mann-Whitney U test, also known as the Wilcoxon test, to compare two groups, but other tests can be used with the test.use parameter.\n",
    "\n",
    "FindDMEs requires a list of barcodes for group1 and for group2. We are only going to compare cells from the EX cluster since that is the group that we performed network analysis on.\n",
    "\n"
   ]
  },
  {
   "cell_type": "code",
   "execution_count": null,
   "id": "1e343be3",
   "metadata": {},
   "outputs": [
    {
     "name": "stdout",
     "output_type": "stream",
     "text": [
      "[1] \"Differential Module Eigengene Analysis in hdWGCNA Experiment for OPC\"\n",
      "[1] 3338    4\n",
      "[1] \"OPC-M4\" \"OPC-M3\" \"OPC-M1\" \"OPC-M2\"\n"
     ]
    }
   ],
   "source": [
    "%%R -i seurat_obj -o seurat_obj -o DMEs\n",
    "\n",
    "group_col <- 'cell_type'\n",
    "groups <- celltypes\n",
    "DMEs <- list()\n",
    "\n",
    "\n",
    "dat_dir = paste0(\"../results/hdWGCNA/DMEs/\", save_prefix, '/')\n",
    "\n",
    "if (!dir.exists(dat_dir)) {\n",
    "  dir.create(dat_dir, recursive=TRUE)\n",
    "}\n",
    "\n",
    "\n",
    "for (cell_type in names(seurat_obj)){\n",
    "\n",
    "  print(paste0('Differential Module Eigengene Analysis in hdWGCNA Experiment for ', toupper(cell_type)))\n",
    "\n",
    "\n",
    "  # get cell barcodes for this pseudotime bin in control & AD\n",
    "  g1 <- seurat_obj[[cell_type]]@meta.data[seurat_obj[[cell_type]]$pathology.group %in% c('early', 'late'),] %>% rownames\n",
    "  g2 <- seurat_obj[[cell_type]]@meta.data[seurat_obj[[cell_type]]$pathology.group == 'no',] %>% rownames\n",
    "\n",
    "  DMEs[[cell_type]] <- FindDMEs(\n",
    "          seurat_obj[[cell_type]],\n",
    "          barcodes1 = g1,\n",
    "          barcodes2 = g2,\n",
    "          test.use='wilcox',\n",
    "          wgcna_name=toupper(substr(cell_type, 1, 3)), # the name of the hdWGCNA experiment,,\n",
    "          harmonized=TRUE\n",
    "      )\n",
    "  \n",
    "  DMEs[[cell_type]]$group <- cell_type\n",
    "\n",
    "  # fix infs:\n",
    "  DMEs[[cell_type]]$avg_log2FC <- ifelse(abs(DMEs[[cell_type]]$avg_log2FC) == Inf, 0, DMEs[[cell_type]]$avg_log2FC)\n",
    "\n",
    "  write.csv(DMEs[[cell_type]], row.names=FALSE, quote=FALSE, file=paste0(dat_dir, cell_type, '_AD_DMEs.csv'))\n",
    "}\n"
   ]
  },
  {
   "cell_type": "code",
   "execution_count": null,
   "id": "4aababeb",
   "metadata": {},
   "outputs": [],
   "source": [
    "# convert nested list of Seurat object into Rpy2 object \n",
    "seurat_obj =  robjects.ListVector(\n",
    "                        {\n",
    "                            cell_type: seurat_obj[cell_type]\n",
    "                     \n",
    "                            for cell_type in seurat_obj.keys()\n",
    "                        }\n",
    "                    )\n",
    "\n",
    "\n",
    "# convert nested list of Seurat object into Rpy2 object \n",
    "DMEs =  robjects.ListVector(\n",
    "                        {\n",
    "                            cell_type: DMEs[cell_type]\n",
    "                     \n",
    "                            for cell_type in DMEs.keys()\n",
    "                        }\n",
    "                    )"
   ]
  },
  {
   "attachments": {},
   "cell_type": "markdown",
   "id": "4ed4d48c",
   "metadata": {},
   "source": [
    "We can now visualize the results using the hdWGNCA functions `PlotDMEsLollipop` or `PlotDMEsVolcano`. First we make a lollipop plot to visualize the DME results.\n"
   ]
  },
  {
   "cell_type": "code",
   "execution_count": null,
   "id": "2d11980c",
   "metadata": {},
   "outputs": [
    {
     "name": "stdout",
     "output_type": "stream",
     "text": [
      "[1] \"Lollipop for DMEs in hdWGCNA Experiment for OPC\"\n",
      "[1] \"Please be aware comparison group/groups are not provided, which may casue an ERROR. PlotDMEsLollipop function will automatically assume all values are within the same group.\"\n"
     ]
    }
   ],
   "source": [
    "%%R -i seurat_obj -o seurat_obj -i DMEs\n",
    "\n",
    "\n",
    "fig_dir = paste0(\"../results/hdWGCNA/DMEs/\", save_prefix, '/')\n",
    "\n",
    "if (!dir.exists(fig_dir)) {\n",
    "  dir.create(fig_dir, recursive=TRUE)\n",
    "}\n",
    "\n",
    "\n",
    "for (cell_type in names(seurat_obj)){\n",
    "\n",
    "  print(paste0('Lollipop for DMEs in hdWGCNA Experiment for ', toupper(cell_type)))\n",
    "\n",
    "  pdf(paste0(fig_dir, cell_type, '_dmes_lollipop.pdf'), width=10, height=10)\n",
    "  PlotDMEsLollipop(\n",
    "    seurat_obj[[cell_type]], \n",
    "    DMEs[[cell_type]], \n",
    "    wgcna_name = toupper(substr(cell_type, 1, 3)), # the name of the hdWGCNA experiment,, \n",
    "    pvalue = \"p_val_adj\"\n",
    "  )\n",
    "  dev.off()\n",
    "\n",
    "}"
   ]
  },
  {
   "cell_type": "code",
   "execution_count": null,
   "id": "8c6e9df6",
   "metadata": {},
   "outputs": [],
   "source": [
    "seurat_obj =  robjects.ListVector(\n",
    "                        {\n",
    "                            cell_type: seurat_obj[cell_type]\n",
    "                     \n",
    "                            for cell_type in seurat_obj.keys()\n",
    "                        }\n",
    "                    )"
   ]
  },
  {
   "cell_type": "code",
   "execution_count": null,
   "id": "2bdc6b19",
   "metadata": {},
   "outputs": [],
   "source": []
  }
 ],
 "metadata": {
  "kernelspec": {
   "display_name": "scRNA_seq_meta_analysis",
   "language": "python",
   "name": "python3"
  },
  "language_info": {
   "codemirror_mode": {
    "name": "ipython",
    "version": 3
   },
   "file_extension": ".py",
   "mimetype": "text/x-python",
   "name": "python",
   "nbconvert_exporter": "python",
   "pygments_lexer": "ipython3",
   "version": "3.10.6"
  },
  "vscode": {
   "interpreter": {
    "hash": "2f414a000012e1980f5fd1119ed6b9bf8cc73b51e37b52eb52a16ff857effd1c"
   }
  }
 },
 "nbformat": 4,
 "nbformat_minor": 5
}
